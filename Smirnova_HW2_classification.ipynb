{
  "nbformat": 4,
  "nbformat_minor": 0,
  "metadata": {
    "colab": {
      "name": "Smirnova_HW2_classification.ipynb",
      "provenance": [],
      "collapsed_sections": [
        "q5Y5GaHCgvbJ",
        "9rT7XPr6gvbo",
        "lzuZ2hO8gvdp"
      ],
      "include_colab_link": true
    },
    "kernelspec": {
      "display_name": "Python 3",
      "language": "python",
      "name": "python3"
    },
    "language_info": {
      "codemirror_mode": {
        "name": "ipython",
        "version": 3
      },
      "file_extension": ".py",
      "mimetype": "text/x-python",
      "name": "python",
      "nbconvert_exporter": "python",
      "pygments_lexer": "ipython3",
      "version": "3.7.4"
    },
    "accelerator": "GPU"
  },
  "cells": [
    {
      "cell_type": "markdown",
      "metadata": {
        "id": "view-in-github",
        "colab_type": "text"
      },
      "source": [
        "<a href=\"https://colab.research.google.com/github/wksmirnowa/deeplearning_homeworks/blob/master/Smirnova_HW2_classification.ipynb\" target=\"_parent\"><img src=\"https://colab.research.google.com/assets/colab-badge.svg\" alt=\"Open In Colab\"/></a>"
      ]
    },
    {
      "cell_type": "code",
      "metadata": {
        "id": "GzovZi42rb1D"
      },
      "source": [
        "import os\n",
        "import time\n",
        "import requests\n",
        "import shutil\n",
        "import gzip\n",
        "\n",
        "from typing import Dict, List, Tuple\n",
        "\n",
        "from tqdm import tqdm\n",
        "\n",
        "import pandas as pd\n",
        "from sklearn.model_selection import train_test_split\n",
        "\n",
        "\n",
        "class Downloader:\n",
        "\n",
        "    URLS = {\n",
        "        'single': [\n",
        "            'http://jmcauley.ucsd.edu/data/amazon/qa/qa_Appliances.json.gz',\n",
        "            'http://jmcauley.ucsd.edu/data/amazon/qa/qa_Arts_Crafts_and_Sewing.json.gz',\n",
        "            'http://jmcauley.ucsd.edu/data/amazon/qa/qa_Automotive.json.gz',\n",
        "            'http://jmcauley.ucsd.edu/data/amazon/qa/qa_Baby.json.gz',\n",
        "            'http://jmcauley.ucsd.edu/data/amazon/qa/qa_Beauty.json.gz',\n",
        "            'http://jmcauley.ucsd.edu/data/amazon/qa/qa_Cell_Phones_and_Accessories.json.gz',\n",
        "            'http://jmcauley.ucsd.edu/data/amazon/qa/qa_Clothing_Shoes_and_Jewelry.json.gz',\n",
        "            'http://jmcauley.ucsd.edu/data/amazon/qa/qa_Electronics.json.gz',\n",
        "            'http://jmcauley.ucsd.edu/data/amazon/qa/qa_Grocery_and_Gourmet_Food.json.gz',\n",
        "            'http://jmcauley.ucsd.edu/data/amazon/qa/qa_Health_and_Personal_Care.json.gz',\n",
        "            'http://jmcauley.ucsd.edu/data/amazon/qa/qa_Home_and_Kitchen.json.gz',\n",
        "            'http://jmcauley.ucsd.edu/data/amazon/qa/qa_Industrial_and_Scientific.json.gz',\n",
        "            'http://jmcauley.ucsd.edu/data/amazon/qa/qa_Musical_Instruments.json.gz',\n",
        "            'http://jmcauley.ucsd.edu/data/amazon/qa/qa_Office_Products.json.gz',\n",
        "            'http://jmcauley.ucsd.edu/data/amazon/qa/qa_Patio_Lawn_and_Garden.json.gz',\n",
        "            'http://jmcauley.ucsd.edu/data/amazon/qa/qa_Pet_Supplies.json.gz',\n",
        "            'http://jmcauley.ucsd.edu/data/amazon/qa/qa_Software.json.gz',\n",
        "            'http://jmcauley.ucsd.edu/data/amazon/qa/qa_Sports_and_Outdoors.json.gz',\n",
        "            'http://jmcauley.ucsd.edu/data/amazon/qa/qa_Tools_and_Home_Improvement.json.gz',\n",
        "            'http://jmcauley.ucsd.edu/data/amazon/qa/qa_Toys_and_Games.json.gz',\n",
        "            'http://jmcauley.ucsd.edu/data/amazon/qa/qa_Video_Games.json.gz'\n",
        "        ],\n",
        "        'multiple': [\n",
        "            'http://jmcauley.ucsd.edu/data/amazon/qa/icdm/QA_Automotive.json.gz',\n",
        "            'http://jmcauley.ucsd.edu/data/amazon/qa/icdm/QA_Baby.json.gz',\n",
        "            'http://jmcauley.ucsd.edu/data/amazon/qa/icdm/QA_Beauty.json.gz',\n",
        "            'http://jmcauley.ucsd.edu/data/amazon/qa/icdm/QA_Cell_Phones_and_Accessories.json.gz',\n",
        "            'http://jmcauley.ucsd.edu/data/amazon/qa/icdm/QA_Clothing_Shoes_and_Jewelry.json.gz',\n",
        "            'http://jmcauley.ucsd.edu/data/amazon/qa/icdm/QA_Electronics.json.gz',\n",
        "            'http://jmcauley.ucsd.edu/data/amazon/qa/icdm/QA_Grocery_and_Gourmet_Food.json.gz',\n",
        "            'http://jmcauley.ucsd.edu/data/amazon/qa/icdm/QA_Health_and_Personal_Care.json.gz',\n",
        "            'http://jmcauley.ucsd.edu/data/amazon/qa/icdm/QA_Home_and_Kitchen.json.gz',\n",
        "            'http://jmcauley.ucsd.edu/data/amazon/qa/icdm/QA_Musical_Instruments.json.gz',\n",
        "            'http://jmcauley.ucsd.edu/data/amazon/qa/icdm/QA_Office_Products.json.gz',\n",
        "            'http://jmcauley.ucsd.edu/data/amazon/qa/icdm/QA_Patio_Lawn_and_Garden.json.gz',\n",
        "            'http://jmcauley.ucsd.edu/data/amazon/qa/icdm/QA_Pet_Supplies.json.gz',\n",
        "            'http://jmcauley.ucsd.edu/data/amazon/qa/icdm/QA_Sports_and_Outdoors.json.gz',\n",
        "            'http://jmcauley.ucsd.edu/data/amazon/qa/icdm/QA_Tools_and_Home_Improvement.json.gz',\n",
        "            'http://jmcauley.ucsd.edu/data/amazon/qa/icdm/QA_Toys_and_Games.json.gz',\n",
        "            'http://jmcauley.ucsd.edu/data/amazon/qa/icdm/QA_Video_Games.json.gz'\n",
        "        ]\n",
        "    }\n",
        "\n",
        "    def __init__(self,\n",
        "                 data_path: str,\n",
        "                 override: bool = False,\n",
        "                 sleep_time: float = 0.05,\n",
        "                 verbose: bool = True):\n",
        "\n",
        "        self.data_path = data_path\n",
        "        self.override = override\n",
        "        self.sleep_time = sleep_time\n",
        "        self.verbose = verbose\n",
        "\n",
        "    @staticmethod\n",
        "    def make_dir(path: str, override: bool = False):\n",
        "        if override:\n",
        "            shutil.rmtree(path, ignore_errors=True)\n",
        "        try:\n",
        "            os.mkdir(path)\n",
        "        except FileExistsError:\n",
        "            pass\n",
        "\n",
        "    @staticmethod\n",
        "    def download_file(url: str, save_path: str, verbose: bool = False, chunk_size: int = 8192):\n",
        "        try:\n",
        "            filename = save_path.split('/')[-1]\n",
        "            with requests.get(url, stream=True) as request:\n",
        "                request.raise_for_status()\n",
        "                with open(save_path, 'wb') as file_object:\n",
        "                    for chunk in tqdm(request.iter_content(chunk_size=chunk_size),\n",
        "                                      desc=f'Download {filename}',\n",
        "                                      disable=not verbose):\n",
        "                        if chunk:\n",
        "                            file_object.write(chunk)\n",
        "        except KeyboardInterrupt as exception:\n",
        "            os.remove(save_path)\n",
        "            raise exception\n",
        "        except Exception as exception:\n",
        "            os.remove(save_path)\n",
        "            raise exception\n",
        "\n",
        "    def run(self):\n",
        "\n",
        "        self.make_dir(self.data_path, override=self.override)\n",
        "\n",
        "        for key in self.URLS:\n",
        "            for url in tqdm(self.URLS[key], desc=key, disable=not self.verbose):\n",
        "                filename = key + '_' + url.split('/')[-1]\n",
        "\n",
        "                time.sleep(self.sleep_time)\n",
        "\n",
        "                file_path = os.path.join(self.data_path, filename)\n",
        "\n",
        "                if not os.path.isfile(file_path):\n",
        "                    self.download_file(url=url, save_path=file_path, verbose=False)\n",
        "\n",
        "\n",
        "class Parser:\n",
        "\n",
        "    BAD_CATEGORIES = [\n",
        "        'electronics',\n",
        "        'software',\n",
        "        'appliances',\n",
        "        'industrial and scientific',\n",
        "        'musical instruments',\n",
        "        'arts crafts and sewing',\n",
        "        'video games',\n",
        "        'toys and games',\n",
        "        'clothing shoes and jewelry',\n",
        "        'home and kitchen',\n",
        "        'health and personal care',\n",
        "        'tools and home improvement',\n",
        "        'patio lawn and garden'\n",
        "    ]\n",
        "\n",
        "    def __init__(self,\n",
        "                 data_path: str,\n",
        "                 is_question_classification: bool = True,\n",
        "                 train_samples: int = 250_000,\n",
        "                 valid_samples: int = 50_000,\n",
        "                 lower_threshold: int = 5,\n",
        "                 upper_threshold: int = 512):\n",
        "\n",
        "        self.data_path = data_path\n",
        "        self.is_question_classification = is_question_classification\n",
        "\n",
        "        self.train_samples = train_samples\n",
        "        self.valid_samples = valid_samples\n",
        "\n",
        "        self.lower_threshold = lower_threshold\n",
        "        self.upper_threshold = upper_threshold\n",
        "\n",
        "    @staticmethod\n",
        "    def parse_filename(file_path: str) -> str:\n",
        "        category = file_path.split('/')[-1].split('.')[0]\n",
        "\n",
        "        category = category.lower().replace('qa_', '')\n",
        "        category = category.replace('single_', '').replace('multiple_', '')\n",
        "        category = category.replace('_', ' ')\n",
        "\n",
        "        return category\n",
        "\n",
        "    @staticmethod\n",
        "    def prepare_text(text: str) -> str:\n",
        "        text = text.lower().encode('utf-8', 'ignore').decode('utf-8', 'ignore')\n",
        "\n",
        "        return text\n",
        "\n",
        "    def filter_sample(self, sample: Dict[str, str]) -> bool:\n",
        "\n",
        "        if not (self.lower_threshold <= len(sample['question']) <= self.upper_threshold):\n",
        "            return False\n",
        "\n",
        "        if not (self.lower_threshold <= len(sample['response']) <= self.upper_threshold):\n",
        "            return False\n",
        "\n",
        "        if sample['category'] in self.BAD_CATEGORIES:\n",
        "            return False\n",
        "\n",
        "        return True\n",
        "\n",
        "    def parse_single_sample(self,\n",
        "                            sample: Dict,\n",
        "                            category: str,\n",
        "                            with_types: bool = False) -> List[Dict[str, str]]:\n",
        "\n",
        "        result_sample = {\n",
        "            'question': self.prepare_text(sample['question']),\n",
        "            'response': self.prepare_text(sample['answer']),\n",
        "            'category': category\n",
        "        }\n",
        "\n",
        "        if with_types:\n",
        "            result_sample['question_type'] = sample['questionType']\n",
        "            result_sample['answer_type'] = sample['answerType']\n",
        "\n",
        "        result_sample = [result_sample] if self.filter_sample(result_sample) else list()\n",
        "\n",
        "        return result_sample\n",
        "\n",
        "    def parse_multiple_sample(self,\n",
        "                              sample: Dict,\n",
        "                              category: str) -> List[Dict[str, str]]:\n",
        "\n",
        "        result_samples: List[Dict[str, str]] = list()\n",
        "\n",
        "        for question_data in sample['questions']:\n",
        "            for answer_data in question_data['answers']:\n",
        "                parsed_sample = {\n",
        "                    'question': self.prepare_text(question_data['questionText']),\n",
        "                    'response': self.prepare_text(answer_data['answerText']),\n",
        "                    'category': category,\n",
        "                }\n",
        "                if self.filter_sample(parsed_sample):\n",
        "                    result_samples.append(parsed_sample)\n",
        "\n",
        "        return result_samples\n",
        "\n",
        "    def get_file_paths(self):\n",
        "\n",
        "        return [os.path.join(self.data_path, file)\n",
        "                for file in os.listdir(self.data_path)\n",
        "                if file.endswith('.json.gz')]\n",
        "\n",
        "    def read_data(self) -> List[Dict[str, str]]:\n",
        "\n",
        "        file_paths = self.get_file_paths()\n",
        "\n",
        "        data: List[Dict[str, str]] = list()\n",
        "\n",
        "        for file_path in tqdm(file_paths, desc='Reading'):\n",
        "            with gzip.open(file_path) as file_object:\n",
        "                for sample in file_object:\n",
        "                    sample = eval(sample)\n",
        "                    category = self.parse_filename(file_path)\n",
        "\n",
        "                    if 'single' in file_path:\n",
        "                        data.extend(self.parse_single_sample(sample, category))\n",
        "                    elif 'multiple' in file_path:\n",
        "                        data.extend(self.parse_multiple_sample(sample, category))\n",
        "\n",
        "        return data\n",
        "\n",
        "    def run(self) -> Tuple[pd.DataFrame, pd.DataFrame, pd.DataFrame]:\n",
        "\n",
        "        data = pd.DataFrame(self.read_data())\n",
        "\n",
        "        subset = ['question']\n",
        "\n",
        "        if not self.is_question_classification:\n",
        "            subset.append('response')\n",
        "\n",
        "        data = data.drop_duplicates(subset=subset)\n",
        "\n",
        "        data = data.sample(frac=1)\n",
        "\n",
        "        if self.train_samples + self.valid_samples >= data.shape[0]:\n",
        "            raise ValueError('Sum of train_samples and valid_samples must be less than length of data')\n",
        "\n",
        "        data, valid = train_test_split(data, stratify=data.category, test_size=self.valid_samples)\n",
        "\n",
        "        unlabeled, train = train_test_split(data, stratify=data.category, test_size=self.train_samples)\n",
        "\n",
        "        unlabeled = unlabeled[['question', 'response']]\n",
        "\n",
        "        unlabeled.reset_index(inplace=True, drop=True)\n",
        "        train.reset_index(inplace=True, drop=True)\n",
        "        valid.reset_index(inplace=True, drop=True)\n",
        "\n",
        "        return unlabeled, train, valid"
      ],
      "execution_count": null,
      "outputs": []
    },
    {
      "cell_type": "code",
      "metadata": {
        "id": "RRyoxsPsgvZS"
      },
      "source": [
        "import math\n",
        "import numpy as np\n",
        "\n",
        "from tqdm import tqdm\n",
        "#from tqdm import tqdm_notebook as tqdm\n",
        "\n",
        "import torch\n",
        "\n",
        "import zipfile\n",
        "\n",
        "import seaborn as sns\n",
        "\n",
        "# from data import Downloader, Parser"
      ],
      "execution_count": null,
      "outputs": []
    },
    {
      "cell_type": "markdown",
      "metadata": {
        "id": "xU53aTGcgvZi"
      },
      "source": [
        "### Загружаем файл с эмбеддингами для английского языка\n",
        "Они нам понадобятся чуть позже.  \n",
        "Для других языков можете найти здесь: https://fasttext.cc/docs/en/crawl-vectors.html"
      ]
    },
    {
      "cell_type": "code",
      "metadata": {
        "colab": {
          "base_uri": "https://localhost:8080/"
        },
        "id": "SpJYmo6kgvZj",
        "outputId": "7d9a3c17-118d-4fd4-97ba-13e3b2f2e416"
      },
      "source": [
        "# раскомментируйте и скачайте\n",
        "!wget https://dl.fbaipublicfiles.com/fasttext/vectors-english/wiki-news-300d-1M.vec.zip"
      ],
      "execution_count": null,
      "outputs": [
        {
          "output_type": "stream",
          "text": [
            "--2020-12-13 13:11:56--  https://dl.fbaipublicfiles.com/fasttext/vectors-english/wiki-news-300d-1M.vec.zip\n",
            "Resolving dl.fbaipublicfiles.com (dl.fbaipublicfiles.com)... 172.67.9.4, 104.22.74.142, 104.22.75.142, ...\n",
            "Connecting to dl.fbaipublicfiles.com (dl.fbaipublicfiles.com)|172.67.9.4|:443... connected.\n",
            "HTTP request sent, awaiting response... 200 OK\n",
            "Length: 681808098 (650M) [application/zip]\n",
            "Saving to: ‘wiki-news-300d-1M.vec.zip’\n",
            "\n",
            "wiki-news-300d-1M.v 100%[===================>] 650.22M  23.5MB/s    in 29s     \n",
            "\n",
            "2020-12-13 13:12:25 (22.7 MB/s) - ‘wiki-news-300d-1M.vec.zip’ saved [681808098/681808098]\n",
            "\n"
          ],
          "name": "stdout"
        }
      ]
    },
    {
      "cell_type": "code",
      "metadata": {
        "id": "8PUiG7rQgvZs"
      },
      "source": [
        "# путь к данным\n",
        "data_path = './data/'"
      ],
      "execution_count": null,
      "outputs": []
    },
    {
      "cell_type": "markdown",
      "metadata": {
        "id": "eC4dcTuDgvZy"
      },
      "source": [
        "### Читалка данные\n",
        "Не стоит вдаваться в подробности, просто эта штука скачивает данные, затем парсит и делает из них три датасета:\n",
        "- тренировочный\n",
        "- валидационный\n",
        "- неразмеченный\n",
        "\n",
        "Неразмеченные данные необазятельны, но могут вам понадобиться, например, для языковой модели или улучшения эмбеддингов."
      ]
    },
    {
      "cell_type": "code",
      "metadata": {
        "id": "33AYBxE6gvZ1"
      },
      "source": [
        "downloader = Downloader(data_path=data_path)"
      ],
      "execution_count": null,
      "outputs": []
    },
    {
      "cell_type": "code",
      "metadata": {
        "colab": {
          "base_uri": "https://localhost:8080/"
        },
        "id": "W7GYbqYSgvZ6",
        "outputId": "392574e6-d852-4ff7-c6d3-c1fc08f557ea"
      },
      "source": [
        "downloader.run()"
      ],
      "execution_count": null,
      "outputs": [
        {
          "output_type": "stream",
          "text": [
            "single: 100%|██████████| 21/21 [00:16<00:00,  1.28it/s]\n",
            "multiple: 100%|██████████| 17/17 [00:19<00:00,  1.15s/it]\n"
          ],
          "name": "stderr"
        }
      ]
    },
    {
      "cell_type": "code",
      "metadata": {
        "id": "A2KZpaJ_gvaB"
      },
      "source": [
        "parser = Parser(data_path=data_path)"
      ],
      "execution_count": null,
      "outputs": []
    },
    {
      "cell_type": "code",
      "metadata": {
        "colab": {
          "base_uri": "https://localhost:8080/"
        },
        "id": "77tsrxZhgvaG",
        "outputId": "611dccad-6e87-46e5-82e3-0afab94945ec"
      },
      "source": [
        "unlabeled, train, valid = parser.run()"
      ],
      "execution_count": null,
      "outputs": [
        {
          "output_type": "stream",
          "text": [
            "Reading: 100%|██████████| 38/38 [02:18<00:00,  3.66s/it]\n"
          ],
          "name": "stderr"
        }
      ]
    },
    {
      "cell_type": "markdown",
      "metadata": {
        "id": "8vtdEPbogvaM"
      },
      "source": [
        "### Посмотрим на датасеты"
      ]
    },
    {
      "cell_type": "code",
      "metadata": {
        "colab": {
          "base_uri": "https://localhost:8080/",
          "height": 419
        },
        "id": "Y4LXAld7gvaN",
        "outputId": "86566408-b7b5-40b6-a90a-c95f9db61f50"
      },
      "source": [
        "unlabeled"
      ],
      "execution_count": null,
      "outputs": [
        {
          "output_type": "execute_result",
          "data": {
            "text/html": [
              "<div>\n",
              "<style scoped>\n",
              "    .dataframe tbody tr th:only-of-type {\n",
              "        vertical-align: middle;\n",
              "    }\n",
              "\n",
              "    .dataframe tbody tr th {\n",
              "        vertical-align: top;\n",
              "    }\n",
              "\n",
              "    .dataframe thead th {\n",
              "        text-align: right;\n",
              "    }\n",
              "</style>\n",
              "<table border=\"1\" class=\"dataframe\">\n",
              "  <thead>\n",
              "    <tr style=\"text-align: right;\">\n",
              "      <th></th>\n",
              "      <th>question</th>\n",
              "      <th>response</th>\n",
              "    </tr>\n",
              "  </thead>\n",
              "  <tbody>\n",
              "    <tr>\n",
              "      <th>0</th>\n",
              "      <td>how sturdy is the base of the inner carriage w...</td>\n",
              "      <td>your 26lb dog will sitvery comfortably in the ...</td>\n",
              "    </tr>\n",
              "    <tr>\n",
              "      <th>1</th>\n",
              "      <td>adjustable blade: can anyone give me some tips...</td>\n",
              "      <td>the 30 and 40 are best for under the feet. 10 ...</td>\n",
              "    </tr>\n",
              "    <tr>\n",
              "      <th>2</th>\n",
              "      <td>what is the height and width of the canister f...</td>\n",
              "      <td>hi! for this particular one (xl), its about 8x...</td>\n",
              "    </tr>\n",
              "    <tr>\n",
              "      <th>3</th>\n",
              "      <td>is it easy to take it off when it's not being ...</td>\n",
              "      <td>it's very simple to install and remove. it tak...</td>\n",
              "    </tr>\n",
              "    <tr>\n",
              "      <th>4</th>\n",
              "      <td>will this co witness with the iron sights of a...</td>\n",
              "      <td>absolutely. i've got mine on a tavor and co-wi...</td>\n",
              "    </tr>\n",
              "    <tr>\n",
              "      <th>...</th>\n",
              "      <td>...</td>\n",
              "      <td>...</td>\n",
              "    </tr>\n",
              "    <tr>\n",
              "      <th>137275</th>\n",
              "      <td>where is the tab</td>\n",
              "      <td>not sure exactly what tab you're referring to....</td>\n",
              "    </tr>\n",
              "    <tr>\n",
              "      <th>137276</th>\n",
              "      <td>is there a pocket for radio antenna</td>\n",
              "      <td>no. it doesn't fit exactly snugly and you have...</td>\n",
              "    </tr>\n",
              "    <tr>\n",
              "      <th>137277</th>\n",
              "      <td>does this model \"curt 13534 class iii receiver...</td>\n",
              "      <td>we have a 2010 highlander. it's fits are full ...</td>\n",
              "    </tr>\n",
              "    <tr>\n",
              "      <th>137278</th>\n",
              "      <td>does this need to be assembled?</td>\n",
              "      <td>yes but very simple</td>\n",
              "    </tr>\n",
              "    <tr>\n",
              "      <th>137279</th>\n",
              "      <td>i have a 1998 polaris sportsman 500 w98ch50a w...</td>\n",
              "      <td>i have a 1999 magnum 500, which is supposed to...</td>\n",
              "    </tr>\n",
              "  </tbody>\n",
              "</table>\n",
              "<p>137280 rows × 2 columns</p>\n",
              "</div>"
            ],
            "text/plain": [
              "                                                 question                                           response\n",
              "0       how sturdy is the base of the inner carriage w...  your 26lb dog will sitvery comfortably in the ...\n",
              "1       adjustable blade: can anyone give me some tips...  the 30 and 40 are best for under the feet. 10 ...\n",
              "2       what is the height and width of the canister f...  hi! for this particular one (xl), its about 8x...\n",
              "3       is it easy to take it off when it's not being ...  it's very simple to install and remove. it tak...\n",
              "4       will this co witness with the iron sights of a...  absolutely. i've got mine on a tavor and co-wi...\n",
              "...                                                   ...                                                ...\n",
              "137275                                   where is the tab  not sure exactly what tab you're referring to....\n",
              "137276                is there a pocket for radio antenna  no. it doesn't fit exactly snugly and you have...\n",
              "137277  does this model \"curt 13534 class iii receiver...  we have a 2010 highlander. it's fits are full ...\n",
              "137278                    does this need to be assembled?                                yes but very simple\n",
              "137279  i have a 1998 polaris sportsman 500 w98ch50a w...  i have a 1999 magnum 500, which is supposed to...\n",
              "\n",
              "[137280 rows x 2 columns]"
            ]
          },
          "metadata": {
            "tags": []
          },
          "execution_count": 9
        }
      ]
    },
    {
      "cell_type": "code",
      "metadata": {
        "colab": {
          "base_uri": "https://localhost:8080/",
          "height": 555
        },
        "id": "0sYMB4ZmgvaQ",
        "outputId": "e9bd3384-af3c-4dcc-dd37-fefdaaad3075"
      },
      "source": [
        "train"
      ],
      "execution_count": null,
      "outputs": [
        {
          "output_type": "execute_result",
          "data": {
            "text/html": [
              "<div>\n",
              "<style scoped>\n",
              "    .dataframe tbody tr th:only-of-type {\n",
              "        vertical-align: middle;\n",
              "    }\n",
              "\n",
              "    .dataframe tbody tr th {\n",
              "        vertical-align: top;\n",
              "    }\n",
              "\n",
              "    .dataframe thead th {\n",
              "        text-align: right;\n",
              "    }\n",
              "</style>\n",
              "<table border=\"1\" class=\"dataframe\">\n",
              "  <thead>\n",
              "    <tr style=\"text-align: right;\">\n",
              "      <th></th>\n",
              "      <th>question</th>\n",
              "      <th>response</th>\n",
              "      <th>category</th>\n",
              "    </tr>\n",
              "  </thead>\n",
              "  <tbody>\n",
              "    <tr>\n",
              "      <th>0</th>\n",
              "      <td>will this cover fit a star trak spinner blake ...</td>\n",
              "      <td>can't give you a specific answer to your quest...</td>\n",
              "      <td>sports and outdoors</td>\n",
              "    </tr>\n",
              "    <tr>\n",
              "      <th>1</th>\n",
              "      <td>is there an error on the sizing chart? women's...</td>\n",
              "      <td>i'm female with pretty decent sized hands (i w...</td>\n",
              "      <td>sports and outdoors</td>\n",
              "    </tr>\n",
              "    <tr>\n",
              "      <th>2</th>\n",
              "      <td>does this fit on the nexus iii?</td>\n",
              "      <td>if you go under phone info under settings it s...</td>\n",
              "      <td>cell phones and accessories</td>\n",
              "    </tr>\n",
              "    <tr>\n",
              "      <th>3</th>\n",
              "      <td>my husband and i are both getting one. would t...</td>\n",
              "      <td>yes i believe so</td>\n",
              "      <td>cell phones and accessories</td>\n",
              "    </tr>\n",
              "    <tr>\n",
              "      <th>4</th>\n",
              "      <td>is this a package of one or what's the quantity?</td>\n",
              "      <td>package of one, but they work great. get the b...</td>\n",
              "      <td>sports and outdoors</td>\n",
              "    </tr>\n",
              "    <tr>\n",
              "      <th>...</th>\n",
              "      <td>...</td>\n",
              "      <td>...</td>\n",
              "      <td>...</td>\n",
              "    </tr>\n",
              "    <tr>\n",
              "      <th>249995</th>\n",
              "      <td>is the foam on the sm-med belt as large in bac...</td>\n",
              "      <td>they are both made the same shape and adjust c...</td>\n",
              "      <td>sports and outdoors</td>\n",
              "    </tr>\n",
              "    <tr>\n",
              "      <th>249996</th>\n",
              "      <td>would there be a problem running in cold weath...</td>\n",
              "      <td>please disregard my \"yes\" answer! i hit the wr...</td>\n",
              "      <td>automotive</td>\n",
              "    </tr>\n",
              "    <tr>\n",
              "      <th>249997</th>\n",
              "      <td>does this item come with a wiring diagram?</td>\n",
              "      <td>it should come with a wiring diagram. however,...</td>\n",
              "      <td>automotive</td>\n",
              "    </tr>\n",
              "    <tr>\n",
              "      <th>249998</th>\n",
              "      <td>besides the exterior color, is there any diffe...</td>\n",
              "      <td>not as far as i can tell. i've owned the plati...</td>\n",
              "      <td>cell phones and accessories</td>\n",
              "    </tr>\n",
              "    <tr>\n",
              "      <th>249999</th>\n",
              "      <td>does it have usmc stamped on the reverse side ...</td>\n",
              "      <td>no. just usa</td>\n",
              "      <td>sports and outdoors</td>\n",
              "    </tr>\n",
              "  </tbody>\n",
              "</table>\n",
              "<p>250000 rows × 3 columns</p>\n",
              "</div>"
            ],
            "text/plain": [
              "                                                 question  ...                     category\n",
              "0       will this cover fit a star trak spinner blake ...  ...          sports and outdoors\n",
              "1       is there an error on the sizing chart? women's...  ...          sports and outdoors\n",
              "2                         does this fit on the nexus iii?  ...  cell phones and accessories\n",
              "3       my husband and i are both getting one. would t...  ...  cell phones and accessories\n",
              "4        is this a package of one or what's the quantity?  ...          sports and outdoors\n",
              "...                                                   ...  ...                          ...\n",
              "249995  is the foam on the sm-med belt as large in bac...  ...          sports and outdoors\n",
              "249996  would there be a problem running in cold weath...  ...                   automotive\n",
              "249997         does this item come with a wiring diagram?  ...                   automotive\n",
              "249998  besides the exterior color, is there any diffe...  ...  cell phones and accessories\n",
              "249999  does it have usmc stamped on the reverse side ...  ...          sports and outdoors\n",
              "\n",
              "[250000 rows x 3 columns]"
            ]
          },
          "metadata": {
            "tags": []
          },
          "execution_count": 10
        }
      ]
    },
    {
      "cell_type": "code",
      "metadata": {
        "colab": {
          "base_uri": "https://localhost:8080/",
          "height": 487
        },
        "id": "gaMowJn6gvaT",
        "outputId": "eff08815-128a-4068-e69e-d40e81253282"
      },
      "source": [
        "valid"
      ],
      "execution_count": null,
      "outputs": [
        {
          "output_type": "execute_result",
          "data": {
            "text/html": [
              "<div>\n",
              "<style scoped>\n",
              "    .dataframe tbody tr th:only-of-type {\n",
              "        vertical-align: middle;\n",
              "    }\n",
              "\n",
              "    .dataframe tbody tr th {\n",
              "        vertical-align: top;\n",
              "    }\n",
              "\n",
              "    .dataframe thead th {\n",
              "        text-align: right;\n",
              "    }\n",
              "</style>\n",
              "<table border=\"1\" class=\"dataframe\">\n",
              "  <thead>\n",
              "    <tr style=\"text-align: right;\">\n",
              "      <th></th>\n",
              "      <th>question</th>\n",
              "      <th>response</th>\n",
              "      <th>category</th>\n",
              "    </tr>\n",
              "  </thead>\n",
              "  <tbody>\n",
              "    <tr>\n",
              "      <th>0</th>\n",
              "      <td>will this product work on a 2007 toyota fj cru...</td>\n",
              "      <td>this should fit your 2007 reciever as toyota b...</td>\n",
              "      <td>automotive</td>\n",
              "    </tr>\n",
              "    <tr>\n",
              "      <th>1</th>\n",
              "      <td>this may be a stupid question... how can you t...</td>\n",
              "      <td>get ur car facing a wall with ur lights on, st...</td>\n",
              "      <td>automotive</td>\n",
              "    </tr>\n",
              "    <tr>\n",
              "      <th>2</th>\n",
              "      <td>are the spoons coated with a lacquer or any ot...</td>\n",
              "      <td>no they are clean, buffed smooth bamboo</td>\n",
              "      <td>baby</td>\n",
              "    </tr>\n",
              "    <tr>\n",
              "      <th>3</th>\n",
              "      <td>will this remote work with a 1998 chevy lumina?</td>\n",
              "      <td>don't know you would have to take to the deale...</td>\n",
              "      <td>automotive</td>\n",
              "    </tr>\n",
              "    <tr>\n",
              "      <th>4</th>\n",
              "      <td>will these riser fit a 2000 suzuki 1500lc and ...</td>\n",
              "      <td>hello believe it will but instead 4.5 in i wou...</td>\n",
              "      <td>automotive</td>\n",
              "    </tr>\n",
              "    <tr>\n",
              "      <th>...</th>\n",
              "      <td>...</td>\n",
              "      <td>...</td>\n",
              "      <td>...</td>\n",
              "    </tr>\n",
              "    <tr>\n",
              "      <th>49995</th>\n",
              "      <td>is this for the complete front set, drivers an...</td>\n",
              "      <td>yes, both sides.</td>\n",
              "      <td>automotive</td>\n",
              "    </tr>\n",
              "    <tr>\n",
              "      <th>49996</th>\n",
              "      <td>i want to put this in my basement which is onl...</td>\n",
              "      <td>87\" tall with lat pull.</td>\n",
              "      <td>sports and outdoors</td>\n",
              "    </tr>\n",
              "    <tr>\n",
              "      <th>49997</th>\n",
              "      <td>can this fit 2003 gmc yukon?</td>\n",
              "      <td>it jusy so happens that the yukon and the aval...</td>\n",
              "      <td>automotive</td>\n",
              "    </tr>\n",
              "    <tr>\n",
              "      <th>49998</th>\n",
              "      <td>does this cable provide power to the host devi...</td>\n",
              "      <td>no power to host</td>\n",
              "      <td>cell phones and accessories</td>\n",
              "    </tr>\n",
              "    <tr>\n",
              "      <th>49999</th>\n",
              "      <td>does this filter fit a 2005 harley flhtci</td>\n",
              "      <td>yes it does.</td>\n",
              "      <td>automotive</td>\n",
              "    </tr>\n",
              "  </tbody>\n",
              "</table>\n",
              "<p>50000 rows × 3 columns</p>\n",
              "</div>"
            ],
            "text/plain": [
              "                                                question  ...                     category\n",
              "0      will this product work on a 2007 toyota fj cru...  ...                   automotive\n",
              "1      this may be a stupid question... how can you t...  ...                   automotive\n",
              "2      are the spoons coated with a lacquer or any ot...  ...                         baby\n",
              "3        will this remote work with a 1998 chevy lumina?  ...                   automotive\n",
              "4      will these riser fit a 2000 suzuki 1500lc and ...  ...                   automotive\n",
              "...                                                  ...  ...                          ...\n",
              "49995  is this for the complete front set, drivers an...  ...                   automotive\n",
              "49996  i want to put this in my basement which is onl...  ...          sports and outdoors\n",
              "49997                       can this fit 2003 gmc yukon?  ...                   automotive\n",
              "49998  does this cable provide power to the host devi...  ...  cell phones and accessories\n",
              "49999          does this filter fit a 2005 harley flhtci  ...                   automotive\n",
              "\n",
              "[50000 rows x 3 columns]"
            ]
          },
          "metadata": {
            "tags": []
          },
          "execution_count": 11
        }
      ]
    },
    {
      "cell_type": "markdown",
      "metadata": {
        "id": "icr9SYlHgvaY"
      },
      "source": [
        "## Задача\n",
        "Классифицировать поле question в одну из категорий в поле category.  \n",
        "Это данные с сервиса Amazon QA, то есть такой сервис, на котором можно задать вопрос и получить ответ от других пользователей.\n",
        "\n",
        "Идея задачи такая: давайте поможем клиенту определить в какую категорию выложить его вопрос, чтобы быстрее получить максимально релевантный ответ."
      ]
    },
    {
      "cell_type": "markdown",
      "metadata": {
        "id": "78L7ujm5gvaa"
      },
      "source": [
        "### Перевод класса в индекс\n",
        "Мы сделаем некоторый маппер, который текст класса переводит в конкретный уникальный индекс. Нам это понадобиться, потому что наша \n",
        "модель работает не напрямую с классом, а с его индексом."
      ]
    },
    {
      "cell_type": "code",
      "metadata": {
        "colab": {
          "base_uri": "https://localhost:8080/"
        },
        "id": "NHcXqsK2gvaa",
        "outputId": "1be622da-1dd0-42ba-ab4e-fb983eeacfd0"
      },
      "source": [
        "# проверим, что в трейне и валидации одинаковые категории\n",
        "set(train.category.unique().tolist()) == set(valid.category.unique().tolist())"
      ],
      "execution_count": null,
      "outputs": [
        {
          "output_type": "execute_result",
          "data": {
            "text/plain": [
              "True"
            ]
          },
          "metadata": {
            "tags": []
          },
          "execution_count": 9
        }
      ]
    },
    {
      "cell_type": "code",
      "metadata": {
        "id": "CZxc3fObgvan"
      },
      "source": [
        "unique_categories = set(train.category.unique().tolist() + valid.category.unique().tolist())"
      ],
      "execution_count": null,
      "outputs": []
    },
    {
      "cell_type": "code",
      "metadata": {
        "id": "Km0wGsS6gvar"
      },
      "source": [
        "category2index = {category: index for index, category in enumerate(unique_categories)}"
      ],
      "execution_count": null,
      "outputs": []
    },
    {
      "cell_type": "code",
      "metadata": {
        "colab": {
          "base_uri": "https://localhost:8080/"
        },
        "id": "9mXrq0jogvau",
        "outputId": "07b6b61b-5e79-4b08-dce8-e116e59487b2"
      },
      "source": [
        "category2index"
      ],
      "execution_count": null,
      "outputs": [
        {
          "output_type": "execute_result",
          "data": {
            "text/plain": [
              "{'automotive': 1,\n",
              " 'baby': 4,\n",
              " 'beauty': 6,\n",
              " 'cell phones and accessories': 7,\n",
              " 'grocery and gourmet food': 0,\n",
              " 'office products': 5,\n",
              " 'pet supplies': 2,\n",
              " 'sports and outdoors': 3}"
            ]
          },
          "metadata": {
            "tags": []
          },
          "execution_count": 11
        }
      ]
    },
    {
      "cell_type": "code",
      "metadata": {
        "id": "ylCCOvKsgvax"
      },
      "source": [
        "train['target'] = train.category.map(category2index)\n",
        "valid['target'] = valid.category.map(category2index)"
      ],
      "execution_count": null,
      "outputs": []
    },
    {
      "cell_type": "code",
      "metadata": {
        "colab": {
          "base_uri": "https://localhost:8080/",
          "height": 419
        },
        "id": "W-jXMV3Wgvaz",
        "outputId": "4eda81ee-90d6-4734-8f1a-d0c62f987c86"
      },
      "source": [
        "train"
      ],
      "execution_count": null,
      "outputs": [
        {
          "output_type": "execute_result",
          "data": {
            "text/html": [
              "<div>\n",
              "<style scoped>\n",
              "    .dataframe tbody tr th:only-of-type {\n",
              "        vertical-align: middle;\n",
              "    }\n",
              "\n",
              "    .dataframe tbody tr th {\n",
              "        vertical-align: top;\n",
              "    }\n",
              "\n",
              "    .dataframe thead th {\n",
              "        text-align: right;\n",
              "    }\n",
              "</style>\n",
              "<table border=\"1\" class=\"dataframe\">\n",
              "  <thead>\n",
              "    <tr style=\"text-align: right;\">\n",
              "      <th></th>\n",
              "      <th>question</th>\n",
              "      <th>response</th>\n",
              "      <th>category</th>\n",
              "      <th>target</th>\n",
              "    </tr>\n",
              "  </thead>\n",
              "  <tbody>\n",
              "    <tr>\n",
              "      <th>0</th>\n",
              "      <td>will this work for a 2012 forrester</td>\n",
              "      <td>as far as i know it fits wrx &amp; other impreza v...</td>\n",
              "      <td>automotive</td>\n",
              "      <td>1</td>\n",
              "    </tr>\n",
              "    <tr>\n",
              "      <th>1</th>\n",
              "      <td>will these fit a 2003 jeep grand cherokee limi...</td>\n",
              "      <td>yes thei well fit from 1999 to 2004</td>\n",
              "      <td>automotive</td>\n",
              "      <td>1</td>\n",
              "    </tr>\n",
              "    <tr>\n",
              "      <th>2</th>\n",
              "      <td>what are the full ingredients? they hide the i...</td>\n",
              "      <td>hi kimi, here are the ingredients right off th...</td>\n",
              "      <td>beauty</td>\n",
              "      <td>6</td>\n",
              "    </tr>\n",
              "    <tr>\n",
              "      <th>3</th>\n",
              "      <td>can you mix and match the tops of these with t...</td>\n",
              "      <td>hi, you can use natural tops in the classic bo...</td>\n",
              "      <td>baby</td>\n",
              "      <td>4</td>\n",
              "    </tr>\n",
              "    <tr>\n",
              "      <th>4</th>\n",
              "      <td>can this fit a bunny?</td>\n",
              "      <td>if your bunny can sit on the palms of your han...</td>\n",
              "      <td>pet supplies</td>\n",
              "      <td>2</td>\n",
              "    </tr>\n",
              "    <tr>\n",
              "      <th>...</th>\n",
              "      <td>...</td>\n",
              "      <td>...</td>\n",
              "      <td>...</td>\n",
              "      <td>...</td>\n",
              "    </tr>\n",
              "    <tr>\n",
              "      <th>249995</th>\n",
              "      <td>does this machine require a distinctive ring f...</td>\n",
              "      <td>answer is no. wouldn't recommend this machine ...</td>\n",
              "      <td>office products</td>\n",
              "      <td>5</td>\n",
              "    </tr>\n",
              "    <tr>\n",
              "      <th>249996</th>\n",
              "      <td>will this fit on my hd fire d025 model.</td>\n",
              "      <td>mine is a 20012 model supposed to fit, haven't...</td>\n",
              "      <td>cell phones and accessories</td>\n",
              "      <td>7</td>\n",
              "    </tr>\n",
              "    <tr>\n",
              "      <th>249997</th>\n",
              "      <td>do the batteries really last 20 hours as it sa...</td>\n",
              "      <td>they do last a long time. i haven't timed it t...</td>\n",
              "      <td>baby</td>\n",
              "      <td>4</td>\n",
              "    </tr>\n",
              "    <tr>\n",
              "      <th>249998</th>\n",
              "      <td>will this work for a 5yr. old dog? we just mov...</td>\n",
              "      <td>it's hard to say. if you place it in her favor...</td>\n",
              "      <td>pet supplies</td>\n",
              "      <td>2</td>\n",
              "    </tr>\n",
              "    <tr>\n",
              "      <th>249999</th>\n",
              "      <td>will this work with a .22 caliber air rifle?</td>\n",
              "      <td>this is a .177 cleaning kit, so even though it...</td>\n",
              "      <td>sports and outdoors</td>\n",
              "      <td>3</td>\n",
              "    </tr>\n",
              "  </tbody>\n",
              "</table>\n",
              "<p>250000 rows × 4 columns</p>\n",
              "</div>"
            ],
            "text/plain": [
              "                                                 question  ... target\n",
              "0                     will this work for a 2012 forrester  ...      1\n",
              "1       will these fit a 2003 jeep grand cherokee limi...  ...      1\n",
              "2       what are the full ingredients? they hide the i...  ...      6\n",
              "3       can you mix and match the tops of these with t...  ...      4\n",
              "4                                   can this fit a bunny?  ...      2\n",
              "...                                                   ...  ...    ...\n",
              "249995  does this machine require a distinctive ring f...  ...      5\n",
              "249996            will this fit on my hd fire d025 model.  ...      7\n",
              "249997  do the batteries really last 20 hours as it sa...  ...      4\n",
              "249998  will this work for a 5yr. old dog? we just mov...  ...      2\n",
              "249999       will this work with a .22 caliber air rifle?  ...      3\n",
              "\n",
              "[250000 rows x 4 columns]"
            ]
          },
          "metadata": {
            "tags": []
          },
          "execution_count": 13
        }
      ]
    },
    {
      "cell_type": "markdown",
      "metadata": {
        "id": "-ba2ZSnmgva1"
      },
      "source": [
        "### Torch Dataset, DataLoader\n",
        "\n",
        "Очень важная абстракция для торча.\n",
        "Мы всегда будем ее использовать, чтобы работать с данными.\n",
        "\n",
        "Dataset - класс, от которого нужно наследоваться, чтобы написать свой обработчик данных. Внутри него нужно реализовать два метода, \n",
        "о которых будет чуть ниже. То есть в данном классе вы описывает как нужно преобразовать ваши данные в торчовый формат. Перевести тексты \n",
        "в индексы слов и тд.\n",
        "\n",
        "DataLoader - класс, который будет за вас семплировать данные батчами. Это итератор, поэтому формат работы с ним примерно такой:\n",
        "```python\n",
        "for batch in data_loader:\n",
        "    ...\n",
        "```\n",
        "То есть на каждой итерации отдается по одному батчу данных. Итерирование заканчивается, когда вы пройдете все батчи.\n",
        "\n",
        "Зачем нужны эти абстракции? Чтобы упростить и унифицировать работу с данными.\n",
        "Вообще вы можете реализовать что-то свое, но это упрощение данной задачи."
      ]
    },
    {
      "cell_type": "code",
      "metadata": {
        "id": "t-DqL5O2gva2"
      },
      "source": [
        "from torch.utils.data import Dataset, DataLoader"
      ],
      "execution_count": null,
      "outputs": []
    },
    {
      "cell_type": "code",
      "metadata": {
        "id": "sPw4cEsDgva4"
      },
      "source": [
        "# игрушечный датасет\n",
        "# 121535 примера, 4 фичи, 3 класса\n",
        "some_data_x = np.random.rand(121535, 4)\n",
        "some_data_y = np.random.randint(3, size=(121535,))"
      ],
      "execution_count": null,
      "outputs": []
    },
    {
      "cell_type": "code",
      "metadata": {
        "colab": {
          "base_uri": "https://localhost:8080/"
        },
        "id": "_-u32Sc-gva6",
        "outputId": "f2171ce4-a45b-4a2f-cf65-d8dd243a9998"
      },
      "source": [
        "# просто рандомные цифры\n",
        "some_data_x[:10]"
      ],
      "execution_count": null,
      "outputs": [
        {
          "output_type": "execute_result",
          "data": {
            "text/plain": [
              "array([[0.45114478, 0.12726896, 0.92298367, 0.78270306],\n",
              "       [0.55412887, 0.77979962, 0.89858608, 0.41071332],\n",
              "       [0.74059715, 0.95425451, 0.92538179, 0.31710288],\n",
              "       [0.31468359, 0.55619588, 0.32771464, 0.03002843],\n",
              "       [0.13965216, 0.88077501, 0.35843223, 0.3753262 ],\n",
              "       [0.93549061, 0.72975182, 0.94839808, 0.03079833],\n",
              "       [0.99642983, 0.88171835, 0.13771623, 0.04993491],\n",
              "       [0.37474066, 0.51888175, 0.99834781, 0.77100112],\n",
              "       [0.54219263, 0.14708729, 0.9824675 , 0.13479854],\n",
              "       [0.61677359, 0.94378157, 0.99189723, 0.91631156]])"
            ]
          },
          "metadata": {
            "tags": []
          },
          "execution_count": 21
        }
      ]
    },
    {
      "cell_type": "code",
      "metadata": {
        "colab": {
          "base_uri": "https://localhost:8080/"
        },
        "id": "Ql8AHDXbgva8",
        "outputId": "0da316b4-da87-47a1-fd8b-dc427c74ceb0"
      },
      "source": [
        "# и классы\n",
        "some_data_y"
      ],
      "execution_count": null,
      "outputs": [
        {
          "output_type": "execute_result",
          "data": {
            "text/plain": [
              "array([0, 1, 1, ..., 0, 1, 1])"
            ]
          },
          "metadata": {
            "tags": []
          },
          "execution_count": 22
        }
      ]
    },
    {
      "cell_type": "markdown",
      "metadata": {
        "id": "hJwSWquBgva-"
      },
      "source": [
        "### Пример надобности\n",
        "Для обучения модели вам нужно подавать в нее батчи данных. Как бы могли это реализовать, если бы у нас не было Dataset и DataLoader"
      ]
    },
    {
      "cell_type": "code",
      "metadata": {
        "id": "dnjobR34gva-"
      },
      "source": [
        "batch_size = 16\n",
        "\n",
        "for i_batch in range(math.ceil(some_data_x.shape[0] / batch_size)):\n",
        "    \n",
        "    x_batch = some_data_x[i_batch * batch_size:(i_batch + 1) * batch_size]\n",
        "    y_batch = some_data_y[i_batch * batch_size:(i_batch + 1) * batch_size]\n",
        "    \n",
        "    x_batch = torch.tensor(x_batch)\n",
        "    y_batch = torch.tensor(y_batch)\n",
        "    \n",
        "    break"
      ],
      "execution_count": null,
      "outputs": []
    },
    {
      "cell_type": "code",
      "metadata": {
        "colab": {
          "base_uri": "https://localhost:8080/",
          "height": 289
        },
        "id": "zD27RlqCgvbA",
        "outputId": "42194070-0a73-4f14-a749-15422702e3dd"
      },
      "source": [
        "x_batch"
      ],
      "execution_count": null,
      "outputs": [
        {
          "output_type": "execute_result",
          "data": {
            "text/plain": [
              "tensor([[0.7119, 0.8517, 0.2407, 0.4550],\n",
              "        [0.6864, 0.2000, 0.7234, 0.3851],\n",
              "        [0.8856, 0.4531, 0.0676, 0.9330],\n",
              "        [0.6208, 0.0415, 0.4030, 0.7490],\n",
              "        [0.3623, 0.9274, 0.9338, 0.6054],\n",
              "        [0.0812, 0.7828, 0.9597, 0.3047],\n",
              "        [0.0368, 0.0206, 0.7144, 0.5855],\n",
              "        [0.6783, 0.6269, 0.7755, 0.6417],\n",
              "        [0.1581, 0.5528, 0.6892, 0.5938],\n",
              "        [0.3509, 0.1936, 0.2669, 0.0018],\n",
              "        [0.0321, 0.6997, 0.6264, 0.9488],\n",
              "        [0.7963, 0.0756, 0.4320, 0.5841],\n",
              "        [0.7964, 0.5473, 0.8241, 0.4490],\n",
              "        [0.4853, 0.6640, 0.0951, 0.9670],\n",
              "        [0.1820, 0.5911, 0.1110, 0.7809],\n",
              "        [0.9437, 0.4779, 0.0691, 0.4386]], dtype=torch.float64)"
            ]
          },
          "metadata": {
            "tags": []
          },
          "execution_count": 24
        }
      ]
    },
    {
      "cell_type": "code",
      "metadata": {
        "colab": {
          "base_uri": "https://localhost:8080/",
          "height": 34
        },
        "id": "fLcNidTygvbC",
        "outputId": "181688d0-bc33-4697-890e-7223727f4ec1"
      },
      "source": [
        "x_batch.shape, y_batch.shape"
      ],
      "execution_count": null,
      "outputs": [
        {
          "output_type": "execute_result",
          "data": {
            "text/plain": [
              "(torch.Size([16, 4]), torch.Size([16]))"
            ]
          },
          "metadata": {
            "tags": []
          },
          "execution_count": 25
        }
      ]
    },
    {
      "cell_type": "markdown",
      "metadata": {
        "id": "e8bn289VgvbE"
      },
      "source": [
        "Это достаточно простой пример. Мы смогли справиться сами, но почти всегда обработка данных для подачи ее в модель делается сложнее. \n",
        "И некоторые вещи часто нужны более одного раза, например, если мы хотим каждую эпоху шафлить наши данные, чтобы получать разные батчи.\n",
        "Мы сможем это сделать, но для этого нам придется тащить с собой некоторый код из проекта в проект. К тому же совместная разработка или \n",
        "просто чтение чужого кода сильно упрощается, когда вы используете унифицированные форматы."
      ]
    },
    {
      "cell_type": "markdown",
      "metadata": {
        "id": "zMxtj3XMgvbE"
      },
      "source": [
        "### Перейдем к Dataset\n",
        "И обернем наши данные в этот обработчик"
      ]
    },
    {
      "cell_type": "code",
      "metadata": {
        "id": "-HUAuKPtgvbE"
      },
      "source": [
        "class ToyDataset(Dataset):\n",
        "    \n",
        "    def __init__(self, data_x, data_y):\n",
        "        \n",
        "        super().__init__()\n",
        "        \n",
        "        self.data_x = data_x\n",
        "        self.data_y = data_y\n",
        "        \n",
        "    def __len__(self):\n",
        "        \n",
        "        # нужно обязательно определить эту функцию\n",
        "        # должна возвращать размер датасета\n",
        "        # нужен для DataLoader, чтобы семплировать батчи\n",
        "        \n",
        "        return len(self.data_x)\n",
        "    \n",
        "    def __getitem__(self, idx):\n",
        "        \n",
        "        # еще нужно определить этот метод\n",
        "        # то есть как мы будем доставать наши данные по индексу\n",
        "        \n",
        "        return self.data_x[idx], self.data_y[idx]"
      ],
      "execution_count": null,
      "outputs": []
    },
    {
      "cell_type": "code",
      "metadata": {
        "id": "PZRLKPhCgvbG"
      },
      "source": [
        "some_dataset = ToyDataset(some_data_x, some_data_y)"
      ],
      "execution_count": null,
      "outputs": []
    },
    {
      "cell_type": "code",
      "metadata": {
        "colab": {
          "base_uri": "https://localhost:8080/"
        },
        "id": "qRDqc_UjgvbH",
        "outputId": "b1603a3a-1988-446f-aa71-db9a2126df6b"
      },
      "source": [
        "some_dataset[5], some_dataset[467]"
      ],
      "execution_count": null,
      "outputs": [
        {
          "output_type": "execute_result",
          "data": {
            "text/plain": [
              "((array([0.93549061, 0.72975182, 0.94839808, 0.03079833]), 0),\n",
              " (array([0.97886092, 0.25552591, 0.99361811, 0.52953738]), 1))"
            ]
          },
          "metadata": {
            "tags": []
          },
          "execution_count": 25
        }
      ]
    },
    {
      "cell_type": "markdown",
      "metadata": {
        "id": "q5Y5GaHCgvbJ"
      },
      "source": [
        "### Кажется, что смысла в этом нет, но это самый простой пример"
      ]
    },
    {
      "cell_type": "markdown",
      "metadata": {
        "id": "En8XT_d7gvbJ"
      },
      "source": [
        "### DataLoader\n",
        "В него мы можем задать некоторые параметры, например, батч сайз и нужно ли шафлить каждый новый проход по данным эти самые данные, \n",
        "чтобы получать разные батчи, то есть по разному компоновать эти батчи"
      ]
    },
    {
      "cell_type": "code",
      "metadata": {
        "id": "pY7Y3byOgvbJ"
      },
      "source": [
        "some_loader = DataLoader(some_dataset, batch_size=16, shuffle=True)"
      ],
      "execution_count": null,
      "outputs": []
    },
    {
      "cell_type": "code",
      "metadata": {
        "colab": {
          "base_uri": "https://localhost:8080/"
        },
        "id": "xd33d6N0gvbL",
        "outputId": "176d71d1-2f6d-490b-e842-454ebb8eb56d"
      },
      "source": [
        "for x, y in some_loader:\n",
        "    break\n",
        "    \n",
        "x"
      ],
      "execution_count": null,
      "outputs": [
        {
          "output_type": "execute_result",
          "data": {
            "text/plain": [
              "tensor([[0.6551, 0.3867, 0.5675, 0.7294],\n",
              "        [0.1338, 0.0290, 0.2512, 0.4685],\n",
              "        [0.2506, 0.6126, 0.8329, 0.3481],\n",
              "        [0.7149, 0.3398, 0.4547, 0.7465],\n",
              "        [0.9770, 0.2817, 0.5351, 0.6230],\n",
              "        [0.0654, 0.5411, 0.1509, 0.3829],\n",
              "        [0.4329, 0.1012, 0.4000, 0.7173],\n",
              "        [0.2099, 0.7756, 0.3426, 0.0143],\n",
              "        [0.6119, 0.6940, 0.6834, 0.5823],\n",
              "        [0.5777, 0.0373, 0.6872, 0.8046],\n",
              "        [0.1554, 0.0418, 0.2656, 0.7100],\n",
              "        [0.0586, 0.3905, 0.3946, 0.9439],\n",
              "        [0.3097, 0.7043, 0.4778, 0.2304],\n",
              "        [0.1156, 0.7207, 0.3236, 0.3073],\n",
              "        [0.6191, 0.7882, 0.2373, 0.2248],\n",
              "        [0.0439, 0.3459, 0.7047, 0.4166]], dtype=torch.float64)"
            ]
          },
          "metadata": {
            "tags": []
          },
          "execution_count": 27
        }
      ]
    },
    {
      "cell_type": "code",
      "metadata": {
        "colab": {
          "base_uri": "https://localhost:8080/"
        },
        "id": "CUPvFrOtgvbN",
        "outputId": "73be461e-6292-4dfa-f8e0-bdf423fcfff8"
      },
      "source": [
        "x.shape"
      ],
      "execution_count": null,
      "outputs": [
        {
          "output_type": "execute_result",
          "data": {
            "text/plain": [
              "torch.Size([16, 4])"
            ]
          },
          "metadata": {
            "tags": []
          },
          "execution_count": 28
        }
      ]
    },
    {
      "cell_type": "code",
      "metadata": {
        "colab": {
          "base_uri": "https://localhost:8080/"
        },
        "id": "McTjFS6RgvbO",
        "outputId": "ff79b0ea-90d9-4a05-f856-7125ae131af0"
      },
      "source": [
        "for x, y in some_loader:\n",
        "    pass\n",
        "\n",
        "len(x)"
      ],
      "execution_count": null,
      "outputs": [
        {
          "output_type": "execute_result",
          "data": {
            "text/plain": [
              "15"
            ]
          },
          "metadata": {
            "tags": []
          },
          "execution_count": 29
        }
      ]
    },
    {
      "cell_type": "code",
      "metadata": {
        "colab": {
          "base_uri": "https://localhost:8080/",
          "height": 34
        },
        "id": "L-sqMJxtgvbP",
        "outputId": "92d06a84-9f38-4c5e-9023-62a8e783c32c"
      },
      "source": [
        "# почему 15?\n",
        "# потому что количество наших данных нацело не делится на 16\n",
        "# и поэтому последний батч меньше 16-ти\n",
        "len(some_dataset) % 16"
      ],
      "execution_count": null,
      "outputs": [
        {
          "output_type": "execute_result",
          "data": {
            "text/plain": [
              "15"
            ]
          },
          "metadata": {
            "tags": []
          },
          "execution_count": 33
        }
      ]
    },
    {
      "cell_type": "markdown",
      "metadata": {
        "id": "fu1xYwqZgvbR"
      },
      "source": [
        "### Усложним обработчик"
      ]
    },
    {
      "cell_type": "code",
      "metadata": {
        "id": "PIvtlHofgvbR"
      },
      "source": [
        "class ToyDataset(Dataset):\n",
        "    \n",
        "    def __init__(self, data_x, data_y):\n",
        "        \n",
        "        super().__init__()\n",
        "        \n",
        "        self.data_x = data_x\n",
        "        self.data_y = data_y\n",
        "        \n",
        "    def __len__(self):\n",
        "        \n",
        "        # нужно обязательно определить эту функцию\n",
        "        # должна возвращать размер датасета\n",
        "        # нужен для DataLoader, чтобы семплировать батчи\n",
        "        \n",
        "        return len(self.data_x)\n",
        "    \n",
        "    @staticmethod\n",
        "    def pow_features(x, n=2):\n",
        "        \n",
        "        return x ** n\n",
        "    \n",
        "    @staticmethod\n",
        "    def log_features(x):\n",
        "        \n",
        "        return np.log(x)\n",
        "    \n",
        "    def __getitem__(self, idx):\n",
        "        \n",
        "        # еще нужно определить этот метод\n",
        "        # то есть как мы будем доставать наши данные по индексу\n",
        "        \n",
        "        x = self.data_x[idx]\n",
        "        \n",
        "        # внутри датасета мы можем делать все что угодно с нашими данными\n",
        "        # например выше определим функции, которые добавляют степенные фичи\n",
        "        x_p_2 = self.pow_features(x, n=2)\n",
        "        x_p_3 = self.pow_features(x, n=3)\n",
        "        # и еще возьмем логарифмические фичи\n",
        "        x_log = self.log_features(x)\n",
        "        \n",
        "        # сконкатенируем наши фичи\n",
        "        x = np.concatenate([x, x_p_2, x_p_3, x_log])\n",
        "        \n",
        "        y = self.data_y[idx]\n",
        "        \n",
        "        return x, y"
      ],
      "execution_count": null,
      "outputs": []
    },
    {
      "cell_type": "code",
      "metadata": {
        "id": "Qkow4rqEgvbT"
      },
      "source": [
        "toy_dataset = ToyDataset(some_data_x, some_data_y)"
      ],
      "execution_count": null,
      "outputs": []
    },
    {
      "cell_type": "code",
      "metadata": {
        "id": "pnKLW4oogvbU"
      },
      "source": [
        "toy_loader = DataLoader(dataset=toy_dataset, batch_size=128)"
      ],
      "execution_count": null,
      "outputs": []
    },
    {
      "cell_type": "code",
      "metadata": {
        "id": "D_27zVH_gvbV"
      },
      "source": [
        "for x, y in toy_loader:\n",
        "    break"
      ],
      "execution_count": null,
      "outputs": []
    },
    {
      "cell_type": "code",
      "metadata": {
        "colab": {
          "base_uri": "https://localhost:8080/",
          "height": 34
        },
        "id": "tTdU6py8gvbX",
        "outputId": "c9bdea9d-4641-4741-fe8a-01f5d76df588"
      },
      "source": [
        "x.shape"
      ],
      "execution_count": null,
      "outputs": [
        {
          "output_type": "execute_result",
          "data": {
            "text/plain": [
              "torch.Size([128, 16])"
            ]
          },
          "metadata": {
            "tags": []
          },
          "execution_count": 39
        }
      ]
    },
    {
      "cell_type": "code",
      "metadata": {
        "colab": {
          "base_uri": "https://localhost:8080/",
          "height": 153
        },
        "id": "MCJantCFgvbY",
        "outputId": "ec21a85c-641b-443d-ed05-bd82ebc9e801"
      },
      "source": [
        "# заметим, что мы сразу получаем торчовый формат данных, который получился из автоматического преобразования из numpy\n",
        "x"
      ],
      "execution_count": null,
      "outputs": [
        {
          "output_type": "execute_result",
          "data": {
            "text/plain": [
              "tensor([[ 0.7119,  0.8517,  0.2407,  ..., -0.1605, -1.4240, -0.7874],\n",
              "        [ 0.6864,  0.2000,  0.7234,  ..., -1.6095, -0.3238, -0.9543],\n",
              "        [ 0.8856,  0.4531,  0.0676,  ..., -0.7916, -2.6935, -0.0694],\n",
              "        ...,\n",
              "        [ 0.6867,  0.5533,  0.8899,  ..., -0.5919, -0.1166, -0.2364],\n",
              "        [ 0.3468,  0.2164,  0.4582,  ..., -1.5307, -0.7804, -0.5034],\n",
              "        [ 0.6009,  0.9150,  0.6305,  ..., -0.0888, -0.4612, -0.5679]],\n",
              "       dtype=torch.float64)"
            ]
          },
          "metadata": {
            "tags": []
          },
          "execution_count": 40
        }
      ]
    },
    {
      "cell_type": "code",
      "metadata": {
        "colab": {
          "base_uri": "https://localhost:8080/",
          "height": 119
        },
        "id": "dqmRNuNTgvba",
        "outputId": "ef78e30a-61ef-4efb-b9a7-e6ac3f821fce"
      },
      "source": [
        "y"
      ],
      "execution_count": null,
      "outputs": [
        {
          "output_type": "execute_result",
          "data": {
            "text/plain": [
              "tensor([1, 0, 2, 2, 2, 2, 0, 1, 0, 1, 0, 2, 0, 0, 2, 1, 2, 2, 2, 0, 2, 1, 1, 2,\n",
              "        2, 1, 2, 1, 0, 2, 0, 1, 1, 2, 2, 2, 1, 2, 2, 2, 0, 0, 0, 1, 2, 2, 1, 1,\n",
              "        0, 0, 1, 0, 2, 1, 2, 0, 1, 0, 1, 1, 2, 0, 1, 1, 2, 0, 2, 1, 1, 1, 1, 0,\n",
              "        0, 0, 1, 0, 1, 1, 1, 0, 0, 1, 0, 1, 2, 0, 2, 2, 1, 0, 0, 1, 1, 0, 2, 1,\n",
              "        0, 0, 2, 1, 2, 0, 2, 1, 0, 1, 0, 2, 0, 1, 2, 0, 0, 2, 1, 1, 1, 0, 2, 1,\n",
              "        2, 0, 2, 0, 0, 2, 1, 2])"
            ]
          },
          "metadata": {
            "tags": []
          },
          "execution_count": 41
        }
      ]
    },
    {
      "cell_type": "code",
      "metadata": {
        "colab": {
          "base_uri": "https://localhost:8080/",
          "height": 34
        },
        "id": "LSRlYb43gvbb",
        "outputId": "255b5041-d1ec-4bc6-8892-f922c09fe023"
      },
      "source": [
        "# сделаем небольшую модель и посчитаем лосс\n",
        "\n",
        "model = torch.nn.Sequential(torch.nn.Linear(16, 8),\n",
        "                            torch.nn.ReLU(),\n",
        "                            torch.nn.Linear(8, 4),\n",
        "                            torch.nn.ReLU(),\n",
        "                            torch.nn.Linear(4, 3))\n",
        "\n",
        "criterion = torch.nn.CrossEntropyLoss()\n",
        "\n",
        "with torch.no_grad():\n",
        "\n",
        "    prediction = model(x.float())\n",
        "\n",
        "    loss = criterion(prediction, y)\n",
        "    \n",
        "loss.item()"
      ],
      "execution_count": null,
      "outputs": [
        {
          "output_type": "execute_result",
          "data": {
            "text/plain": [
              "1.109734058380127"
            ]
          },
          "metadata": {
            "tags": []
          },
          "execution_count": 42
        }
      ]
    },
    {
      "cell_type": "markdown",
      "metadata": {
        "id": "f8vWul5_gvbe"
      },
      "source": [
        "### Сделаем датасет для наших текстовых данных\n",
        "Будем отдавать строку и таргет по индексу"
      ]
    },
    {
      "cell_type": "code",
      "metadata": {
        "id": "UuTsmRUmgvbf"
      },
      "source": [
        "class TextClassificationDataset(Dataset):\n",
        "    \n",
        "    def __init__(self, texts, targets):\n",
        "        super().__init__()\n",
        "        \n",
        "        self.texts = texts\n",
        "        self.targets = targets\n",
        "        \n",
        "    def __len__(self):\n",
        "        return len(self.texts)\n",
        "    \n",
        "    def __getitem__(self, index):\n",
        "        \n",
        "        text = self.texts[index]\n",
        "        target = self.targets[index]\n",
        "        \n",
        "        return text, target"
      ],
      "execution_count": null,
      "outputs": []
    },
    {
      "cell_type": "code",
      "metadata": {
        "id": "hgNniQgpgvbg"
      },
      "source": [
        "# подготовим данные\n",
        "train_x = list(train.question)\n",
        "train_y = list(train.target)\n",
        "\n",
        "valid_x = list(valid.question)\n",
        "valid_y = list(valid.target)"
      ],
      "execution_count": null,
      "outputs": []
    },
    {
      "cell_type": "code",
      "metadata": {
        "id": "6aYvCajggvbi"
      },
      "source": [
        "train_dataset = TextClassificationDataset(texts=list(train.question), targets=list(train.target))"
      ],
      "execution_count": null,
      "outputs": []
    },
    {
      "cell_type": "code",
      "metadata": {
        "id": "amNTvxlXgvbj"
      },
      "source": [
        "# семплируем данные\n",
        "text, target = train_dataset[0]"
      ],
      "execution_count": null,
      "outputs": []
    },
    {
      "cell_type": "code",
      "metadata": {
        "colab": {
          "base_uri": "https://localhost:8080/",
          "height": 54
        },
        "id": "qwsRftzVgvbm",
        "outputId": "f0ca1cfd-8416-4cfc-a95e-b10c97b07ea1"
      },
      "source": [
        "text"
      ],
      "execution_count": null,
      "outputs": [
        {
          "output_type": "execute_result",
          "data": {
            "application/vnd.google.colaboratory.intrinsic+json": {
              "type": "string"
            },
            "text/plain": [
              "'i have been unable to get it to adhere to my tile wall for more then a few minutes before it falls down. has anyone been able to do this successfully?'"
            ]
          },
          "metadata": {
            "tags": []
          },
          "execution_count": 19
        }
      ]
    },
    {
      "cell_type": "code",
      "metadata": {
        "colab": {
          "base_uri": "https://localhost:8080/"
        },
        "id": "1qWwZoChgvbn",
        "outputId": "ecbeba43-883e-4564-a0d3-e622d817a88e"
      },
      "source": [
        "target"
      ],
      "execution_count": null,
      "outputs": [
        {
          "output_type": "execute_result",
          "data": {
            "text/plain": [
              "0"
            ]
          },
          "metadata": {
            "tags": []
          },
          "execution_count": 20
        }
      ]
    },
    {
      "cell_type": "markdown",
      "metadata": {
        "id": "9rT7XPr6gvbo"
      },
      "source": [
        "### Смысл обработчика\n",
        "Состоит в том, что нам нужно преобразовать наши данные в формат, который мы уже сможем передать в модель.\n",
        "Сейчас у нас строки, а торч ничего не знает про строки, ему нужны тензоры."
      ]
    },
    {
      "cell_type": "markdown",
      "metadata": {
        "id": "Z6LYe-P0gvbo"
      },
      "source": [
        "### Загружаем эмбеддинги\n",
        "Чтобы работать с текстовыми данными мы можем разбить наши строки на слова, а слова перевести в вектора. Откуда нам взять эти вектора?\n",
        "Мы говорили про такой метод как word2vec и в начале этой тетрадки загружали файл с этими самыми векторами."
      ]
    },
    {
      "cell_type": "code",
      "metadata": {
        "id": "xSZc4UHegvbp"
      },
      "source": [
        "import zipfile\n",
        "import numpy as np\n",
        "\n",
        "from tqdm import tqdm"
      ],
      "execution_count": null,
      "outputs": []
    },
    {
      "cell_type": "code",
      "metadata": {
        "id": "CjnsdvgNgvbq"
      },
      "source": [
        "def load_embeddings(zip_path, filename, pad_token='PAD', max_words=100_000, verbose=True):\n",
        "    \n",
        "    vocab = dict()\n",
        "    embeddings = list()\n",
        "\n",
        "    with zipfile.ZipFile(zip_path) as zipped_file:\n",
        "        with zipped_file.open(filename) as file_object:\n",
        "\n",
        "            vocab_size, embedding_dim = file_object.readline().decode('utf-8').strip().split()\n",
        "\n",
        "            vocab_size = int(vocab_size)\n",
        "            embedding_dim = int(embedding_dim)\n",
        "            \n",
        "            # в файле 1 000 000 слов с векторами, давайте ограничим для простоты этот словарь\n",
        "            max_words = vocab_size if max_words <= 0 else max_words\n",
        "            \n",
        "            # добавим пад токен и эмбеддинг в нашу матрицу эмбеддингов и словарь\n",
        "            vocab[pad_token] = len(vocab)\n",
        "            embeddings.append(np.zeros(embedding_dim))\n",
        "\n",
        "            progress_bar = tqdm(total=max_words, disable=not verbose)\n",
        "\n",
        "            for line in file_object:\n",
        "                parts = line.decode('utf-8').strip().split()\n",
        "\n",
        "                token = ' '.join(parts[:-embedding_dim]).lower()\n",
        "                \n",
        "                if token in vocab:\n",
        "                    continue\n",
        "                \n",
        "                word_vector = np.array(list(map(float, parts[-embedding_dim:])))\n",
        "\n",
        "                vocab[token] = len(vocab)\n",
        "                embeddings.append(word_vector)\n",
        "\n",
        "                progress_bar.update()\n",
        "                \n",
        "                if len(vocab) == max_words:\n",
        "                    break\n",
        "\n",
        "            progress_bar.close()\n",
        "\n",
        "    embeddings = np.stack(embeddings)\n",
        "    \n",
        "    return vocab, embeddings"
      ],
      "execution_count": null,
      "outputs": []
    },
    {
      "cell_type": "code",
      "metadata": {
        "colab": {
          "base_uri": "https://localhost:8080/"
        },
        "id": "IwJT_tISgvbt",
        "scrolled": true,
        "outputId": "5b8f5b1b-9ee4-4568-b407-928f5e20539c"
      },
      "source": [
        "vocab, embeddings = load_embeddings('./wiki-news-300d-1M.vec.zip', 'wiki-news-300d-1M.vec', max_words=100_000)"
      ],
      "execution_count": null,
      "outputs": [
        {
          "output_type": "stream",
          "text": [
            "100%|█████████▉| 99999/100000 [00:10<00:00, 9372.94it/s]\n"
          ],
          "name": "stderr"
        }
      ]
    },
    {
      "cell_type": "markdown",
      "metadata": {
        "id": "V5tTddSFgvbu"
      },
      "source": [
        "### Посмотрим на ближайших соседей слова по эмбеддингам"
      ]
    },
    {
      "cell_type": "code",
      "metadata": {
        "id": "urNmknPigvbv"
      },
      "source": [
        "index2token = {index: token for token, index in vocab.items()}"
      ],
      "execution_count": null,
      "outputs": []
    },
    {
      "cell_type": "code",
      "metadata": {
        "id": "c0PBNaYdgvbw"
      },
      "source": [
        "emb_norms = np.linalg.norm(embeddings, axis=1)"
      ],
      "execution_count": null,
      "outputs": []
    },
    {
      "cell_type": "code",
      "metadata": {
        "id": "MENASKfLgvby"
      },
      "source": [
        "def get_k_nearest_neighbors(word, embeddings, emb_norms, vocab, index2token, k=5):\n",
        "    \n",
        "    if word not in vocab:\n",
        "        print('Not in vocab')\n",
        "        return\n",
        "    \n",
        "    word_index = vocab[word]\n",
        "\n",
        "    word_vector = embeddings[word_index]\n",
        "    word_vector = np.expand_dims(word_vector, 0)\n",
        "\n",
        "    scores = (word_vector @ embeddings.T)[0]\n",
        "    \n",
        "    # переводим в косинусы, поделив на нормы векторов\n",
        "    # эпсилон 1e-6 для того, чтобы не делить на 0\n",
        "    scores = scores / (emb_norms + 1e-6) / emb_norms[word_index]\n",
        "    \n",
        "    # 1:k+1 потому что первый вариант это само слово\n",
        "    for idx in scores.argsort()[::-1][1:k+1]:\n",
        "        print(f'Слово {index2token[idx]} близко на {scores[idx]:.2f} к слову {word}')"
      ],
      "execution_count": null,
      "outputs": []
    },
    {
      "cell_type": "code",
      "metadata": {
        "colab": {
          "base_uri": "https://localhost:8080/"
        },
        "id": "u5_bNR1Rgvbz",
        "outputId": "2abe3597-8709-4d1c-d867-a6950c13f27d"
      },
      "source": [
        "get_k_nearest_neighbors('anna', embeddings, emb_norms, vocab, index2token)"
      ],
      "execution_count": null,
      "outputs": [
        {
          "output_type": "stream",
          "text": [
            "Слово maria близко на 0.73 к слову anna\n",
            "Слово emma близко на 0.66 к слову anna\n",
            "Слово kristina близко на 0.65 к слову anna\n",
            "Слово laura близко на 0.65 к слову anna\n",
            "Слово emily близко на 0.65 к слову anna\n"
          ],
          "name": "stdout"
        }
      ]
    },
    {
      "cell_type": "code",
      "metadata": {
        "colab": {
          "base_uri": "https://localhost:8080/"
        },
        "id": "hq7t6geEgvb1",
        "outputId": "594f3635-b550-4670-a4a7-99d2c4ddc1cf"
      },
      "source": [
        "get_k_nearest_neighbors('mom', embeddings, emb_norms, vocab, index2token)"
      ],
      "execution_count": null,
      "outputs": [
        {
          "output_type": "stream",
          "text": [
            "Слово dad близко на 0.85 к слову mom\n",
            "Слово mum близко на 0.78 к слову mom\n",
            "Слово mother близко на 0.76 к слову mom\n",
            "Слово moms близко на 0.75 к слову mom\n",
            "Слово kid близко на 0.68 к слову mom\n"
          ],
          "name": "stdout"
        }
      ]
    },
    {
      "cell_type": "code",
      "metadata": {
        "colab": {
          "base_uri": "https://localhost:8080/",
          "height": 102
        },
        "id": "d3YjNy1Cgvb3",
        "outputId": "a4aa7e6f-6963-4b98-88a4-60c17932780c"
      },
      "source": [
        "get_k_nearest_neighbors('have', embeddings, emb_norms, vocab, index2token)"
      ],
      "execution_count": null,
      "outputs": [
        {
          "output_type": "stream",
          "text": [
            "Слово has близко на 0.78 к слову have\n",
            "Слово been близко на 0.75 к слову have\n",
            "Слово 've близко на 0.75 к слову have\n",
            "Слово had близко на 0.74 к слову have\n",
            "Слово ahve близко на 0.74 к слову have\n"
          ],
          "name": "stdout"
        }
      ]
    },
    {
      "cell_type": "code",
      "metadata": {
        "colab": {
          "base_uri": "https://localhost:8080/",
          "height": 102
        },
        "id": "LlmMWyktgvb4",
        "outputId": "26a6d3ac-3b8e-4b97-b1c6-2258166a2bc6"
      },
      "source": [
        "get_k_nearest_neighbors('money', embeddings, emb_norms, vocab, index2token)"
      ],
      "execution_count": null,
      "outputs": [
        {
          "output_type": "stream",
          "text": [
            "Слово cash близко на 0.72 к слову money\n",
            "Слово funds близко на 0.72 к слову money\n",
            "Слово monies близко на 0.72 к слову money\n",
            "Слово moneys близко на 0.67 к слову money\n",
            "Слово dosh близко на 0.63 к слову money\n"
          ],
          "name": "stdout"
        }
      ]
    },
    {
      "cell_type": "code",
      "metadata": {
        "colab": {
          "base_uri": "https://localhost:8080/",
          "height": 102
        },
        "id": "EpmyzTyvgvb6",
        "outputId": "a2299006-0960-4bde-dd4e-96ff189898e9"
      },
      "source": [
        "get_k_nearest_neighbors('music', embeddings, emb_norms, vocab, index2token)"
      ],
      "execution_count": null,
      "outputs": [
        {
          "output_type": "stream",
          "text": [
            "Слово musical близко на 0.71 к слову music\n",
            "Слово songs близко на 0.69 к слову music\n",
            "Слово tunes близко на 0.69 к слову music\n",
            "Слово musics близко на 0.68 к слову music\n",
            "Слово composer близко на 0.68 к слову music\n"
          ],
          "name": "stdout"
        }
      ]
    },
    {
      "cell_type": "markdown",
      "metadata": {
        "id": "WoCMxikYgvb7"
      },
      "source": [
        "### Выбор метода токенизации\n",
        "У нас сейчас есть маппинг, что некоторому слову соответствует некоторый эмбеддинг этого слова.\n",
        "Токенизация - процесс разбиения текста на токены, то есть части этого текста.   \n",
        "Чем \"слово\" отличается от \"токена\": токен это более обобщенное понятие, то есть, например, цифра это токен"
      ]
    },
    {
      "cell_type": "code",
      "metadata": {
        "colab": {
          "base_uri": "https://localhost:8080/"
        },
        "id": "ipB5j50vgvb7",
        "outputId": "34306ab3-6991-4142-b389-f555345a39e8"
      },
      "source": [
        "# про различия подробнее можно найти, например, здесь\n",
        "# https://stackoverflow.com/questions/50240029/nltk-wordpunct-tokenize-vs-word-tokenize\n",
        "import nltk\n",
        "from nltk.tokenize import word_tokenize, wordpunct_tokenize\n",
        "nltk.download('punkt')"
      ],
      "execution_count": null,
      "outputs": [
        {
          "output_type": "stream",
          "text": [
            "[nltk_data] Downloading package punkt to /root/nltk_data...\n",
            "[nltk_data]   Unzipping tokenizers/punkt.zip.\n"
          ],
          "name": "stdout"
        },
        {
          "output_type": "execute_result",
          "data": {
            "text/plain": [
              "True"
            ]
          },
          "metadata": {
            "tags": []
          },
          "execution_count": 20
        }
      ]
    },
    {
      "cell_type": "code",
      "metadata": {
        "colab": {
          "base_uri": "https://localhost:8080/"
        },
        "id": "ktlGI-sxgvb-",
        "outputId": "0de70c23-110b-4d7e-e32b-b3ebfd1a7a7d"
      },
      "source": [
        "total_n_words = 0\n",
        "unknown_words = list()\n",
        "\n",
        "for sample in tqdm(train_x):\n",
        "    # токенизация по пробелу\n",
        "    tokens = sample.split()\n",
        "    \n",
        "    for tok in tokens:\n",
        "        # проверяем есть ли токен в нашем словаре\n",
        "        if tok not in vocab:\n",
        "            unknown_words.append(tok)\n",
        "            \n",
        "        total_n_words += 1\n",
        "        \n",
        "print(f'Мы не знаем {len(unknown_words)} слов из {total_n_words} слов в датасете')\n",
        "print(f'Что составляет {len(unknown_words) * 100 / total_n_words:.2f}% датасета')\n",
        "print()\n",
        "print(f'Уникальных неизвестных слов: {len(set(unknown_words))}')"
      ],
      "execution_count": null,
      "outputs": [
        {
          "output_type": "stream",
          "text": [
            "100%|██████████| 250000/250000 [00:01<00:00, 192716.28it/s]"
          ],
          "name": "stderr"
        },
        {
          "output_type": "stream",
          "text": [
            "Мы не знаем 512297 слов из 3601571 слов в датасете\n",
            "Что составляет 14.22% датасета\n",
            "\n",
            "Уникальных неизвестных слов: 119225\n"
          ],
          "name": "stdout"
        },
        {
          "output_type": "stream",
          "text": [
            "\n"
          ],
          "name": "stderr"
        }
      ]
    },
    {
      "cell_type": "code",
      "metadata": {
        "colab": {
          "base_uri": "https://localhost:8080/"
        },
        "id": "CkFsp0RwgvcA",
        "outputId": "7e81b7e4-4247-4ea8-a3d2-5187942edfca"
      },
      "source": [
        "total_n_words = 0\n",
        "unknown_words = list()\n",
        "\n",
        "for sample in tqdm(train_x):\n",
        "    # токенизация\n",
        "    tokens = wordpunct_tokenize(sample)\n",
        "    \n",
        "    for tok in tokens:\n",
        "        # проверяем есть ли токен в нашем словаре\n",
        "        if tok not in vocab:\n",
        "            unknown_words.append(tok)\n",
        "            \n",
        "        total_n_words += 1\n",
        "        \n",
        "print(f'Мы не знаем {len(unknown_words)} слов из {total_n_words} слов в датасете')\n",
        "print(f'Что составляет {len(unknown_words) * 100 / total_n_words:.2f}% датасета')\n",
        "print()\n",
        "print(f'Уникальных неизвестных слов: {len(set(unknown_words))}')"
      ],
      "execution_count": null,
      "outputs": [
        {
          "output_type": "stream",
          "text": [
            "100%|██████████| 250000/250000 [00:02<00:00, 115281.63it/s]"
          ],
          "name": "stderr"
        },
        {
          "output_type": "stream",
          "text": [
            "Мы не знаем 110799 слов из 4198140 слов в датасете\n",
            "Что составляет 2.64% датасета\n",
            "\n",
            "Уникальных неизвестных слов: 36179\n"
          ],
          "name": "stdout"
        },
        {
          "output_type": "stream",
          "text": [
            "\n"
          ],
          "name": "stderr"
        }
      ]
    },
    {
      "cell_type": "code",
      "metadata": {
        "colab": {
          "base_uri": "https://localhost:8080/"
        },
        "id": "u5B7t6rvgvcB",
        "outputId": "4e24eb22-3254-4f91-8152-4e50c5044c64"
      },
      "source": [
        "total_n_words = 0\n",
        "unknown_words = list()\n",
        "\n",
        "for sample in tqdm(train_x):\n",
        "    # токенизация\n",
        "    tokens = word_tokenize(sample)\n",
        "    \n",
        "    for tok in tokens:\n",
        "        # проверяем есть ли токен в нашем словаре\n",
        "        if tok not in vocab:\n",
        "            unknown_words.append(tok)\n",
        "            \n",
        "        total_n_words += 1\n",
        "        \n",
        "print(f'Мы не знаем {len(unknown_words)} слов из {total_n_words} слов в датасете')\n",
        "print(f'Что составляет {len(unknown_words) * 100 / total_n_words:.2f}% датасета')\n",
        "print()\n",
        "print(f'Уникальных неизвестных слов: {len(set(unknown_words))}')"
      ],
      "execution_count": null,
      "outputs": [
        {
          "output_type": "stream",
          "text": [
            "100%|██████████| 250000/250000 [00:42<00:00, 5874.77it/s]"
          ],
          "name": "stderr"
        },
        {
          "output_type": "stream",
          "text": [
            "Мы не знаем 151742 слов из 4098380 слов в датасете\n",
            "Что составляет 3.70% датасета\n",
            "\n",
            "Уникальных неизвестных слов: 54213\n"
          ],
          "name": "stdout"
        },
        {
          "output_type": "stream",
          "text": [
            "\n"
          ],
          "name": "stderr"
        }
      ]
    },
    {
      "cell_type": "markdown",
      "metadata": {
        "id": "EKpVbJ_7gvcD"
      },
      "source": [
        "### Результаты\n",
        "- Скорость у word_tokenize сильно ниже, чем у wordpunct_tokenize\n",
        "- Используя word_tokenize, мы теряем примерно 1% информации из датасета по сравнению с wordpunct_tokenize\n",
        "\n",
        "### Выбор очевиден в сторону wordpunct_tokenize"
      ]
    },
    {
      "cell_type": "code",
      "metadata": {
        "id": "5HjSXlPpgvcD"
      },
      "source": [
        "class TextClassificationDataset(Dataset):\n",
        "    \n",
        "    def __init__(self, texts, targets, vocab):\n",
        "        super().__init__()\n",
        "        \n",
        "        self.texts = texts\n",
        "        self.targets = targets\n",
        "        self.vocab = vocab\n",
        "        \n",
        "    def __len__(self):\n",
        "        return len(self.texts)\n",
        "    \n",
        "    def tokenization(self, text):\n",
        "        \n",
        "        tokens = wordpunct_tokenize(text)\n",
        "        \n",
        "        token_indices = [self.vocab[tok] for tok in tokens if tok in self.vocab]\n",
        "        \n",
        "        return token_indices\n",
        "    \n",
        "    def __getitem__(self, index):\n",
        "        \n",
        "        text = self.texts[index]        \n",
        "        target = self.targets[index]\n",
        "        \n",
        "        tokenized_text = self.tokenization(text)\n",
        "        \n",
        "        # переведем наши индексы токенов в торчовый тензор\n",
        "        # таргет переведется самостоятельно\n",
        "        tokenized_text = torch.tensor(tokenized_text)\n",
        "        \n",
        "        return tokenized_text, target"
      ],
      "execution_count": null,
      "outputs": []
    },
    {
      "cell_type": "code",
      "metadata": {
        "id": "y8-AZHp8gvcF"
      },
      "source": [
        "train_dataset = TextClassificationDataset(texts=train_x, targets=train_y, vocab=vocab)"
      ],
      "execution_count": null,
      "outputs": []
    },
    {
      "cell_type": "code",
      "metadata": {
        "id": "DsyfvsmPgvcG"
      },
      "source": [
        "x, y = train_dataset[5]"
      ],
      "execution_count": null,
      "outputs": []
    },
    {
      "cell_type": "code",
      "metadata": {
        "colab": {
          "base_uri": "https://localhost:8080/"
        },
        "id": "9mhpmibfgvcH",
        "outputId": "f13070a6-c170-4524-f8a9-8fd0c46fcbb9"
      },
      "source": [
        "x"
      ],
      "execution_count": null,
      "outputs": [
        {
          "output_type": "execute_result",
          "data": {
            "text/plain": [
              "tensor([   96,     5, 18007,   327,     1,    14,    29,   784,   948,    31,\n",
              "         6839,     7,     8,  1531,    12,  1570,  2102,  7313,    21, 16032,\n",
              "           37])"
            ]
          },
          "metadata": {
            "tags": []
          },
          "execution_count": 24
        }
      ]
    },
    {
      "cell_type": "code",
      "metadata": {
        "colab": {
          "base_uri": "https://localhost:8080/"
        },
        "id": "nhWKgT6hgvcI",
        "outputId": "c86d6d2e-29df-4e87-be56-895cec4ecc67"
      },
      "source": [
        "y"
      ],
      "execution_count": null,
      "outputs": [
        {
          "output_type": "execute_result",
          "data": {
            "text/plain": [
              "0"
            ]
          },
          "metadata": {
            "tags": []
          },
          "execution_count": 25
        }
      ]
    },
    {
      "cell_type": "code",
      "metadata": {
        "id": "X343oCSlgvcK",
        "colab": {
          "base_uri": "https://localhost:8080/"
        },
        "outputId": "c4f04813-f690-4e28-e270-d436dbac711c"
      },
      "source": [
        "# мы можем восстановить текст обратно по индексам слов\n",
        "[index2token[idx.item()] for idx in x]"
      ],
      "execution_count": null,
      "outputs": [
        {
          "output_type": "execute_result",
          "data": {
            "text/plain": [
              "['because',\n",
              " 'of',\n",
              " 'allergy',\n",
              " 'issues',\n",
              " ',',\n",
              " 'is',\n",
              " 'this',\n",
              " 'product',\n",
              " 'produced',\n",
              " '/',\n",
              " 'processed',\n",
              " 'in',\n",
              " 'a',\n",
              " 'facility',\n",
              " 'that',\n",
              " 'processes',\n",
              " 'tree',\n",
              " 'nuts',\n",
              " 'or',\n",
              " 'peanuts',\n",
              " '?']"
            ]
          },
          "metadata": {
            "tags": []
          },
          "execution_count": 26
        }
      ]
    },
    {
      "cell_type": "markdown",
      "metadata": {
        "id": "25ZCGq5wgvcM"
      },
      "source": [
        "### У нас остается проблема разных длин текстов\n",
        "Чтобы поместить батч текстов в один тензор нам нужны одинаковые длины"
      ]
    },
    {
      "cell_type": "code",
      "metadata": {
        "id": "lVndBSDZgvcM"
      },
      "source": [
        "## это не отработает, можете раскомментировать и проверить\n",
        "\n",
        "# x = [\n",
        "#     [1, 2, 3],\n",
        "#     [1, 2, 3, 4, 5],\n",
        "#     [1, 2, 3, 4, 5, 6, 7]\n",
        "# ]\n",
        "\n",
        "# torch.tensor(x), torch.tensor(x).shape"
      ],
      "execution_count": null,
      "outputs": []
    },
    {
      "cell_type": "code",
      "metadata": {
        "colab": {
          "base_uri": "https://localhost:8080/",
          "height": 68
        },
        "id": "SFlRjMirgvcO",
        "outputId": "dc429311-4a46-4f80-9111-122e5fc96d3a"
      },
      "source": [
        "# это сработает\n",
        "\n",
        "x = [\n",
        "    [1, 2, 3, 0, 0, 0, 0],\n",
        "    [1, 2, 3, 4, 5, 0, 0],\n",
        "    [1, 2, 3, 4, 5, 6, 7]\n",
        "]\n",
        "\n",
        "torch.tensor(x), torch.tensor(x).shape"
      ],
      "execution_count": null,
      "outputs": [
        {
          "output_type": "execute_result",
          "data": {
            "text/plain": [
              "(tensor([[1, 2, 3, 0, 0, 0, 0],\n",
              "         [1, 2, 3, 4, 5, 0, 0],\n",
              "         [1, 2, 3, 4, 5, 6, 7]]), torch.Size([3, 7]))"
            ]
          },
          "metadata": {
            "tags": []
          },
          "execution_count": 72
        }
      ]
    },
    {
      "cell_type": "markdown",
      "metadata": {
        "id": "YViFySNJgvcP"
      },
      "source": [
        "### Длина текста\n",
        "Нам нужно понять до какой длины нам падить каждый наш пример. \n",
        "Мы можем найти в наших данных максимальную длину примера в токенах и падить до этой длины, но у этого подхода есть минус:\n",
        "у нас могут быть несколько текстов с аномально большой длиной, то есть некоторые выбросы.  \n",
        "\n",
        "В таком случае нам легче ограничить длину этих текстов до определенной статистики по нашему датасет, то есть, например, 95% наших текстов\n",
        "длиной в 25 слов и нам этого достаточно. То есть мы ограничимся этой длиной, потому что почти весь датасет влезает в эту длину\n",
        "и нам не нужно будет падить до большой длины.\n",
        "\n",
        "Паддинг нужен нам для того, чтобы мы могли поместить разные примеры в один батч, но мы не хотим учитывать эти токены, то есть \n",
        "по сути это будут холостые прогоны и за счет этого компромисса, что бОльшая часть датасета не больше n слов мы можем оптимизировать \n",
        "наше обучение.\n",
        "\n",
        "<br>\n",
        "\n",
        "\n",
        "> Почему бы нам просто не выкинуть эти длинные тексты?\n",
        "\n",
        "Дело в том, что мы хотим прийти к некоторому компромиссу между максимальной длиной и потерей информации. Если мы возьмем 95-й перцинтиль наших длин (то есть 95% наших текстов не больше n), то, выкинув остальные 5%, мы потеряем существенную часть примеров.\n",
        "С другой стороны может показаться неправильным ограничение длины и это действительно может сломать смысл примеры, но зачастую этим \n",
        "принебрегают."
      ]
    },
    {
      "cell_type": "code",
      "metadata": {
        "colab": {
          "base_uri": "https://localhost:8080/"
        },
        "id": "6-cnv9w7gvcP",
        "outputId": "d0ebc049-deff-4b96-b25f-76c8ad311a44"
      },
      "source": [
        "train_lengths = [len(wordpunct_tokenize(sample)) for sample in tqdm(train_x)]"
      ],
      "execution_count": null,
      "outputs": [
        {
          "output_type": "stream",
          "text": [
            "100%|██████████| 250000/250000 [00:01<00:00, 194594.90it/s]\n"
          ],
          "name": "stderr"
        }
      ]
    },
    {
      "cell_type": "code",
      "metadata": {
        "colab": {
          "base_uri": "https://localhost:8080/",
          "height": 336
        },
        "id": "_PDeUVspgvcR",
        "outputId": "7ce328fb-841f-4d05-f8a3-c5dd45462e3b"
      },
      "source": [
        "sns.distplot(train_lengths)"
      ],
      "execution_count": null,
      "outputs": [
        {
          "output_type": "stream",
          "text": [
            "/usr/local/lib/python3.6/dist-packages/seaborn/distributions.py:2551: FutureWarning: `distplot` is a deprecated function and will be removed in a future version. Please adapt your code to use either `displot` (a figure-level function with similar flexibility) or `histplot` (an axes-level function for histograms).\n",
            "  warnings.warn(msg, FutureWarning)\n"
          ],
          "name": "stderr"
        },
        {
          "output_type": "execute_result",
          "data": {
            "text/plain": [
              "<matplotlib.axes._subplots.AxesSubplot at 0x7f272f8a06d8>"
            ]
          },
          "metadata": {
            "tags": []
          },
          "execution_count": 74
        },
        {
          "output_type": "display_data",
          "data": {
            "image/png": "[encoded data removed]",
            "text/plain": [
              "<Figure size 432x288 with 1 Axes>"
            ]
          },
          "metadata": {
            "tags": []
          }
        }
      ]
    },
    {
      "cell_type": "code",
      "metadata": {
        "colab": {
          "base_uri": "https://localhost:8080/"
        },
        "id": "NpNPKSSpgvcS",
        "outputId": "ceca98c1-831b-47ec-fcdf-20c84f5d1f80"
      },
      "source": [
        "# видим большие выбросы в данных\n",
        "# 97% наших текстов не больше вот стольки токенов\n",
        "np.percentile(train_lengths, 95)"
      ],
      "execution_count": null,
      "outputs": [
        {
          "output_type": "execute_result",
          "data": {
            "text/plain": [
              "34.0"
            ]
          },
          "metadata": {
            "tags": []
          },
          "execution_count": 33
        }
      ]
    },
    {
      "cell_type": "code",
      "metadata": {
        "id": "B3vyFNvOgvcT"
      },
      "source": [
        "class TextClassificationDataset(Dataset):\n",
        "    \n",
        "    def __init__(self, texts, targets, vocab, pad_index=0, max_length=32):\n",
        "        super().__init__()\n",
        "        \n",
        "        self.texts = texts\n",
        "        self.targets = targets\n",
        "        self.vocab = vocab\n",
        "        \n",
        "        self.pad_index = pad_index\n",
        "        self.max_length = max_length\n",
        "        \n",
        "    def __len__(self):\n",
        "        return len(self.texts)\n",
        "    \n",
        "    def tokenization(self, text):\n",
        "        \n",
        "        tokens = wordpunct_tokenize(text)\n",
        "        \n",
        "        token_indices = [self.vocab[tok] for tok in tokens if tok in self.vocab]\n",
        "        \n",
        "        return token_indices\n",
        "    \n",
        "    def padding(self, tokenized_text):\n",
        "        \n",
        "        tokenized_text = tokenized_text[:self.max_length]\n",
        "        \n",
        "        tokenized_text += [self.pad_index] * (self.max_length - len(tokenized_text))\n",
        "        \n",
        "        return tokenized_text\n",
        "    \n",
        "    def __getitem__(self, index):\n",
        "        \n",
        "        text = self.texts[index]        \n",
        "        target = self.targets[index]\n",
        "        \n",
        "        tokenized_text = self.tokenization(text)\n",
        "        tokenized_text = self.padding(tokenized_text)\n",
        "        \n",
        "        tokenized_text = torch.tensor(tokenized_text)\n",
        "        \n",
        "        return tokenized_text, target"
      ],
      "execution_count": null,
      "outputs": []
    },
    {
      "cell_type": "code",
      "metadata": {
        "id": "LLi6wjcvgvcU"
      },
      "source": [
        "train_dataset = TextClassificationDataset(texts=train_x, targets=train_y, vocab=vocab)"
      ],
      "execution_count": null,
      "outputs": []
    },
    {
      "cell_type": "code",
      "metadata": {
        "colab": {
          "base_uri": "https://localhost:8080/"
        },
        "id": "Z0qNkHfZgvcV",
        "outputId": "5ff58e36-3737-4969-85a9-bd35da15e34b"
      },
      "source": [
        "x, y = train_dataset[0]\n",
        "x"
      ],
      "execution_count": null,
      "outputs": [
        {
          "output_type": "execute_result",
          "data": {
            "text/plain": [
              "tensor([   55,    29,    98,    15,     8,   273, 24452,     0,     0,     0,\n",
              "            0,     0,     0,     0,     0,     0,     0,     0,     0,     0,\n",
              "            0,     0,     0,     0,     0,     0,     0,     0,     0,     0,\n",
              "            0,     0])"
            ]
          },
          "metadata": {
            "tags": []
          },
          "execution_count": 29
        }
      ]
    },
    {
      "cell_type": "code",
      "metadata": {
        "colab": {
          "base_uri": "https://localhost:8080/"
        },
        "id": "l0EmL4sMgvcW",
        "outputId": "e37fbdde-a604-4ffd-ddee-0c1c063015db"
      },
      "source": [
        "[index2token[idx.item()] for idx in x]"
      ],
      "execution_count": null,
      "outputs": [
        {
          "output_type": "execute_result",
          "data": {
            "text/plain": [
              "['will',\n",
              " 'this',\n",
              " 'work',\n",
              " 'for',\n",
              " 'a',\n",
              " '2012',\n",
              " 'forrester',\n",
              " 'PAD',\n",
              " 'PAD',\n",
              " 'PAD',\n",
              " 'PAD',\n",
              " 'PAD',\n",
              " 'PAD',\n",
              " 'PAD',\n",
              " 'PAD',\n",
              " 'PAD',\n",
              " 'PAD',\n",
              " 'PAD',\n",
              " 'PAD',\n",
              " 'PAD',\n",
              " 'PAD',\n",
              " 'PAD',\n",
              " 'PAD',\n",
              " 'PAD',\n",
              " 'PAD',\n",
              " 'PAD',\n",
              " 'PAD',\n",
              " 'PAD',\n",
              " 'PAD',\n",
              " 'PAD',\n",
              " 'PAD',\n",
              " 'PAD']"
            ]
          },
          "metadata": {
            "tags": []
          },
          "execution_count": 30
        }
      ]
    },
    {
      "cell_type": "code",
      "metadata": {
        "id": "sQjsTc8-gvcY"
      },
      "source": [
        "train_dataset = TextClassificationDataset(texts=train_x, targets=train_y, vocab=vocab)\n",
        "valid_dataset = TextClassificationDataset(texts=valid_x, targets=valid_y, vocab=vocab)\n",
        "\n",
        "train_loader = DataLoader(train_dataset, batch_size=128)\n",
        "valid_loader = DataLoader(valid_dataset, batch_size=128)"
      ],
      "execution_count": null,
      "outputs": []
    },
    {
      "cell_type": "code",
      "metadata": {
        "id": "1gdlEY9Hgvca"
      },
      "source": [
        "for x, y in train_loader:\n",
        "    break"
      ],
      "execution_count": null,
      "outputs": []
    },
    {
      "cell_type": "code",
      "metadata": {
        "colab": {
          "base_uri": "https://localhost:8080/"
        },
        "id": "cyjjPJG7gvcd",
        "outputId": "70341ef0-2f11-4bae-ec25-0e9db48ab8c3"
      },
      "source": [
        "x.shape, y.shape"
      ],
      "execution_count": null,
      "outputs": [
        {
          "output_type": "execute_result",
          "data": {
            "text/plain": [
              "(torch.Size([128, 32]), torch.Size([128]))"
            ]
          },
          "metadata": {
            "tags": []
          },
          "execution_count": 30
        }
      ]
    },
    {
      "cell_type": "markdown",
      "metadata": {
        "id": "XdZskaNtgvce"
      },
      "source": [
        "### Как мы можем задавать слои"
      ]
    },
    {
      "cell_type": "code",
      "metadata": {
        "id": "RDjBO7jZgvce"
      },
      "source": [
        "from torch import nn"
      ],
      "execution_count": null,
      "outputs": []
    },
    {
      "cell_type": "code",
      "metadata": {
        "id": "Dy-aPw35gvcg"
      },
      "source": [
        "embedding_layer = nn.Embedding(num_embeddings=len(vocab), \n",
        "                               embedding_dim=embeddings.shape[-1],\n",
        "                               padding_idx=0)"
      ],
      "execution_count": null,
      "outputs": []
    },
    {
      "cell_type": "code",
      "metadata": {
        "id": "EejBYE47gvch"
      },
      "source": [
        "x_embed = embedding_layer(x)"
      ],
      "execution_count": null,
      "outputs": []
    },
    {
      "cell_type": "code",
      "metadata": {
        "colab": {
          "base_uri": "https://localhost:8080/"
        },
        "id": "XekxgoGBgvci",
        "outputId": "a5ef215c-6140-44d6-885f-d1a959d1e4f7"
      },
      "source": [
        "x_embed"
      ],
      "execution_count": null,
      "outputs": [
        {
          "output_type": "execute_result",
          "data": {
            "text/plain": [
              "tensor([[[-0.7888,  0.0538,  0.7827,  ...,  0.0631, -0.2181, -0.7005],\n",
              "         [ 0.2310,  0.1053, -0.5431,  ..., -1.6160, -1.0184, -0.9869],\n",
              "         [ 0.7572,  0.4440, -0.4680,  ..., -1.7008,  1.6850, -0.7056],\n",
              "         ...,\n",
              "         [ 0.0000,  0.0000,  0.0000,  ...,  0.0000,  0.0000,  0.0000],\n",
              "         [ 0.0000,  0.0000,  0.0000,  ...,  0.0000,  0.0000,  0.0000],\n",
              "         [ 0.0000,  0.0000,  0.0000,  ...,  0.0000,  0.0000,  0.0000]],\n",
              "\n",
              "        [[-1.5577, -0.1420,  0.0814,  ..., -0.6042, -0.4391, -0.7208],\n",
              "         [ 0.0509,  0.0791,  0.0914,  ..., -0.0962,  0.8209,  0.4767],\n",
              "         [-0.1918, -1.9683,  0.7688,  ...,  0.7163, -1.4591,  1.5034],\n",
              "         ...,\n",
              "         [ 0.0000,  0.0000,  0.0000,  ...,  0.0000,  0.0000,  0.0000],\n",
              "         [ 0.0000,  0.0000,  0.0000,  ...,  0.0000,  0.0000,  0.0000],\n",
              "         [ 0.0000,  0.0000,  0.0000,  ...,  0.0000,  0.0000,  0.0000]],\n",
              "\n",
              "        [[ 0.5636, -1.4122, -0.3589,  ...,  0.5257, -0.2783,  1.0855],\n",
              "         [ 0.9529, -1.0963, -0.2895,  ..., -1.3143,  1.7594, -1.3481],\n",
              "         [ 0.3210,  1.2203, -0.6134,  ...,  0.2395, -0.7594,  1.1428],\n",
              "         ...,\n",
              "         [ 0.0000,  0.0000,  0.0000,  ...,  0.0000,  0.0000,  0.0000],\n",
              "         [ 0.0000,  0.0000,  0.0000,  ...,  0.0000,  0.0000,  0.0000],\n",
              "         [ 0.0000,  0.0000,  0.0000,  ...,  0.0000,  0.0000,  0.0000]],\n",
              "\n",
              "        ...,\n",
              "\n",
              "        [[-0.2511,  0.0091,  0.8866,  ..., -1.3402,  1.1393,  1.0881],\n",
              "         [ 0.9529, -1.0963, -0.2895,  ..., -1.3143,  1.7594, -1.3481],\n",
              "         [ 0.8061,  0.9493, -0.2750,  ..., -0.1900,  0.3428, -1.1725],\n",
              "         ...,\n",
              "         [ 0.0000,  0.0000,  0.0000,  ...,  0.0000,  0.0000,  0.0000],\n",
              "         [ 0.0000,  0.0000,  0.0000,  ...,  0.0000,  0.0000,  0.0000],\n",
              "         [ 0.0000,  0.0000,  0.0000,  ...,  0.0000,  0.0000,  0.0000]],\n",
              "\n",
              "        [[-0.3424, -1.0482,  1.0116,  ...,  0.1204, -0.4243, -0.0632],\n",
              "         [-0.3596,  0.4170,  2.1798,  ..., -0.2039,  1.1485,  0.2965],\n",
              "         [-1.4570,  0.9123, -0.9782,  ...,  0.8983,  1.2066, -0.3203],\n",
              "         ...,\n",
              "         [ 0.0000,  0.0000,  0.0000,  ...,  0.0000,  0.0000,  0.0000],\n",
              "         [ 0.0000,  0.0000,  0.0000,  ...,  0.0000,  0.0000,  0.0000],\n",
              "         [ 0.0000,  0.0000,  0.0000,  ...,  0.0000,  0.0000,  0.0000]],\n",
              "\n",
              "        [[ 1.0338, -0.1425,  0.6015,  ...,  1.2923, -2.2961,  0.8479],\n",
              "         [-0.2165,  0.7319,  0.4028,  ..., -0.4526,  0.2820,  0.0500],\n",
              "         [-0.7118,  0.3556, -1.1486,  ...,  0.5318,  0.9461,  0.9187],\n",
              "         ...,\n",
              "         [ 0.0000,  0.0000,  0.0000,  ...,  0.0000,  0.0000,  0.0000],\n",
              "         [ 0.0000,  0.0000,  0.0000,  ...,  0.0000,  0.0000,  0.0000],\n",
              "         [ 0.0000,  0.0000,  0.0000,  ...,  0.0000,  0.0000,  0.0000]]],\n",
              "       grad_fn=<EmbeddingBackward>)"
            ]
          },
          "metadata": {
            "tags": []
          },
          "execution_count": 81
        }
      ]
    },
    {
      "cell_type": "code",
      "metadata": {
        "colab": {
          "base_uri": "https://localhost:8080/"
        },
        "id": "Qr2h9Bibgvcm",
        "outputId": "ac4c3cc1-571f-44a1-8b82-60d20f9ceea0"
      },
      "source": [
        "x_embed.shape"
      ],
      "execution_count": null,
      "outputs": [
        {
          "output_type": "execute_result",
          "data": {
            "text/plain": [
              "torch.Size([128, 32, 300])"
            ]
          },
          "metadata": {
            "tags": []
          },
          "execution_count": 82
        }
      ]
    },
    {
      "cell_type": "markdown",
      "metadata": {
        "id": "Uegiu69Mgvcn"
      },
      "source": [
        "### Но мы ведь прочитали нашу матрицу эмбеддингов\n",
        "Таким образом она инициализируется предобученными весами.  \n",
        "При такой инициализации по умолчанию она замораживается, внутри ```.from_pretrained(embeddings, padding_idx=0)``` есть флаг ```freeze```, который отвечает за необходимость заморозки весов. То есть эти веса в процессе обучения не будут обновляться."
      ]
    },
    {
      "cell_type": "code",
      "metadata": {
        "id": "__UowEyMgvcn"
      },
      "source": [
        "embeddings = torch.tensor(embeddings).float()"
      ],
      "execution_count": null,
      "outputs": []
    },
    {
      "cell_type": "code",
      "metadata": {
        "id": "GEwsy-5Cgvcs"
      },
      "source": [
        "embedding_layer = nn.Embedding.from_pretrained(embeddings, padding_idx=0)"
      ],
      "execution_count": null,
      "outputs": []
    },
    {
      "cell_type": "code",
      "metadata": {
        "id": "7J3FtSMygvcu"
      },
      "source": [
        "x_embed = embedding_layer(x)"
      ],
      "execution_count": null,
      "outputs": []
    },
    {
      "cell_type": "code",
      "metadata": {
        "id": "9PRIRgyXooju"
      },
      "source": [
        "x_embed"
      ],
      "execution_count": null,
      "outputs": []
    },
    {
      "cell_type": "markdown",
      "metadata": {
        "id": "O_HcverPgvdA"
      },
      "source": [
        "### Немного LSTM\n",
        "Ниже будет про ```batch_first=True```"
      ]
    },
    {
      "cell_type": "code",
      "metadata": {
        "id": "Mp_Ud5mVgvdA"
      },
      "source": [
        "lstm = nn.LSTM(input_size=300, hidden_size=128, num_layers=2, batch_first=True, dropout=0.3, bidirectional=True)"
      ],
      "execution_count": null,
      "outputs": []
    },
    {
      "cell_type": "code",
      "metadata": {
        "id": "rnOrS5xlgvdU"
      },
      "source": [
        "x_lstm, _ = lstm(x_embed)"
      ],
      "execution_count": null,
      "outputs": []
    },
    {
      "cell_type": "code",
      "metadata": {
        "colab": {
          "base_uri": "https://localhost:8080/",
          "height": 34
        },
        "id": "2XgGt81ogvdV",
        "outputId": "9e82d38f-2e3f-43e7-b5aa-81df6993fb9b"
      },
      "source": [
        "# 256 потому что это конкатенация лстмки, которая прочитала текст слева направо\n",
        "# и лстмки, которая прочитала текст справа налево\n",
        "x_lstm.shape"
      ],
      "execution_count": null,
      "outputs": [
        {
          "output_type": "execute_result",
          "data": {
            "text/plain": [
              "torch.Size([128, 32, 256])"
            ]
          },
          "metadata": {
            "tags": []
          },
          "execution_count": 93
        }
      ]
    },
    {
      "cell_type": "code",
      "metadata": {
        "colab": {
          "base_uri": "https://localhost:8080/",
          "height": 34
        },
        "id": "UlxsAh8NgvdW",
        "outputId": "0f863ed0-6b63-4325-b639-237eb46bec8a"
      },
      "source": [
        "# избавились от временной размерности\n",
        "x_lstm.mean(dim=1).shape"
      ],
      "execution_count": null,
      "outputs": [
        {
          "output_type": "execute_result",
          "data": {
            "text/plain": [
              "torch.Size([128, 256])"
            ]
          },
          "metadata": {
            "tags": []
          },
          "execution_count": 94
        }
      ]
    },
    {
      "cell_type": "markdown",
      "metadata": {
        "id": "-_qZgjiigvdX"
      },
      "source": [
        "### Сделаем свою сеть\n",
        "В первой домашке в конце есть более подробная информация почему мы используем классы."
      ]
    },
    {
      "cell_type": "code",
      "metadata": {
        "id": "6gaCDPOrgvdX"
      },
      "source": [
        "class DeepAverageNetwork(nn.Module):\n",
        "    \n",
        "    def __init__(self, embeddings, linear_1_size, linear_2_size, n_classes):\n",
        "        super().__init__()\n",
        "        \n",
        "        self.embedding_layer = nn.Embedding.from_pretrained(embeddings, padding_idx=0)\n",
        "        \n",
        "        self.batch_norm = nn.BatchNorm1d(num_features=embeddings.shape[-1])\n",
        "        \n",
        "        self.linear_1 = nn.Linear(in_features=embeddings.shape[-1], out_features=linear_1_size)\n",
        "        self.linear_2 = nn.Linear(in_features=linear_1_size, out_features=linear_2_size)\n",
        "        self.linear_3 = nn.Linear(in_features=linear_2_size, out_features=n_classes)\n",
        "        \n",
        "    def forward(self, x):\n",
        "        \n",
        "        # переводим индексы слов в эмбеддинги этих слов\n",
        "        # (batch_size, sequence_length) -> (batch_size, sequence_length, embedding_dim)\n",
        "\n",
        "        x = self.embedding_layer(x)\n",
        "        \n",
        "        # агрегируем наши эмбеддинги по размерности время\n",
        "        # (batch_size, sequence_length, embedding_dim) -> (batch_size, embedding_dim)\n",
        "        x = x.sum(dim=1)\n",
        "        \n",
        "        # делаем нормирование\n",
        "        # (batch_size, embedding_dim) -> (batch_size, embedding_dim)\n",
        "        x = self.batch_norm(x)\n",
        "        \n",
        "        # прогоняем через первый линейный слой\n",
        "        # (batch_size, embedding_dim) -> (batch_size, linear_1_size)\n",
        "        x = self.linear_1(x)\n",
        "        \n",
        "        # применяем нелинейность\n",
        "        # (batch_size, linear_1_size) -> (batch_size, linear_1_size)\n",
        "        x = torch.relu(x)\n",
        "        \n",
        "        # прогоняем через второй линейный слой\n",
        "        # (batch_size, linear_1_size) -> (batch_size, linear_2_size)\n",
        "        x = self.linear_2(x)\n",
        "        \n",
        "        # применяем нелинейность\n",
        "        # (batch_size, linear_2_size) -> (batch_size, linear_2_size)\n",
        "        x = torch.relu(x)\n",
        "        \n",
        "        # переводим с помощью линейного преобразования в количество классов\n",
        "        # (batch_size, linear_2_size) -> (batch_size, n_classes)\n",
        "        x = self.linear_3(x)\n",
        "        \n",
        "        ## по идеи здесь должен был быть софтмакс\n",
        "        ## но мы будем использовать лосс nn.CrossEntropyLoss()\n",
        "        ## в его документации написано\n",
        "        ## This criterion combines :func:`nn.LogSoftmax` and :func:`nn.NLLLoss` in one single class.\n",
        "        ## это некоторая оптимизация, которая включает в себя сразу и софтмакс и сам negative log likelihood лосс\n",
        "        ## так как у нас в лоссе есть софтмакс, то мы не будем применять его в сетке\n",
        "        ## на этапе предсказания (а не обучения) мы будем отдельно делать софтмакс для получения распределения классов\n",
        "        ## \n",
        "        ## (batch_size, n_classes) -> (batch_size, n_classes)\n",
        "        # x = torch.softmax(x, dim=-1)\n",
        "        \n",
        "        return x"
      ],
      "execution_count": null,
      "outputs": []
    },
    {
      "cell_type": "code",
      "metadata": {
        "id": "byK43o8IgvdY"
      },
      "source": [
        "model = DeepAverageNetwork(embeddings=embeddings,\n",
        "                           linear_1_size=256, \n",
        "                           linear_2_size=128, \n",
        "                           n_classes=len(category2index))"
      ],
      "execution_count": null,
      "outputs": []
    },
    {
      "cell_type": "code",
      "metadata": {
        "id": "2RVPBQbAgvdZ"
      },
      "source": [
        "criterion = nn.CrossEntropyLoss()\n",
        "# задайте оптимизатор\n",
        "# optimizer = ...\n",
        "# optimizer = torch.optim.SGD(params=model.parameters(), lr=0.01)\n",
        "optimizer = torch.optim.Adam(params=model.parameters(), lr=0.01)"
      ],
      "execution_count": null,
      "outputs": []
    },
    {
      "cell_type": "markdown",
      "metadata": {
        "id": "xz9NlLAYgvdZ"
      },
      "source": [
        "### Напишите цикл обучения\n",
        "Что он должен в себя включать:\n",
        "1. Получение предсказаний модели\n",
        "1. Расчет функции потерь\n",
        "1. Расчет градиентов\n",
        "1. Шаг градиентного спуска\n",
        "1. Обнуление градиентов\n",
        "1. Записывание значения лосса"
      ]
    },
    {
      "cell_type": "code",
      "metadata": {
        "id": "fmDJ1FwugvdZ"
      },
      "source": [
        "train_losses = list()\n",
        "\n",
        "# в обучении моделей у нас есть такая ситуация, что некоторые слои ведут себя по разному на этапе тренировки и предсказания\n",
        "# например, батч норм (а так же все остальные нормировки) и дропаут\n",
        "# это переводит модель в режим тренировки\n",
        "model.train()\n",
        "\n",
        "progress_bar = tqdm(total=len(train_loader.dataset), desc=f'Train epoch: {n_epoch + 1}')\n",
        "\n",
        "for x, y in train_loader:\n",
        "        \n",
        "    optimizer.zero_grad()\n",
        "        \n",
        "    pred = model(x)\n",
        "        \n",
        "    loss = criterion(pred, y.float())\n",
        "        \n",
        "    loss.backward()\n",
        "        \n",
        "    optimizer.step()\n",
        "      \n",
        "    train_losses.append(loss.item())\n",
        "    losses.append(loss.item())\n",
        "\n",
        "    progress_bar.set_postfix(train_loss = np.mean(losses[-10:]))\n",
        "    progress_bar.update(x.shape[0])\n",
        "    progress_bar.close()\n"
      ],
      "execution_count": null,
      "outputs": []
    },
    {
      "cell_type": "markdown",
      "metadata": {
        "id": "kwVUW2NOgvda"
      },
      "source": [
        "### Напишите цикл валидации\n",
        "Что он должен в себя включать:\n",
        "1. Получение предсказаний модели\n",
        "1. Расчет функции потерь\n",
        "1. Записывание значения лосса\n",
        "\n",
        "Также с помощью контекста ```with torch.no_grad():``` можно явно указать торчу не сохранять необходимые параметры для расчета градиентов. Обязательно для режима предсказания."
      ]
    },
    {
      "cell_type": "code",
      "metadata": {
        "id": "AzEMYQqFgvda"
      },
      "source": [
        "losses = list()\n",
        "valid_losses = list()\n",
        "# это переводит модель в режим предсказания\n",
        "# то есть фиксируются статистики батч норма, дропаут не выкидывает фичи\n",
        "model.eval()\n",
        "\n",
        "# заметьте, что мы поменяли наш лоадер на валидационный\n",
        "for x, y in valid_loader:\n",
        "    \n",
        "    with torch.no_grad():\n",
        "        # получение предсказаний модели\n",
        "        # расчет лосса\n",
        "            \n",
        "        pred = model(x)\n",
        "            \n",
        "    valid_preds.append(pred.numpy())\n",
        "    valid_targets.append(y.numpy())\n",
        "\n",
        "    loss = criterion(pred, y)\n",
        "    valid_losses.append(loss.item())\n",
        "        \n",
        "    mean_val_loss = np.mean(valid_losses)\n"
      ],
      "execution_count": null,
      "outputs": []
    },
    {
      "cell_type": "markdown",
      "metadata": {
        "id": "tE_3bjsugvdb"
      },
      "source": [
        "### Проведите обучение несколько эпох\n",
        "Одна эпоха - это один проход по датасету.  \n",
        "Шаги:\n",
        "- Поменяйте что-нибудь в модели, добавить дропаут и тд\n",
        "- Остановите обучение с помощью early stopping\n",
        "- Добавьте расчет метрик во время обучения и предсказания (например, micro F1). Чтобы это сделать вы можете, например, сохранять предсказания модели\n",
        "- После обучения нарисуйте как по мере обучения меняется функция потерь на тренировочном и валидационном датасете, как меняется метрики\n",
        "- Опционально: постройте confusion matrix\n",
        "\n",
        "Подсказки:\n",
        "- Чтобы корректно сохранять предсказания нужно переменную отсоединить от графа, то есть сделать ```x.detach()```"
      ]
    },
    {
      "cell_type": "code",
      "metadata": {
        "id": "hHQYWgjvmjN8"
      },
      "source": [
        "for instance in list(tqdm._instances):\n",
        "  tqdm._decr_instances(instance)"
      ],
      "execution_count": null,
      "outputs": []
    },
    {
      "cell_type": "code",
      "metadata": {
        "colab": {
          "base_uri": "https://localhost:8080/"
        },
        "id": "viVNEuCIgvdb",
        "outputId": "fbc0faec-968b-4611-c733-e405ea7b9aae"
      },
      "source": [
        "best_val_loss = 10.\n",
        "criterion = nn.CrossEntropyLoss()\n",
        "optimizer = torch.optim.Adam(params=model.parameters(), lr=0.01)\n",
        "losses = list()\n",
        "\n",
        "for n_epoch in range(10):\n",
        "    train_losses = list()\n",
        "    valid_losses = list()\n",
        "    valid_preds = list() #для f-меры\n",
        "    valid_targets = list() #для f-меры\n",
        "\n",
        "    model.train()\n",
        "    \n",
        "    train_progress_bar = tqdm(total=len(train_loader.dataset), desc=f'Epoch: {n_epoch + 1}, train')\n",
        "    valid_progress_bar = tqdm(total=len(valid_loader.dataset), desc=f'Epoch: {n_epoch + 1}, validation')\n",
        "    \n",
        "    for x, y in train_loader:\n",
        "\n",
        "        optimizer.zero_grad()\n",
        "            \n",
        "        pred = model(x.detach())\n",
        "            \n",
        "        loss = criterion(pred, y.squeeze())\n",
        "            \n",
        "        loss.backward()\n",
        "            \n",
        "        optimizer.step()\n",
        "          \n",
        "        train_losses.append(loss.item())\n",
        "        losses.append(loss.item())\n",
        "\n",
        "        train_progress_bar.set_postfix(train_loss = np.mean(train_losses[-500:]))\n",
        "        train_progress_bar.update(x.shape[0])\n",
        "        for instance in list(tqdm._instances):\n",
        "          tqdm._decr_instances(instance)\n",
        "\n",
        "    train_progress_bar.close()\n",
        "\n",
        "    model.eval()\n",
        "\n",
        "    valid_progress_bar = tqdm(total=len(valid_loader.dataset), desc=f'Epoch: {n_epoch + 1}, validation')\n",
        "\n",
        "    for x, y in valid_loader:\n",
        "        \n",
        "        with torch.no_grad():  \n",
        "            pred = model(x.detach())\n",
        "                \n",
        "        valid_preds.append(pred.numpy())\n",
        "        valid_targets.append(y.numpy())\n",
        "\n",
        "        loss = criterion(pred, y.squeeze())\n",
        "        valid_losses.append(loss.item())\n",
        "\n",
        "        valid_progress_bar.set_postfix(valid_loss = np.mean(valid_losses[-500:]))\n",
        "        valid_progress_bar.update(x.shape[0])\n",
        "        for instance in list(tqdm._instances):\n",
        "          tqdm._decr_instances(instance)\n",
        "    \n",
        "    valid_progress_bar.close()\n",
        "        \n",
        "    mean_val_loss = np.mean(valid_losses)\n",
        "\n",
        "    if mean_val_loss < best_val_loss:\n",
        "        best_val_loss = mean_val_loss\n",
        "    else:\n",
        "        print(f'Early stopping on epoch {n_epoch+1}')\n",
        "        break"
      ],
      "execution_count": null,
      "outputs": [
        {
          "output_type": "stream",
          "text": [
            "Epoch: 1, train:   0%|          | 0/250000 [00:00<?, ?it/s]\n",
            "Epoch: 1, train:   0%|          | 128/250000 [00:00<07:12, 578.32it/s, train_loss=2.1]\n",
            "Epoch: 1, train: 100%|██████████| 250000/250000 [00:34<00:00, 7188.78it/s, train_loss=1.03]\n",
            "Epoch: 1, validation:   0%|          | 0/50000 [00:34<?, ?it/s]\n",
            "Epoch: 1, validation: 100%|██████████| 50000/50000 [00:04<00:00, 11197.99it/s, valid_loss=1.03]\n",
            "Epoch: 2, train:   0%|          | 0/250000 [00:00<?, ?it/s]\n",
            "Epoch: 2, train:   0%|          | 0/250000 [00:00<?, ?it/s, train_loss=1.07]\n",
            "Epoch: 2, train: 100%|██████████| 250000/250000 [00:33<00:00, 7398.43it/s, train_loss=0.975]\n",
            "Epoch: 2, validation:   0%|          | 0/50000 [00:33<?, ?it/s]\n",
            "Epoch: 2, validation: 100%|██████████| 50000/50000 [00:04<00:00, 11230.17it/s, valid_loss=0.997]\n",
            "Epoch: 3, train:   0%|          | 0/250000 [00:00<?, ?it/s]\n",
            "Epoch: 3, train:   0%|          | 0/250000 [00:00<?, ?it/s, train_loss=1.04]\n",
            "Epoch: 3, train: 100%|██████████| 250000/250000 [00:33<00:00, 7357.58it/s, train_loss=0.945]\n",
            "Epoch: 3, validation:   0%|          | 0/50000 [00:33<?, ?it/s]\n",
            "Epoch: 3, validation: 100%|██████████| 50000/50000 [00:04<00:00, 11179.70it/s, valid_loss=0.992]\n",
            "Epoch: 4, train:   0%|          | 0/250000 [00:00<?, ?it/s]\n",
            "Epoch: 4, train:   0%|          | 0/250000 [00:00<?, ?it/s, train_loss=1]\n",
            "Epoch: 4, train: 100%|██████████| 250000/250000 [00:33<00:00, 7399.26it/s, train_loss=0.92]\n",
            "Epoch: 4, validation:   0%|          | 0/50000 [00:33<?, ?it/s]\n",
            "Epoch: 4, validation: 100%|██████████| 50000/50000 [00:04<00:00, 11325.45it/s, valid_loss=0.996]"
          ],
          "name": "stderr"
        },
        {
          "output_type": "stream",
          "text": [
            "Early stopping on epoch 4\n"
          ],
          "name": "stdout"
        },
        {
          "output_type": "stream",
          "text": [
            "\n"
          ],
          "name": "stderr"
        }
      ]
    },
    {
      "cell_type": "code",
      "metadata": {
        "id": "dWZKNx40Xs-K"
      },
      "source": [
        "import matplotlib.pyplot as plt"
      ],
      "execution_count": null,
      "outputs": []
    },
    {
      "cell_type": "code",
      "metadata": {
        "id": "VPZbl4VxX3G2"
      },
      "source": [
        "losses"
      ],
      "execution_count": null,
      "outputs": []
    },
    {
      "cell_type": "code",
      "metadata": {
        "colab": {
          "base_uri": "https://localhost:8080/",
          "height": 747
        },
        "id": "6CGAimGzS5NQ",
        "outputId": "bd7040cc-f194-45b8-ce0a-eca6f018fb75"
      },
      "source": [
        "plt.figure(figsize=(14, 12))\n",
        "plt.plot(losses)\n",
        "plt.grid()\n",
        "plt.title('Training process')\n",
        "plt.xlabel('Iterations')\n",
        "plt.ylabel('Loss function')"
      ],
      "execution_count": null,
      "outputs": [
        {
          "output_type": "execute_result",
          "data": {
            "text/plain": [
              "Text(0, 0.5, 'Loss function')"
            ]
          },
          "metadata": {
            "tags": []
          },
          "execution_count": 57
        },
        {
          "output_type": "display_data",
          "data": {
            "image/png": "[encoded data removed]",
            "text/plain": [
              "<Figure size 1008x864 with 1 Axes>"
            ]
          },
          "metadata": {
            "tags": []
          }
        }
      ]
    },
    {
      "cell_type": "markdown",
      "metadata": {
        "id": "Pp6b-0KZgvdc"
      },
      "source": [
        "### Важные и не очень интуитивные моменты про LSTM и CNN в торче"
      ]
    },
    {
      "cell_type": "markdown",
      "metadata": {
        "id": "z8ChMBIXgvdc"
      },
      "source": [
        "По умолчанию LSTM принимает данные с такой размерностью:\n",
        "```python\n",
        "(seq_len, batch, input_size)\n",
        "```\n",
        "Сделано это с целью оптимизации на более низком уровне.  \n",
        "Мы оперируем такими объектами:\n",
        "```python\n",
        "(batch, seq_len, input_size)\n",
        "```\n",
        "Чтобы LSTM у нас заработала правильно, мы можем либо передать параметр ```batch_first=True``` во время инициализации слоя,\n",
        "либо транспонировать (поменять) первую и вторую размерность у нашего x перед подачей в слой.  \n",
        "[Подробнее про LSTM](https://pytorch.org/docs/stable/nn.html#lstm)"
      ]
    },
    {
      "cell_type": "markdown",
      "metadata": {
        "id": "pU5x_dhGgvdd"
      },
      "source": [
        "- 128 - размер батча\n",
        "- 64 - длина последовательности (количество слов)\n",
        "- 1024 - эмбеддинг слова"
      ]
    },
    {
      "cell_type": "code",
      "metadata": {
        "id": "RU5c9OMWgvdd"
      },
      "source": [
        "x = torch.rand(128, 64, 1024)"
      ],
      "execution_count": null,
      "outputs": []
    },
    {
      "cell_type": "code",
      "metadata": {
        "id": "Q1nH8Yg6gvde"
      },
      "source": [
        "# первый способ\n",
        "lstm = torch.nn.LSTM(1024, 512, batch_first=True)\n",
        "\n",
        "pred, mem = lstm(x)"
      ],
      "execution_count": null,
      "outputs": []
    },
    {
      "cell_type": "code",
      "metadata": {
        "id": "QjPGME0ygvdf"
      },
      "source": [
        "pred.shape"
      ],
      "execution_count": null,
      "outputs": []
    },
    {
      "cell_type": "code",
      "metadata": {
        "id": "5GSmFR3Ngvdg"
      },
      "source": [
        "# второй способ\n",
        "lstm = torch.nn.LSTM(1024, 512)\n",
        "\n",
        "# меняем размерность batch и seq_len местами\n",
        "x_transposed = x.transpose(0, 1)\n",
        "pred_transposed, mem = lstm(x_transposed)"
      ],
      "execution_count": null,
      "outputs": []
    },
    {
      "cell_type": "code",
      "metadata": {
        "id": "Nrumv6Ltgvdh"
      },
      "source": [
        "# у нас все еще осталась размерность (seq_len, batch, input_size)\n",
        "pred_transposed.shape"
      ],
      "execution_count": null,
      "outputs": []
    },
    {
      "cell_type": "code",
      "metadata": {
        "id": "jmuc2UtEgvdi"
      },
      "source": [
        "# просто транспонируем еще раз\n",
        "pred = pred_transposed.transpose(0, 1)\n",
        "pred.shape"
      ],
      "execution_count": null,
      "outputs": []
    },
    {
      "cell_type": "markdown",
      "metadata": {
        "id": "N_bIqz54gvdj"
      },
      "source": [
        "### Conv1d & MaxPool1d\n",
        "Примерно такая же ситуация происходит со сверточными слоями и пулингами.  \n",
        "1d реализация как раз для текстов, в ней матрица-фильтр ходит только по одной размерности.  \n",
        "[Подробнее про CNN](https://pytorch.org/docs/stable/nn.html#conv1d)  \n",
        "[Подробнее про пулинг](https://pytorch.org/docs/stable/nn.html#maxpool1d)  \n",
        "Ожидается такая размерность:\n",
        "```python\n",
        "(batch, input_size, seq_len)\n",
        "```\n",
        "Мы все еще хоти подавать такую размерность:\n",
        "```python\n",
        "(batch, seq_len, input_size)\n",
        "```\n",
        "В случае со свертками и пулингами у нас есть вариант только транспонировать x перед подачей и транспонировать полученный результат. Обратите внимание, что транспонируем мы первую и вторую размерность (индексация с нуля)."
      ]
    },
    {
      "cell_type": "code",
      "metadata": {
        "colab": {
          "base_uri": "https://localhost:8080/"
        },
        "id": "BCV1rmNIgvdj",
        "outputId": "9ec808bd-518d-49df-8180-19584052a761"
      },
      "source": [
        "x.shape"
      ],
      "execution_count": null,
      "outputs": [
        {
          "output_type": "execute_result",
          "data": {
            "text/plain": [
              "torch.Size([128, 64, 1024])"
            ]
          },
          "metadata": {
            "tags": []
          },
          "execution_count": 63
        }
      ]
    },
    {
      "cell_type": "code",
      "metadata": {
        "id": "_4nva81Ugvdk"
      },
      "source": [
        "# in_channels - размер входных эмбеддингов\n",
        "# out_channels - количество/какой размер эмбеддингов мы хотим получить\n",
        "# kernel_size - размер окна/н-граммы\n",
        "cnn = torch.nn.Conv1d(in_channels=1024, out_channels=512, kernel_size=3)"
      ],
      "execution_count": null,
      "outputs": []
    },
    {
      "cell_type": "code",
      "metadata": {
        "colab": {
          "base_uri": "https://localhost:8080/",
          "height": 341
        },
        "id": "hWAAeWA-gvdl",
        "outputId": "7dfa5733-64d9-4ec9-c918-3c081d613cef"
      },
      "source": [
        "# выпадет ошибка, посмотрите какая\n",
        "pred = cnn(x)"
      ],
      "execution_count": null,
      "outputs": [
        {
          "output_type": "error",
          "ename": "RuntimeError",
          "evalue": "ignored",
          "traceback": [
            "\u001b[0;31m---------------------------------------------------------------------------\u001b[0m",
            "\u001b[0;31mRuntimeError\u001b[0m                              Traceback (most recent call last)",
            "\u001b[0;32m<ipython-input-65-818e8a7a8907>\u001b[0m in \u001b[0;36m<module>\u001b[0;34m()\u001b[0m\n\u001b[1;32m      1\u001b[0m \u001b[0;31m# выпадет ошибка, посмотрите какая\u001b[0m\u001b[0;34m\u001b[0m\u001b[0;34m\u001b[0m\u001b[0;34m\u001b[0m\u001b[0m\n\u001b[0;32m----> 2\u001b[0;31m \u001b[0mpred\u001b[0m \u001b[0;34m=\u001b[0m \u001b[0mcnn\u001b[0m\u001b[0;34m(\u001b[0m\u001b[0mx\u001b[0m\u001b[0;34m)\u001b[0m\u001b[0;34m\u001b[0m\u001b[0;34m\u001b[0m\u001b[0m\n\u001b[0m",
            "\u001b[0;32m/usr/local/lib/python3.6/dist-packages/torch/nn/modules/module.py\u001b[0m in \u001b[0;36m_call_impl\u001b[0;34m(self, *input, **kwargs)\u001b[0m\n\u001b[1;32m    725\u001b[0m             \u001b[0mresult\u001b[0m \u001b[0;34m=\u001b[0m \u001b[0mself\u001b[0m\u001b[0;34m.\u001b[0m\u001b[0m_slow_forward\u001b[0m\u001b[0;34m(\u001b[0m\u001b[0;34m*\u001b[0m\u001b[0minput\u001b[0m\u001b[0;34m,\u001b[0m \u001b[0;34m**\u001b[0m\u001b[0mkwargs\u001b[0m\u001b[0;34m)\u001b[0m\u001b[0;34m\u001b[0m\u001b[0;34m\u001b[0m\u001b[0m\n\u001b[1;32m    726\u001b[0m         \u001b[0;32melse\u001b[0m\u001b[0;34m:\u001b[0m\u001b[0;34m\u001b[0m\u001b[0;34m\u001b[0m\u001b[0m\n\u001b[0;32m--> 727\u001b[0;31m             \u001b[0mresult\u001b[0m \u001b[0;34m=\u001b[0m \u001b[0mself\u001b[0m\u001b[0;34m.\u001b[0m\u001b[0mforward\u001b[0m\u001b[0;34m(\u001b[0m\u001b[0;34m*\u001b[0m\u001b[0minput\u001b[0m\u001b[0;34m,\u001b[0m \u001b[0;34m**\u001b[0m\u001b[0mkwargs\u001b[0m\u001b[0;34m)\u001b[0m\u001b[0;34m\u001b[0m\u001b[0;34m\u001b[0m\u001b[0m\n\u001b[0m\u001b[1;32m    728\u001b[0m         for hook in itertools.chain(\n\u001b[1;32m    729\u001b[0m                 \u001b[0m_global_forward_hooks\u001b[0m\u001b[0;34m.\u001b[0m\u001b[0mvalues\u001b[0m\u001b[0;34m(\u001b[0m\u001b[0;34m)\u001b[0m\u001b[0;34m,\u001b[0m\u001b[0;34m\u001b[0m\u001b[0;34m\u001b[0m\u001b[0m\n",
            "\u001b[0;32m/usr/local/lib/python3.6/dist-packages/torch/nn/modules/conv.py\u001b[0m in \u001b[0;36mforward\u001b[0;34m(self, input)\u001b[0m\n\u001b[1;32m    257\u001b[0m                             _single(0), self.dilation, self.groups)\n\u001b[1;32m    258\u001b[0m         return F.conv1d(input, self.weight, self.bias, self.stride,\n\u001b[0;32m--> 259\u001b[0;31m                         self.padding, self.dilation, self.groups)\n\u001b[0m\u001b[1;32m    260\u001b[0m \u001b[0;34m\u001b[0m\u001b[0m\n\u001b[1;32m    261\u001b[0m \u001b[0;34m\u001b[0m\u001b[0m\n",
            "\u001b[0;31mRuntimeError\u001b[0m: Given groups=1, weight of size [512, 1024, 3], expected input[128, 64, 1024] to have 1024 channels, but got 64 channels instead"
          ]
        }
      ]
    },
    {
      "cell_type": "code",
      "metadata": {
        "colab": {
          "base_uri": "https://localhost:8080/"
        },
        "id": "vCQIE1Sigvdm",
        "outputId": "a23a2016-ed28-4765-cc02-dd579fcec415"
      },
      "source": [
        "x_transposed = x.transpose(1, 2)\n",
        "x_transposed.shape\n",
        "# перевели в (batch, input_size, seq_len)"
      ],
      "execution_count": null,
      "outputs": [
        {
          "output_type": "execute_result",
          "data": {
            "text/plain": [
              "torch.Size([128, 1024, 64])"
            ]
          },
          "metadata": {
            "tags": []
          },
          "execution_count": 66
        }
      ]
    },
    {
      "cell_type": "code",
      "metadata": {
        "colab": {
          "base_uri": "https://localhost:8080/"
        },
        "id": "ypH-sEzAgvdn",
        "outputId": "9059b8b9-269f-4e2f-cdcb-bd3ebf87eb57"
      },
      "source": [
        "pred_transposed = cnn(x_transposed)\n",
        "pred_transposed.shape\n",
        "# осталась разрмерность (batch, output_size, seq_len)"
      ],
      "execution_count": null,
      "outputs": [
        {
          "output_type": "execute_result",
          "data": {
            "text/plain": [
              "torch.Size([128, 512, 62])"
            ]
          },
          "metadata": {
            "tags": []
          },
          "execution_count": 67
        }
      ]
    },
    {
      "cell_type": "code",
      "metadata": {
        "colab": {
          "base_uri": "https://localhost:8080/"
        },
        "id": "6lJDN7mzgvdo",
        "outputId": "a3bb8c9b-0915-4cb0-ae4a-c7fb13555823"
      },
      "source": [
        "# переведем обратно в (batch, seq_len, input_size)\n",
        "pred = pred_transposed.transpose(1, 2)\n",
        "pred.shape"
      ],
      "execution_count": null,
      "outputs": [
        {
          "output_type": "execute_result",
          "data": {
            "text/plain": [
              "torch.Size([128, 62, 512])"
            ]
          },
          "metadata": {
            "tags": []
          },
          "execution_count": 68
        }
      ]
    },
    {
      "cell_type": "markdown",
      "metadata": {
        "id": "lzuZ2hO8gvdp"
      },
      "source": [
        "### Еще важный момент про LSTM\n",
        "\n",
        "The input can also be a packed variable length sequence. See [torch.nn.utils.rnn.pack_padded_sequence()](https://pytorch.org/docs/stable/nn.html#torch.nn.utils.rnn.pack_padded_sequence) or [torch.nn.utils.rnn.pack_sequence()](https://pytorch.org/docs/stable/nn.html#torch.nn.utils.rnn.pack_sequence) for details.\n",
        "\n",
        "Это внутренняя конструкция торча, которая позволяет не читать токен ```PAD```, но все еще работать с батчами. То есть внутри батча мы можем передать лстмке, что у нас данные переменной длины. Не забудьте что на выход отдается [torch.nn.utils.rnn.PackedSequence](https://pytorch.org/docs/stable/nn.html#torch.nn.utils.rnn.PackedSequence)."
      ]
    },
    {
      "cell_type": "markdown",
      "metadata": {
        "id": "tKAjkdm6gvdp"
      },
      "source": [
        "## Домашнее задание\n",
        "\n",
        "1. Сделать класс нейронки, вписать необходимые операции, архитектура ниже\n",
        "1. Написать обучалку (обобщить то, что было выше)\n",
        "1. Добавить логирование\n",
        "    1. Сохранять лосс на каждой итерции обучения __0.25 балла__\n",
        "    1. Каждую эпоху сохранять лосс трейна и тест __0.25 балла__\n",
        "    1. Каждую эпоху рассчитывать метрики __0.25 балла__\n",
        "    1. Добавить прогресс бар, в котором показывается усредненный лосс последних 500-та итераций __0.25 балла__\n",
        "1. Добавить early stopping __0.5 балла__\n",
        "1. Нарисовать графики лосса, метрик, конфьюжин матрицу __0.5 балла__\n",
        "\n",
        "\n",
        "### Архитектура (что можно попробовать)\n",
        "1. Предобученные эмбеддинги. Почитайте [здесь](https://pytorch.org/docs/stable/nn.html#embedding) (from_pretrained) как вставить свои эмбеддинги, выше мы читали матрицу эмбеддингов. __0 баллов__\n",
        "1. Дообучить эмбеддинги отдельно от сети. __2 балла__\n",
        "1. Дообучить эмбеддинги вместе с сетью и с другим learning rate (указывается в оптимизаторе). __2 балла__\n",
        "1. Bidirectional LSTM. __1 балл__\n",
        "1. Несколько параллельных CNN с разными размерами окна и mean/max over time пулингами к ним и дальнейшей конкатенацией. __2 балла__\n",
        "1. Несколько последовательных CNN. __1 балла__\n",
        "1. Разные окна и residual к предыдущему пункту. __2 балла__\n",
        "1. Предыдущий пункт сделан без ошибок (замаскированы свертки паддингов). __2 балла__\n",
        "1. Написать правильный правильный mean/max пулинг, который не учитывает паддинги, точнее их маскирует. __2 балла__\n",
        "1. Добавить [torch.nn.utils.rnn.pack_padded_sequence()](https://pytorch.org/docs/stable/nn.html#torch.nn.utils.rnn.pack_padded_sequence) и [torch.nn.utils.rnn.pack_sequence()](https://pytorch.org/docs/stable/nn.html#torch.nn.utils.rnn.pack_sequence) для LSTM. Инфа [здесь](#Еще-важный-момент-про-LSTM) __2 балла__\n",
        "1. Добавить spatial дропаут для входа LSTM (не просто стандартный пункт при инициализации LSTM) __1 балл__\n",
        "1. Добавить BatchNorm/LayerNorm/Dropout/Residual/etc __1 балл__\n",
        "1. Добавить шедуллер __1 балл__\n",
        "1. Обучать на GPU __2 балла__\n",
        "1. Сделать transfer learning с собственно обученной языковой модели, обученной на любых данных, например, unlabeled. __7 баллов__\n",
        "1. your madness\n",
        "\n",
        "## 10 баллов максимум\n",
        "\n",
        "# По итогам напишите результаты экспериментов\n",
        "# Что получилось, а что нет\n",
        "# Почему, выводы"
      ]
    },
    {
      "cell_type": "markdown",
      "metadata": {
        "id": "ADqA6Pu7WBdA"
      },
      "source": [
        "Сделать класс нейронки, вписать необходимые операции"
      ]
    },
    {
      "cell_type": "markdown",
      "metadata": {
        "id": "UhSqGdMhRF_f"
      },
      "source": [
        "### Неудачная попытка сделать параллельные свертки"
      ]
    },
    {
      "cell_type": "code",
      "metadata": {
        "id": "HdX0eg1OWyYj"
      },
      "source": [
        "class MyNetworkConcatenateTries(nn.Module):\n",
        "    \n",
        "    def __init__(self, embeddings, linear_1_size, linear_2_size, n_classes):\n",
        "        super().__init__()\n",
        "        \n",
        "        self.embedding_layer = nn.Embedding.from_pretrained(embeddings, padding_idx=0, freeze=False)\n",
        "        \n",
        "        self.input_size = embeddings.shape[-1]\n",
        "        self.conv_size = int(self.input_size/2)\n",
        "        self.padding = nn.ConstantPad1d(padding=1, value=float('-inf'))\n",
        "\n",
        "        self.conv1 = nn.Conv1d(in_channels=self.input_size, out_channels=self.conv_size, kernel_size=5, stride=1, padding=1)\n",
        "        self.pool1 = nn.MaxPool1d(kernel_size=5, stride=1, padding=1)\n",
        "\n",
        "        self.conv2 = nn.Conv1d(in_channels=self.input_size, out_channels=self.conv_size, kernel_size=3, stride=1, padding=1)\n",
        "        self.pool2 = nn.MaxPool1d(kernel_size=3, stride=1, padding=1)\n",
        "\n",
        "        self.batch_norm = nn.BatchNorm1d(num_features=self.conv_size)\n",
        "        self.relu = nn.ReLU()\n",
        "        self.linear_1 = nn.Linear(in_features=self.conv_size, out_features=linear_1_size)\n",
        "        self.linear_2 = nn.Linear(in_features=linear_1_size, out_features=linear_2_size)\n",
        "        self.linear_3 = nn.Linear(in_features=linear_2_size, out_features=n_classes)\n",
        "        \n",
        "    def forward(self, x):\n",
        "        \n",
        "        x = self.embedding_layer(x)\n",
        "\n",
        "        x = x.transpose(1, 2)\n",
        "        x = self.padding(x)\n",
        "\n",
        "        x1 = self.conv1(x)\n",
        "        x1 = self.batch_norm(x1)\n",
        "        x1 = self.relu(x1)\n",
        "        x1 = self.pool1(x1)\n",
        "        # x1 = x1.transpose(1, 2)\n",
        "\n",
        "        x2 = self.conv2(x)\n",
        "        x2 = self.batch_norm(x2)\n",
        "        x2 = self.relu(x2)\n",
        "        x2 = self.pool2(x2)\n",
        "        # x2 = x2.transpose(1, 2)\n",
        "\n",
        "        concat_x = torch.cat((x1, x2), dim=0) # ошибка с размерностями при dim=0 и dim=1\n",
        "\n",
        "        x = concat_x.transpose(1, 2)\n",
        "        x = torch.flatten(x, 1)\n",
        "        # x = concat_x.sum(dim=1)\n",
        "\n",
        "        x = self.batch_norm(x)\n",
        "        \n",
        "        x = self.linear_1(x)\n",
        "        x = torch.relu(x)\n",
        "        x = self.linear_2(x)\n",
        "        x = torch.relu(x)\n",
        "        x = self.linear_3(x)\n",
        "        \n",
        "        \n",
        "        return x\n"
      ],
      "execution_count": null,
      "outputs": []
    },
    {
      "cell_type": "markdown",
      "metadata": {
        "id": "U-bDh_dXRTvI"
      },
      "source": [
        "### Удачная попытка сделать последовательные свертки"
      ]
    },
    {
      "cell_type": "markdown",
      "metadata": {
        "id": "omZ_5IXeDMen"
      },
      "source": [
        "- [x]  Сделать класс нейронки, вписать необходимые операции, архитектура ниже\n",
        "- [x]  Написать обучалку (обобщить то, что было выше)\n",
        "- [x]  Добавить логирование\n",
        "    - [x]  Сохранять лосс на каждой итерции обучения **0.25 балла**\n",
        "    - [x]  Каждую эпоху сохранять лосс трейна и тест **0.25 балла**\n",
        "    - [x]  Каждую эпоху рассчитывать метрики **0.25 балла**\n",
        "    - [x]  Добавить прогресс бар, в котором показывается усредненный лосс последних 500-та итераций **0.25 балла**\n",
        "- [x]  Добавить early stopping **0.5 балла**\n",
        "- [x]  Нарисовать графики лосса, метрик, конфьюжин матрицу **0.5 балла**\n",
        "- [x]  Дообучить эмбеддинги вместе с сетью и с другим learning rate (указывается в оптимизаторе). **2 балла**\n",
        "- [x]  Несколько последовательных CNN. **1 балла**\n",
        "- [x]  Добавить шедуллер **1 балл**\n",
        "- [x]  Обучать на GPU **2 балла**\n",
        "- [x]  Добавить BatchNorm [/ LayerNorm / Dropout / Residual / etc]) **1 балл**\n"
      ]
    },
    {
      "cell_type": "code",
      "metadata": {
        "id": "zNB2c7fOQZ0Q"
      },
      "source": [
        "class MySimpleNetwork(nn.Module):\n",
        "    \n",
        "    def __init__(self, embeddings, linear_1_size, linear_2_size, n_classes):\n",
        "        super().__init__()\n",
        "        \n",
        "        self.embedding_layer = nn.Embedding.from_pretrained(embeddings, padding_idx=0, freeze=False)\n",
        "\n",
        "        self.input_size = embeddings.shape[-1]\n",
        "        self.conv_size_1 = int(self.input_size/2)\n",
        "        self.conv_size_2 = int(self.conv_size_1/2)\n",
        "\n",
        "        self.conv1 = nn.Conv1d(in_channels=self.input_size, out_channels=self.conv_size_1, kernel_size=3, stride=1, padding=0)\n",
        "        self.pool1 = nn.MaxPool1d(kernel_size=3, stride=1, padding=0)\n",
        "        self.conv2 = nn.Conv1d(in_channels=self.conv_size_1, out_channels=self.conv_size_2, kernel_size=3, stride=1, padding=0)\n",
        "        self.pool2 = nn.MaxPool1d(kernel_size=3, stride=1, padding=0)\n",
        "\n",
        "        self.batch_norm1 = nn.BatchNorm1d(num_features=self.conv_size_1)\n",
        "        self.batch_norm2 = nn.BatchNorm1d(num_features=self.conv_size_2)\n",
        "        self.batch_norm = nn.BatchNorm1d(num_features=self.conv_size_2)\n",
        "\n",
        "        self.relu = nn.ReLU()\n",
        "\n",
        "        self.linear_1 = nn.Linear(in_features=self.conv_size_2, out_features=linear_1_size)\n",
        "        self.linear_2 = nn.Linear(in_features=linear_1_size, out_features=linear_2_size)\n",
        "        self.linear_3 = nn.Linear(in_features=linear_2_size, out_features=n_classes)\n",
        "\n",
        "\n",
        "    def forward(self, x):\n",
        "\n",
        "        x = self.embedding_layer(x)\n",
        "\n",
        "        x = x.transpose(1, 2)\n",
        "\n",
        "        x = self.conv1(x)\n",
        "        x = self.batch_norm1(x)\n",
        "        x = self.relu(x)\n",
        "        x = self.pool1(x)\n",
        "        x = self.conv2(x)\n",
        "        x = self.batch_norm2(x)\n",
        "        x = self.relu(x)\n",
        "        x = self.pool2(x)\n",
        "\n",
        "        x = x.transpose(1, 2)\n",
        "\n",
        "        x = x.sum(dim=1)\n",
        "\n",
        "        x = self.batch_norm(x)\n",
        "\n",
        "        x = self.linear_1(x)\n",
        "        x = self.relu(x)\n",
        "        # x = torch.relu(x)\n",
        "        x = self.linear_2(x)\n",
        "        x = self.relu(x)\n",
        "        # x = torch.relu(x)\n",
        "        x = self.linear_3(x)\n",
        "             \n",
        "        return x\n"
      ],
      "execution_count": null,
      "outputs": []
    },
    {
      "cell_type": "code",
      "metadata": {
        "id": "nUugCiXZM80P"
      },
      "source": [
        "assert torch.cuda.is_available()\n",
        "device = torch.device('cuda')"
      ],
      "execution_count": null,
      "outputs": []
    },
    {
      "cell_type": "code",
      "metadata": {
        "id": "_qutIiP9zmge",
        "colab": {
          "base_uri": "https://localhost:8080/"
        },
        "outputId": "3ec36184-a30d-478d-ead8-44afba986051"
      },
      "source": [
        "model = MySimpleNetwork(embeddings=embeddings,\n",
        "                           linear_1_size=256, \n",
        "                           linear_2_size=128, \n",
        "                           n_classes=len(category2index))\n",
        "model.to(device)"
      ],
      "execution_count": null,
      "outputs": [
        {
          "output_type": "execute_result",
          "data": {
            "text/plain": [
              "MySimpleNetwork(\n",
              "  (embedding_layer): Embedding(100000, 300, padding_idx=0)\n",
              "  (conv1): Conv1d(300, 150, kernel_size=(3,), stride=(1,))\n",
              "  (pool1): MaxPool1d(kernel_size=3, stride=1, padding=0, dilation=1, ceil_mode=False)\n",
              "  (conv2): Conv1d(150, 75, kernel_size=(3,), stride=(1,))\n",
              "  (pool2): MaxPool1d(kernel_size=3, stride=1, padding=0, dilation=1, ceil_mode=False)\n",
              "  (batch_norm1): BatchNorm1d(150, eps=1e-05, momentum=0.1, affine=True, track_running_stats=True)\n",
              "  (batch_norm2): BatchNorm1d(75, eps=1e-05, momentum=0.1, affine=True, track_running_stats=True)\n",
              "  (batch_norm): BatchNorm1d(75, eps=1e-05, momentum=0.1, affine=True, track_running_stats=True)\n",
              "  (relu): ReLU()\n",
              "  (linear_1): Linear(in_features=75, out_features=256, bias=True)\n",
              "  (linear_2): Linear(in_features=256, out_features=128, bias=True)\n",
              "  (linear_3): Linear(in_features=128, out_features=8, bias=True)\n",
              ")"
            ]
          },
          "metadata": {
            "tags": []
          },
          "execution_count": 123
        }
      ]
    },
    {
      "cell_type": "code",
      "metadata": {
        "id": "BaV2u7MiWVjm"
      },
      "source": [
        "from torch.optim.lr_scheduler import StepLR\n",
        "from sklearn.metrics import f1_score"
      ],
      "execution_count": null,
      "outputs": []
    },
    {
      "cell_type": "code",
      "metadata": {
        "id": "9E0_g_MC-2M3"
      },
      "source": [
        "model_params = [x[1] for x in list(filter(lambda x: x[0] != 'embedding_layer.weight', model.named_parameters()))]\n",
        "embedding_params = model.embedding_layer.parameters()"
      ],
      "execution_count": null,
      "outputs": []
    },
    {
      "cell_type": "code",
      "metadata": {
        "colab": {
          "base_uri": "https://localhost:8080/"
        },
        "id": "H74vpD-RzNLQ",
        "outputId": "1f875b3f-7b95-4b50-88f4-ef3e800d5490"
      },
      "source": [
        "%%time\n",
        "best_val_loss = 10.\n",
        "criterion = nn.CrossEntropyLoss()\n",
        "optimizer = torch.optim.Adam(params=[{'params': embedding_params, 'lr': 0.00001}, {'params': model_params, 'lr': 0.0001}])\n",
        "losses = list()\n",
        "scheduler = StepLR(optimizer, step_size=5, gamma=0.1)\n",
        "mean_f_scores_train = list()\n",
        "mean_f_scores_valid = list()\n",
        "\n",
        "for n_epoch in range(10):\n",
        "    train_losses = list()\n",
        "    valid_losses = list()\n",
        "    \n",
        "    f_scores_train = list()\n",
        "    f_scores_valid = list()\n",
        "\n",
        "    model.train()\n",
        "    \n",
        "    train_progress_bar = tqdm(total=len(train_loader.dataset), desc=f'Epoch: {n_epoch + 1}, train')\n",
        "    \n",
        "    for instance in list(tqdm._instances):\n",
        "      tqdm._decr_instances(instance)\n",
        "\n",
        "    for x, y in train_loader:\n",
        "\n",
        "        x = x.to(device)\n",
        "        y = y.to(device)\n",
        "\n",
        "        optimizer.zero_grad()\n",
        "            \n",
        "        pred = model(x.detach())\n",
        "        \n",
        "        f_scores_train.append(f1_score(y.cpu(), pred.cpu().argmax(1), average='micro'))\n",
        "\n",
        "        loss = criterion(pred.squeeze(), y)\n",
        "            \n",
        "        loss.backward()\n",
        "            \n",
        "        optimizer.step()\n",
        "\n",
        "        train_losses.append(loss.item())\n",
        "        losses.append(loss.item())\n",
        "\n",
        "        train_progress_bar.set_postfix(train_loss = np.mean(train_losses[-500:]))\n",
        "        train_progress_bar.update(x.shape[0])\n",
        "\n",
        "    train_progress_bar.close()\n",
        "\n",
        "    model.eval()\n",
        "\n",
        "    valid_progress_bar = tqdm(total=len(valid_loader.dataset), desc=f'Epoch: {n_epoch + 1}, validation')\n",
        "\n",
        "    for instance in list(tqdm._instances):\n",
        "      tqdm._decr_instances(instance)\n",
        "\n",
        "    for x, y in valid_loader:\n",
        "\n",
        "        x = x.to(device)\n",
        "        y = y.to(device)\n",
        "\n",
        "        with torch.no_grad():  \n",
        "            pred = model(x.detach())\n",
        "       \n",
        "        f_scores_valid.append(f1_score(y.cpu(), pred.cpu().argmax(1), average='micro'))\n",
        "\n",
        "        loss = criterion(pred.squeeze(), y)\n",
        "        valid_losses.append(loss.item())\n",
        "\n",
        "        valid_progress_bar.set_postfix(valid_loss = np.mean(valid_losses[-500:]))\n",
        "        valid_progress_bar.update(x.shape[0])\n",
        "    \n",
        "    valid_progress_bar.close()\n",
        "\n",
        "    mean_val_loss = np.mean(valid_losses)\n",
        "\n",
        "    mean_f_scores_train.append(np.mean(f_scores_train))\n",
        "    mean_f_scores_valid.append(np.mean(f_scores_valid))\n",
        "\n",
        "    scheduler.step()\n",
        "\n",
        "    if mean_val_loss < best_val_loss:\n",
        "        best_val_loss = mean_val_loss\n",
        "    else:\n",
        "        print(f'Early stopping on epoch {n_epoch+1}')\n",
        "        break\n"
      ],
      "execution_count": null,
      "outputs": [
        {
          "output_type": "stream",
          "text": [
            "Epoch: 1, train:   0%|          | 0/250000 [00:06<?, ?it/s]\n",
            "Epoch: 1, train: 100%|██████████| 250000/250000 [00:27<00:00, 9098.37it/s, train_loss=0.982]\n",
            "Epoch: 1, validation: 100%|██████████| 50000/50000 [00:03<00:00, 15660.50it/s, valid_loss=0.964]\n",
            "Epoch: 2, train: 100%|██████████| 250000/250000 [00:28<00:00, 8869.64it/s, train_loss=0.881]\n",
            "Epoch: 2, validation: 100%|██████████| 50000/50000 [00:03<00:00, 15457.13it/s, valid_loss=0.91]\n",
            "Epoch: 3, train: 100%|██████████| 250000/250000 [00:27<00:00, 9109.85it/s, train_loss=0.816]\n",
            "Epoch: 3, validation: 100%|██████████| 50000/50000 [00:03<00:00, 15691.34it/s, valid_loss=0.891]\n",
            "Epoch: 4, train: 100%|██████████| 250000/250000 [00:27<00:00, 9095.59it/s, train_loss=0.767]\n",
            "Epoch: 4, validation: 100%|██████████| 50000/50000 [00:03<00:00, 15684.73it/s, valid_loss=0.882]\n",
            "Epoch: 5, train: 100%|██████████| 250000/250000 [00:27<00:00, 9021.39it/s, train_loss=0.727]\n",
            "Epoch: 5, validation: 100%|██████████| 50000/50000 [00:03<00:00, 15616.24it/s, valid_loss=0.887]"
          ],
          "name": "stderr"
        },
        {
          "output_type": "stream",
          "text": [
            "Early stopping on epoch 5\n",
            "CPU times: user 2min 18s, sys: 22.5 s, total: 2min 41s\n",
            "Wall time: 2min 34s\n"
          ],
          "name": "stdout"
        },
        {
          "output_type": "stream",
          "text": [
            "\n"
          ],
          "name": "stderr"
        }
      ]
    },
    {
      "cell_type": "code",
      "metadata": {
        "id": "4sSqUNQNPSi6"
      },
      "source": [
        "import matplotlib.pyplot as plt"
      ],
      "execution_count": null,
      "outputs": []
    },
    {
      "cell_type": "markdown",
      "metadata": {
        "id": "icsZhm_ygmWw"
      },
      "source": [
        "Графики f-меры на трейне и валидации"
      ]
    },
    {
      "cell_type": "code",
      "metadata": {
        "colab": {
          "base_uri": "https://localhost:8080/",
          "height": 372
        },
        "id": "ouqxH3Tcggsv",
        "outputId": "d9aaa691-7487-4798-d5cb-3503f9a0e457"
      },
      "source": [
        "plt.figure(figsize=(5, 5))\n",
        "plt.plot(mean_f_scores_train)\n",
        "plt.grid()\n",
        "plt.title('F-scores on train')\n",
        "plt.xlabel('Iterations')\n",
        "plt.ylabel('f-score')"
      ],
      "execution_count": null,
      "outputs": [
        {
          "output_type": "execute_result",
          "data": {
            "text/plain": [
              "Text(0, 0.5, 'f-score')"
            ]
          },
          "metadata": {
            "tags": []
          },
          "execution_count": 127
        },
        {
          "output_type": "display_data",
          "data": {
            "image/png": "[encoded data removed]",
            "text/plain": [
              "<Figure size 360x360 with 1 Axes>"
            ]
          },
          "metadata": {
            "tags": []
          }
        }
      ]
    },
    {
      "cell_type": "code",
      "metadata": {
        "colab": {
          "base_uri": "https://localhost:8080/",
          "height": 372
        },
        "id": "SsHeOTJ7hDLY",
        "outputId": "571bcf97-fa5f-4abe-f978-645d2dd18293"
      },
      "source": [
        "plt.figure(figsize=(5, 5))\n",
        "plt.plot(mean_f_scores_valid)\n",
        "plt.grid()\n",
        "plt.title('F-scores on validation')\n",
        "plt.xlabel('Iterations')\n",
        "plt.ylabel('f-score')"
      ],
      "execution_count": null,
      "outputs": [
        {
          "output_type": "execute_result",
          "data": {
            "text/plain": [
              "Text(0, 0.5, 'f-score')"
            ]
          },
          "metadata": {
            "tags": []
          },
          "execution_count": 128
        },
        {
          "output_type": "display_data",
          "data": {
            "image/png": "[encoded data removed]",
            "text/plain": [
              "<Figure size 360x360 with 1 Axes>"
            ]
          },
          "metadata": {
            "tags": []
          }
        }
      ]
    },
    {
      "cell_type": "markdown",
      "metadata": {
        "id": "VgeC-w90gh7C"
      },
      "source": [
        "График лосса"
      ]
    },
    {
      "cell_type": "code",
      "metadata": {
        "id": "pdb6so4x4-Gs",
        "colab": {
          "base_uri": "https://localhost:8080/",
          "height": 481
        },
        "outputId": "9b35ee02-dbd9-4394-d3e9-a5ff7248c6df"
      },
      "source": [
        "plt.figure(figsize=(7, 7))\n",
        "plt.plot(losses)\n",
        "plt.grid()\n",
        "plt.title('Training process')\n",
        "plt.xlabel('Iterations')\n",
        "plt.ylabel('Loss function')"
      ],
      "execution_count": null,
      "outputs": [
        {
          "output_type": "execute_result",
          "data": {
            "text/plain": [
              "Text(0, 0.5, 'Loss function')"
            ]
          },
          "metadata": {
            "tags": []
          },
          "execution_count": 129
        },
        {
          "output_type": "display_data",
          "data": {
            "image/png": "[encoded data removed]",
            "text/plain": [
              "<Figure size 504x504 with 1 Axes>"
            ]
          },
          "metadata": {
            "tags": []
          }
        }
      ]
    },
    {
      "cell_type": "markdown",
      "metadata": {
        "id": "23V_Rbz8hVBn"
      },
      "source": [
        "Конфьюжн матрица со значениями валидации"
      ]
    },
    {
      "cell_type": "code",
      "metadata": {
        "id": "PIkon2tHhT1m"
      },
      "source": [
        "import seaborn as sns; sns.set()\n",
        "from sklearn.metrics import confusion_matrix"
      ],
      "execution_count": null,
      "outputs": []
    },
    {
      "cell_type": "code",
      "metadata": {
        "id": "Uy4iL86VL0jo"
      },
      "source": [
        "model.eval()\n",
        "y_true = list()\n",
        "y_pred = list()\n",
        "for x, y in valid_loader:\n",
        "  x = x.to(device)\n",
        "  y = y.to(device)\n",
        "  with torch.no_grad():\n",
        "    pred = model.forward(x)\n",
        "    pred = torch.softmax(pred, dim=-1)\n",
        "    y_pred.extend(pred.cpu().argmax(1))\n",
        "    y_true.extend(y.cpu())"
      ],
      "execution_count": null,
      "outputs": []
    },
    {
      "cell_type": "code",
      "metadata": {
        "colab": {
          "base_uri": "https://localhost:8080/",
          "height": 284
        },
        "id": "-LqnxY3jhYBW",
        "outputId": "19e43b5d-09c4-4a6d-beb1-0d7c5758095f"
      },
      "source": [
        "sns.heatmap(data=confusion_matrix(y_true, y_pred), annot=True, fmt=\"d\", cbar=False, xticklabels=category2index.values(), yticklabels=category2index.values())\n",
        "plt.title(\"Confusion matrix\")\n",
        "plt.show()"
      ],
      "execution_count": null,
      "outputs": [
        {
          "output_type": "display_data",
          "data": {
            "image/png": "[encoded data removed]",
            "text/plain": [
              "<Figure size 432x288 with 1 Axes>"
            ]
          },
          "metadata": {
            "tags": []
          }
        }
      ]
    }
  ]
}