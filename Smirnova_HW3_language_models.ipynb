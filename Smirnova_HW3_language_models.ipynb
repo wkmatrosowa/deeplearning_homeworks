{
  "nbformat": 4,
  "nbformat_minor": 0,
  "metadata": {
    "kernelspec": {
      "display_name": "Python 3",
      "language": "python",
      "name": "python3"
    },
    "language_info": {
      "codemirror_mode": {
        "name": "ipython",
        "version": 3
      },
      "file_extension": ".py",
      "mimetype": "text/x-python",
      "name": "python",
      "nbconvert_exporter": "python",
      "pygments_lexer": "ipython3",
      "version": "3.7.4"
    },
    "colab": {
      "name": "Smirnova_HW3_language_models.ipynb",
      "provenance": [],
      "collapsed_sections": [
        "8-zdEmG1LTse"
      ],
      "toc_visible": true,
      "include_colab_link": true
    },
    "accelerator": "GPU"
  },
  "cells": [
    {
      "cell_type": "markdown",
      "metadata": {
        "id": "view-in-github",
        "colab_type": "text"
      },
      "source": [
        "<a href=\"https://colab.research.google.com/github/wksmirnowa/deeplearning_homeworks/blob/master/Smirnova_HW3_language_models.ipynb\" target=\"_parent\"><img src=\"https://colab.research.google.com/assets/colab-badge.svg\" alt=\"Open In Colab\"/></a>"
      ]
    },
    {
      "cell_type": "markdown",
      "metadata": {
        "id": "M5OH7_1oLTsC"
      },
      "source": [
        "# Туториал по языковым моделям на базе RNN"
      ]
    },
    {
      "cell_type": "code",
      "metadata": {
        "id": "e7KQ1n0ULTsE"
      },
      "source": [
        "# # библиотека для BPE токенизации\n",
        "# # https://github.com/VKCOM/YouTokenToMe\n",
        "# !pip install youtokentome"
      ],
      "execution_count": null,
      "outputs": []
    },
    {
      "cell_type": "code",
      "metadata": {
        "colab": {
          "base_uri": "https://localhost:8080/"
        },
        "id": "h_SAxcHNijZI",
        "outputId": "0d1cfbd0-4ce2-45d8-fe52-286bd0d0c2a6"
      },
      "source": [
        "from google.colab import drive\n",
        "drive.mount('/content/drive')"
      ],
      "execution_count": null,
      "outputs": [
        {
          "output_type": "stream",
          "text": [
            "Mounted at /content/drive\n"
          ],
          "name": "stdout"
        }
      ]
    },
    {
      "cell_type": "code",
      "metadata": {
        "colab": {
          "base_uri": "https://localhost:8080/"
        },
        "id": "V86TIrcBiUzM",
        "outputId": "8ed655db-7561-4ec4-aade-14b385df3792"
      },
      "source": [
        "!pip install youtokentome"
      ],
      "execution_count": null,
      "outputs": [
        {
          "output_type": "stream",
          "text": [
            "Collecting youtokentome\n",
            "\u001b[?25l  Downloading https://files.pythonhosted.org/packages/a3/65/4a86cf99da3f680497ae132329025b291e2fda22327e8da6a9476e51acb1/youtokentome-1.0.6-cp36-cp36m-manylinux2010_x86_64.whl (1.7MB)\n",
            "\r\u001b[K     |▏                               | 10kB 16.1MB/s eta 0:00:01\r\u001b[K     |▍                               | 20kB 23.1MB/s eta 0:00:01\r\u001b[K     |▋                               | 30kB 26.3MB/s eta 0:00:01\r\u001b[K     |▊                               | 40kB 20.3MB/s eta 0:00:01\r\u001b[K     |█                               | 51kB 14.1MB/s eta 0:00:01\r\u001b[K     |█▏                              | 61kB 14.6MB/s eta 0:00:01\r\u001b[K     |█▍                              | 71kB 14.3MB/s eta 0:00:01\r\u001b[K     |█▌                              | 81kB 15.5MB/s eta 0:00:01\r\u001b[K     |█▊                              | 92kB 16.8MB/s eta 0:00:01\r\u001b[K     |██                              | 102kB 14.8MB/s eta 0:00:01\r\u001b[K     |██                              | 112kB 14.8MB/s eta 0:00:01\r\u001b[K     |██▎                             | 122kB 14.8MB/s eta 0:00:01\r\u001b[K     |██▌                             | 133kB 14.8MB/s eta 0:00:01\r\u001b[K     |██▊                             | 143kB 14.8MB/s eta 0:00:01\r\u001b[K     |██▉                             | 153kB 14.8MB/s eta 0:00:01\r\u001b[K     |███                             | 163kB 14.8MB/s eta 0:00:01\r\u001b[K     |███▎                            | 174kB 14.8MB/s eta 0:00:01\r\u001b[K     |███▌                            | 184kB 14.8MB/s eta 0:00:01\r\u001b[K     |███▋                            | 194kB 14.8MB/s eta 0:00:01\r\u001b[K     |███▉                            | 204kB 14.8MB/s eta 0:00:01\r\u001b[K     |████                            | 215kB 14.8MB/s eta 0:00:01\r\u001b[K     |████▏                           | 225kB 14.8MB/s eta 0:00:01\r\u001b[K     |████▍                           | 235kB 14.8MB/s eta 0:00:01\r\u001b[K     |████▋                           | 245kB 14.8MB/s eta 0:00:01\r\u001b[K     |████▉                           | 256kB 14.8MB/s eta 0:00:01\r\u001b[K     |█████                           | 266kB 14.8MB/s eta 0:00:01\r\u001b[K     |█████▏                          | 276kB 14.8MB/s eta 0:00:01\r\u001b[K     |█████▍                          | 286kB 14.8MB/s eta 0:00:01\r\u001b[K     |█████▋                          | 296kB 14.8MB/s eta 0:00:01\r\u001b[K     |█████▊                          | 307kB 14.8MB/s eta 0:00:01\r\u001b[K     |██████                          | 317kB 14.8MB/s eta 0:00:01\r\u001b[K     |██████▏                         | 327kB 14.8MB/s eta 0:00:01\r\u001b[K     |██████▎                         | 337kB 14.8MB/s eta 0:00:01\r\u001b[K     |██████▌                         | 348kB 14.8MB/s eta 0:00:01\r\u001b[K     |██████▊                         | 358kB 14.8MB/s eta 0:00:01\r\u001b[K     |███████                         | 368kB 14.8MB/s eta 0:00:01\r\u001b[K     |███████                         | 378kB 14.8MB/s eta 0:00:01\r\u001b[K     |███████▎                        | 389kB 14.8MB/s eta 0:00:01\r\u001b[K     |███████▌                        | 399kB 14.8MB/s eta 0:00:01\r\u001b[K     |███████▋                        | 409kB 14.8MB/s eta 0:00:01\r\u001b[K     |███████▉                        | 419kB 14.8MB/s eta 0:00:01\r\u001b[K     |████████                        | 430kB 14.8MB/s eta 0:00:01\r\u001b[K     |████████▎                       | 440kB 14.8MB/s eta 0:00:01\r\u001b[K     |████████▍                       | 450kB 14.8MB/s eta 0:00:01\r\u001b[K     |████████▋                       | 460kB 14.8MB/s eta 0:00:01\r\u001b[K     |████████▉                       | 471kB 14.8MB/s eta 0:00:01\r\u001b[K     |█████████                       | 481kB 14.8MB/s eta 0:00:01\r\u001b[K     |█████████▏                      | 491kB 14.8MB/s eta 0:00:01\r\u001b[K     |█████████▍                      | 501kB 14.8MB/s eta 0:00:01\r\u001b[K     |█████████▋                      | 512kB 14.8MB/s eta 0:00:01\r\u001b[K     |█████████▊                      | 522kB 14.8MB/s eta 0:00:01\r\u001b[K     |██████████                      | 532kB 14.8MB/s eta 0:00:01\r\u001b[K     |██████████▏                     | 542kB 14.8MB/s eta 0:00:01\r\u001b[K     |██████████▍                     | 552kB 14.8MB/s eta 0:00:01\r\u001b[K     |██████████▌                     | 563kB 14.8MB/s eta 0:00:01\r\u001b[K     |██████████▊                     | 573kB 14.8MB/s eta 0:00:01\r\u001b[K     |███████████                     | 583kB 14.8MB/s eta 0:00:01\r\u001b[K     |███████████▏                    | 593kB 14.8MB/s eta 0:00:01\r\u001b[K     |███████████▎                    | 604kB 14.8MB/s eta 0:00:01\r\u001b[K     |███████████▌                    | 614kB 14.8MB/s eta 0:00:01\r\u001b[K     |███████████▊                    | 624kB 14.8MB/s eta 0:00:01\r\u001b[K     |███████████▉                    | 634kB 14.8MB/s eta 0:00:01\r\u001b[K     |████████████                    | 645kB 14.8MB/s eta 0:00:01\r\u001b[K     |████████████▎                   | 655kB 14.8MB/s eta 0:00:01\r\u001b[K     |████████████▌                   | 665kB 14.8MB/s eta 0:00:01\r\u001b[K     |████████████▋                   | 675kB 14.8MB/s eta 0:00:01\r\u001b[K     |████████████▉                   | 686kB 14.8MB/s eta 0:00:01\r\u001b[K     |█████████████                   | 696kB 14.8MB/s eta 0:00:01\r\u001b[K     |█████████████▏                  | 706kB 14.8MB/s eta 0:00:01\r\u001b[K     |█████████████▍                  | 716kB 14.8MB/s eta 0:00:01\r\u001b[K     |█████████████▋                  | 727kB 14.8MB/s eta 0:00:01\r\u001b[K     |█████████████▉                  | 737kB 14.8MB/s eta 0:00:01\r\u001b[K     |██████████████                  | 747kB 14.8MB/s eta 0:00:01\r\u001b[K     |██████████████▏                 | 757kB 14.8MB/s eta 0:00:01\r\u001b[K     |██████████████▍                 | 768kB 14.8MB/s eta 0:00:01\r\u001b[K     |██████████████▋                 | 778kB 14.8MB/s eta 0:00:01\r\u001b[K     |██████████████▊                 | 788kB 14.8MB/s eta 0:00:01\r\u001b[K     |███████████████                 | 798kB 14.8MB/s eta 0:00:01\r\u001b[K     |███████████████▏                | 808kB 14.8MB/s eta 0:00:01\r\u001b[K     |███████████████▎                | 819kB 14.8MB/s eta 0:00:01\r\u001b[K     |███████████████▌                | 829kB 14.8MB/s eta 0:00:01\r\u001b[K     |███████████████▊                | 839kB 14.8MB/s eta 0:00:01\r\u001b[K     |████████████████                | 849kB 14.8MB/s eta 0:00:01\r\u001b[K     |████████████████                | 860kB 14.8MB/s eta 0:00:01\r\u001b[K     |████████████████▎               | 870kB 14.8MB/s eta 0:00:01\r\u001b[K     |████████████████▌               | 880kB 14.8MB/s eta 0:00:01\r\u001b[K     |████████████████▊               | 890kB 14.8MB/s eta 0:00:01\r\u001b[K     |████████████████▉               | 901kB 14.8MB/s eta 0:00:01\r\u001b[K     |█████████████████               | 911kB 14.8MB/s eta 0:00:01\r\u001b[K     |█████████████████▎              | 921kB 14.8MB/s eta 0:00:01\r\u001b[K     |█████████████████▍              | 931kB 14.8MB/s eta 0:00:01\r\u001b[K     |█████████████████▋              | 942kB 14.8MB/s eta 0:00:01\r\u001b[K     |█████████████████▉              | 952kB 14.8MB/s eta 0:00:01\r\u001b[K     |██████████████████              | 962kB 14.8MB/s eta 0:00:01\r\u001b[K     |██████████████████▏             | 972kB 14.8MB/s eta 0:00:01\r\u001b[K     |██████████████████▍             | 983kB 14.8MB/s eta 0:00:01\r\u001b[K     |██████████████████▋             | 993kB 14.8MB/s eta 0:00:01\r\u001b[K     |██████████████████▉             | 1.0MB 14.8MB/s eta 0:00:01\r\u001b[K     |███████████████████             | 1.0MB 14.8MB/s eta 0:00:01\r\u001b[K     |███████████████████▏            | 1.0MB 14.8MB/s eta 0:00:01\r\u001b[K     |███████████████████▍            | 1.0MB 14.8MB/s eta 0:00:01\r\u001b[K     |███████████████████▌            | 1.0MB 14.8MB/s eta 0:00:01\r\u001b[K     |███████████████████▊            | 1.1MB 14.8MB/s eta 0:00:01\r\u001b[K     |████████████████████            | 1.1MB 14.8MB/s eta 0:00:01\r\u001b[K     |████████████████████▏           | 1.1MB 14.8MB/s eta 0:00:01\r\u001b[K     |████████████████████▎           | 1.1MB 14.8MB/s eta 0:00:01\r\u001b[K     |████████████████████▌           | 1.1MB 14.8MB/s eta 0:00:01\r\u001b[K     |████████████████████▊           | 1.1MB 14.8MB/s eta 0:00:01\r\u001b[K     |████████████████████▉           | 1.1MB 14.8MB/s eta 0:00:01\r\u001b[K     |█████████████████████           | 1.1MB 14.8MB/s eta 0:00:01\r\u001b[K     |█████████████████████▎          | 1.1MB 14.8MB/s eta 0:00:01\r\u001b[K     |█████████████████████▌          | 1.1MB 14.8MB/s eta 0:00:01\r\u001b[K     |█████████████████████▋          | 1.2MB 14.8MB/s eta 0:00:01\r\u001b[K     |█████████████████████▉          | 1.2MB 14.8MB/s eta 0:00:01\r\u001b[K     |██████████████████████          | 1.2MB 14.8MB/s eta 0:00:01\r\u001b[K     |██████████████████████▎         | 1.2MB 14.8MB/s eta 0:00:01\r\u001b[K     |██████████████████████▍         | 1.2MB 14.8MB/s eta 0:00:01\r\u001b[K     |██████████████████████▋         | 1.2MB 14.8MB/s eta 0:00:01\r\u001b[K     |██████████████████████▉         | 1.2MB 14.8MB/s eta 0:00:01\r\u001b[K     |███████████████████████         | 1.2MB 14.8MB/s eta 0:00:01\r\u001b[K     |███████████████████████▏        | 1.2MB 14.8MB/s eta 0:00:01\r\u001b[K     |███████████████████████▍        | 1.2MB 14.8MB/s eta 0:00:01\r\u001b[K     |███████████████████████▋        | 1.3MB 14.8MB/s eta 0:00:01\r\u001b[K     |███████████████████████▊        | 1.3MB 14.8MB/s eta 0:00:01\r\u001b[K     |████████████████████████        | 1.3MB 14.8MB/s eta 0:00:01\r\u001b[K     |████████████████████████▏       | 1.3MB 14.8MB/s eta 0:00:01\r\u001b[K     |████████████████████████▍       | 1.3MB 14.8MB/s eta 0:00:01\r\u001b[K     |████████████████████████▌       | 1.3MB 14.8MB/s eta 0:00:01\r\u001b[K     |████████████████████████▊       | 1.3MB 14.8MB/s eta 0:00:01\r\u001b[K     |█████████████████████████       | 1.3MB 14.8MB/s eta 0:00:01\r\u001b[K     |█████████████████████████       | 1.3MB 14.8MB/s eta 0:00:01\r\u001b[K     |█████████████████████████▎      | 1.4MB 14.8MB/s eta 0:00:01\r\u001b[K     |█████████████████████████▌      | 1.4MB 14.8MB/s eta 0:00:01\r\u001b[K     |█████████████████████████▊      | 1.4MB 14.8MB/s eta 0:00:01\r\u001b[K     |█████████████████████████▉      | 1.4MB 14.8MB/s eta 0:00:01\r\u001b[K     |██████████████████████████      | 1.4MB 14.8MB/s eta 0:00:01\r\u001b[K     |██████████████████████████▎     | 1.4MB 14.8MB/s eta 0:00:01\r\u001b[K     |██████████████████████████▍     | 1.4MB 14.8MB/s eta 0:00:01\r\u001b[K     |██████████████████████████▋     | 1.4MB 14.8MB/s eta 0:00:01\r\u001b[K     |██████████████████████████▉     | 1.4MB 14.8MB/s eta 0:00:01\r\u001b[K     |███████████████████████████     | 1.4MB 14.8MB/s eta 0:00:01\r\u001b[K     |███████████████████████████▏    | 1.5MB 14.8MB/s eta 0:00:01\r\u001b[K     |███████████████████████████▍    | 1.5MB 14.8MB/s eta 0:00:01\r\u001b[K     |███████████████████████████▋    | 1.5MB 14.8MB/s eta 0:00:01\r\u001b[K     |███████████████████████████▉    | 1.5MB 14.8MB/s eta 0:00:01\r\u001b[K     |████████████████████████████    | 1.5MB 14.8MB/s eta 0:00:01\r\u001b[K     |████████████████████████████▏   | 1.5MB 14.8MB/s eta 0:00:01\r\u001b[K     |████████████████████████████▍   | 1.5MB 14.8MB/s eta 0:00:01\r\u001b[K     |████████████████████████████▌   | 1.5MB 14.8MB/s eta 0:00:01\r\u001b[K     |████████████████████████████▊   | 1.5MB 14.8MB/s eta 0:00:01\r\u001b[K     |█████████████████████████████   | 1.5MB 14.8MB/s eta 0:00:01\r\u001b[K     |█████████████████████████████▏  | 1.6MB 14.8MB/s eta 0:00:01\r\u001b[K     |█████████████████████████████▎  | 1.6MB 14.8MB/s eta 0:00:01\r\u001b[K     |█████████████████████████████▌  | 1.6MB 14.8MB/s eta 0:00:01\r\u001b[K     |█████████████████████████████▊  | 1.6MB 14.8MB/s eta 0:00:01\r\u001b[K     |██████████████████████████████  | 1.6MB 14.8MB/s eta 0:00:01\r\u001b[K     |██████████████████████████████  | 1.6MB 14.8MB/s eta 0:00:01\r\u001b[K     |██████████████████████████████▎ | 1.6MB 14.8MB/s eta 0:00:01\r\u001b[K     |██████████████████████████████▌ | 1.6MB 14.8MB/s eta 0:00:01\r\u001b[K     |██████████████████████████████▋ | 1.6MB 14.8MB/s eta 0:00:01\r\u001b[K     |██████████████████████████████▉ | 1.6MB 14.8MB/s eta 0:00:01\r\u001b[K     |███████████████████████████████ | 1.7MB 14.8MB/s eta 0:00:01\r\u001b[K     |███████████████████████████████▎| 1.7MB 14.8MB/s eta 0:00:01\r\u001b[K     |███████████████████████████████▍| 1.7MB 14.8MB/s eta 0:00:01\r\u001b[K     |███████████████████████████████▋| 1.7MB 14.8MB/s eta 0:00:01\r\u001b[K     |███████████████████████████████▉| 1.7MB 14.8MB/s eta 0:00:01\r\u001b[K     |████████████████████████████████| 1.7MB 14.8MB/s eta 0:00:01\r\u001b[K     |████████████████████████████████| 1.7MB 14.8MB/s \n",
            "\u001b[?25hRequirement already satisfied: Click>=7.0 in /usr/local/lib/python3.6/dist-packages (from youtokentome) (7.1.2)\n",
            "Installing collected packages: youtokentome\n",
            "Successfully installed youtokentome-1.0.6\n"
          ],
          "name": "stdout"
        }
      ]
    },
    {
      "cell_type": "code",
      "metadata": {
        "colab": {
          "base_uri": "https://localhost:8080/"
        },
        "id": "ogqPPjMZifTb",
        "outputId": "2b533c2a-465c-46c3-90cb-2bd4ff631235"
      },
      "source": [
        "!unzip /content/drive/MyDrive/dl_hw3/unsupervised.csv.zip\n",
        "!unzip /content/drive/MyDrive/dl_hw3/qa_data.jsonl.zip"
      ],
      "execution_count": null,
      "outputs": [
        {
          "output_type": "stream",
          "text": [
            "Archive:  /content/drive/MyDrive/dl_hw3/unsupervised.csv.zip\n",
            "  inflating: unsupervised.csv        \n",
            "Archive:  /content/drive/MyDrive/dl_hw3/qa_data.jsonl.zip\n",
            "  inflating: qa_data.jsonl           \n",
            "  inflating: __MACOSX/._qa_data.jsonl  \n"
          ],
          "name": "stdout"
        }
      ]
    },
    {
      "cell_type": "markdown",
      "metadata": {
        "id": "wdMSLtLtLTsF"
      },
      "source": [
        "### Импортирование библиотек"
      ]
    },
    {
      "cell_type": "code",
      "metadata": {
        "id": "cgEvwqCMLTsF"
      },
      "source": [
        "import math\n",
        "import numpy as np\n",
        "import pandas as pd\n",
        "\n",
        "import random\n",
        "import json\n",
        "import torch\n",
        "from torch.utils.data import Dataset, DataLoader\n",
        "\n",
        "from tqdm import tqdm\n",
        "\n",
        "from matplotlib import pyplot as plt\n",
        "\n",
        "import youtokentome as yttm"
      ],
      "execution_count": null,
      "outputs": []
    },
    {
      "cell_type": "code",
      "metadata": {
        "id": "Stmr5ycDLTsG"
      },
      "source": [
        "# для языковой модели мы будем использовать неразмеченные вопросы\n",
        "questions = pd.read_csv('unsupervised.csv')\n",
        "questions.question = questions.question.map(lambda x: x.lower())"
      ],
      "execution_count": null,
      "outputs": []
    },
    {
      "cell_type": "code",
      "metadata": {
        "id": "3YLbQOwcLTsG",
        "colab": {
          "base_uri": "https://localhost:8080/",
          "height": 359
        },
        "outputId": "abd742ba-17bc-4e79-dcd5-1bbe369ea66b"
      },
      "source": [
        "questions.head(10)"
      ],
      "execution_count": null,
      "outputs": [
        {
          "output_type": "execute_result",
          "data": {
            "text/html": [
              "<div>\n",
              "<style scoped>\n",
              "    .dataframe tbody tr th:only-of-type {\n",
              "        vertical-align: middle;\n",
              "    }\n",
              "\n",
              "    .dataframe tbody tr th {\n",
              "        vertical-align: top;\n",
              "    }\n",
              "\n",
              "    .dataframe thead th {\n",
              "        text-align: right;\n",
              "    }\n",
              "</style>\n",
              "<table border=\"1\" class=\"dataframe\">\n",
              "  <thead>\n",
              "    <tr style=\"text-align: right;\">\n",
              "      <th></th>\n",
              "      <th>question</th>\n",
              "    </tr>\n",
              "  </thead>\n",
              "  <tbody>\n",
              "    <tr>\n",
              "      <th>0</th>\n",
              "      <td>положено ли пособие опекаемому ребенку, обучаю...</td>\n",
              "    </tr>\n",
              "    <tr>\n",
              "      <th>1</th>\n",
              "      <td>где скачать прогу для записи видео онлайн. зар...</td>\n",
              "    </tr>\n",
              "    <tr>\n",
              "      <th>2</th>\n",
              "      <td>физика амперы метрология помогите</td>\n",
              "    </tr>\n",
              "    <tr>\n",
              "      <th>3</th>\n",
              "      <td>имеет ли многодетная семья \"скидку\" на услуги ...</td>\n",
              "    </tr>\n",
              "    <tr>\n",
              "      <th>4</th>\n",
              "      <td>пенсия по инвалидности и старости...</td>\n",
              "    </tr>\n",
              "    <tr>\n",
              "      <th>5</th>\n",
              "      <td>назовите несколько инженерных специальностей, ...</td>\n",
              "    </tr>\n",
              "    <tr>\n",
              "      <th>6</th>\n",
              "      <td>в ваших iq тестах есть вопросы на знание унита...</td>\n",
              "    </tr>\n",
              "    <tr>\n",
              "      <th>7</th>\n",
              "      <td>какие обязанности у уборщицы в отделении реани...</td>\n",
              "    </tr>\n",
              "    <tr>\n",
              "      <th>8</th>\n",
              "      <td>что с работой уходить или оставаться?</td>\n",
              "    </tr>\n",
              "    <tr>\n",
              "      <th>9</th>\n",
              "      <td>как из корня имбиря выжать сок ??(чтоб чуток р...</td>\n",
              "    </tr>\n",
              "  </tbody>\n",
              "</table>\n",
              "</div>"
            ],
            "text/plain": [
              "                                            question\n",
              "0  положено ли пособие опекаемому ребенку, обучаю...\n",
              "1  где скачать прогу для записи видео онлайн. зар...\n",
              "2                  физика амперы метрология помогите\n",
              "3  имеет ли многодетная семья \"скидку\" на услуги ...\n",
              "4               пенсия по инвалидности и старости...\n",
              "5  назовите несколько инженерных специальностей, ...\n",
              "6  в ваших iq тестах есть вопросы на знание унита...\n",
              "7  какие обязанности у уборщицы в отделении реани...\n",
              "8              что с работой уходить или оставаться?\n",
              "9  как из корня имбиря выжать сок ??(чтоб чуток р..."
            ]
          },
          "metadata": {
            "tags": []
          },
          "execution_count": 7
        }
      ]
    },
    {
      "cell_type": "markdown",
      "metadata": {
        "id": "XFi9fcKwLTsH"
      },
      "source": [
        "## Обучение BPE"
      ]
    },
    {
      "cell_type": "code",
      "metadata": {
        "id": "C62ED7M1LTsH"
      },
      "source": [
        "# # для \"обучения\" bpe модели нам нужно сохранить данные для обучения в отдельный файл\n",
        "# # где будут построчно храниться тексты\n",
        "# # раскомментируйте этот код, чтобы собрать такой файл\n",
        "# with open('for_bpe.txt', 'w', encoding='utf-8') as f:\n",
        "#     for que in questions.question:\n",
        "#         f.write(que + '\\n')\n",
        "        \n",
        "# параметры\n",
        "vocab_size = 30_000\n",
        "model_path = '/content/drive/MyDrive/dl_hw3/pretrained_bpe_lm.model'\n",
        "data_path = '/content/drive/MyDrive/dl_hw3/for_bpe.txt'"
      ],
      "execution_count": null,
      "outputs": []
    },
    {
      "cell_type": "code",
      "metadata": {
        "id": "JQXXSF3TLTsH",
        "colab": {
          "base_uri": "https://localhost:8080/"
        },
        "outputId": "b0660b2f-aba0-478d-e28d-aded48bdfb4b"
      },
      "source": [
        "# %%time\n",
        "# # обучаем\n",
        "# # раскомментируйте этот код, чтобы обучить bpe\n",
        "# yttm.BPE.train(data=data_path, vocab_size=vocab_size, model=model_path)"
      ],
      "execution_count": null,
      "outputs": [
        {
          "output_type": "stream",
          "text": [
            "CPU times: user 24.7 s, sys: 2.24 s, total: 27 s\n",
            "Wall time: 19.2 s\n"
          ],
          "name": "stdout"
        },
        {
          "output_type": "execute_result",
          "data": {
            "text/plain": [
              "<youtokentome.youtokentome.BPE at 0x7f554e7b8390>"
            ]
          },
          "metadata": {
            "tags": []
          },
          "execution_count": 9
        }
      ]
    },
    {
      "cell_type": "code",
      "metadata": {
        "id": "2GG8jJIALTsI"
      },
      "source": [
        "# загружаем токенизатор\n",
        "tokenizer = yttm.BPE(model=model_path)"
      ],
      "execution_count": null,
      "outputs": []
    },
    {
      "cell_type": "code",
      "metadata": {
        "id": "qM9N6P53LTsI",
        "colab": {
          "base_uri": "https://localhost:8080/"
        },
        "outputId": "95fe632e-62b2-44c1-f3fb-b876324cced5"
      },
      "source": [
        "tokenizer.vocab()[:15]"
      ],
      "execution_count": null,
      "outputs": [
        {
          "output_type": "execute_result",
          "data": {
            "text/plain": [
              "['<PAD>',\n",
              " '<UNK>',\n",
              " '<BOS>',\n",
              " '<EOS>',\n",
              " '▁',\n",
              " 'о',\n",
              " 'а',\n",
              " 'е',\n",
              " 'т',\n",
              " 'и',\n",
              " 'н',\n",
              " 'с',\n",
              " 'р',\n",
              " 'к',\n",
              " 'л']"
            ]
          },
          "metadata": {
            "tags": []
          },
          "execution_count": 8
        }
      ]
    },
    {
      "cell_type": "code",
      "metadata": {
        "id": "oo9fdJbzLTsI",
        "colab": {
          "base_uri": "https://localhost:8080/"
        },
        "outputId": "3d96beab-3645-431d-ba9c-0340c94ee6cd"
      },
      "source": [
        "# пример токенизации с выводом на уровне сабвордов\n",
        "tokenizer.encode(list(questions.question[:2]), bos=True, eos=True, output_type=yttm.OutputType.SUBWORD)"
      ],
      "execution_count": null,
      "outputs": [
        {
          "output_type": "execute_result",
          "data": {
            "text/plain": [
              "[['<BOS>',\n",
              "  '▁положено',\n",
              "  '▁ли',\n",
              "  '▁пособие',\n",
              "  '▁опека',\n",
              "  'емо',\n",
              "  'му',\n",
              "  '▁ребен',\n",
              "  'ку,',\n",
              "  '▁обуча',\n",
              "  'ющему',\n",
              "  'ся',\n",
              "  '▁в',\n",
              "  '▁колледже',\n",
              "  ',',\n",
              "  '▁после',\n",
              "  '▁18',\n",
              "  '▁лет?',\n",
              "  '<EOS>'],\n",
              " ['<BOS>',\n",
              "  '▁где',\n",
              "  '▁скачать',\n",
              "  '▁прогу',\n",
              "  '▁для',\n",
              "  '▁записи',\n",
              "  '▁видео',\n",
              "  '▁онлайн.',\n",
              "  '▁заранее',\n",
              "  '▁благодарен',\n",
              "  '!',\n",
              "  '<EOS>']]"
            ]
          },
          "metadata": {
            "tags": []
          },
          "execution_count": 13
        }
      ]
    },
    {
      "cell_type": "code",
      "metadata": {
        "id": "3VBBKjbQLTsJ",
        "colab": {
          "base_uri": "https://localhost:8080/"
        },
        "outputId": "7684f4fd-85cd-4ffb-d6a3-6cf0e57c8815"
      },
      "source": [
        "# пример токенизации с выводом на уровне индексов\n",
        "# как раз это нам и понадобится\n",
        "tokenizer.encode(list(questions.question[:2]), bos=True, eos=True)"
      ],
      "execution_count": null,
      "outputs": [
        {
          "output_type": "execute_result",
          "data": {
            "text/plain": [
              "[[2,\n",
              "  17159,\n",
              "  1827,\n",
              "  6986,\n",
              "  22120,\n",
              "  3393,\n",
              "  1936,\n",
              "  2800,\n",
              "  2973,\n",
              "  16624,\n",
              "  9760,\n",
              "  1820,\n",
              "  1774,\n",
              "  10516,\n",
              "  31,\n",
              "  2083,\n",
              "  2866,\n",
              "  3228,\n",
              "  3],\n",
              " [2, 1960, 3076, 7139, 1907, 6317, 2264, 22772, 3441, 8381, 45, 3]]"
            ]
          },
          "metadata": {
            "tags": []
          },
          "execution_count": 14
        }
      ]
    },
    {
      "cell_type": "code",
      "metadata": {
        "id": "udVIxvU2LTsJ",
        "colab": {
          "base_uri": "https://localhost:8080/"
        },
        "outputId": "3a6d18dc-0012-4899-b301-9598aaa759af"
      },
      "source": [
        "# проверим нет ли пропусков\n",
        "questions.isna().sum()"
      ],
      "execution_count": null,
      "outputs": [
        {
          "output_type": "execute_result",
          "data": {
            "text/plain": [
              "question    0\n",
              "dtype: int64"
            ]
          },
          "metadata": {
            "tags": []
          },
          "execution_count": 15
        }
      ]
    },
    {
      "cell_type": "code",
      "metadata": {
        "id": "bupHpuxaLTsK",
        "colab": {
          "base_uri": "https://localhost:8080/"
        },
        "outputId": "f89ae8a0-4ef7-4bad-d515-057fd76ae3e7"
      },
      "source": [
        "# давайте токенизируем наш датасет\n",
        "# токенизирую батчами, потому что так быстрее\n",
        "# также в начало добавляем токен bos (begin of sentence)\n",
        "# и в конец токен eos (end of sentence)\n",
        "\n",
        "tokenized = []\n",
        "\n",
        "batch_size = 256\n",
        "\n",
        "for i_batch in tqdm(range(math.ceil(len(questions.question) / batch_size))):\n",
        "    \n",
        "    tokenized.extend(tokenizer.encode(\n",
        "        list(questions.question[i_batch*batch_size:(i_batch+1)*batch_size]), bos=True, eos=False))"
      ],
      "execution_count": null,
      "outputs": [
        {
          "output_type": "stream",
          "text": [
            "100%|██████████| 9905/9905 [00:25<00:00, 386.36it/s]\n"
          ],
          "name": "stderr"
        }
      ]
    },
    {
      "cell_type": "markdown",
      "metadata": {
        "id": "FdM2gw1uLTsL"
      },
      "source": [
        "### Формат данных\n",
        "\n",
        "По последовательности \"мама мыла\" нужно предсказать последовательность \"мыла раму\". Передаешь последовательность из двух слов в сетку \"мама мыла\" и получаешь предсказания такой же длины. Для каждого слова из исходной последовательности предсказать следующее слово.\n",
        "\n",
        "То есть по слову \"мама\" предсказать \"мыла\", а по слову \"мыла\" при условии, что предыдущее слово было \"мама\", предсказать следующее слово \"раму\". Вот именно это понятие \"при условии, что предыдущее слово было\" реализует RNN за счет памяти от состояния к состоянию."
      ]
    },
    {
      "cell_type": "code",
      "metadata": {
        "id": "YK4O5Wm-LTsL"
      },
      "source": [
        "sequence = 'чем бы мне заняться на выходных'.split()\n",
        "\n",
        "source_sequence = ['bos'] + sequence\n",
        "target_sequence = sequence + ['eos']"
      ],
      "execution_count": null,
      "outputs": []
    },
    {
      "cell_type": "code",
      "metadata": {
        "id": "YkUm09L7LTsM",
        "colab": {
          "base_uri": "https://localhost:8080/"
        },
        "outputId": "76b5b31d-dfc0-4b8d-f92b-3a4a7206095c"
      },
      "source": [
        "for n in range(len(source_sequence)):\n",
        "    print(f'По токену \"{source_sequence[n]}\" предсказываем токен \"{target_sequence[n]}\"')\n",
        "    print('Или с точки зрения rnn')\n",
        "    message = f'По токену \"{source_sequence[n]}\" при условии того, что в памяти есть {source_sequence[:n]}'\n",
        "    message += f' предсказываем токен \"{target_sequence[n]}\"'\n",
        "    print(message)\n",
        "    print()"
      ],
      "execution_count": null,
      "outputs": [
        {
          "output_type": "stream",
          "text": [
            "По токену \"bos\" предсказываем токен \"чем\"\n",
            "Или с точки зрения rnn\n",
            "По токену \"bos\" при условии того, что в памяти есть [] предсказываем токен \"чем\"\n",
            "\n",
            "По токену \"чем\" предсказываем токен \"бы\"\n",
            "Или с точки зрения rnn\n",
            "По токену \"чем\" при условии того, что в памяти есть ['bos'] предсказываем токен \"бы\"\n",
            "\n",
            "По токену \"бы\" предсказываем токен \"мне\"\n",
            "Или с точки зрения rnn\n",
            "По токену \"бы\" при условии того, что в памяти есть ['bos', 'чем'] предсказываем токен \"мне\"\n",
            "\n",
            "По токену \"мне\" предсказываем токен \"заняться\"\n",
            "Или с точки зрения rnn\n",
            "По токену \"мне\" при условии того, что в памяти есть ['bos', 'чем', 'бы'] предсказываем токен \"заняться\"\n",
            "\n",
            "По токену \"заняться\" предсказываем токен \"на\"\n",
            "Или с точки зрения rnn\n",
            "По токену \"заняться\" при условии того, что в памяти есть ['bos', 'чем', 'бы', 'мне'] предсказываем токен \"на\"\n",
            "\n",
            "По токену \"на\" предсказываем токен \"выходных\"\n",
            "Или с точки зрения rnn\n",
            "По токену \"на\" при условии того, что в памяти есть ['bos', 'чем', 'бы', 'мне', 'заняться'] предсказываем токен \"выходных\"\n",
            "\n",
            "По токену \"выходных\" предсказываем токен \"eos\"\n",
            "Или с точки зрения rnn\n",
            "По токену \"выходных\" при условии того, что в памяти есть ['bos', 'чем', 'бы', 'мне', 'заняться', 'на'] предсказываем токен \"eos\"\n",
            "\n"
          ],
          "name": "stdout"
        }
      ]
    },
    {
      "cell_type": "code",
      "metadata": {
        "id": "VTnDMru_LTsM"
      },
      "source": [
        "class LanguageModelData(torch.utils.data.Dataset):\n",
        "    \n",
        "    def __init__(self, data, max_len, pad_index, eos_index):\n",
        "        \n",
        "        self.data = data\n",
        "        \n",
        "        self.max_len = max_len\n",
        "        \n",
        "        self.pad_index = pad_index\n",
        "        self.eos_index = eos_index\n",
        "        \n",
        "    def __len__(self):\n",
        "        return len(self.data)\n",
        "    \n",
        "    def __getitem__(self, index):\n",
        "        \n",
        "        sequence = self.data[index][:self.max_len]\n",
        "        \n",
        "        # исходная последовательность\n",
        "        x = sequence[:]\n",
        "        # нужно предсказать смещенную последовательность\n",
        "        y = sequence[1:] + [self.eos_index]\n",
        "        \n",
        "        assert len(x) == len(y)\n",
        "        \n",
        "        pads = [self.pad_index] * (self.max_len - len(x))\n",
        "        \n",
        "        x = torch.tensor(x + pads).long()\n",
        "        y = torch.tensor(y + pads).long()\n",
        "        \n",
        "        return x, y"
      ],
      "execution_count": null,
      "outputs": []
    },
    {
      "cell_type": "code",
      "metadata": {
        "id": "Qg7YcwalLTsN",
        "colab": {
          "base_uri": "https://localhost:8080/"
        },
        "outputId": "40718f15-09fc-47d7-e965-8bd77a1f4f55"
      },
      "source": [
        "# надо выбрать максимальную длину\n",
        "lengths = np.array([len(x) for x in tokenized])\n",
        "np.percentile(lengths, q=95)"
      ],
      "execution_count": null,
      "outputs": [
        {
          "output_type": "execute_result",
          "data": {
            "text/plain": [
              "27.0"
            ]
          },
          "metadata": {
            "tags": []
          },
          "execution_count": 19
        }
      ]
    },
    {
      "cell_type": "code",
      "metadata": {
        "id": "LuTYiDf7LTsN",
        "colab": {
          "base_uri": "https://localhost:8080/"
        },
        "outputId": "ddb3ad49-3011-42ad-85e0-d3e41fe24fbe"
      },
      "source": [
        "tokenizer.vocab()[:15]"
      ],
      "execution_count": null,
      "outputs": [
        {
          "output_type": "execute_result",
          "data": {
            "text/plain": [
              "['<PAD>',\n",
              " '<UNK>',\n",
              " '<BOS>',\n",
              " '<EOS>',\n",
              " '▁',\n",
              " 'о',\n",
              " 'а',\n",
              " 'е',\n",
              " 'т',\n",
              " 'и',\n",
              " 'н',\n",
              " 'с',\n",
              " 'р',\n",
              " 'к',\n",
              " 'л']"
            ]
          },
          "metadata": {
            "tags": []
          },
          "execution_count": 20
        }
      ]
    },
    {
      "cell_type": "code",
      "metadata": {
        "id": "zLCQb3wSLTsN"
      },
      "source": [
        "batch_size = 64\n",
        "\n",
        "max_len = 32\n",
        "\n",
        "pad_index = 0\n",
        "eos_index = 3"
      ],
      "execution_count": null,
      "outputs": []
    },
    {
      "cell_type": "code",
      "metadata": {
        "id": "2xxE018dLTsO"
      },
      "source": [
        "random.shuffle(tokenized)\n",
        "\n",
        "validation_start_index = int(len(tokenized) * 0.05)"
      ],
      "execution_count": null,
      "outputs": []
    },
    {
      "cell_type": "code",
      "metadata": {
        "id": "HPaQ3NbALTsO",
        "colab": {
          "base_uri": "https://localhost:8080/"
        },
        "outputId": "cc8c58ae-fbe5-4568-8da7-ab0e3b54d648"
      },
      "source": [
        "train_dataset = LanguageModelData(data=tokenized[:-validation_start_index], max_len=max_len, \n",
        "                                  pad_index=pad_index, eos_index=eos_index)\n",
        "validation_dataset = LanguageModelData(data=tokenized[-validation_start_index:], max_len=max_len,\n",
        "                                       pad_index=pad_index, eos_index=eos_index)\n",
        "\n",
        "len(train_dataset), len(validation_dataset)"
      ],
      "execution_count": null,
      "outputs": [
        {
          "output_type": "execute_result",
          "data": {
            "text/plain": [
              "(2408671, 126772)"
            ]
          },
          "metadata": {
            "tags": []
          },
          "execution_count": 23
        }
      ]
    },
    {
      "cell_type": "code",
      "metadata": {
        "id": "TJJHG4GrLTsP"
      },
      "source": [
        "train_loader = torch.utils.data.DataLoader(train_dataset, batch_size=batch_size)\n",
        "validation_loader = torch.utils.data.DataLoader(validation_dataset, batch_size=batch_size)"
      ],
      "execution_count": null,
      "outputs": []
    },
    {
      "cell_type": "code",
      "metadata": {
        "id": "APnCgj2mLTsP"
      },
      "source": [
        "for x, y in train_loader:\n",
        "    break"
      ],
      "execution_count": null,
      "outputs": []
    },
    {
      "cell_type": "code",
      "metadata": {
        "id": "aCI0TUldLTsP",
        "colab": {
          "base_uri": "https://localhost:8080/"
        },
        "outputId": "f048cae2-e76f-4c1a-fd47-94d847aedf60"
      },
      "source": [
        "x"
      ],
      "execution_count": null,
      "outputs": [
        {
          "output_type": "execute_result",
          "data": {
            "text/plain": [
              "tensor([[    2,  3164, 26893,  ...,     0,     0,     0],\n",
              "        [    2,  1956,  2073,  ...,     0,     0,     0],\n",
              "        [    2,  3483,  2836,  ...,     0,     0,     0],\n",
              "        ...,\n",
              "        [    2,  3153,  1827,  ...,     0,     0,     0],\n",
              "        [    2,  1866, 14823,  ...,     0,     0,     0],\n",
              "        [    2,  1774,  2735,  ...,     0,     0,     0]])"
            ]
          },
          "metadata": {
            "tags": []
          },
          "execution_count": 26
        }
      ]
    },
    {
      "cell_type": "code",
      "metadata": {
        "id": "gwcejCdGLTsP",
        "colab": {
          "base_uri": "https://localhost:8080/"
        },
        "outputId": "ad7c1a31-2f19-48c2-c0c6-5b12076644a3"
      },
      "source": [
        "y"
      ],
      "execution_count": null,
      "outputs": [
        {
          "output_type": "execute_result",
          "data": {
            "text/plain": [
              "tensor([[ 3164, 26893,  1784,  ...,     0,     0,     0],\n",
              "        [ 1956,  2073, 26667,  ...,     0,     0,     0],\n",
              "        [ 3483,  2836, 23695,  ...,     0,     0,     0],\n",
              "        ...,\n",
              "        [ 3153,  1827,  8863,  ...,     0,     0,     0],\n",
              "        [ 1866, 14823, 28698,  ...,     0,     0,     0],\n",
              "        [ 1774,  2735,  8673,  ...,     0,     0,     0]])"
            ]
          },
          "metadata": {
            "tags": []
          },
          "execution_count": 27
        }
      ]
    },
    {
      "cell_type": "code",
      "metadata": {
        "id": "Fx8xyG5KLTsQ",
        "colab": {
          "base_uri": "https://localhost:8080/"
        },
        "outputId": "e6592a32-67a5-4724-a6f3-b0f7dd2b36eb"
      },
      "source": [
        "# первое слово в source равняется нулевому слову в target\n",
        "x[:, 1] == y[:, 0]"
      ],
      "execution_count": null,
      "outputs": [
        {
          "output_type": "execute_result",
          "data": {
            "text/plain": [
              "tensor([True, True, True, True, True, True, True, True, True, True, True, True,\n",
              "        True, True, True, True, True, True, True, True, True, True, True, True,\n",
              "        True, True, True, True, True, True, True, True, True, True, True, True,\n",
              "        True, True, True, True, True, True, True, True, True, True, True, True,\n",
              "        True, True, True, True, True, True, True, True, True, True, True, True,\n",
              "        True, True, True, True])"
            ]
          },
          "metadata": {
            "tags": []
          },
          "execution_count": 28
        }
      ]
    },
    {
      "cell_type": "code",
      "metadata": {
        "id": "sfZXdwRGLTsQ",
        "colab": {
          "base_uri": "https://localhost:8080/"
        },
        "outputId": "153cfbdf-f384-4561-e25c-238bec850ac1"
      },
      "source": [
        "# пробежимся по итератору, чтобы убедиться что ничего не падает и он работает достаточно быстро\n",
        "\n",
        "progress_bar = tqdm(total=len(validation_loader.dataset), desc='Testing')\n",
        "\n",
        "for x, y in validation_loader:\n",
        "    progress_bar.update(x.size(0))\n",
        "    \n",
        "progress_bar.close()"
      ],
      "execution_count": null,
      "outputs": [
        {
          "output_type": "stream",
          "text": [
            "Testing: 100%|██████████| 126772/126772 [00:02<00:00, 54376.35it/s]\n"
          ],
          "name": "stderr"
        }
      ]
    },
    {
      "cell_type": "code",
      "metadata": {
        "id": "mxyn6-NmLTsQ"
      },
      "source": [
        "class LanguageModel(torch.nn.Module):\n",
        "    \n",
        "    def __init__(self, vocab_size, embedding_dim, model_dim, num_layers, dropout, padding_idx):\n",
        "        \n",
        "        super().__init__()\n",
        "        \n",
        "        # просто эмбеддинги\n",
        "        self.embedding_layer = torch.nn.Embedding(num_embeddings=vocab_size, \n",
        "                                                  embedding_dim=embedding_dim,\n",
        "                                                  padding_idx=padding_idx)\n",
        "        \n",
        "        # просто lstm\n",
        "        self.lstm = torch.nn.LSTM(input_size=embedding_dim, \n",
        "                                  hidden_size=model_dim,\n",
        "                                  num_layers=num_layers, \n",
        "                                  dropout=0.3,\n",
        "                                  batch_first=True)\n",
        "        \n",
        "        # выходная матрица эмбеддингов\n",
        "        # количество выходных фичей равно размеру словаря\n",
        "        # то есть это задача мультиклассовой классификации, но только классов очень много\n",
        "        self.language_model_head = torch.nn.Linear(in_features=model_dim,\n",
        "                                                   out_features=vocab_size,\n",
        "                                                   bias=False)\n",
        "        \n",
        "    def forward(self, x):\n",
        "        \n",
        "        x = self.embedding_layer(x)\n",
        "        \n",
        "        x, _ = self.lstm(x)\n",
        "        \n",
        "        # к каждому элементу последовательности применяется выходная матрица эмбеддингов, \n",
        "        # которая переводит вектор lstm в предсказание конкретного слова\n",
        "        x = self.language_model_head(x)\n",
        "        \n",
        "        return x"
      ],
      "execution_count": null,
      "outputs": []
    },
    {
      "cell_type": "markdown",
      "metadata": {
        "id": "ffnE75_2LTsR"
      },
      "source": [
        "###  Device\n",
        "\n",
        "Таким образом задается девайс, на котором мы будем обучаться. Мы можем указать либо гпу (вплоть до конкретной карты), либо цпу. В этой домашке нам обязательно понадобится гпу, так как на цпу обучение будет занимать слишко долгое время.\n",
        "\n",
        "Используйте для гпу такие сервисы:  \n",
        "Бесплатный: https://colab.research.google.com/  \n",
        "\n",
        "Почти бесплатный: https://vast.ai  \n",
        "Хороший выбор машины с гпу - 1080TI  \n",
        "Стоимость такой машины примерно 8 рублей в час"
      ]
    },
    {
      "cell_type": "code",
      "metadata": {
        "id": "uf_8_zoILTsR"
      },
      "source": [
        "assert torch.cuda.is_available(), 'у вас не находится гпу'\n",
        "\n",
        "device = torch.device('cuda')"
      ],
      "execution_count": null,
      "outputs": []
    },
    {
      "cell_type": "code",
      "metadata": {
        "id": "0rID4dBuLTsR"
      },
      "source": [
        "embedding_dim = 128\n",
        "model_dim = 128\n",
        "num_layers = 2\n",
        "dropout = 0.35"
      ],
      "execution_count": null,
      "outputs": []
    },
    {
      "cell_type": "code",
      "metadata": {
        "id": "EbHErT-KLTsS",
        "colab": {
          "base_uri": "https://localhost:8080/"
        },
        "outputId": "d2d3412e-0f92-44a5-b1a5-75fc0b94da9c"
      },
      "source": [
        "model = LanguageModel(vocab_size=vocab_size, embedding_dim=embedding_dim,\n",
        "                      model_dim=model_dim, num_layers=num_layers,\n",
        "                      dropout=dropout, padding_idx=pad_index)\n",
        "model.to(device)"
      ],
      "execution_count": null,
      "outputs": [
        {
          "output_type": "execute_result",
          "data": {
            "text/plain": [
              "LanguageModel(\n",
              "  (embedding_layer): Embedding(30000, 128, padding_idx=0)\n",
              "  (lstm): LSTM(128, 128, num_layers=2, batch_first=True, dropout=0.3)\n",
              "  (language_model_head): Linear(in_features=128, out_features=30000, bias=False)\n",
              ")"
            ]
          },
          "metadata": {
            "tags": []
          },
          "execution_count": 37
        }
      ]
    },
    {
      "cell_type": "code",
      "metadata": {
        "id": "t28uAqUmLTsS"
      },
      "source": [
        "def count_parameters(model):\n",
        "    return sum(p.numel() for p in model.parameters() if p.requires_grad)"
      ],
      "execution_count": null,
      "outputs": []
    },
    {
      "cell_type": "code",
      "metadata": {
        "id": "A2J5xsjiLTsT",
        "colab": {
          "base_uri": "https://localhost:8080/"
        },
        "outputId": "3914d186-4b84-429b-ab87-4b4e4daa9255"
      },
      "source": [
        "print(f'Количество обучаемых параметров в сети: {count_parameters(model):,}')"
      ],
      "execution_count": null,
      "outputs": [
        {
          "output_type": "stream",
          "text": [
            "Количество обучаемых параметров в сети: 7,944,192\n"
          ],
          "name": "stdout"
        }
      ]
    },
    {
      "cell_type": "code",
      "metadata": {
        "id": "l84yGt2wLTsT"
      },
      "source": [
        "x = x.to(device)\n",
        "y = y.to(device)"
      ],
      "execution_count": null,
      "outputs": []
    },
    {
      "cell_type": "code",
      "metadata": {
        "id": "DZ5ILJtuLTsT"
      },
      "source": [
        "# проверим все ли корректно предсказывается\n",
        "with torch.no_grad():\n",
        "    pred = model(x)"
      ],
      "execution_count": null,
      "outputs": []
    },
    {
      "cell_type": "code",
      "metadata": {
        "id": "Urilp4TzLTsT",
        "colab": {
          "base_uri": "https://localhost:8080/"
        },
        "outputId": "ab38df85-5cf0-4141-ac65-fbfa663854ca"
      },
      "source": [
        "pred.shape"
      ],
      "execution_count": null,
      "outputs": [
        {
          "output_type": "execute_result",
          "data": {
            "text/plain": [
              "torch.Size([52, 32, 30000])"
            ]
          },
          "metadata": {
            "tags": []
          },
          "execution_count": 42
        }
      ]
    },
    {
      "cell_type": "code",
      "metadata": {
        "id": "92vcvrHYLTsU"
      },
      "source": [
        "# у нас есть тег eos (end of sentence), который есть в каждом тренировочном примере\n",
        "# мы не будем считать лосс для падов\n",
        "# вместо этого будем останавливать генерирование моделью в момент, когда она сгенерирует тег eos\n",
        "# \n",
        "criterion = torch.nn.CrossEntropyLoss(ignore_index=pad_index)\n",
        "optimizer = torch.optim.Adam(params=model.parameters())"
      ],
      "execution_count": null,
      "outputs": []
    },
    {
      "cell_type": "code",
      "metadata": {
        "id": "Ki8DspZkLTsU",
        "colab": {
          "base_uri": "https://localhost:8080/"
        },
        "outputId": "b448435f-060f-4668-bbe7-d2bc2d9303ba"
      },
      "source": [
        "# развернем все наши предсказания в один большой батч\n",
        "# наши предсказания и наши таргеты сохраняют свое местоположение\n",
        "# а пады не учитываются в расчете лосса\n",
        "pred.view(-1, pred.size(-1)).shape, y.view(-1).shape"
      ],
      "execution_count": null,
      "outputs": [
        {
          "output_type": "execute_result",
          "data": {
            "text/plain": [
              "(torch.Size([1664, 30000]), torch.Size([1664]))"
            ]
          },
          "metadata": {
            "tags": []
          },
          "execution_count": 44
        }
      ]
    },
    {
      "cell_type": "code",
      "metadata": {
        "id": "mYksiO45LTsU",
        "colab": {
          "base_uri": "https://localhost:8080/"
        },
        "outputId": "7e25172c-029d-4e21-ac58-dbcf55badb2f"
      },
      "source": [
        "# и за счет этого вот так просто можем посчитать лосс для всего батча и для всех таймстемпов\n",
        "\n",
        "loss = criterion(pred.view(-1, pred.size(-1)), y.view(-1))\n",
        "\n",
        "loss.item()"
      ],
      "execution_count": null,
      "outputs": [
        {
          "output_type": "execute_result",
          "data": {
            "text/plain": [
              "10.308330535888672"
            ]
          },
          "metadata": {
            "tags": []
          },
          "execution_count": 45
        }
      ]
    },
    {
      "cell_type": "code",
      "metadata": {
        "id": "SzzsK9G9LTsU"
      },
      "source": [
        "# функция для обучения одной эпохи\n",
        "# почти все как всегда\n",
        "\n",
        "def train(model, loader, criterion, optimizer, last_n_losses=500, verbose=True):\n",
        "    \n",
        "    losses = []\n",
        "\n",
        "    progress_bar = tqdm(total=len(loader), disable=not verbose, desc='Train')\n",
        "\n",
        "    model.train()\n",
        "\n",
        "    for x, y in loader:\n",
        "\n",
        "        x = x.to(device)\n",
        "        y = y.to(device)\n",
        "\n",
        "        pred = model(x)\n",
        "\n",
        "        loss = criterion(pred.view(-1, pred.size(-1)), y.view(-1))\n",
        "\n",
        "        optimizer.zero_grad()\n",
        "        loss.backward()\n",
        "        optimizer.step()\n",
        "\n",
        "        losses.append(loss.item())\n",
        "\n",
        "        progress_bar.set_postfix(loss=np.mean(losses[-last_n_losses:]),\n",
        "                                 perplexity=np.exp(np.mean(losses[-last_n_losses:])))\n",
        "\n",
        "        progress_bar.update()\n",
        "\n",
        "    progress_bar.close()\n",
        "    \n",
        "    return losses"
      ],
      "execution_count": null,
      "outputs": []
    },
    {
      "cell_type": "code",
      "metadata": {
        "id": "xCi3RA0CLTsV",
        "colab": {
          "base_uri": "https://localhost:8080/"
        },
        "outputId": "6e6e29da-182c-4de2-e28e-70f3489023a2"
      },
      "source": [
        "# обратите внимание, что будем тестироваться (именно коректность кода) на валидационном датасете\n",
        "# нам сейчас важно понять, что все работает\n",
        "# код не падает, лосс снижается\n",
        "# валидационный датасет сильно меньше тренировочного и давайте будем тестироваться (понять, что все работает) на нем\n",
        "epoch_losses = train(model, validation_loader, criterion, optimizer)"
      ],
      "execution_count": null,
      "outputs": [
        {
          "output_type": "stream",
          "text": [
            "Train: 100%|██████████| 1981/1981 [02:09<00:00, 15.32it/s, loss=7.39, perplexity=1.62e+3]\n"
          ],
          "name": "stderr"
        }
      ]
    },
    {
      "cell_type": "code",
      "metadata": {
        "id": "npYuq42eLTsV",
        "colab": {
          "base_uri": "https://localhost:8080/",
          "height": 856
        },
        "outputId": "de419612-4d1b-49d6-8237-4110d141a881"
      },
      "source": [
        "plt.figure(figsize=(14, 14))\n",
        "plt.xlabel('Номер батча')\n",
        "plt.ylabel('Значение функции потерь')\n",
        "plt.title('Процесс обучения')\n",
        "plt.plot(epoch_losses)"
      ],
      "execution_count": null,
      "outputs": [
        {
          "output_type": "execute_result",
          "data": {
            "text/plain": [
              "[<matplotlib.lines.Line2D at 0x7f550ec4de48>]"
            ]
          },
          "metadata": {
            "tags": []
          },
          "execution_count": 48
        },
        {
          "output_type": "display_data",
          "data": {
            "image/png": "[encoded data removed]",
            "text/plain": [
              "<Figure size 1008x1008 with 1 Axes>"
            ]
          },
          "metadata": {
            "tags": [],
            "needs_background": "light"
          }
        }
      ]
    },
    {
      "cell_type": "code",
      "metadata": {
        "id": "FaSw0z45LTsV"
      },
      "source": [
        "# фукнция для расчета метрик на тесте\n",
        "\n",
        "def evaluate(model, loader, criterion, last_n_losses=500, verbose=True):\n",
        "    \n",
        "    losses = []\n",
        "\n",
        "    progress_bar = tqdm(total=len(loader), disable=not verbose, desc='Evaluate')\n",
        "\n",
        "    model.eval()\n",
        "\n",
        "    for x, y in loader:\n",
        "\n",
        "        x = x.to(device)\n",
        "        y = y.to(device)\n",
        "\n",
        "        with torch.no_grad():\n",
        "            pred = model(x)\n",
        "\n",
        "        loss = criterion(pred.view(-1, pred.size(-1)), y.view(-1))\n",
        "\n",
        "        losses.append(loss.item())\n",
        "\n",
        "        progress_bar.set_postfix(loss=np.mean(losses[-last_n_losses:]),\n",
        "                                 perplexity=np.exp(np.mean(losses[-last_n_losses:])))\n",
        "\n",
        "        progress_bar.update()\n",
        "\n",
        "    progress_bar.close()\n",
        "    \n",
        "    return losses"
      ],
      "execution_count": null,
      "outputs": []
    },
    {
      "cell_type": "code",
      "metadata": {
        "id": "zo8B9ibjLTsW",
        "colab": {
          "base_uri": "https://localhost:8080/",
          "height": 54
        },
        "outputId": "e5c7061e-e4d3-4740-90d9-a226c32afa33"
      },
      "source": [
        "val_losses = evaluate(model, validation_loader, criterion)\n",
        "f'Val loss - {np.mean(val_losses):.3f} perplexity - {np.exp(np.mean(val_losses)):.3f}'"
      ],
      "execution_count": null,
      "outputs": [
        {
          "output_type": "stream",
          "text": [
            "Evaluate: 100%|██████████| 1981/1981 [00:47<00:00, 41.78it/s, loss=7.13, perplexity=1.24e+3]\n"
          ],
          "name": "stderr"
        },
        {
          "output_type": "execute_result",
          "data": {
            "application/vnd.google.colaboratory.intrinsic+json": {
              "type": "string"
            },
            "text/plain": [
              "'Val loss - 7.217 perplexity - 1363.014'"
            ]
          },
          "metadata": {
            "tags": []
          },
          "execution_count": 50
        }
      ]
    },
    {
      "cell_type": "code",
      "metadata": {
        "id": "jaf4uHhCLTsW"
      },
      "source": [
        "# это специальный дропаут для реккуретных сетей\n",
        "# хорошо это объясняется здесь: https://youtu.be/WLaAIYQHHMU?t=1093\n",
        "\n",
        "class SpatialDropout(torch.nn.Dropout2d):\n",
        "    \n",
        "    def __init__(self, p=0.5):\n",
        "        super().__init__()\n",
        "        self.p = p\n",
        "    \n",
        "    def forward(self, x):\n",
        "        x = x.unsqueeze(2)    # (N, T, 1, K)\n",
        "        x = x.permute(0, 3, 2, 1)  # (N, K, 1, T)\n",
        "        x = super(SpatialDropout, self).forward(x)  # (N, K, 1, T)\n",
        "        x = x.permute(0, 3, 2, 1)  # (N, T, 1, K)\n",
        "        x = x.squeeze(2)  # (N, T, K)\n",
        "        return x"
      ],
      "execution_count": null,
      "outputs": []
    },
    {
      "cell_type": "code",
      "metadata": {
        "id": "HqMEewdeLTsW"
      },
      "source": [
        "spatial_dropout = SpatialDropout()\n",
        "common_dropout = torch.nn.Dropout()"
      ],
      "execution_count": null,
      "outputs": []
    },
    {
      "cell_type": "code",
      "metadata": {
        "id": "DGvEUv-1LTsW"
      },
      "source": [
        "# пусть у нас есть какой батч с размером батча 2 пример, 4 длиной последовательности и 8 размеров эмбеддинга\n",
        "z = torch.rand(2, 4, 6)"
      ],
      "execution_count": null,
      "outputs": []
    },
    {
      "cell_type": "code",
      "metadata": {
        "id": "S3LQt4JQLTsX",
        "colab": {
          "base_uri": "https://localhost:8080/"
        },
        "outputId": "1b076e0b-7e92-4db0-ac1b-5217bcbb5d3b"
      },
      "source": [
        "z"
      ],
      "execution_count": null,
      "outputs": [
        {
          "output_type": "execute_result",
          "data": {
            "text/plain": [
              "tensor([[[0.9683, 0.3060, 0.6970, 0.3073, 0.1638, 0.6806],\n",
              "         [0.1325, 0.8076, 0.6036, 0.7027, 0.7737, 0.4588],\n",
              "         [0.3776, 0.2113, 0.8033, 0.8053, 0.6633, 0.0500],\n",
              "         [0.5396, 0.7563, 0.8308, 0.8604, 0.8190, 0.8542]],\n",
              "\n",
              "        [[0.2814, 0.6582, 0.7470, 0.4987, 0.1327, 0.3306],\n",
              "         [0.8091, 0.7660, 0.8605, 0.0754, 0.7066, 0.5146],\n",
              "         [0.4554, 0.8394, 0.9739, 0.3090, 0.8913, 0.2687],\n",
              "         [0.6884, 0.2095, 0.0814, 0.3441, 0.1012, 0.1917]]])"
            ]
          },
          "metadata": {
            "tags": []
          },
          "execution_count": 54
        }
      ]
    },
    {
      "cell_type": "code",
      "metadata": {
        "id": "zYod4x32LTsX",
        "colab": {
          "base_uri": "https://localhost:8080/"
        },
        "outputId": "515cb79c-2ef1-4539-aeb8-771af5c95243"
      },
      "source": [
        "# этот дропаут выкидывает значения для какого-либо размерности для каждого элемента последовательности\n",
        "# чем это лучше обычного дропаута в реккуретных сетях можно посмотреть опять-таки здесь: https://youtu.be/WLaAIYQHHMU?t=1093\n",
        "spatial_dropout(z)"
      ],
      "execution_count": null,
      "outputs": [
        {
          "output_type": "execute_result",
          "data": {
            "text/plain": [
              "tensor([[[1.9365, 0.6121, 0.0000, 0.0000, 0.3277, 1.3611],\n",
              "         [0.2651, 1.6152, 0.0000, 0.0000, 1.5475, 0.9176],\n",
              "         [0.7551, 0.4226, 0.0000, 0.0000, 1.3266, 0.0999],\n",
              "         [1.0792, 1.5125, 0.0000, 0.0000, 1.6380, 1.7084]],\n",
              "\n",
              "        [[0.5627, 1.3164, 0.0000, 0.0000, 0.0000, 0.6613],\n",
              "         [1.6183, 1.5320, 0.0000, 0.0000, 0.0000, 1.0292],\n",
              "         [0.9108, 1.6789, 0.0000, 0.0000, 0.0000, 0.5374],\n",
              "         [1.3767, 0.4189, 0.0000, 0.0000, 0.0000, 0.3834]]])"
            ]
          },
          "metadata": {
            "tags": []
          },
          "execution_count": 55
        }
      ]
    },
    {
      "cell_type": "code",
      "metadata": {
        "id": "Mdd-dW4mLTsX",
        "colab": {
          "base_uri": "https://localhost:8080/"
        },
        "outputId": "2189c740-9fd2-406d-a8f9-9cadf1742f16"
      },
      "source": [
        "# а вот так работает простой дропаут\n",
        "common_dropout(z)"
      ],
      "execution_count": null,
      "outputs": [
        {
          "output_type": "execute_result",
          "data": {
            "text/plain": [
              "tensor([[[0.0000, 0.6121, 1.3941, 0.6147, 0.0000, 0.0000],\n",
              "         [0.2651, 1.6152, 1.2073, 1.4054, 0.0000, 0.9176],\n",
              "         [0.0000, 0.4226, 1.6067, 0.0000, 1.3266, 0.0000],\n",
              "         [1.0792, 0.0000, 1.6616, 1.7209, 0.0000, 0.0000]],\n",
              "\n",
              "        [[0.5627, 1.3164, 0.0000, 0.0000, 0.0000, 0.0000],\n",
              "         [1.6183, 1.5320, 0.0000, 0.0000, 1.4131, 0.0000],\n",
              "         [0.0000, 1.6789, 0.0000, 0.6181, 0.0000, 0.0000],\n",
              "         [0.0000, 0.0000, 0.0000, 0.0000, 0.0000, 0.0000]]])"
            ]
          },
          "metadata": {
            "tags": []
          },
          "execution_count": 56
        }
      ]
    },
    {
      "cell_type": "code",
      "metadata": {
        "id": "906inYlgLTsY",
        "colab": {
          "base_uri": "https://localhost:8080/"
        },
        "outputId": "13485f56-368f-4301-d1df-e21e2a90fb49"
      },
      "source": [
        "# заметим, что входные и выходные эмбеддинги имеют одинаковую размерность\n",
        "# точней они могут иметь не одинаковую, но мы можем сделать ее одинаковой\n",
        "# и мы можем сделать такую вещь как weight tying\n",
        "# когда выходящие эмбеддинги шарят веса с входящими\n",
        "# это полезно делать, потому что, как правило, матрица эмбеддингов занимает самую большую долю всех весов в сети\n",
        "# а в языковой модели у нас целых 2 такие матрицы\n",
        "# давайте выходной слой будет ссылаться (шарить) на веса входящего слоя эмбеддингов\n",
        "\n",
        "model.embedding_layer.weight.shape, model.language_model_head.weight.shape"
      ],
      "execution_count": null,
      "outputs": [
        {
          "output_type": "execute_result",
          "data": {
            "text/plain": [
              "(torch.Size([30000, 128]), torch.Size([30000, 128]))"
            ]
          },
          "metadata": {
            "tags": []
          },
          "execution_count": 57
        }
      ]
    },
    {
      "cell_type": "code",
      "metadata": {
        "id": "HIe15ERELTsY"
      },
      "source": [
        "class LanguageModel(torch.nn.Module):\n",
        "    \n",
        "    def __init__(self, vocab_size, embedding_dim, model_dim, num_layers,\n",
        "                 padding_idx, dropout=0.35, weight_tying=True):\n",
        "        \n",
        "        super().__init__()\n",
        "        \n",
        "        self.embedding_layer = torch.nn.Embedding(num_embeddings=vocab_size,\n",
        "                                                  embedding_dim=embedding_dim, padding_idx=padding_idx)\n",
        "        \n",
        "        self.embedding_dropout = SpatialDropout(p=dropout)\n",
        "        \n",
        "        self.lstm = torch.nn.LSTM(input_size=embedding_dim, hidden_size=model_dim, \n",
        "                                  num_layers=num_layers, dropout=dropout, batch_first=True)\n",
        "        \n",
        "        self.language_model_head = torch.nn.Linear(in_features=model_dim, out_features=vocab_size, bias=False)\n",
        "        \n",
        "        # как раз здесь задаем, чтобы веса входящего и выходящего слоя эмбеддингов шарились\n",
        "        if weight_tying and embedding_dim == model_dim:\n",
        "            self.language_model_head.weight = self.embedding_layer.weight\n",
        "        \n",
        "    def forward(self, x):\n",
        "        \n",
        "        x = self.embedding_layer(x)\n",
        "        \n",
        "        x = self.embedding_dropout(x)\n",
        "        \n",
        "        x, _ = self.lstm(x)\n",
        "        \n",
        "        x = self.language_model_head(x)\n",
        "        \n",
        "        return x"
      ],
      "execution_count": null,
      "outputs": []
    },
    {
      "cell_type": "code",
      "metadata": {
        "id": "C9Xmla2eLTsY"
      },
      "source": [
        "model = LanguageModel(vocab_size=vocab_size, embedding_dim=embedding_dim, model_dim=model_dim, \n",
        "                      num_layers=num_layers, dropout=dropout, padding_idx=pad_index, weight_tying=True)"
      ],
      "execution_count": null,
      "outputs": []
    },
    {
      "cell_type": "code",
      "metadata": {
        "id": "D5AaRPqbLTsZ",
        "colab": {
          "base_uri": "https://localhost:8080/"
        },
        "outputId": "364e7544-a093-4408-fe39-eab09aa7ad94"
      },
      "source": [
        "print(f'Количество обучаемых параметров в сети: {count_parameters(model):,}')\n",
        "print('Их стало сильно меньше за счет weight tying!')"
      ],
      "execution_count": null,
      "outputs": [
        {
          "output_type": "stream",
          "text": [
            "Количество обучаемых параметров в сети: 4,104,192\n",
            "Их стало сильно меньше за счет weight tying!\n"
          ],
          "name": "stdout"
        }
      ]
    },
    {
      "cell_type": "code",
      "metadata": {
        "id": "bwI-Am6qLTsZ"
      },
      "source": [
        "model.to(device)\n",
        "optimizer = torch.optim.Adam(params=model.parameters())"
      ],
      "execution_count": null,
      "outputs": []
    },
    {
      "cell_type": "code",
      "metadata": {
        "id": "wCuT0k4cLTsZ",
        "colab": {
          "base_uri": "https://localhost:8080/"
        },
        "outputId": "1db4f1ed-25c7-4d53-c803-95a4bb433a42"
      },
      "source": [
        "epoch_losses = train(model, validation_loader, criterion, optimizer)"
      ],
      "execution_count": null,
      "outputs": [
        {
          "output_type": "stream",
          "text": [
            "Train: 100%|██████████| 1981/1981 [02:05<00:00, 15.75it/s, loss=7.82, perplexity=2.48e+3]\n"
          ],
          "name": "stderr"
        }
      ]
    },
    {
      "cell_type": "markdown",
      "metadata": {
        "id": "Jq4WW_brLTsa"
      },
      "source": [
        "### Метрики стали хуже, но на долгосрочную переспективу они будут лучше"
      ]
    },
    {
      "cell_type": "code",
      "metadata": {
        "id": "4E8o_SpBLTsa",
        "colab": {
          "base_uri": "https://localhost:8080/"
        },
        "outputId": "524a16a8-e6bc-4e46-dc40-275d6c7fc4ea"
      },
      "source": [
        "# вот что происходит внутри сети\n",
        "\n",
        "# переключаем в режим предсказаний\n",
        "model.eval()\n",
        "\n",
        "with torch.no_grad():\n",
        "    \n",
        "    emb = model.embedding_layer(x)\n",
        "\n",
        "    emb = model.embedding_dropout(emb)\n",
        "\n",
        "    lstm_out, _ = model.lstm(emb)\n",
        "\n",
        "    prediction = model.language_model_head(lstm_out)\n",
        "    \n",
        "# переключаем в режим тренировки обратно\n",
        "model.train()\n",
        "\n",
        "# считаем функцию потерь\n",
        "criterion(prediction.view(-1, pred.size(-1)), y.view(-1)).item()"
      ],
      "execution_count": null,
      "outputs": [
        {
          "output_type": "execute_result",
          "data": {
            "text/plain": [
              "7.709980010986328"
            ]
          },
          "metadata": {
            "tags": []
          },
          "execution_count": 63
        }
      ]
    },
    {
      "cell_type": "code",
      "metadata": {
        "id": "9BntMcvpLTsa",
        "colab": {
          "base_uri": "https://localhost:8080/"
        },
        "outputId": "205d72f4-61aa-4cf4-e87e-7372b89e2c12"
      },
      "source": [
        "prediction.shape"
      ],
      "execution_count": null,
      "outputs": [
        {
          "output_type": "execute_result",
          "data": {
            "text/plain": [
              "torch.Size([52, 32, 30000])"
            ]
          },
          "metadata": {
            "tags": []
          },
          "execution_count": 64
        }
      ]
    },
    {
      "cell_type": "code",
      "metadata": {
        "id": "q3b5-7EKLTsb",
        "colab": {
          "base_uri": "https://localhost:8080/"
        },
        "outputId": "b6f6647b-9694-40f7-86ff-f0c182c043ab"
      },
      "source": [
        "# давайте распишем подробнее\n",
        "# как lstm итерируется по каждому таймстемпу\n",
        "\n",
        "# переключаем в режим предсказаний\n",
        "model.eval()\n",
        "\n",
        "with torch.no_grad():\n",
        "    \n",
        "    # массив для предсказаний нашей последовательности\n",
        "    pred = []\n",
        "    \n",
        "    # инициализация памяти для lstm\n",
        "    zeros = torch.zeros(num_layers, x.size(0), model_dim, dtype=torch.float32, device=x.device)\n",
        "    hx = (zeros, zeros)\n",
        "    \n",
        "    # цикл по временной последовательности\n",
        "    for timestamp in range(x.size(1)):\n",
        "        \n",
        "        # выбираем на каждому шаге очередной токен и добавляем размерность будто у нас предложения из 1 токена\n",
        "        current_token = x[:, timestamp].unsqueeze(1)\n",
        "        \n",
        "        emb = model.embedding_layer(current_token)\n",
        "\n",
        "        emb = model.embedding_dropout(emb)\n",
        "\n",
        "        # рассчитываем предикт lstm и обновляем память\n",
        "        lstm_out, hx = model.lstm(emb, hx)\n",
        "\n",
        "        # предсказываем следующий токен\n",
        "        next_token_prediction = model.language_model_head(lstm_out)\n",
        "        \n",
        "        # добавляем в массив предсказаний\n",
        "        pred.append(next_token_prediction)\n",
        "       \n",
        "    # конкатерируем в последовательность\n",
        "    pred = torch.cat(pred, dim=1)\n",
        "    \n",
        "# переключаем в режим тренировки обратно\n",
        "model.train()\n",
        "    \n",
        "# считаем функцию потерь\n",
        "criterion(pred.view(-1, pred.size(-1)), y.view(-1)).item()"
      ],
      "execution_count": null,
      "outputs": [
        {
          "output_type": "execute_result",
          "data": {
            "text/plain": [
              "7.709980010986328"
            ]
          },
          "metadata": {
            "tags": []
          },
          "execution_count": 65
        }
      ]
    },
    {
      "cell_type": "markdown",
      "metadata": {
        "id": "t83BrcqSLTsb"
      },
      "source": [
        "### Генерация\n",
        "В конце туториала мы будем использовать текст, чтобы его продолжить, а сейчас используем на вход только токен bos (begin of sentence)"
      ]
    },
    {
      "cell_type": "code",
      "metadata": {
        "id": "raDOlTooLTsc"
      },
      "source": [
        "model.eval()\n",
        "\n",
        "with torch.no_grad():\n",
        "    \n",
        "    pred = []\n",
        "    \n",
        "    zeros = torch.zeros(num_layers, x.size(0), model_dim, dtype=torch.float32, device=x.device)\n",
        "    hx = (zeros, zeros)\n",
        "    \n",
        "    # семплируем начальный токен bos для каждого предложения\n",
        "    current_token = x[:, 0].unsqueeze(1)\n",
        "    \n",
        "    for timestamp in range(x.size(1)):\n",
        "        \n",
        "        # пока все то же самое\n",
        "        emb = model.embedding_layer(current_token)\n",
        "\n",
        "        emb = model.embedding_dropout(emb)\n",
        "\n",
        "        lstm_out, hx = model.lstm(emb, hx)\n",
        "\n",
        "        next_token_prediction = model.language_model_head(lstm_out)\n",
        "        \n",
        "        pred.append(next_token_prediction)\n",
        "        \n",
        "        # но вот здесь мы семплируем предсказания сети и передадим это как текущий токен для следующего таймстемпа\n",
        "        current_token = next_token_prediction.argmax(dim=2)\n",
        "        \n",
        "    pred = torch.cat(pred, dim=1)\n",
        "    \n",
        "model.train()\n",
        "    \n",
        "tokens = pred.argmax(dim=-1).detach().cpu().numpy()"
      ],
      "execution_count": null,
      "outputs": []
    },
    {
      "cell_type": "code",
      "metadata": {
        "id": "zhJQ8A0qLTsc",
        "colab": {
          "base_uri": "https://localhost:8080/"
        },
        "outputId": "c2c89521-34e1-477a-acd5-a5940e520847"
      },
      "source": [
        "# вот что мы предсказали\n",
        "tokens"
      ],
      "execution_count": null,
      "outputs": [
        {
          "output_type": "execute_result",
          "data": {
            "text/plain": [
              "array([[1797, 2395, 1774, ...,    3,    3,    3],\n",
              "       [1797, 2395, 1774, ...,    3,    3,    3],\n",
              "       [1797, 2395, 1774, ...,    3,    3,    3],\n",
              "       ...,\n",
              "       [1797, 2395, 1774, ...,    3,    3,    3],\n",
              "       [1797, 2395, 1774, ...,    3,    3,    3],\n",
              "       [1797, 2395, 1774, ...,    3,    3,    3]])"
            ]
          },
          "metadata": {
            "tags": []
          },
          "execution_count": 67
        }
      ]
    },
    {
      "cell_type": "code",
      "metadata": {
        "id": "mhsZBJE3LTsd"
      },
      "source": [
        "predicted_texts = tokenizer.decode(tokens.tolist())"
      ],
      "execution_count": null,
      "outputs": []
    },
    {
      "cell_type": "code",
      "metadata": {
        "id": "K_yDjycBLTsd",
        "colab": {
          "base_uri": "https://localhost:8080/"
        },
        "outputId": "f2503e47-d8cb-46bd-9485-409bafca0048"
      },
      "source": [
        "for n in range(5):\n",
        "    print(predicted_texts[n][:predicted_texts[n].index('<EOS>')])\n",
        "    \n",
        "# они все одинаковые, потому что на вход подается один и тот же токен <BOS>, а веса модели зафиксированы"
      ],
      "execution_count": null,
      "outputs": [
        {
          "output_type": "stream",
          "text": [
            "как называется в россии\n",
            "как называется в россии\n",
            "как называется в россии\n",
            "как называется в россии\n",
            "как называется в россии\n"
          ],
          "name": "stdout"
        }
      ]
    },
    {
      "cell_type": "markdown",
      "metadata": {
        "id": "8-zdEmG1LTse"
      },
      "source": [
        "### Результаты генерации\n",
        "\n",
        "Достаточно неплохо для 30 секунд обучения."
      ]
    },
    {
      "cell_type": "markdown",
      "metadata": {
        "id": "WH4v9PmiLTse"
      },
      "source": [
        "### Sequence bucketing\n",
        "\n",
        "Наша модель никак не привязана к длине последовательности, привязана только лишь читалка данных и мы искуственно ограничиваем длину наших примеров.\n",
        "\n",
        "Мы можем обрубать длины примеров в нашем батче до максимальной длины в батче, но батче могут быть 63 примера с длиной, допустим, 10 и 1 пример с длиной в 31 слова. В этом случае мы обрубим длину только лишь на один токен и будем тратить лишнее время итерируясь по нулям, которые нам не нужны.\n",
        "\n",
        "Может стоит отсортировать датасет и идти от самого маленького к самому большому примеру или наоброт. Еще большая проблема, потому что, как минимум, предложения разной длины несут разный смысл. И наша сеть по мере обучения будет от эпохи к эпохе стараться адаптироваться то к маленьким, то к большим последовательностям. Это очень плохо.\n",
        "\n",
        "А давайте мы тогда составим наши батчи с примерно одинаковой длиной, зашафлим данные на уровне батче и будем итерироваться по батчам с одинаковой длиной. То есть у нас будет то длиный батч, то короткий, то средний, то есть мы не будем привязываться к длине.\n",
        "\n",
        "Ниже достаточно простой (но не единственный и далеко не оптимальный) способ это сделать."
      ]
    },
    {
      "cell_type": "code",
      "metadata": {
        "id": "n6NXVtyULTse"
      },
      "source": [
        "tokenized = sorted(tokenized, key=lambda x: len(x))\n",
        "\n",
        "# сделаем батч побольше\n",
        "batch_size = 256\n",
        "\n",
        "batches = []\n",
        "\n",
        "for i_batch in range(math.ceil(len(tokenized) / batch_size)):\n",
        "    \n",
        "    batches.append(tokenized[i_batch*batch_size:(i_batch+1)*batch_size])"
      ],
      "execution_count": null,
      "outputs": []
    },
    {
      "cell_type": "code",
      "metadata": {
        "id": "ev2Aw6peLTsf",
        "colab": {
          "base_uri": "https://localhost:8080/"
        },
        "outputId": "fa8be38e-0bf1-4674-ee11-022603fff90b"
      },
      "source": [
        "len(batches)"
      ],
      "execution_count": null,
      "outputs": [
        {
          "output_type": "execute_result",
          "data": {
            "text/plain": [
              "9905"
            ]
          },
          "metadata": {
            "tags": []
          },
          "execution_count": 71
        }
      ]
    },
    {
      "cell_type": "code",
      "metadata": {
        "id": "-grDD00nLTsf"
      },
      "source": [
        "random.shuffle(batches)"
      ],
      "execution_count": null,
      "outputs": []
    },
    {
      "cell_type": "code",
      "metadata": {
        "id": "EdDM15eTLTsf",
        "colab": {
          "base_uri": "https://localhost:8080/"
        },
        "outputId": "8ced8a92-eaf3-4dc2-bc5e-fb192f67e533"
      },
      "source": [
        "[len(sample) for sample in random.choice(batches)][:5]"
      ],
      "execution_count": null,
      "outputs": [
        {
          "output_type": "execute_result",
          "data": {
            "text/plain": [
              "[6, 6, 6, 6, 6]"
            ]
          },
          "metadata": {
            "tags": []
          },
          "execution_count": 73
        }
      ]
    },
    {
      "cell_type": "code",
      "metadata": {
        "id": "g15x9SARLTsf"
      },
      "source": [
        "class SequenceBucketingData(torch.utils.data.Dataset):\n",
        "    \n",
        "    def __init__(self, data, max_len, pad_index, eos_index):\n",
        "        \n",
        "        self.data = data\n",
        "        \n",
        "        self.max_len = max_len\n",
        "        \n",
        "        self.pad_index = pad_index\n",
        "        self.eos_index = eos_index\n",
        "        \n",
        "    def __len__(self):\n",
        "        return len(self.data)\n",
        "    \n",
        "    def prepare_sample(self, sequence, max_len):\n",
        "        \n",
        "        sequence = sequence[:max_len]\n",
        "        \n",
        "        x = sequence[:]\n",
        "        y = sequence[1:] + [self.eos_index]\n",
        "        \n",
        "        assert len(x) == len(y)\n",
        "        \n",
        "        pads = [self.pad_index] * (max_len - len(x))\n",
        "        \n",
        "        x += pads\n",
        "        y += pads\n",
        "        \n",
        "        return x, y\n",
        "    \n",
        "    def __getitem__(self, index):\n",
        "        \n",
        "        batch = self.data[index]\n",
        "        \n",
        "        max_len = min([self.max_len, max([len(sample) for sample in batch])])\n",
        "        \n",
        "        batch_x = []\n",
        "        batch_y = []\n",
        "        \n",
        "        for sample in batch:\n",
        "            x, y = self.prepare_sample(sample, max_len)\n",
        "            batch_x.append(x)\n",
        "            batch_y.append(y)\n",
        "        \n",
        "        batch_x = torch.tensor(batch_x).long()\n",
        "        batch_y = torch.tensor(batch_y).long()\n",
        "        \n",
        "        return batch_x, batch_y"
      ],
      "execution_count": null,
      "outputs": []
    },
    {
      "cell_type": "code",
      "metadata": {
        "id": "i8fCF8rvLTsf"
      },
      "source": [
        "validation_start_index = int(len(batches) * 0.05)"
      ],
      "execution_count": null,
      "outputs": []
    },
    {
      "cell_type": "code",
      "metadata": {
        "id": "iQoBEr6ILTsg"
      },
      "source": [
        "train_dataset = SequenceBucketingData(batches[:-validation_start_index], max_len, pad_index, eos_index)\n",
        "validation_dataset = SequenceBucketingData(batches[-validation_start_index:], max_len, pad_index, eos_index)"
      ],
      "execution_count": null,
      "outputs": []
    },
    {
      "cell_type": "code",
      "metadata": {
        "id": "Z1B_PIJOLTsg"
      },
      "source": [
        "# чтобы убрать лишнюю размерность\n",
        "\n",
        "def collate_fn(x):\n",
        "    \n",
        "    x, y = x[0]\n",
        "\n",
        "    return x, y"
      ],
      "execution_count": null,
      "outputs": []
    },
    {
      "cell_type": "code",
      "metadata": {
        "id": "JtE4vbidLTsg"
      },
      "source": [
        "# ставим batch_size=1 потому что датасет уже отдает батч\n",
        "# добавим shuffle=True\n",
        "# за счет этого флага каждую эпоху датасет перемешивается\n",
        "\n",
        "# collate_fn это функция, с помощью которой можно задать свою логику сборки батча\n",
        "\n",
        "train_loader = torch.utils.data.DataLoader(train_dataset, \n",
        "                                           batch_size=1,\n",
        "                                           collate_fn=collate_fn,\n",
        "                                           shuffle=True)\n",
        "\n",
        "validation_loader = torch.utils.data.DataLoader(validation_dataset,\n",
        "                                                batch_size=1,\n",
        "                                                collate_fn=collate_fn, \n",
        "                                                shuffle=True)"
      ],
      "execution_count": null,
      "outputs": []
    },
    {
      "cell_type": "code",
      "metadata": {
        "id": "ddD5xjCLLTsg",
        "colab": {
          "base_uri": "https://localhost:8080/"
        },
        "outputId": "7023eafe-e627-4714-bf80-33f6f7cfde89"
      },
      "source": [
        "# пробежимся по итератору, чтобы убедиться что ничего не падает и он работает достаточно быстро\n",
        "\n",
        "progress_bar = tqdm(total=len(validation_loader.dataset), desc='Testing')\n",
        "\n",
        "for x, y in validation_loader:\n",
        "    progress_bar.update()\n",
        "    \n",
        "progress_bar.close()"
      ],
      "execution_count": null,
      "outputs": [
        {
          "output_type": "stream",
          "text": [
            "Testing: 100%|██████████| 495/495 [00:00<00:00, 1011.75it/s]\n"
          ],
          "name": "stderr"
        }
      ]
    },
    {
      "cell_type": "code",
      "metadata": {
        "id": "XPX7gHCiLTsg",
        "colab": {
          "base_uri": "https://localhost:8080/"
        },
        "outputId": "ead5feb8-e781-4231-af2a-aa5813658edd"
      },
      "source": [
        "x"
      ],
      "execution_count": null,
      "outputs": [
        {
          "output_type": "execute_result",
          "data": {
            "text/plain": [
              "tensor([[    2,  2039,  3472,  ...,  1841, 10132, 29484],\n",
              "        [    2,  1816,  7824,  ...,  2714,  7359,  2249],\n",
              "        [    2,  1991,  2702,  ...,  2088,  1840, 14994],\n",
              "        ...,\n",
              "        [    2,  1816,  2176,  ...,  1883,  3543,  2057],\n",
              "        [    2,  2004,  9740,  ...,  2317,  7053,  4044],\n",
              "        [    2,  1779, 21478,  ...,  2140,  2009,  5980]])"
            ]
          },
          "metadata": {
            "tags": []
          },
          "execution_count": 80
        }
      ]
    },
    {
      "cell_type": "code",
      "metadata": {
        "id": "TmqvJmgrLTsh",
        "colab": {
          "base_uri": "https://localhost:8080/"
        },
        "outputId": "16a4493b-8871-4f9c-e30d-22ef21421603"
      },
      "source": [
        "y"
      ],
      "execution_count": null,
      "outputs": [
        {
          "output_type": "execute_result",
          "data": {
            "text/plain": [
              "tensor([[ 2039,  3472,  7009,  ..., 10132, 29484,     3],\n",
              "        [ 1816,  7824,  1774,  ...,  7359,  2249,     3],\n",
              "        [ 1991,  2702,  2059,  ...,  1840, 14994,     3],\n",
              "        ...,\n",
              "        [ 1816,  2176,  5956,  ...,  3543,  2057,     3],\n",
              "        [ 2004,  9740,  5362,  ...,  7053,  4044,     3],\n",
              "        [ 1779, 21478,  2446,  ...,  2009,  5980,     3]])"
            ]
          },
          "metadata": {
            "tags": []
          },
          "execution_count": 81
        }
      ]
    },
    {
      "cell_type": "markdown",
      "metadata": {
        "id": "1Z9oC9d8LTsh"
      },
      "source": [
        "### Добавим в обучение gradient clipping\n",
        "\n",
        "Эта техника помогает меньше влиять взрыву градиента за счет того, что мы нормируем наши градиенты, если норма прошла какой-то порог. Обычные значения от 0 до 10. Чем меньше, тем сильнее влияние этой нормировки."
      ]
    },
    {
      "cell_type": "code",
      "metadata": {
        "id": "22-nHAKNLTsh"
      },
      "source": [
        "def train(model, loader, criterion, optimizer, clip=3., last_n_losses=500, verbose=True):\n",
        "    \n",
        "    losses = []\n",
        "\n",
        "    progress_bar = tqdm(total=len(loader.dataset), disable=not verbose, desc='Train')\n",
        "\n",
        "    model.train()\n",
        "\n",
        "    for x, y in loader:\n",
        "        \n",
        "        x = x.to(device)\n",
        "        y = y.to(device)\n",
        "        \n",
        "        pred = model(x)\n",
        "\n",
        "        loss = criterion(pred.view(-1, pred.size(-1)), y.view(-1))\n",
        "\n",
        "        optimizer.zero_grad()\n",
        "        loss.backward()\n",
        "        # рассчитали градиенты и клипаем их\n",
        "        torch.nn.utils.clip_grad_norm_(model.parameters(), clip)\n",
        "        optimizer.step()\n",
        "\n",
        "        losses.append(loss.item())\n",
        "\n",
        "        progress_bar.set_postfix(loss=np.mean(losses[-last_n_losses:]),\n",
        "                                 perplexity=np.exp(np.mean(losses[-last_n_losses:])))\n",
        "\n",
        "        progress_bar.update()\n",
        "\n",
        "    progress_bar.close()\n",
        "    \n",
        "    return losses"
      ],
      "execution_count": null,
      "outputs": []
    },
    {
      "cell_type": "code",
      "metadata": {
        "id": "JzPBB3o1LTsh"
      },
      "source": [
        "model = LanguageModel(vocab_size=vocab_size, embedding_dim=embedding_dim, model_dim=model_dim, \n",
        "                      num_layers=num_layers, padding_idx=pad_index, weight_tying=True)\n",
        "\n",
        "model.to(device)\n",
        "optimizer = torch.optim.Adam(params=model.parameters())"
      ],
      "execution_count": null,
      "outputs": []
    },
    {
      "cell_type": "code",
      "metadata": {
        "id": "M7rcy9vCLTsh",
        "colab": {
          "base_uri": "https://localhost:8080/"
        },
        "outputId": "0bc467bc-509f-424b-b7d5-1e007f444a1b"
      },
      "source": [
        "epoch_losses = train(model, validation_loader, criterion, optimizer)"
      ],
      "execution_count": null,
      "outputs": [
        {
          "output_type": "stream",
          "text": [
            "Train: 100%|██████████| 495/495 [00:43<00:00, 11.37it/s, loss=8.35, perplexity=4.24e+3]\n"
          ],
          "name": "stderr"
        }
      ]
    },
    {
      "cell_type": "markdown",
      "metadata": {
        "id": "Gu9EQZL7LTsi"
      },
      "source": [
        "### Сильно ускорились \n",
        "\n",
        "### Все готово для того, чтобы начать обучение "
      ]
    },
    {
      "cell_type": "code",
      "metadata": {
        "id": "8MJZ_xEgLTsi"
      },
      "source": [
        "embedding_dim = 512\n",
        "model_dim = 512\n",
        "num_layers = 3"
      ],
      "execution_count": null,
      "outputs": []
    },
    {
      "cell_type": "code",
      "metadata": {
        "id": "cjXE0TDxLTsi"
      },
      "source": [
        "vocab_size = 30_000\n",
        "pad_index = 0"
      ],
      "execution_count": null,
      "outputs": []
    },
    {
      "cell_type": "code",
      "metadata": {
        "id": "vbxi5CC2LTsi"
      },
      "source": [
        "model = LanguageModel(vocab_size=vocab_size, embedding_dim=embedding_dim, model_dim=model_dim, \n",
        "                      num_layers=num_layers, padding_idx=pad_index, weight_tying=True)\n",
        "\n",
        "model.to(device)\n",
        "optimizer = torch.optim.Adam(params=model.parameters())"
      ],
      "execution_count": null,
      "outputs": []
    },
    {
      "cell_type": "code",
      "metadata": {
        "id": "UBa8tO7zLTsi",
        "colab": {
          "base_uri": "https://localhost:8080/"
        },
        "outputId": "fe90a7e5-e6ab-4c9a-a425-67abb8b55c8d"
      },
      "source": [
        "print(f'Количество обучаемых параметров в сети: {count_parameters(model):,}')"
      ],
      "execution_count": null,
      "outputs": [
        {
          "output_type": "stream",
          "text": [
            "Количество обучаемых параметров в сети: 21,663,744\n"
          ],
          "name": "stdout"
        }
      ]
    },
    {
      "cell_type": "code",
      "metadata": {
        "id": "OpPTz8o5LTsj"
      },
      "source": [
        "# # если вы перезапускаете обучение и хотите продолжить его\n",
        "# # то есть у вас должны уже быть эти стейт дикты\n",
        "\n",
        "# # подгружаем свою обученную модель\n",
        "# model.load_state_dict(torch.load('best_language_model_state_dict.pth'))\n",
        "\n",
        "# # загружаем (и соответственно во время тренировки сохраняем) оптимизатор (с той же эпохи)\n",
        "# # это нужно потому что в нем хранятся нужные статистики\n",
        "# # которые мы считали во время обучения, например, для моментума\n",
        "# optimizer.load_state_dict(torch.load('best_optimizer_state_dict.pth'))"
      ],
      "execution_count": null,
      "outputs": []
    },
    {
      "cell_type": "code",
      "metadata": {
        "id": "cDWl3ajaLTsj",
        "colab": {
          "base_uri": "https://localhost:8080/"
        },
        "outputId": "4254bf9b-2331-4b5b-de7d-48548ba4b788"
      },
      "source": [
        "# задайте сколько вам комфортно обучать модель по времени\n",
        "# в идеале пару часов\n",
        "epochs = 2\n",
        "\n",
        "train_losses = []\n",
        "validation_losses = []\n",
        "\n",
        "train_perplexities = []\n",
        "validation_perplexities = []\n",
        "\n",
        "best_validation_loss = 1e+6\n",
        "\n",
        "for n_epoch in range(1, epochs + 1):\n",
        "    \n",
        "    epoch_train_losses = train(model, train_loader, criterion, optimizer)\n",
        "    epoch_validation_losses = evaluate(model, validation_loader, criterion)\n",
        "    \n",
        "    mean_train_loss = np.mean(epoch_train_losses)\n",
        "    mean_validation_loss = np.mean(epoch_validation_losses)\n",
        "    \n",
        "    train_losses.append(epoch_train_losses)\n",
        "    train_perplexities.append(np.exp(mean_train_loss))\n",
        "    \n",
        "    validation_losses.append(epoch_validation_losses)\n",
        "    validation_perplexities.append(np.exp(mean_validation_loss))\n",
        "    \n",
        "    message = f'Epoch: {n_epoch}\\n'\n",
        "    message += f'Train: loss - {mean_train_loss:.4f} | perplexity - {train_perplexities[-1]:.3f}\\n'\n",
        "    message += f'Validation: loss - {mean_validation_loss:.4f} | perplexity - {validation_perplexities[-1]:.3f}'\n",
        "    \n",
        "    print(message)\n",
        "    \n",
        "    if mean_validation_loss < best_validation_loss:\n",
        "        \n",
        "        best_validation_loss = mean_validation_loss\n",
        "        \n",
        "        torch.save(model.state_dict(), f'best_language_model_state_dict.pth')\n",
        "        torch.save(optimizer.state_dict(), 'best_optimizer_state_dict.pth')\n",
        "        \n",
        "    else:\n",
        "        break\n",
        "        \n",
        "    torch.save(model.state_dict(), f'last_language_model_state_dict.pth')\n",
        "    torch.save(optimizer.state_dict(), 'last_optimizer_state_dict.pth')\n",
        "\n",
        "    with open(f'info_{n_epoch}.json', 'w') as file_object:\n",
        "\n",
        "        info = {\n",
        "            'message': message,\n",
        "            'train_losses': train_losses,\n",
        "            'validation_losses': validation_losses,\n",
        "            'train_perplexities': train_perplexities,\n",
        "            'validation_perplexities': validation_perplexities\n",
        "        }\n",
        "\n",
        "        file_object.write(json.dumps(info, indent=2))"
      ],
      "execution_count": null,
      "outputs": [
        {
          "output_type": "stream",
          "text": [
            "Train: 100%|██████████| 9410/9410 [42:50<00:00,  3.66it/s, loss=6.13, perplexity=461]\n",
            "Evaluate: 100%|██████████| 495/495 [00:44<00:00, 11.07it/s, loss=5.94, perplexity=382]\n"
          ],
          "name": "stderr"
        },
        {
          "output_type": "stream",
          "text": [
            "Epoch: 1\n",
            "Train: loss - 6.5967 | perplexity - 732.665\n",
            "Validation: loss - 5.9449 | perplexity - 381.802\n"
          ],
          "name": "stdout"
        },
        {
          "output_type": "stream",
          "text": [
            "Train: 100%|██████████| 9410/9410 [42:41<00:00,  3.67it/s, loss=5.8, perplexity=331]\n",
            "Evaluate: 100%|██████████| 495/495 [00:44<00:00, 11.10it/s, loss=5.57, perplexity=263]\n"
          ],
          "name": "stderr"
        },
        {
          "output_type": "stream",
          "text": [
            "Epoch: 2\n",
            "Train: loss - 5.9224 | perplexity - 373.298\n",
            "Validation: loss - 5.5724 | perplexity - 263.062\n"
          ],
          "name": "stdout"
        },
        {
          "output_type": "stream",
          "text": [
            "Train: 100%|██████████| 9410/9410 [42:40<00:00,  3.67it/s, loss=5.58, perplexity=265]\n",
            "Evaluate: 100%|██████████| 495/495 [00:44<00:00, 11.09it/s, loss=5.42, perplexity=225]\n"
          ],
          "name": "stderr"
        },
        {
          "output_type": "stream",
          "text": [
            "Epoch: 3\n",
            "Train: loss - 5.6764 | perplexity - 291.907\n",
            "Validation: loss - 5.4168 | perplexity - 225.164\n"
          ],
          "name": "stdout"
        },
        {
          "output_type": "stream",
          "text": [
            "Train: 100%|██████████| 9410/9410 [42:45<00:00,  3.67it/s, loss=5.51, perplexity=248]\n",
            "Evaluate: 100%|██████████| 495/495 [00:44<00:00, 11.10it/s, loss=5.29, perplexity=199]\n"
          ],
          "name": "stderr"
        },
        {
          "output_type": "stream",
          "text": [
            "Epoch: 4\n",
            "Train: loss - 5.5313 | perplexity - 252.478\n",
            "Validation: loss - 5.2915 | perplexity - 198.647\n"
          ],
          "name": "stdout"
        },
        {
          "output_type": "stream",
          "text": [
            "Train: 100%|██████████| 9410/9410 [42:43<00:00,  3.67it/s, loss=5.4, perplexity=222]\n",
            "Evaluate: 100%|██████████| 495/495 [00:44<00:00, 11.07it/s, loss=5.22, perplexity=184]\n"
          ],
          "name": "stderr"
        },
        {
          "output_type": "stream",
          "text": [
            "Epoch: 5\n",
            "Train: loss - 5.4332 | perplexity - 228.872\n",
            "Validation: loss - 5.2162 | perplexity - 184.239\n"
          ],
          "name": "stdout"
        }
      ]
    },
    {
      "cell_type": "code",
      "metadata": {
        "id": "cvY1R9eZLTsj",
        "colab": {
          "base_uri": "https://localhost:8080/"
        },
        "outputId": "5e98bb14-0ea9-4100-b653-5d4194cd4ea1"
      },
      "source": [
        "# подгружаем свою лучшую обученную модель\n",
        "model.load_state_dict(torch.load('best_language_model_state_dict.pth'))"
      ],
      "execution_count": null,
      "outputs": [
        {
          "output_type": "execute_result",
          "data": {
            "text/plain": [
              "<All keys matched successfully>"
            ]
          },
          "metadata": {
            "tags": []
          },
          "execution_count": 90
        }
      ]
    },
    {
      "cell_type": "markdown",
      "metadata": {
        "id": "B4iDCVWCLTsj"
      },
      "source": [
        "## Генерируем продолжение текста aka \"Накидайте фото красивых песен\""
      ]
    },
    {
      "cell_type": "code",
      "metadata": {
        "id": "YQWmKw1pLTsj"
      },
      "source": [
        "def generate(seed_text, bos_index=2, eos_index=3, max_sequence=512):\n",
        "    \n",
        "    # мы используем какой-нибудь seed text для того, по нему предсказать продолжение\n",
        "    tokenized = tokenizer.encode([seed_text])\n",
        "    \n",
        "    # добавляем тег начала предложения\n",
        "    tokenized[0].insert(0, bos_index)\n",
        "    x = torch.tensor(tokenized).long().to(device)\n",
        "    \n",
        "    model.eval()\n",
        "\n",
        "    with torch.no_grad():\n",
        "\n",
        "        # получим представления модели от нашего сид текста\n",
        "        emb = model.embedding_layer(x)\n",
        "\n",
        "        emb = model.embedding_dropout(emb)\n",
        "\n",
        "        lstm_out, mem = model.lstm(emb)\n",
        "\n",
        "        token_pred = model.language_model_head(lstm_out)\n",
        "\n",
        "        # семлируем последнее слово, что подать его на вход генератору\n",
        "        current_token = x[:, -1].unsqueeze(0)\n",
        "        \n",
        "        pred = []\n",
        "\n",
        "        # начинаем генерацию\n",
        "        # у нас есть текущий токен и mem от того, что мы уже предсказали\n",
        "        for timestamp in range(max_sequence):\n",
        "\n",
        "            emb = model.embedding_layer(current_token)\n",
        "\n",
        "            lstm_out, mem = model.lstm(emb, mem)\n",
        "\n",
        "            next_token_prediction = model.language_model_head(lstm_out)\n",
        "\n",
        "            pred.append(next_token_prediction)\n",
        "\n",
        "            current_token = next_token_prediction.argmax(dim=2)\n",
        "\n",
        "            # останавливаем генерировать текст, когда встретили токен конца предложения\n",
        "            if current_token == eos_index:\n",
        "                break\n",
        "\n",
        "        pred = torch.cat(pred, dim=1)\n",
        "\n",
        "    tokens = pred.argmax(dim=-1).detach().cpu().numpy()\n",
        "    predicted_text = tokenizer.decode(tokens.tolist())[0]\n",
        "    \n",
        "    return seed_text + ' ' + predicted_text[:predicted_text.index('<EOS>')]"
      ],
      "execution_count": null,
      "outputs": []
    },
    {
      "cell_type": "code",
      "metadata": {
        "scrolled": false,
        "id": "3X_Xj6LZLTsk",
        "colab": {
          "base_uri": "https://localhost:8080/"
        },
        "outputId": "a51c196f-e642-4636-87c0-d66fc82f531a"
      },
      "source": [
        "# здесь мы задаем для нашей модели некоторое состояние, то есть некоторые первые слова\n",
        "# и модель должна продолжить сказанное\n",
        "\n",
        "# изначально здесь продолжения текстов, нагенерированные моделью, которая училась несколько часов\n",
        "# лосс в районе 4, перплексия примерно 55 и на чуть других данных\n",
        "# вы можете учить меньше\n",
        "seed_texts = [\n",
        "    'я',\n",
        "    'почему',\n",
        "    'зачем',\n",
        "    'мне',\n",
        "    'у меня болит',\n",
        "    'у меня',\n",
        "    'откуда',\n",
        "    'решите',\n",
        "    'я понимаю что вопрос странный но',\n",
        "    'какие бывают',\n",
        "    'стоит ли',\n",
        "    'нормально ли',\n",
        "    'что это',\n",
        "    'почему меня',\n",
        "    'кто',\n",
        "    'кто такой',\n",
        "    'что лучше',\n",
        "    'что могут сделать за',\n",
        "    'перечислите чем лучше',\n",
        "    'кто автор',\n",
        "    'как сделать',\n",
        "    'кто убил',\n",
        "    'накидайте',\n",
        "    'порекомендуйте',\n",
        "    'как правильно',\n",
        "    'что вы',\n",
        "    'что ты',\n",
        "    'зачем ты',\n",
        "    'почему ты',\n",
        "    'за что',\n",
        "    'с чем',\n",
        "    'с кем',\n",
        "    'почему она',\n",
        "    'почему он',\n",
        "    'я хочу',\n",
        "    'я хочу чтобы девушка',\n",
        "    'я хочу чтобы моя',\n",
        "    'я хочу чтобы моя девушка',\n",
        "    'мне нравится',\n",
        "    'почему она',\n",
        "    'зачем мне',\n",
        "    'что она',\n",
        "    'что он',\n",
        "    'зачем она',\n",
        "    'зачем он',\n",
        "    'как сделать так чтобы она',\n",
        "    'как сделать так чтобы он',\n",
        "    'как сделать так чтобы',\n",
        "    'моя девушка',\n",
        "    'мой парень',\n",
        "    'чем',\n",
        "    'кем',\n",
        "    'как'\n",
        "]\n",
        "\n",
        "for text in seed_texts:\n",
        "    print(f'Оригинальный текст: {text}')\n",
        "    print(f'Сгенерированное продолжение: {generate(text)}')\n",
        "    print()"
      ],
      "execution_count": null,
      "outputs": [
        {
          "output_type": "stream",
          "text": [
            "Оригинальный текст: я\n",
            "Сгенерированное продолжение: я не знаю что делать\n",
            "\n",
            "Оригинальный текст: почему\n",
            "Сгенерированное продолжение: почему не работает интернет на телефоне\n",
            "\n",
            "Оригинальный текст: зачем\n",
            "Сгенерированное продолжение: зачем люди делают в интернете и в интернете не могут быть в россии и в россии и в россии\n",
            "\n",
            "Оригинальный текст: мне\n",
            "Сгенерированное продолжение: мне кажется что я не могу найти работу в интернете\n",
            "\n",
            "Оригинальный текст: у меня болит\n",
            "Сгенерированное продолжение: у меня болит голова\n",
            "\n",
            "Оригинальный текст: у меня\n",
            "Сгенерированное продолжение: у меня не было в жизни\n",
            "\n",
            "Оригинальный текст: откуда\n",
            "Сгенерированное продолжение: откуда взялось слово \"любовь\"?\n",
            "\n",
            "Оригинальный текст: решите\n",
            "Сгенерированное продолжение: решите задачу по физике\n",
            "\n",
            "Оригинальный текст: я понимаю что вопрос странный но\n",
            "Сгенерированное продолжение: я понимаю что вопрос странный но не знаю что делать\n",
            "\n",
            "Оригинальный текст: какие бывают\n",
            "Сгенерированное продолжение: какие бывают виды и виды в россии и в каком городе и в каком городе\n",
            "\n",
            "Оригинальный текст: стоит ли\n",
            "Сгенерированное продолжение: стоит ли покупать ps4 slim?\n",
            "\n",
            "Оригинальный текст: нормально ли\n",
            "Сгенерированное продолжение: нормально ли что у меня нет друзей на улице?\n",
            "\n",
            "Оригинальный текст: что это\n",
            "Сгенерированное продолжение: что это за вид кактуса?\n",
            "\n",
            "Оригинальный текст: почему меня\n",
            "Сгенерированное продолжение: почему меня не любят в этом году?\n",
            "\n",
            "Оригинальный текст: кто\n",
            "Сгенерированное продолжение: кто знает как называется этот цветок?\n",
            "\n",
            "Оригинальный текст: кто такой\n",
            "Сгенерированное продолжение: кто такой сон?\n",
            "\n",
            "Оригинальный текст: что лучше\n",
            "Сгенерированное продолжение: что лучше купить в пределах 500 рублей?\n",
            "\n",
            "Оригинальный текст: что могут сделать за\n",
            "Сгенерированное продолжение: что могут сделать за чёт в интернете?\n",
            "\n",
            "Оригинальный текст: перечислите чем лучше\n",
            "Сгенерированное продолжение: перечислите чем лучше всего хранить и не дорого и не дорого и не дорого и не дорого и не дорого\n",
            "\n",
            "Оригинальный текст: кто автор\n",
            "Сгенерированное продолжение: кто автор ского произведения\n",
            "\n",
            "Оригинальный текст: как сделать\n",
            "Сгенерированное продолжение: как сделать такой эффект в фотошопе\n",
            "\n",
            "Оригинальный текст: кто убил\n",
            "Сгенерированное продолжение: кто убил в мире\n",
            "\n",
            "Оригинальный текст: накидайте\n",
            "Сгенерированное продолжение: накидайте аниме про любовь\n",
            "\n",
            "Оригинальный текст: порекомендуйте\n",
            "Сгенерированное продолжение: порекомендуйте игры на андроид\n",
            "\n",
            "Оригинальный текст: как правильно\n",
            "Сгенерированное продолжение: как правильно написать заявление в суд на получение паспорта\n",
            "\n",
            "Оригинальный текст: что вы\n",
            "Сгенерированное продолжение: что вы можете сказать о человеке в этом году?\n",
            "\n",
            "Оригинальный текст: что ты\n",
            "Сгенерированное продолжение: что ты можешь сказать о своей женщине ?\n",
            "\n",
            "Оригинальный текст: зачем ты\n",
            "Сгенерированное продолжение: зачем ты любишь в своей жизни?)\n",
            "\n",
            "Оригинальный текст: почему ты\n",
            "Сгенерированное продолжение: почему ты любишь в своей жизни и не было ни разу не было ни разу не было ни разу не было ни разу не было ни разу не было ни разу не было ни разу не было ни разу не было ни разу не было ни разу не было\n",
            "\n",
            "Оригинальный текст: за что\n",
            "Сгенерированное продолжение: за что вы любите больше всего?)\n",
            "\n",
            "Оригинальный текст: с чем\n",
            "Сгенерированное продолжение: с чем можно носить такие очки?\n",
            "\n",
            "Оригинальный текст: с кем\n",
            "Сгенерированное продолжение: с кем можно работать в 14 лет?\n",
            "\n",
            "Оригинальный текст: почему она\n",
            "Сгенерированное продолжение: почему она не хочет общаться с девушками?\n",
            "\n",
            "Оригинальный текст: почему он\n",
            "Сгенерированное продолжение: почему он не хочет общаться с девушками?\n",
            "\n",
            "Оригинальный текст: я хочу\n",
            "Сгенерированное продолжение: я хочу стать актрисой\n",
            "\n",
            "Оригинальный текст: я хочу чтобы девушка\n",
            "Сгенерированное продолжение: я хочу чтобы девушка была в другом городе\n",
            "\n",
            "Оригинальный текст: я хочу чтобы моя\n",
            "Сгенерированное продолжение: я хочу чтобы моя подруга была в другом городе\n",
            "\n",
            "Оригинальный текст: я хочу чтобы моя девушка\n",
            "Сгенерированное продолжение: я хочу чтобы моя девушка сказала что я не хочу\n",
            "\n",
            "Оригинальный текст: мне нравится\n",
            "Сгенерированное продолжение: мне нравится парень, что делать?\n",
            "\n",
            "Оригинальный текст: почему она\n",
            "Сгенерированное продолжение: почему она не хочет общаться с девушками?\n",
            "\n",
            "Оригинальный текст: зачем мне\n",
            "Сгенерированное продолжение: зачем мне нужны эти часы?\n",
            "\n",
            "Оригинальный текст: что она\n",
            "Сгенерированное продолжение: что она чувствует к девушке?\n",
            "\n",
            "Оригинальный текст: что он\n",
            "Сгенерированное продолжение: что он делает?\n",
            "\n",
            "Оригинальный текст: зачем она\n",
            "Сгенерированное продолжение: зачем она мне так делает?\n",
            "\n",
            "Оригинальный текст: зачем он\n",
            "Сгенерированное продолжение: зачем он так делает?\n",
            "\n",
            "Оригинальный текст: как сделать так чтобы она\n",
            "Сгенерированное продолжение: как сделать так чтобы она не была в мире?\n",
            "\n",
            "Оригинальный текст: как сделать так чтобы он\n",
            "Сгенерированное продолжение: как сделать так чтобы он не мог меня найти\n",
            "\n",
            "Оригинальный текст: как сделать так чтобы\n",
            "Сгенерированное продолжение: как сделать так чтобы было в интернете было много денег и не могу найти\n",
            "\n",
            "Оригинальный текст: моя девушка\n",
            "Сгенерированное продолжение: моя девушка \n",
            "\n",
            "Оригинальный текст: мой парень\n",
            "Сгенерированное продолжение: мой парень \n",
            "\n",
            "Оригинальный текст: чем\n",
            "Сгенерированное продолжение: чем отличается отбор от обычного?\n",
            "\n",
            "Оригинальный текст: кем\n",
            "Сгенерированное продолжение: кем приходится двоюродный муж?\n",
            "\n",
            "Оригинальный текст: как\n",
            "Сгенерированное продолжение: как называется этот вид кактуса?\n",
            "\n"
          ],
          "name": "stdout"
        }
      ]
    },
    {
      "cell_type": "code",
      "metadata": {
        "scrolled": false,
        "id": "yDk48y9RLTsk"
      },
      "source": [
        "# раскомментируйте, если хотите сами интерактивно пообщаться с моделью\n",
        "while True:\n",
        "    seed_text = input('Ваш текст: ')\n",
        "    if seed_text in ['стоп', 'хватит']:\n",
        "        break\n",
        "    print('Сгенерированный с продолжением: ', generate(seed_text))"
      ],
      "execution_count": null,
      "outputs": []
    },
    {
      "cell_type": "markdown",
      "metadata": {
        "id": "7A5foY9zLTsk"
      },
      "source": [
        "# Научились генерироваться вопросы"
      ]
    },
    {
      "cell_type": "markdown",
      "metadata": {
        "id": "m_MvbpL-LTsk"
      },
      "source": [
        "# Домашка №3\n",
        "## Seq2Seq\n",
        "### Научиться генерировать ответы по вопросу\n",
        "\n",
        "### Вам понадобится:\n",
        "1. Написать *Dataset* для задачи seq2seq\n",
        "1. Реализовать модель\n",
        "1. Сделать цикл обучения\n",
        "1. Реализовать метод генерации ответа по вопросу с помощью вашей модели\n",
        "\n",
        "### Примерный список того, что можно сделать:\n",
        "Необязательно реализовывать все\n",
        "1. Сделать модель, основанную на lstm/gru **5 баллов**\n",
        "1. Сделать модель, основанную на cnn **7 баллов**\n",
        "1. Сделать модель, основанную на трансформере (реализовать все слои самому) **10 баллов**\n",
        "1. Добавить в rnn/cnn модель attention **5 баллов**\n",
        "1. Реализовать жадное семплирование (генерацию по самому вероятному токену, как выше в языковой модели) **3 балла**\n",
        "1. Реализовать beam search **5 баллов**\n",
        "1. Реализовать nucleus sampling **5 баллов**\n",
        "1. Добавить condition в модель **3 балла**\n",
        "1. Добавить layer norm/residual в cnn или rnn модель **1 балл**\n",
        "1. Реализовать аккамуляцию градиентов **1 балл**\n",
        "1. Сделать телеграм бота **2 балла**\n",
        "\n",
        "#### Дополнительные детали:  \n",
        "**Сделать модель** подразумевает весь код с обучением и генерацией ответа по аналогии с языковой моделью.  \n",
        "**6-й пункт:** у нас есть категория вопроса и мы можем явным образом добавить эту информацию в модель. Затем мы сможем задавать вопрос из любой категории, а отвечать таким ответом, которой больше будет соответствовать категории (которую мы сможем сами задать в модель). То есть на этапе предсказания мы задаем сети вопрос и категорию ответа, то есть в каком стиле наша сеть должна ответить. То есть должно получиться что-то такое:\n",
        "```\n",
        "Вопрос пользователя:\n",
        "    Что мне делать с моей девушкой? она плохо себя ведет\n",
        "\n",
        "Задаем категорию:\n",
        "    Авто\n",
        "Ответ модели:\n",
        "    Сдайте ее в техосмотр\n",
        "\n",
        "Задаем категорию:\n",
        "    Сад и огород\n",
        "Ответ модели:\n",
        "    Вам нужно лучше ее поливать\n",
        "```\n",
        "**7-й пункт:**  \n",
        "Статья: https://arxiv.org/pdf/1904.09751.pdf  \n",
        "В помощь: https://huggingface.co/blog/how-to-generate"
      ]
    },
    {
      "cell_type": "markdown",
      "metadata": {
        "id": "6qR1WXqeLTsl"
      },
      "source": [
        "### Данные для seq2seq\n",
        "***Данные*** - это файл, где каждая строка - json объект формата:\n",
        "```json\n",
        "{\n",
        "    \"question\": \"вопрос\",\n",
        "    \"category\": \"некоторая категория вопроса\",\n",
        "    \"responses\": [\n",
        "        \"первый ответ на вопрос\",\n",
        "        \"второй ответ на вопрос\",\n",
        "        \"третий ответ на вопрос\",\n",
        "    ]\n",
        "}\n",
        "```\n",
        "Количество ответов: от 1 до 5\n",
        "\n",
        "Эти данные лучше очищены, так что советую переобучить BPE.  \n",
        "Необязательно учиться на всех данных. Вы можете взять половину/четверть, если не хотите долго ждать. Так результаты будут похуже, но быстрее."
      ]
    },
    {
      "cell_type": "code",
      "metadata": {
        "id": "NQxPrLsyLTsl"
      },
      "source": [
        "qa_data = list()\n",
        "\n",
        "with open('qa_data.jsonl') as file_object:\n",
        "    for _ in range(5):\n",
        "        line = file_object.readline().strip()\n",
        "        \n",
        "        qa_data.append(json.loads(line))"
      ],
      "execution_count": null,
      "outputs": []
    },
    {
      "cell_type": "markdown",
      "metadata": {
        "id": "qetU6lgelR6w"
      },
      "source": [
        "# Непосредственно домашка"
      ]
    },
    {
      "cell_type": "code",
      "metadata": {
        "colab": {
          "base_uri": "https://localhost:8080/"
        },
        "id": "ibJ0DaKY5Ztm",
        "outputId": "2c5c2982-5ba6-4987-dd97-a328e8cf80b3"
      },
      "source": [
        "!pip install youtokentome"
      ],
      "execution_count": 1,
      "outputs": [
        {
          "output_type": "stream",
          "text": [
            "Collecting youtokentome\n",
            "\u001b[?25l  Downloading https://files.pythonhosted.org/packages/a3/65/4a86cf99da3f680497ae132329025b291e2fda22327e8da6a9476e51acb1/youtokentome-1.0.6-cp36-cp36m-manylinux2010_x86_64.whl (1.7MB)\n",
            "\r\u001b[K     |▏                               | 10kB 16.1MB/s eta 0:00:01\r\u001b[K     |▍                               | 20kB 4.6MB/s eta 0:00:01\r\u001b[K     |▋                               | 30kB 6.4MB/s eta 0:00:01\r\u001b[K     |▊                               | 40kB 8.1MB/s eta 0:00:01\r\u001b[K     |█                               | 51kB 4.3MB/s eta 0:00:01\r\u001b[K     |█▏                              | 61kB 4.9MB/s eta 0:00:01\r\u001b[K     |█▍                              | 71kB 4.2MB/s eta 0:00:01\r\u001b[K     |█▌                              | 81kB 4.7MB/s eta 0:00:01\r\u001b[K     |█▊                              | 92kB 3.8MB/s eta 0:00:01\r\u001b[K     |██                              | 102kB 4.1MB/s eta 0:00:01\r\u001b[K     |██                              | 112kB 4.1MB/s eta 0:00:01\r\u001b[K     |██▎                             | 122kB 4.1MB/s eta 0:00:01\r\u001b[K     |██▌                             | 133kB 4.1MB/s eta 0:00:01\r\u001b[K     |██▊                             | 143kB 4.1MB/s eta 0:00:01\r\u001b[K     |██▉                             | 153kB 4.1MB/s eta 0:00:01\r\u001b[K     |███                             | 163kB 4.1MB/s eta 0:00:01\r\u001b[K     |███▎                            | 174kB 4.1MB/s eta 0:00:01\r\u001b[K     |███▌                            | 184kB 4.1MB/s eta 0:00:01\r\u001b[K     |███▋                            | 194kB 4.1MB/s eta 0:00:01\r\u001b[K     |███▉                            | 204kB 4.1MB/s eta 0:00:01\r\u001b[K     |████                            | 215kB 4.1MB/s eta 0:00:01\r\u001b[K     |████▏                           | 225kB 4.1MB/s eta 0:00:01\r\u001b[K     |████▍                           | 235kB 4.1MB/s eta 0:00:01\r\u001b[K     |████▋                           | 245kB 4.1MB/s eta 0:00:01\r\u001b[K     |████▉                           | 256kB 4.1MB/s eta 0:00:01\r\u001b[K     |█████                           | 266kB 4.1MB/s eta 0:00:01\r\u001b[K     |█████▏                          | 276kB 4.1MB/s eta 0:00:01\r\u001b[K     |█████▍                          | 286kB 4.1MB/s eta 0:00:01\r\u001b[K     |█████▋                          | 296kB 4.1MB/s eta 0:00:01\r\u001b[K     |█████▊                          | 307kB 4.1MB/s eta 0:00:01\r\u001b[K     |██████                          | 317kB 4.1MB/s eta 0:00:01\r\u001b[K     |██████▏                         | 327kB 4.1MB/s eta 0:00:01\r\u001b[K     |██████▎                         | 337kB 4.1MB/s eta 0:00:01\r\u001b[K     |██████▌                         | 348kB 4.1MB/s eta 0:00:01\r\u001b[K     |██████▊                         | 358kB 4.1MB/s eta 0:00:01\r\u001b[K     |███████                         | 368kB 4.1MB/s eta 0:00:01\r\u001b[K     |███████                         | 378kB 4.1MB/s eta 0:00:01\r\u001b[K     |███████▎                        | 389kB 4.1MB/s eta 0:00:01\r\u001b[K     |███████▌                        | 399kB 4.1MB/s eta 0:00:01\r\u001b[K     |███████▋                        | 409kB 4.1MB/s eta 0:00:01\r\u001b[K     |███████▉                        | 419kB 4.1MB/s eta 0:00:01\r\u001b[K     |████████                        | 430kB 4.1MB/s eta 0:00:01\r\u001b[K     |████████▎                       | 440kB 4.1MB/s eta 0:00:01\r\u001b[K     |████████▍                       | 450kB 4.1MB/s eta 0:00:01\r\u001b[K     |████████▋                       | 460kB 4.1MB/s eta 0:00:01\r\u001b[K     |████████▉                       | 471kB 4.1MB/s eta 0:00:01\r\u001b[K     |█████████                       | 481kB 4.1MB/s eta 0:00:01\r\u001b[K     |█████████▏                      | 491kB 4.1MB/s eta 0:00:01\r\u001b[K     |█████████▍                      | 501kB 4.1MB/s eta 0:00:01\r\u001b[K     |█████████▋                      | 512kB 4.1MB/s eta 0:00:01\r\u001b[K     |█████████▊                      | 522kB 4.1MB/s eta 0:00:01\r\u001b[K     |██████████                      | 532kB 4.1MB/s eta 0:00:01\r\u001b[K     |██████████▏                     | 542kB 4.1MB/s eta 0:00:01\r\u001b[K     |██████████▍                     | 552kB 4.1MB/s eta 0:00:01\r\u001b[K     |██████████▌                     | 563kB 4.1MB/s eta 0:00:01\r\u001b[K     |██████████▊                     | 573kB 4.1MB/s eta 0:00:01\r\u001b[K     |███████████                     | 583kB 4.1MB/s eta 0:00:01\r\u001b[K     |███████████▏                    | 593kB 4.1MB/s eta 0:00:01\r\u001b[K     |███████████▎                    | 604kB 4.1MB/s eta 0:00:01\r\u001b[K     |███████████▌                    | 614kB 4.1MB/s eta 0:00:01\r\u001b[K     |███████████▊                    | 624kB 4.1MB/s eta 0:00:01\r\u001b[K     |███████████▉                    | 634kB 4.1MB/s eta 0:00:01\r\u001b[K     |████████████                    | 645kB 4.1MB/s eta 0:00:01\r\u001b[K     |████████████▎                   | 655kB 4.1MB/s eta 0:00:01\r\u001b[K     |████████████▌                   | 665kB 4.1MB/s eta 0:00:01\r\u001b[K     |████████████▋                   | 675kB 4.1MB/s eta 0:00:01\r\u001b[K     |████████████▉                   | 686kB 4.1MB/s eta 0:00:01\r\u001b[K     |█████████████                   | 696kB 4.1MB/s eta 0:00:01\r\u001b[K     |█████████████▏                  | 706kB 4.1MB/s eta 0:00:01\r\u001b[K     |█████████████▍                  | 716kB 4.1MB/s eta 0:00:01\r\u001b[K     |█████████████▋                  | 727kB 4.1MB/s eta 0:00:01\r\u001b[K     |█████████████▉                  | 737kB 4.1MB/s eta 0:00:01\r\u001b[K     |██████████████                  | 747kB 4.1MB/s eta 0:00:01\r\u001b[K     |██████████████▏                 | 757kB 4.1MB/s eta 0:00:01\r\u001b[K     |██████████████▍                 | 768kB 4.1MB/s eta 0:00:01\r\u001b[K     |██████████████▋                 | 778kB 4.1MB/s eta 0:00:01\r\u001b[K     |██████████████▊                 | 788kB 4.1MB/s eta 0:00:01\r\u001b[K     |███████████████                 | 798kB 4.1MB/s eta 0:00:01\r\u001b[K     |███████████████▏                | 808kB 4.1MB/s eta 0:00:01\r\u001b[K     |███████████████▎                | 819kB 4.1MB/s eta 0:00:01\r\u001b[K     |███████████████▌                | 829kB 4.1MB/s eta 0:00:01\r\u001b[K     |███████████████▊                | 839kB 4.1MB/s eta 0:00:01\r\u001b[K     |████████████████                | 849kB 4.1MB/s eta 0:00:01\r\u001b[K     |████████████████                | 860kB 4.1MB/s eta 0:00:01\r\u001b[K     |████████████████▎               | 870kB 4.1MB/s eta 0:00:01\r\u001b[K     |████████████████▌               | 880kB 4.1MB/s eta 0:00:01\r\u001b[K     |████████████████▊               | 890kB 4.1MB/s eta 0:00:01\r\u001b[K     |████████████████▉               | 901kB 4.1MB/s eta 0:00:01\r\u001b[K     |█████████████████               | 911kB 4.1MB/s eta 0:00:01\r\u001b[K     |█████████████████▎              | 921kB 4.1MB/s eta 0:00:01\r\u001b[K     |█████████████████▍              | 931kB 4.1MB/s eta 0:00:01\r\u001b[K     |█████████████████▋              | 942kB 4.1MB/s eta 0:00:01\r\u001b[K     |█████████████████▉              | 952kB 4.1MB/s eta 0:00:01\r\u001b[K     |██████████████████              | 962kB 4.1MB/s eta 0:00:01\r\u001b[K     |██████████████████▏             | 972kB 4.1MB/s eta 0:00:01\r\u001b[K     |██████████████████▍             | 983kB 4.1MB/s eta 0:00:01\r\u001b[K     |██████████████████▋             | 993kB 4.1MB/s eta 0:00:01\r\u001b[K     |██████████████████▉             | 1.0MB 4.1MB/s eta 0:00:01\r\u001b[K     |███████████████████             | 1.0MB 4.1MB/s eta 0:00:01\r\u001b[K     |███████████████████▏            | 1.0MB 4.1MB/s eta 0:00:01\r\u001b[K     |███████████████████▍            | 1.0MB 4.1MB/s eta 0:00:01\r\u001b[K     |███████████████████▌            | 1.0MB 4.1MB/s eta 0:00:01\r\u001b[K     |███████████████████▊            | 1.1MB 4.1MB/s eta 0:00:01\r\u001b[K     |████████████████████            | 1.1MB 4.1MB/s eta 0:00:01\r\u001b[K     |████████████████████▏           | 1.1MB 4.1MB/s eta 0:00:01\r\u001b[K     |████████████████████▎           | 1.1MB 4.1MB/s eta 0:00:01\r\u001b[K     |████████████████████▌           | 1.1MB 4.1MB/s eta 0:00:01\r\u001b[K     |████████████████████▊           | 1.1MB 4.1MB/s eta 0:00:01\r\u001b[K     |████████████████████▉           | 1.1MB 4.1MB/s eta 0:00:01\r\u001b[K     |█████████████████████           | 1.1MB 4.1MB/s eta 0:00:01\r\u001b[K     |█████████████████████▎          | 1.1MB 4.1MB/s eta 0:00:01\r\u001b[K     |█████████████████████▌          | 1.1MB 4.1MB/s eta 0:00:01\r\u001b[K     |█████████████████████▋          | 1.2MB 4.1MB/s eta 0:00:01\r\u001b[K     |█████████████████████▉          | 1.2MB 4.1MB/s eta 0:00:01\r\u001b[K     |██████████████████████          | 1.2MB 4.1MB/s eta 0:00:01\r\u001b[K     |██████████████████████▎         | 1.2MB 4.1MB/s eta 0:00:01\r\u001b[K     |██████████████████████▍         | 1.2MB 4.1MB/s eta 0:00:01\r\u001b[K     |██████████████████████▋         | 1.2MB 4.1MB/s eta 0:00:01\r\u001b[K     |██████████████████████▉         | 1.2MB 4.1MB/s eta 0:00:01\r\u001b[K     |███████████████████████         | 1.2MB 4.1MB/s eta 0:00:01\r\u001b[K     |███████████████████████▏        | 1.2MB 4.1MB/s eta 0:00:01\r\u001b[K     |███████████████████████▍        | 1.2MB 4.1MB/s eta 0:00:01\r\u001b[K     |███████████████████████▋        | 1.3MB 4.1MB/s eta 0:00:01\r\u001b[K     |███████████████████████▊        | 1.3MB 4.1MB/s eta 0:00:01\r\u001b[K     |████████████████████████        | 1.3MB 4.1MB/s eta 0:00:01\r\u001b[K     |████████████████████████▏       | 1.3MB 4.1MB/s eta 0:00:01\r\u001b[K     |████████████████████████▍       | 1.3MB 4.1MB/s eta 0:00:01\r\u001b[K     |████████████████████████▌       | 1.3MB 4.1MB/s eta 0:00:01\r\u001b[K     |████████████████████████▊       | 1.3MB 4.1MB/s eta 0:00:01\r\u001b[K     |█████████████████████████       | 1.3MB 4.1MB/s eta 0:00:01\r\u001b[K     |█████████████████████████       | 1.3MB 4.1MB/s eta 0:00:01\r\u001b[K     |█████████████████████████▎      | 1.4MB 4.1MB/s eta 0:00:01\r\u001b[K     |█████████████████████████▌      | 1.4MB 4.1MB/s eta 0:00:01\r\u001b[K     |█████████████████████████▊      | 1.4MB 4.1MB/s eta 0:00:01\r\u001b[K     |█████████████████████████▉      | 1.4MB 4.1MB/s eta 0:00:01\r\u001b[K     |██████████████████████████      | 1.4MB 4.1MB/s eta 0:00:01\r\u001b[K     |██████████████████████████▎     | 1.4MB 4.1MB/s eta 0:00:01\r\u001b[K     |██████████████████████████▍     | 1.4MB 4.1MB/s eta 0:00:01\r\u001b[K     |██████████████████████████▋     | 1.4MB 4.1MB/s eta 0:00:01\r\u001b[K     |██████████████████████████▉     | 1.4MB 4.1MB/s eta 0:00:01\r\u001b[K     |███████████████████████████     | 1.4MB 4.1MB/s eta 0:00:01\r\u001b[K     |███████████████████████████▏    | 1.5MB 4.1MB/s eta 0:00:01\r\u001b[K     |███████████████████████████▍    | 1.5MB 4.1MB/s eta 0:00:01\r\u001b[K     |███████████████████████████▋    | 1.5MB 4.1MB/s eta 0:00:01\r\u001b[K     |███████████████████████████▉    | 1.5MB 4.1MB/s eta 0:00:01\r\u001b[K     |████████████████████████████    | 1.5MB 4.1MB/s eta 0:00:01\r\u001b[K     |████████████████████████████▏   | 1.5MB 4.1MB/s eta 0:00:01\r\u001b[K     |████████████████████████████▍   | 1.5MB 4.1MB/s eta 0:00:01\r\u001b[K     |████████████████████████████▌   | 1.5MB 4.1MB/s eta 0:00:01\r\u001b[K     |████████████████████████████▊   | 1.5MB 4.1MB/s eta 0:00:01\r\u001b[K     |█████████████████████████████   | 1.5MB 4.1MB/s eta 0:00:01\r\u001b[K     |█████████████████████████████▏  | 1.6MB 4.1MB/s eta 0:00:01\r\u001b[K     |█████████████████████████████▎  | 1.6MB 4.1MB/s eta 0:00:01\r\u001b[K     |█████████████████████████████▌  | 1.6MB 4.1MB/s eta 0:00:01\r\u001b[K     |█████████████████████████████▊  | 1.6MB 4.1MB/s eta 0:00:01\r\u001b[K     |██████████████████████████████  | 1.6MB 4.1MB/s eta 0:00:01\r\u001b[K     |██████████████████████████████  | 1.6MB 4.1MB/s eta 0:00:01\r\u001b[K     |██████████████████████████████▎ | 1.6MB 4.1MB/s eta 0:00:01\r\u001b[K     |██████████████████████████████▌ | 1.6MB 4.1MB/s eta 0:00:01\r\u001b[K     |██████████████████████████████▋ | 1.6MB 4.1MB/s eta 0:00:01\r\u001b[K     |██████████████████████████████▉ | 1.6MB 4.1MB/s eta 0:00:01\r\u001b[K     |███████████████████████████████ | 1.7MB 4.1MB/s eta 0:00:01\r\u001b[K     |███████████████████████████████▎| 1.7MB 4.1MB/s eta 0:00:01\r\u001b[K     |███████████████████████████████▍| 1.7MB 4.1MB/s eta 0:00:01\r\u001b[K     |███████████████████████████████▋| 1.7MB 4.1MB/s eta 0:00:01\r\u001b[K     |███████████████████████████████▉| 1.7MB 4.1MB/s eta 0:00:01\r\u001b[K     |████████████████████████████████| 1.7MB 4.1MB/s eta 0:00:01\r\u001b[K     |████████████████████████████████| 1.7MB 4.1MB/s \n",
            "\u001b[?25hRequirement already satisfied: Click>=7.0 in /usr/local/lib/python3.6/dist-packages (from youtokentome) (7.1.2)\n",
            "Installing collected packages: youtokentome\n",
            "Successfully installed youtokentome-1.0.6\n"
          ],
          "name": "stdout"
        }
      ]
    },
    {
      "cell_type": "code",
      "metadata": {
        "colab": {
          "base_uri": "https://localhost:8080/"
        },
        "id": "DuSnP5wd5T_N",
        "outputId": "e6c276e9-697d-4920-81f9-8ee43395e7de"
      },
      "source": [
        "from google.colab import drive\n",
        "drive.mount('/content/drive')"
      ],
      "execution_count": 2,
      "outputs": [
        {
          "output_type": "stream",
          "text": [
            "Mounted at /content/drive\n"
          ],
          "name": "stdout"
        }
      ]
    },
    {
      "cell_type": "code",
      "metadata": {
        "colab": {
          "base_uri": "https://localhost:8080/"
        },
        "id": "85XwARZ35g9X",
        "outputId": "b2077961-8352-4d7e-e047-efde0a0da425"
      },
      "source": [
        "# !unzip /content/drive/MyDrive/dl_hw3/qa_data.jsonl.zip"
      ],
      "execution_count": null,
      "outputs": [
        {
          "output_type": "stream",
          "text": [
            "Archive:  /content/drive/MyDrive/dl_hw3/qa_data.jsonl.zip\n",
            "  inflating: qa_data.jsonl           \n",
            "  inflating: __MACOSX/._qa_data.jsonl  \n"
          ],
          "name": "stdout"
        }
      ]
    },
    {
      "cell_type": "code",
      "metadata": {
        "id": "Cq3KB55AlVPZ"
      },
      "source": [
        "import math\n",
        "import numpy as np\n",
        "import pandas as pd\n",
        "\n",
        "import random\n",
        "import json\n",
        "import torch\n",
        "from torch import nn\n",
        "from torch.utils.data import Dataset, DataLoader\n",
        "from torch.optim.lr_scheduler import StepLR\n",
        "from torch.optim import Adam\n",
        "from sklearn.utils import shuffle\n",
        "\n",
        "from tqdm import tqdm\n",
        "\n",
        "from matplotlib import pyplot as plt\n",
        "\n",
        "import youtokentome as yttm"
      ],
      "execution_count": 3,
      "outputs": []
    },
    {
      "cell_type": "code",
      "metadata": {
        "id": "LfpsiIT_LTsl",
        "colab": {
          "base_uri": "https://localhost:8080/"
        },
        "outputId": "035db531-f000-459c-b980-635af4f7f4ba"
      },
      "source": [
        "# %%time\n",
        "# qa_data = list()\n",
        "\n",
        "# with open('qa_data.jsonl') as file_object:\n",
        "#     for line in file_object:\n",
        "#         qa_data.append(json.loads(line.strip()))"
      ],
      "execution_count": null,
      "outputs": [
        {
          "output_type": "stream",
          "text": [
            "CPU times: user 23.6 s, sys: 2.31 s, total: 25.9 s\n",
            "Wall time: 40 s\n"
          ],
          "name": "stdout"
        }
      ]
    },
    {
      "cell_type": "code",
      "metadata": {
        "colab": {
          "base_uri": "https://localhost:8080/"
        },
        "id": "hsHLV5GAibtu",
        "outputId": "bdd753ab-d384-4cca-f77a-f9e990479761"
      },
      "source": [
        "# qa_data[:5]"
      ],
      "execution_count": null,
      "outputs": [
        {
          "output_type": "execute_result",
          "data": {
            "text/plain": [
              "[{'category': 'Бизнес, Финансы',\n",
              "  'question': 'долго ли идут деньги с яндексденег на карту visa?',\n",
              "  'responses': ['нет. прорыв 35 ;)']},\n",
              " {'category': 'Авто, Мото',\n",
              "  'question': 'можно ли зарегистрировать авто в другом регионе',\n",
              "  'responses': ['можно на родственника из того региона.. .  а потом ездить по доверке']},\n",
              " {'category': 'Красота и Здоровье',\n",
              "  'question': 'что делать если у меня очень тонкие ногти а хочется их отрастить?',\n",
              "  'responses': ['витамины и умная эмаль (каждый день)',\n",
              "   'ванночки с морской солью. с вечера мажь ногти сверху йодом. не бойся, до утра все впитается.',\n",
              "   'умная эмаль, витамины, йод, и поменьше крась лаком ',\n",
              "   'лаки фирмы trind производство usa + кальций']},\n",
              " {'category': 'Спорт',\n",
              "  'question': 'в чем отличие медитации от йоги?',\n",
              "  'responses': ['букв в йоге меньше',\n",
              "   'в медитации ты просто сидишь и мммммычишь. а в йоге всяко разные упражнения вытворяешь',\n",
              "   'в медитации вроде просто тупо сидишь и успокаеваешься, а в йоге еще и ноги за уши закидывать надо']},\n",
              " {'category': 'Спорт',\n",
              "  'question': 'когда начнут линейку фильмов про лигу чемпионов?',\n",
              "  'responses': ['а не фильм? жалко... а я то думал - хорошая комедия']}]"
            ]
          },
          "metadata": {
            "tags": []
          },
          "execution_count": 7
        }
      ]
    },
    {
      "cell_type": "code",
      "metadata": {
        "colab": {
          "base_uri": "https://localhost:8080/"
        },
        "id": "yYvA7bDxrL4t",
        "outputId": "e727fe69-ecd2-456e-88a7-c5f01573b188"
      },
      "source": [
        "# %%time\n",
        "# questions = []\n",
        "# answers = []\n",
        "# categories = []\n",
        "\n",
        "# for d in tqdm(qa_data):\n",
        "#   for answer in d['responses']:\n",
        "#     questions.append(d['question'])\n",
        "#     answers.append(answer)\n",
        "#     categories.append(d['category'])"
      ],
      "execution_count": null,
      "outputs": [
        {
          "output_type": "stream",
          "text": [
            "100%|██████████| 2808811/2808811 [00:04<00:00, 665396.08it/s]"
          ],
          "name": "stderr"
        },
        {
          "output_type": "stream",
          "text": [
            "CPU times: user 4.06 s, sys: 171 ms, total: 4.23 s\n",
            "Wall time: 4.22 s\n"
          ],
          "name": "stdout"
        },
        {
          "output_type": "stream",
          "text": [
            "\n"
          ],
          "name": "stderr"
        }
      ]
    },
    {
      "cell_type": "code",
      "metadata": {
        "id": "OjjCB56F-e_b"
      },
      "source": [
        "# questions_shuffled, answers_shuffled, categories_shuffled = shuffle(questions, answers, categories)"
      ],
      "execution_count": null,
      "outputs": []
    },
    {
      "cell_type": "code",
      "metadata": {
        "colab": {
          "base_uri": "https://localhost:8080/"
        },
        "id": "MB_UO-cvBMuI",
        "outputId": "343e36cc-ae12-4b8a-9f69-c7681e59d6a8"
      },
      "source": [
        "# questions_shuffled[:5]"
      ],
      "execution_count": null,
      "outputs": [
        {
          "output_type": "execute_result",
          "data": {
            "text/plain": [
              "['вопрос тем, кто недавно делал ремонт. какие у вас полы? долго настилали? довольны качеством? есть ли минусы?',\n",
              " 'чем встретит спартак,ростов-папа ? 19:30 ростов - спартак м угадайте итог матча ?',\n",
              " 'как избавиться от \"тупой\" боли в затылке?',\n",
              " 'почему если пара вместе 5 лет и больше все думают что это привычка?',\n",
              " 'какой то прыщик, или свищ, подскажите к какому врачу идти ?']"
            ]
          },
          "metadata": {
            "tags": []
          },
          "execution_count": 5
        }
      ]
    },
    {
      "cell_type": "code",
      "metadata": {
        "colab": {
          "base_uri": "https://localhost:8080/"
        },
        "id": "C82GVgDwBOuu",
        "outputId": "642065a4-07ef-49be-9e20-9dce695956d8"
      },
      "source": [
        "# answers_shuffled[:5]"
      ],
      "execution_count": null,
      "outputs": [
        {
          "output_type": "execute_result",
          "data": {
            "text/plain": [
              "['делал. на пол стелил ламинат. доволен. минусы? если даже ручка падает на пол - звук громкий.',\n",
              " '0:0 или 1:1 )',\n",
              " 'шесть золотых правил здоровья кацудзо ниши. посмотри в ютубе майю гогулан. через 3 дня будет всё в порядке.',\n",
              " 'отнимите от всех окружающих мой голос: я так не думаю..',\n",
              " 'с хирургом проконсультируйся для начала']"
            ]
          },
          "metadata": {
            "tags": []
          },
          "execution_count": 6
        }
      ]
    },
    {
      "cell_type": "code",
      "metadata": {
        "colab": {
          "base_uri": "https://localhost:8080/"
        },
        "id": "8if5Mv62BROu",
        "outputId": "ee3a16e3-0d6e-4ea9-c46c-b3b33fdee65d"
      },
      "source": [
        "# categories_shuffled[:5]"
      ],
      "execution_count": null,
      "outputs": [
        {
          "output_type": "execute_result",
          "data": {
            "text/plain": [
              "['Семья, Дом, Дети',\n",
              " 'Спорт',\n",
              " 'Красота и Здоровье',\n",
              " 'Семья, Дом, Дети',\n",
              " 'Красота и Здоровье']"
            ]
          },
          "metadata": {
            "tags": []
          },
          "execution_count": 7
        }
      ]
    },
    {
      "cell_type": "code",
      "metadata": {
        "id": "MYewXzEpBbiv"
      },
      "source": [
        "# questions, answers, categories = questions_shuffled[:4_000_000], answers_shuffled[:4_000_000], categories_shuffled[:4_000_000]"
      ],
      "execution_count": null,
      "outputs": []
    },
    {
      "cell_type": "code",
      "metadata": {
        "id": "3CUTVaBp_GrK"
      },
      "source": [
        "# qas = pd.DataFrame({\"questions\": questions,\n",
        "#                     \"answers\": answers,\n",
        "#                     \"categories\": categories})\n",
        "# qas.to_csv('/content/drive/MyDrive/dl_hw3/qas.csv', index=False)"
      ],
      "execution_count": null,
      "outputs": []
    },
    {
      "cell_type": "code",
      "metadata": {
        "id": "-N96yHwx_ayy"
      },
      "source": [
        "qas = pd.read_csv('/content/drive/MyDrive/dl_hw3/qas.csv')\n",
        "qas = qas[:2_000_000]"
      ],
      "execution_count": 4,
      "outputs": []
    },
    {
      "cell_type": "code",
      "metadata": {
        "colab": {
          "base_uri": "https://localhost:8080/",
          "height": 289
        },
        "id": "zkBYOjUVB1lk",
        "outputId": "3b425553-12ab-402d-ae67-ad2b70c37489"
      },
      "source": [
        "qas.head()"
      ],
      "execution_count": null,
      "outputs": [
        {
          "output_type": "execute_result",
          "data": {
            "text/html": [
              "<div>\n",
              "<style scoped>\n",
              "    .dataframe tbody tr th:only-of-type {\n",
              "        vertical-align: middle;\n",
              "    }\n",
              "\n",
              "    .dataframe tbody tr th {\n",
              "        vertical-align: top;\n",
              "    }\n",
              "\n",
              "    .dataframe thead th {\n",
              "        text-align: right;\n",
              "    }\n",
              "</style>\n",
              "<table border=\"1\" class=\"dataframe\">\n",
              "  <thead>\n",
              "    <tr style=\"text-align: right;\">\n",
              "      <th></th>\n",
              "      <th>questions</th>\n",
              "      <th>answers</th>\n",
              "      <th>categories</th>\n",
              "    </tr>\n",
              "  </thead>\n",
              "  <tbody>\n",
              "    <tr>\n",
              "      <th>0</th>\n",
              "      <td>вопрос тем, кто недавно делал ремонт. какие у ...</td>\n",
              "      <td>делал. на пол стелил ламинат. доволен. минусы?...</td>\n",
              "      <td>Семья, Дом, Дети</td>\n",
              "    </tr>\n",
              "    <tr>\n",
              "      <th>1</th>\n",
              "      <td>чем встретит спартак,ростов-папа ? 19:30 росто...</td>\n",
              "      <td>0:0 или 1:1 )</td>\n",
              "      <td>Спорт</td>\n",
              "    </tr>\n",
              "    <tr>\n",
              "      <th>2</th>\n",
              "      <td>как избавиться от \"тупой\" боли в затылке?</td>\n",
              "      <td>шесть золотых правил здоровья кацудзо ниши. по...</td>\n",
              "      <td>Красота и Здоровье</td>\n",
              "    </tr>\n",
              "    <tr>\n",
              "      <th>3</th>\n",
              "      <td>почему если пара вместе 5 лет и больше все дум...</td>\n",
              "      <td>отнимите от всех окружающих мой голос: я так н...</td>\n",
              "      <td>Семья, Дом, Дети</td>\n",
              "    </tr>\n",
              "    <tr>\n",
              "      <th>4</th>\n",
              "      <td>какой то прыщик, или свищ, подскажите к какому...</td>\n",
              "      <td>с хирургом проконсультируйся для начала</td>\n",
              "      <td>Красота и Здоровье</td>\n",
              "    </tr>\n",
              "  </tbody>\n",
              "</table>\n",
              "</div>"
            ],
            "text/plain": [
              "                                           questions  ...          categories\n",
              "0  вопрос тем, кто недавно делал ремонт. какие у ...  ...    Семья, Дом, Дети\n",
              "1  чем встретит спартак,ростов-папа ? 19:30 росто...  ...               Спорт\n",
              "2          как избавиться от \"тупой\" боли в затылке?  ...  Красота и Здоровье\n",
              "3  почему если пара вместе 5 лет и больше все дум...  ...    Семья, Дом, Дети\n",
              "4  какой то прыщик, или свищ, подскажите к какому...  ...  Красота и Здоровье\n",
              "\n",
              "[5 rows x 3 columns]"
            ]
          },
          "metadata": {
            "tags": []
          },
          "execution_count": 6
        }
      ]
    },
    {
      "cell_type": "code",
      "metadata": {
        "id": "CtJUYrVBB0pA"
      },
      "source": [
        "questions = qas.questions.values\n",
        "answers = qas.answers.values"
      ],
      "execution_count": 5,
      "outputs": []
    },
    {
      "cell_type": "code",
      "metadata": {
        "colab": {
          "base_uri": "https://localhost:8080/"
        },
        "id": "TaU6CVlL-m0G",
        "outputId": "990fac4c-337f-4f94-c0af-f314c2f60416"
      },
      "source": [
        "questions[:5], answers[:5]"
      ],
      "execution_count": null,
      "outputs": [
        {
          "output_type": "execute_result",
          "data": {
            "text/plain": [
              "(array(['вопрос тем, кто недавно делал ремонт. какие у вас полы? долго настилали? довольны качеством? есть ли минусы?',\n",
              "        'чем встретит спартак,ростов-папа ? 19:30 ростов - спартак м угадайте итог матча ?',\n",
              "        'как избавиться от \"тупой\" боли в затылке?',\n",
              "        'почему если пара вместе 5 лет и больше все думают что это привычка?',\n",
              "        'какой то прыщик, или свищ, подскажите к какому врачу идти ?'],\n",
              "       dtype=object),\n",
              " array(['делал. на пол стелил ламинат. доволен. минусы? если даже ручка падает на пол - звук громкий.',\n",
              "        '0:0 или 1:1 )',\n",
              "        'шесть золотых правил здоровья кацудзо ниши. посмотри в ютубе майю гогулан. через 3 дня будет всё в порядке.',\n",
              "        'отнимите от всех окружающих мой голос: я так не думаю..',\n",
              "        'с хирургом проконсультируйся для начала'], dtype=object))"
            ]
          },
          "metadata": {
            "tags": []
          },
          "execution_count": 30
        }
      ]
    },
    {
      "cell_type": "markdown",
      "metadata": {
        "id": "jwGUIVpaVk2T"
      },
      "source": [
        "## BPE"
      ]
    },
    {
      "cell_type": "markdown",
      "metadata": {
        "id": "2sSOZKOAcdgU"
      },
      "source": [
        "Переобучим BPE"
      ]
    },
    {
      "cell_type": "code",
      "metadata": {
        "id": "48ZdR6u8cc-X"
      },
      "source": [
        "# with open('/content/drive/MyDrive/dl_hw3/for_new_bpe.txt', 'w', encoding='utf-8') as f:\n",
        "#   for one_dict in qa_data:\n",
        "#     f.write(one_dict['question'] + '\\n')\n",
        "#     for answer in one_dict['responses']:\n",
        "#       f.write(answer + '\\n')"
      ],
      "execution_count": null,
      "outputs": []
    },
    {
      "cell_type": "code",
      "metadata": {
        "colab": {
          "base_uri": "https://localhost:8080/"
        },
        "id": "j_bhQXijccj2",
        "outputId": "f13a21e8-953a-4b00-9c5f-ed5aaabc9746"
      },
      "source": [
        "# %%time\n",
        "# data_path = '/content/drive/MyDrive/dl_hw3/for_new_bpe.txt'\n",
        "# yttm.BPE.train(data=data_path, vocab_size=vocab_size, model=model_path)"
      ],
      "execution_count": null,
      "outputs": [
        {
          "output_type": "stream",
          "text": [
            "CPU times: user 1min 4s, sys: 6.03 s, total: 1min 10s\n",
            "Wall time: 1min 9s\n"
          ],
          "name": "stdout"
        },
        {
          "output_type": "execute_result",
          "data": {
            "text/plain": [
              "<youtokentome.youtokentome.BPE at 0x7f6499f3d5c0>"
            ]
          },
          "metadata": {
            "tags": []
          },
          "execution_count": 26
        }
      ]
    },
    {
      "cell_type": "code",
      "metadata": {
        "id": "TkX3VL6FDSs1"
      },
      "source": [
        "vocab_size = 100_000\n",
        "model_path = '/content/drive/MyDrive/dl_hw3/new_pretrained_bpe_lm.model'"
      ],
      "execution_count": 4,
      "outputs": []
    },
    {
      "cell_type": "code",
      "metadata": {
        "id": "80-dVkLKmCiL"
      },
      "source": [
        "tokenizer = yttm.BPE(model=model_path)"
      ],
      "execution_count": 5,
      "outputs": []
    },
    {
      "cell_type": "code",
      "metadata": {
        "id": "_qhmBw82q-6N"
      },
      "source": [
        "tokenized_questions = []\n",
        "tokenized_answers = []"
      ],
      "execution_count": 8,
      "outputs": []
    },
    {
      "cell_type": "code",
      "metadata": {
        "colab": {
          "base_uri": "https://localhost:8080/"
        },
        "id": "xWR7BGj18K14",
        "outputId": "96969c1b-7d89-40bf-80cd-cb5aaae0ffd4"
      },
      "source": [
        "%%time\n",
        "for q in tqdm(questions):\n",
        "  tokenized_questions.append(tokenizer.encode(q, bos=False, eos=False))"
      ],
      "execution_count": 9,
      "outputs": [
        {
          "output_type": "stream",
          "text": [
            "100%|██████████| 2000000/2000000 [00:27<00:00, 73180.74it/s]"
          ],
          "name": "stderr"
        },
        {
          "output_type": "stream",
          "text": [
            "CPU times: user 26.7 s, sys: 700 ms, total: 27.4 s\n",
            "Wall time: 27.3 s\n"
          ],
          "name": "stdout"
        },
        {
          "output_type": "stream",
          "text": [
            "\n"
          ],
          "name": "stderr"
        }
      ]
    },
    {
      "cell_type": "code",
      "metadata": {
        "colab": {
          "base_uri": "https://localhost:8080/"
        },
        "id": "iLl9-Q668fKn",
        "outputId": "b87a50d5-f69f-4ba2-b452-c38981e6c2f9"
      },
      "source": [
        "%%time\n",
        "for a in tqdm(answers):\n",
        "  tokenized_answers.append(tokenizer.encode(a, bos=False, eos=False))"
      ],
      "execution_count": 10,
      "outputs": [
        {
          "output_type": "stream",
          "text": [
            "100%|██████████| 2000000/2000000 [00:24<00:00, 80546.02it/s]"
          ],
          "name": "stderr"
        },
        {
          "output_type": "stream",
          "text": [
            "CPU times: user 24.3 s, sys: 608 ms, total: 24.9 s\n",
            "Wall time: 24.8 s\n"
          ],
          "name": "stdout"
        },
        {
          "output_type": "stream",
          "text": [
            "\n"
          ],
          "name": "stderr"
        }
      ]
    },
    {
      "cell_type": "code",
      "metadata": {
        "colab": {
          "base_uri": "https://localhost:8080/"
        },
        "id": "pUO7D4-4UVIJ",
        "outputId": "5f4d1b4b-2b86-4e32-cffc-6201e3320478"
      },
      "source": [
        "tokenized_answers[:2]"
      ],
      "execution_count": null,
      "outputs": [
        {
          "output_type": "execute_result",
          "data": {
            "text/plain": [
              "[[33902,\n",
              "  723,\n",
              "  1224,\n",
              "  1921,\n",
              "  25022,\n",
              "  20281,\n",
              "  1154,\n",
              "  37663,\n",
              "  34051,\n",
              "  823,\n",
              "  1173,\n",
              "  35855,\n",
              "  12146,\n",
              "  723,\n",
              "  1224,\n",
              "  799,\n",
              "  10220,\n",
              "  6410,\n",
              "  9982],\n",
              " [28891, 849, 13127, 1002]]"
            ]
          },
          "metadata": {
            "tags": []
          },
          "execution_count": 26
        }
      ]
    },
    {
      "cell_type": "code",
      "metadata": {
        "colab": {
          "base_uri": "https://localhost:8080/"
        },
        "id": "S8XT9jSiGE6c",
        "outputId": "bbc9ac6c-55ad-4d6a-b785-303c02fbc218"
      },
      "source": [
        "lengths = np.array([len(x) for x in tokenized_questions])\n",
        "np.percentile(lengths, q=99)"
      ],
      "execution_count": null,
      "outputs": [
        {
          "output_type": "execute_result",
          "data": {
            "text/plain": [
              "28.0"
            ]
          },
          "metadata": {
            "tags": []
          },
          "execution_count": 36
        }
      ]
    },
    {
      "cell_type": "code",
      "metadata": {
        "colab": {
          "base_uri": "https://localhost:8080/"
        },
        "id": "m_C6XNFeGI1f",
        "outputId": "ce4dcd47-d922-4498-c0f8-49ad1fc9dec2"
      },
      "source": [
        "lengths = np.array([len(x) for x in tokenized_answers])\n",
        "np.percentile(lengths, q=99)"
      ],
      "execution_count": null,
      "outputs": [
        {
          "output_type": "execute_result",
          "data": {
            "text/plain": [
              "29.0"
            ]
          },
          "metadata": {
            "tags": []
          },
          "execution_count": 37
        }
      ]
    },
    {
      "cell_type": "markdown",
      "metadata": {
        "id": "boFqtd5smG8o"
      },
      "source": [
        "## Датасет"
      ]
    },
    {
      "cell_type": "code",
      "metadata": {
        "id": "3BSFSrD6VnQj"
      },
      "source": [
        "class AnswerGenerationDataset(Dataset):\n",
        "    \n",
        "    def __init__(self, questions, answers, max_len=32, pad_index=0, bos_index=2, eos_index=3):\n",
        "        \n",
        "        self.questions = questions\n",
        "        self.answers = answers\n",
        "        self.max_len = max_len\n",
        "        self.pad_index = pad_index\n",
        "        self.bos_index = bos_index\n",
        "        self.eos_index = eos_index\n",
        "        \n",
        "    def __len__(self):\n",
        "        return len(self.questions)\n",
        "\n",
        "    def __getitem__(self, index):\n",
        "        \n",
        "        question = self.questions[index][:self.max_len-2]\n",
        "        answer_dec = self.answers[index][:self.max_len-1]\n",
        "        answer_pred = self.answers[index][:self.max_len-1]\n",
        "\n",
        "        question = [self.bos_index] + question + [self.eos_index]\n",
        "        answer_dec = [self.bos_index] + answer_dec\n",
        "        answer_pred = answer_pred + [self.eos_index]\n",
        "        \n",
        "        padds_q = [self.pad_index] * ((self.max_len) - len(question))\n",
        "        question = question + padds_q\n",
        "        padds_d = [self.pad_index] * ((self.max_len) - len(answer_dec))\n",
        "        answer_dec = answer_dec + padds_d\n",
        "        padds_p = [self.pad_index] * ((self.max_len) - len(answer_pred))\n",
        "        answer_pred = answer_pred + padds_p\n",
        "        \n",
        "        question = torch.tensor(question).long()\n",
        "        answer_dec = torch.tensor(answer_dec).long()\n",
        "        answer_pred = torch.tensor(answer_pred).long()\n",
        "        \n",
        "        return question, answer_dec, answer_pred"
      ],
      "execution_count": 11,
      "outputs": []
    },
    {
      "cell_type": "code",
      "metadata": {
        "id": "HNT_cj_mDsAF"
      },
      "source": [
        "train_dataset = AnswerGenerationDataset(questions=tokenized_questions[:1_900_000], answers=tokenized_answers[:1_900_000])\n",
        "valid_dataset = AnswerGenerationDataset(questions=tokenized_questions[1_900_000:], answers=tokenized_answers[1_900_000:])\n",
        "\n",
        "train_loader = DataLoader(train_dataset, batch_size=64, shuffle=True)\n",
        "valid_loader = DataLoader(valid_dataset, batch_size=64, shuffle=True)"
      ],
      "execution_count": 12,
      "outputs": []
    },
    {
      "cell_type": "code",
      "metadata": {
        "id": "UiBBRFNiDsaQ"
      },
      "source": [
        "for x, dec, y in train_loader:\n",
        "    break"
      ],
      "execution_count": null,
      "outputs": []
    },
    {
      "cell_type": "code",
      "metadata": {
        "colab": {
          "base_uri": "https://localhost:8080/"
        },
        "id": "Mli-FXOSEetO",
        "outputId": "1a7a18ad-ed04-4502-9a47-bf0f32b330a1"
      },
      "source": [
        "x"
      ],
      "execution_count": null,
      "outputs": [
        {
          "output_type": "execute_result",
          "data": {
            "text/plain": [
              "tensor([[    2, 11934,    14,  ...,     0,     0,     0],\n",
              "        [    2,   738,  2205,  ...,     0,     0,     0],\n",
              "        [    2,  1232,  4987,  ...,     0,     0,     0],\n",
              "        ...,\n",
              "        [    2, 12460,  9075,  ...,     0,     0,     0],\n",
              "        [    2,  1143, 15301,  ...,     0,     0,     0],\n",
              "        [    2,  1200,   832,  ...,     0,     0,     0]])"
            ]
          },
          "metadata": {
            "tags": []
          },
          "execution_count": 32
        }
      ]
    },
    {
      "cell_type": "code",
      "metadata": {
        "colab": {
          "base_uri": "https://localhost:8080/"
        },
        "id": "rRH56j-5Ef6i",
        "outputId": "a03bf8f7-8c9e-405d-d2cb-3fce5a8797ce"
      },
      "source": [
        "y"
      ],
      "execution_count": null,
      "outputs": [
        {
          "output_type": "execute_result",
          "data": {
            "text/plain": [
              "tensor([[  786,   707,  2100,  ...,     0,     0,     0],\n",
              "        [ 1148,   707, 77344,  ...,     0,     0,     0],\n",
              "        [  711,   786,  1290,  ...,     0,     0,     0],\n",
              "        ...,\n",
              "        [18117,    28,   786,  ...,     0,     0,     0],\n",
              "        [ 3690,  6282, 52281,  ...,     0,     0,     0],\n",
              "        [  823,   999, 18840,  ...,     0,     0,     0]])"
            ]
          },
          "metadata": {
            "tags": []
          },
          "execution_count": 33
        }
      ]
    },
    {
      "cell_type": "code",
      "metadata": {
        "colab": {
          "base_uri": "https://localhost:8080/"
        },
        "id": "n1rd8QrpFjX7",
        "outputId": "1aad3129-2cca-4525-8b54-695a5b3f5695"
      },
      "source": [
        "dec"
      ],
      "execution_count": null,
      "outputs": [
        {
          "output_type": "execute_result",
          "data": {
            "text/plain": [
              "tensor([[    2,   786,   707,  ...,     0,     0,     0],\n",
              "        [    2,  1148,   707,  ...,     0,     0,     0],\n",
              "        [    2,   711,   786,  ...,     0,     0,     0],\n",
              "        ...,\n",
              "        [    2, 18117,    28,  ...,     0,     0,     0],\n",
              "        [    2,  3690,  6282,  ...,     0,     0,     0],\n",
              "        [    2,   823,   999,  ...,     0,     0,     0]])"
            ]
          },
          "metadata": {
            "tags": []
          },
          "execution_count": 34
        }
      ]
    },
    {
      "cell_type": "code",
      "metadata": {
        "id": "WU272tkQQWeu"
      },
      "source": [
        "assert torch.cuda.is_available()\n",
        "device = torch.device('cuda')\n",
        "# device = torch.device('cpu')"
      ],
      "execution_count": 6,
      "outputs": []
    },
    {
      "cell_type": "code",
      "metadata": {
        "id": "WzStk2n6Rxcm"
      },
      "source": [
        "class SpatialDropout(torch.nn.Dropout2d):\n",
        "    \n",
        "    def __init__(self, p=0.3):\n",
        "        super().__init__()\n",
        "        self.p = p\n",
        "    \n",
        "    def forward(self, x):\n",
        "        x = x.unsqueeze(2)\n",
        "        x = x.permute(0, 3, 2, 1)\n",
        "        x = super(SpatialDropout, self).forward(x)\n",
        "        x = x.permute(0, 3, 2, 1)\n",
        "        x = x.squeeze(2)\n",
        "        return x"
      ],
      "execution_count": 7,
      "outputs": []
    },
    {
      "cell_type": "markdown",
      "metadata": {
        "id": "ddEGomIC7Cda"
      },
      "source": [
        "## Мой вариант модели"
      ]
    },
    {
      "cell_type": "markdown",
      "metadata": {
        "id": "SgUJuafkQ5S3"
      },
      "source": [
        "- [x]  Сделать модель, основанную на lstm/gru **5 баллов**\n",
        "- [x]  Добавить в rnn/cnn модель attention **5 баллов**"
      ]
    },
    {
      "cell_type": "code",
      "metadata": {
        "id": "lN1Ftnd9gx4x"
      },
      "source": [
        "class EncoderLSTM(nn.Module):\n",
        "    def __init__(self, vocab_size, embedding_dim, hidden_dim, num_layers,\n",
        "                 padding_idx=0, dropout=0.35):\n",
        "        super().__init__()\n",
        "\n",
        "        self.embedding_layer = nn.Embedding(vocab_size, embedding_dim, padding_idx=padding_idx)\n",
        "        self.embedding_dropout = SpatialDropout(p=dropout)\n",
        "        self.lstm = torch.nn.LSTM(input_size=embedding_dim, hidden_size=hidden_dim, \n",
        "                                  num_layers=num_layers, batch_first=True)\n",
        "\n",
        "    def forward(self, x):\n",
        "        \n",
        "        embedding = self.embedding_layer(x)\n",
        "        embedding = self.embedding_dropout(embedding)\n",
        "        encoder_output, (encoder_hidden, encoder_cell) = self.lstm(embedding)\n",
        "                \n",
        "        return encoder_output, encoder_hidden, encoder_cell\n"
      ],
      "execution_count": 8,
      "outputs": []
    },
    {
      "cell_type": "code",
      "metadata": {
        "id": "lejaUsPGDuqJ"
      },
      "source": [
        "vocab_size = 100_000\n",
        "embedding_dim = 512\n",
        "hidden_dim = 512\n",
        "num_layers = 3"
      ],
      "execution_count": 9,
      "outputs": []
    },
    {
      "cell_type": "code",
      "metadata": {
        "id": "GVLAQnvEDoo3",
        "colab": {
          "base_uri": "https://localhost:8080/"
        },
        "outputId": "a9ef822f-e98d-41c4-f745-70fa5749c676"
      },
      "source": [
        "encoder = EncoderLSTM(vocab_size, embedding_dim, hidden_dim, num_layers)\n",
        "encoder.to(device)"
      ],
      "execution_count": 10,
      "outputs": [
        {
          "output_type": "execute_result",
          "data": {
            "text/plain": [
              "EncoderLSTM(\n",
              "  (embedding_layer): Embedding(100000, 512, padding_idx=0)\n",
              "  (embedding_dropout): SpatialDropout(p=0.35, inplace=False)\n",
              "  (lstm): LSTM(512, 512, num_layers=3, batch_first=True)\n",
              ")"
            ]
          },
          "metadata": {
            "tags": []
          },
          "execution_count": 10
        }
      ]
    },
    {
      "cell_type": "code",
      "metadata": {
        "id": "WCKiiIf9hCs5"
      },
      "source": [
        "class DecoderWithAttentionLSTM(nn.Module):\n",
        "    def __init__(self, vocab_size, embedding_dim, hidden_dim, num_layers, dropout=0.35, padding_idx=0):\n",
        "\n",
        "        super().__init__()\n",
        "        self.embedding_layer = nn.Embedding(vocab_size, embedding_dim, padding_idx=padding_idx)\n",
        "        self.embedding_dropout = SpatialDropout(p=dropout)\n",
        "        self.lstm = torch.nn.LSTM(input_size=embedding_dim, hidden_size=hidden_dim, \n",
        "                                  num_layers=num_layers, batch_first=True)\n",
        "        self.output_layer = nn.Linear(hidden_dim*2, vocab_size)\n",
        "\n",
        "    def forward(self, encoder_output, encoder_hidden, encoder_cell, decoder_input):\n",
        "\n",
        "        decoder_input = self.embedding_layer(decoder_input)\n",
        "        decoder_input = self.embedding_dropout(decoder_input)\n",
        "        decoder_input, decoder_memory = self.lstm(decoder_input, (encoder_hidden, encoder_cell))\n",
        "\n",
        "        attention_scores = torch.bmm(decoder_input, encoder_output.transpose(1, 2))\n",
        "        attention_distribution = torch.softmax(attention_scores, 2)\n",
        "        attention_vectors = torch.bmm(attention_distribution, encoder_output)\n",
        "        decoder_with_attention = torch.cat([decoder_input, attention_vectors], dim=-1)\n",
        "\n",
        "        decoder_output = self.output_layer(decoder_with_attention)\n",
        "\n",
        "        return decoder_output\n"
      ],
      "execution_count": 11,
      "outputs": []
    },
    {
      "cell_type": "code",
      "metadata": {
        "id": "nGCec7thKN7D",
        "colab": {
          "base_uri": "https://localhost:8080/"
        },
        "outputId": "3f074d98-7f9d-487b-e557-41f55b8e86db"
      },
      "source": [
        "decoder = DecoderWithAttentionLSTM(vocab_size, embedding_dim, hidden_dim, num_layers)\n",
        "decoder.to(device)"
      ],
      "execution_count": 12,
      "outputs": [
        {
          "output_type": "execute_result",
          "data": {
            "text/plain": [
              "DecoderWithAttentionLSTM(\n",
              "  (embedding_layer): Embedding(100000, 512, padding_idx=0)\n",
              "  (embedding_dropout): SpatialDropout(p=0.35, inplace=False)\n",
              "  (lstm): LSTM(512, 512, num_layers=3, batch_first=True)\n",
              "  (output_layer): Linear(in_features=1024, out_features=100000, bias=True)\n",
              ")"
            ]
          },
          "metadata": {
            "tags": []
          },
          "execution_count": 12
        }
      ]
    },
    {
      "cell_type": "code",
      "metadata": {
        "id": "po2Fns-WI762"
      },
      "source": [
        "class Seq2Seq(nn.Module):\n",
        "    def __init__(self, encoder, decoder):\n",
        "        super().__init__()\n",
        "        \n",
        "        self.encoder = encoder\n",
        "        self.decoder = decoder\n",
        "        \n",
        "    def forward(self, x, dec):\n",
        "\n",
        "        encoder_output, encoder_hidden, encoder_cell = self.encoder(x)\n",
        "        decoder_output = self.decoder(encoder_output, encoder_hidden, encoder_cell, dec)\n",
        "\n",
        "        return decoder_output"
      ],
      "execution_count": 13,
      "outputs": []
    },
    {
      "cell_type": "code",
      "metadata": {
        "colab": {
          "base_uri": "https://localhost:8080/"
        },
        "id": "8ntn4elaLUIU",
        "outputId": "dc1069cd-0afe-444a-9f31-e0b985edfeff"
      },
      "source": [
        "model = Seq2Seq(encoder, decoder)\n",
        "model.to(device)"
      ],
      "execution_count": 14,
      "outputs": [
        {
          "output_type": "execute_result",
          "data": {
            "text/plain": [
              "Seq2Seq(\n",
              "  (encoder): EncoderLSTM(\n",
              "    (embedding_layer): Embedding(100000, 512, padding_idx=0)\n",
              "    (embedding_dropout): SpatialDropout(p=0.35, inplace=False)\n",
              "    (lstm): LSTM(512, 512, num_layers=3, batch_first=True)\n",
              "  )\n",
              "  (decoder): DecoderWithAttentionLSTM(\n",
              "    (embedding_layer): Embedding(100000, 512, padding_idx=0)\n",
              "    (embedding_dropout): SpatialDropout(p=0.35, inplace=False)\n",
              "    (lstm): LSTM(512, 512, num_layers=3, batch_first=True)\n",
              "    (output_layer): Linear(in_features=1024, out_features=100000, bias=True)\n",
              "  )\n",
              ")"
            ]
          },
          "metadata": {
            "tags": []
          },
          "execution_count": 14
        }
      ]
    },
    {
      "cell_type": "code",
      "metadata": {
        "id": "9EEPBCxq8iSj"
      },
      "source": [
        "def train_model(model, train_loader, optimizer, criterion, n_epoch, clip=3.0):\n",
        "\n",
        "    train_losses = list()\n",
        "\n",
        "    model.train()\n",
        "    \n",
        "    train_progress_bar = tqdm(total=len(train_loader.dataset), desc=f'Epoch: {n_epoch + 1}, train')\n",
        "    \n",
        "    for instance in list(tqdm._instances):\n",
        "      tqdm._decr_instances(instance)\n",
        "\n",
        "    for x, dec, y in train_loader:\n",
        "\n",
        "        x = x.to(device)\n",
        "        y = y.to(device)\n",
        "        dec = dec.to(device)\n",
        "\n",
        "        optimizer.zero_grad()\n",
        "            \n",
        "        pred = model(x, dec)\n",
        "        \n",
        "        # loss = criterion(pred.view(-1, pred.size(-1)), y.view(-1))\n",
        "\n",
        "        pred_dim = pred.shape[-1]\n",
        "        pred = pred[1:].view(-1, pred_dim)\n",
        "        y = y[1:].view(-1)\n",
        "        \n",
        "        loss = criterion(pred, y)\n",
        "\n",
        "        loss.backward()\n",
        "        torch.nn.utils.clip_grad_norm_(model.parameters(), clip)\n",
        "        optimizer.step()\n",
        "\n",
        "        train_losses.append(loss.item())\n",
        "\n",
        "        train_progress_bar.set_postfix(train_loss = np.mean(train_losses[-500:]))\n",
        "        train_progress_bar.update(x.shape[0])\n",
        "\n",
        "    train_progress_bar.close()\n",
        "\n",
        "    return train_losses"
      ],
      "execution_count": 22,
      "outputs": []
    },
    {
      "cell_type": "code",
      "metadata": {
        "id": "jl3sZ-OAED7m"
      },
      "source": [
        "def validate_model(model, valid_loader, optimizer, criterion, n_epoch):\n",
        "\n",
        "    valid_losses = []\n",
        "\n",
        "    model.eval()\n",
        "\n",
        "    valid_progress_bar = tqdm(total=len(valid_loader.dataset), desc=f'Epoch: {n_epoch + 1}, validation')\n",
        "\n",
        "    for instance in list(tqdm._instances):\n",
        "      tqdm._decr_instances(instance)\n",
        "\n",
        "    for x, dec, y in valid_loader:\n",
        "\n",
        "        x = x.to(device)\n",
        "        y = y.to(device)\n",
        "        dec = dec.to(device)\n",
        "\n",
        "        optimizer.zero_grad()\n",
        "            \n",
        "        pred = model(x, dec)\n",
        "        \n",
        "        # loss = criterion(pred.view(-1, pred.size(-1)), y.view(-1))\n",
        "\n",
        "        pred_dim = pred.shape[-1]\n",
        "        pred = pred[1:].view(-1, pred_dim)\n",
        "        y = y[1:].view(-1)\n",
        "        \n",
        "        loss = criterion(pred, y)\n",
        "\n",
        "        valid_losses.append(loss.item())\n",
        "\n",
        "        valid_progress_bar.set_postfix(valid_loss = np.mean(valid_losses[-500:]))\n",
        "        valid_progress_bar.update(x.shape[0])\n",
        "    \n",
        "    valid_progress_bar.close()\n",
        "\n",
        "    return valid_losses"
      ],
      "execution_count": 23,
      "outputs": []
    },
    {
      "cell_type": "code",
      "metadata": {
        "colab": {
          "base_uri": "https://localhost:8080/"
        },
        "id": "VEaxA_BExOVs",
        "outputId": "7ae4f397-9dbb-441d-e265-94117e65c0d4"
      },
      "source": [
        "%%time\n",
        "# заложить 15 часов на обучение 3 эпох\n",
        "best_val_loss = 10.\n",
        "losses = list()\n",
        "val_losses = list()\n",
        "tr_losses = list()\n",
        "\n",
        "criterion = torch.nn.CrossEntropyLoss(ignore_index=0)\n",
        "optimizer = torch.optim.Adam(params=model.parameters())\n",
        "scheduler = StepLR(optimizer, step_size=5, gamma=0.1)\n",
        "\n",
        "for n_epoch in range(1):\n",
        "\n",
        "  epoch_train_losses = train_model(model, train_loader, optimizer, criterion, n_epoch)\n",
        "  epoch_valid_losses = validate_model(model, valid_loader, optimizer, criterion, n_epoch)\n",
        "  \n",
        "  for l in epoch_train_losses:\n",
        "    losses.append(l)\n",
        "\n",
        "  mean_epoch_val_loss = np.mean(epoch_valid_losses)\n",
        "  mean_epoch_train_loss = np.mean(epoch_train_losses)\n",
        "\n",
        "  val_losses.append(mean_epoch_val_loss)\n",
        "  tr_losses.append(mean_epoch_train_loss)\n",
        "\n",
        "  scheduler.step()\n",
        "\n",
        "  if mean_epoch_val_loss < best_val_loss:\n",
        "    best_val_loss = mean_epoch_val_loss\n",
        "    torch.save(model.state_dict(), f'/content/drive/MyDrive/dl_hw3/best_model_state_dict.pth')\n",
        "    torch.save(optimizer.state_dict(), '/content/drive/MyDrive/dl_hw3/best_optimizer_state_dict.pth')\n",
        "  else:\n",
        "    print(f'Early stopping on epoch {n_epoch+1}')\n",
        "    torch.save(model.state_dict(), f'/content/drive/MyDrive/dl_hw3/last_model_state_dict.pth')\n",
        "    torch.save(optimizer.state_dict(), '/content/drive/MyDrive/dl_hw3/last_optimizer_state_dict.pth')\n",
        "    break"
      ],
      "execution_count": 30,
      "outputs": [
        {
          "output_type": "stream",
          "text": [
            "Epoch: 1, train: 100%|██████████| 1900000/1900000 [4:14:05<00:00, 124.63it/s, train_loss=6.41]\n",
            "Epoch: 1, validation: 100%|██████████| 100000/100000 [04:41<00:00, 355.40it/s, valid_loss=6.32]\n"
          ],
          "name": "stderr"
        },
        {
          "output_type": "stream",
          "text": [
            "CPU times: user 2h 33min 28s, sys: 1h 44min 36s, total: 4h 18min 5s\n",
            "Wall time: 4h 20min 14s\n"
          ],
          "name": "stdout"
        }
      ]
    },
    {
      "cell_type": "code",
      "metadata": {
        "id": "pVpQMXNKdYZ5"
      },
      "source": [
        "def generate_answer(question, model=model, bos_index=2, eos_index=3, max_sequence=512):\n",
        "    \n",
        "    tokenized_question = tokenizer.encode([question], bos=True, eos=True)\n",
        "    \n",
        "    x = torch.tensor(tokenized_question).long().to(device)\n",
        "    \n",
        "    model.eval()\n",
        "\n",
        "    with torch.no_grad():\n",
        "\n",
        "        encoder_output, encoder_hidden, encoder_cell = model.encoder(x)\n",
        "\n",
        "        current_token = torch.tensor([[bos_index]]).long()[:, -1].unsqueeze(0).to(device)\n",
        "\n",
        "        pred = []\n",
        "\n",
        "        for timestamp in range(max_sequence):\n",
        "\n",
        "            decoder_output = model.decoder(encoder_output, encoder_hidden, encoder_cell, current_token)\n",
        "            \n",
        "            pred.append(decoder_output)\n",
        "\n",
        "            current_token = decoder_output.argmax(2)\n",
        "\n",
        "            if current_token[:,-1].item() == eos_index:\n",
        "                break\n",
        "\n",
        "        pred = torch.cat(pred, dim=1)\n",
        "\n",
        "    tokens = pred.argmax(dim=-1).detach().cpu().numpy()\n",
        "    predicted_text = tokenizer.decode(tokens.tolist())[0]\n",
        "    return predicted_text if '<EOS>' not in predicted_text else predicted_text[:predicted_text.index('<EOS>')]"
      ],
      "execution_count": 23,
      "outputs": []
    },
    {
      "cell_type": "code",
      "metadata": {
        "id": "emk4JSbyZIgt",
        "colab": {
          "base_uri": "https://localhost:8080/"
        },
        "outputId": "44ed9bb3-aaab-4ce6-9cf4-4ce08461b162"
      },
      "source": [
        "my_questions = [\n",
        "    'почему пингвины не летают?',\n",
        "    'зачем киту фонтан?',\n",
        "    'что делать если у меня коронавирус?',\n",
        "    'у меня болит живот я умру?',\n",
        "    'откуда пришла саранча?',\n",
        "    'я понимаю что вопрос странный но где живут белки?',\n",
        "    'какие бывают коты?',\n",
        "    'стоит ли идти учиться на компьютерного лингвиста?',\n",
        "    'нормально ли ходить в школу?',\n",
        "    'почему меня не пускают без сменки?',\n",
        "    'кто такой ленин?',\n",
        "    'кто такой сталин?',\n",
        "    'что лучше моржи или еноты?',\n",
        "    'кто автор горя от ума?',\n",
        "    'как твои дела?',\n",
        "    'кто убил старуху-процентщицу?',\n",
        "    'накидайте бредовых вопросов для приколюх с нейронкой',\n",
        "    'порекомендуйте какие овощи есть на третьи лунные сутки',\n",
        "    'как правильно говорить: левиоса или левиоса?',\n",
        "    'что вы думаете о короне?',\n",
        "    'что ты знаешь о сериалах?',\n",
        "    'зачем ты наступаешь на одни и те же грабли?',\n",
        "    'почему ты любишь песни Стинга?']\n",
        "\n",
        "\n",
        "for qu in my_questions:\n",
        "    print(f'Вопрос: {qu}')\n",
        "    print(f'Ответ: {generate_answer(qu)}')\n",
        "    print()"
      ],
      "execution_count": 20,
      "outputs": [
        {
          "output_type": "stream",
          "text": [
            "Вопрос: почему пингвины не летают?\n",
            "Ответ: жителей щастье ветро кью кубе жителей щастье ветро кью кубе жителей щастье ветро кью кубе жителей щастье ветро кью кубе жителей щастье ветро кью кубе жителей щастье ветро кью кубе жителей щастье ветро кью кубе жителей щастье ветро кью кубе жителей щастье ветро кью кубе жителей щастье ветро кью кубе жителей щастье ветро кью кубе жителей щастье ветро кью кубе жителей щастье ветро кью кубе жителей щастье ветро кью кубе жителей щастье ветро кью кубе жителей щастье ветро кью кубе жителей щастье ветро кью кубе жителей щастье ветро кью кубе жителей щастье ветро кью кубе жителей щастье ветро кью кубе жителей щастье ветро кью кубе жителей щастье ветро кью кубе жителей щастье ветро кью кубе жителей щастье ветро кью кубе жителей щастье ветро кью кубе жителей щастье ветро кью кубе жителей щастье ветро кью кубе жителей щастье ветро кью кубе жителей щастье ветро кью кубе жителей щастье ветро кью кубе жителей щастье ветро кью кубе жителей щастье ветро кью кубе жителей щастье ветро кью кубе жителей щастье ветро кью кубе жителей щастье ветро кью кубе жителей щастье ветро кью кубе жителей щастье ветро кью кубе жителей щастье ветро кью кубе жителей щастье ветро кью кубе жителей щастье ветро кью кубе жителей щастье ветро кью кубе жителей щастье ветро кью кубе жителей щастье ветро кью кубе жителей щастье ветро кью кубе жителей щастье ветро кью кубе жителей щастье ветро кью кубе жителей щастье ветро кью кубе жителей щастье ветро кью кубе жителей щастье ветро кью кубе жителей щастье ветро кью кубе жителей щастье ветро кью кубе жителей щастье ветро кью кубе жителей щастье ветро кью кубе жителей щастье ветро кью кубе жителей щастье ветро кью кубе жителей щастье ветро кью кубе жителей щастье ветро кью кубе жителей щастье ветро кью кубе жителей щастье ветро кью кубе жителей щастье ветро кью кубе жителей щастье ветро кью кубе жителей щастье ветро кью кубе жителей щастье ветро кью кубе жителей щастье ветро кью кубе жителей щастье ветро кью кубе жителей щастье ветро кью кубе жителей щастье ветро кью кубе жителей щастье ветро кью кубе жителей щастье ветро кью кубе жителей щастье ветро кью кубе жителей щастье ветро кью кубе жителей щастье ветро кью кубе жителей щастье ветро кью кубе жителей щастье ветро кью кубе жителей щастье ветро кью кубе жителей щастье ветро кью кубе жителей щастье ветро кью кубе жителей щастье ветро кью кубе жителей щастье ветро кью кубе жителей щастье ветро кью кубе жителей щастье ветро кью кубе жителей щастье ветро кью кубе жителей щастье ветро кью кубе жителей щастье ветро кью кубе жителей щастье ветро кью кубе жителей щастье ветро кью кубе жителей щастье ветро кью кубе жителей щастье ветро кью кубе жителей щастье ветро кью кубе жителей щастье ветро кью кубе жителей щастье ветро кью кубе жителей щастье ветро кью кубе жителей щастье ветро кью кубе жителей щастье ветро кью кубе жителей щастье ветро кью кубе жителей щастье ветро кью кубе жителей щастье ветро кью кубе жителей щастье ветро кью кубе жителей щастье ветро кью кубе жителей щастье ветро кью кубе жителей щастье ветро кью кубе жителей щастье ветро кью кубе жителей щастье\n",
            "\n",
            "Вопрос: зачем киту фонтан?\n",
            "Ответ: чтобы чтобы чтобы чтобы чтобы чтобы чтобы чтобы чтобы чтобы чтобы чтобы чтобы чтобы чтобы чтобы чтобы чтобы чтобы чтобы чтобы чтобы чтобы чтобы чтобы чтобы чтобы чтобы чтобы чтобы чтобы чтобы чтобы чтобы чтобы чтобы чтобы чтобы чтобы чтобы чтобы чтобы чтобы чтобы чтобы чтобы чтобы чтобы чтобы чтобы чтобы чтобы чтобы чтобы чтобы чтобы чтобы чтобы чтобы чтобы чтобы чтобы чтобы чтобы чтобы чтобы чтобы чтобы чтобы чтобы чтобы чтобы чтобы чтобы чтобы чтобы чтобы чтобы чтобы чтобы чтобы чтобы чтобы чтобы чтобы чтобы чтобы чтобы чтобы чтобы чтобы чтобы чтобы чтобы чтобы чтобы чтобы чтобы чтобы чтобы чтобы чтобы чтобы чтобы чтобы чтобы чтобы чтобы чтобы чтобы чтобы чтобы чтобы чтобы чтобы чтобы чтобы чтобы чтобы чтобы чтобы чтобы чтобы чтобы чтобы чтобы чтобы чтобы чтобы чтобы чтобы чтобы чтобы чтобы чтобы чтобы чтобы чтобы чтобы чтобы чтобы чтобы чтобы чтобы чтобы чтобы чтобы чтобы чтобы чтобы чтобы чтобы чтобы чтобы чтобы чтобы чтобы чтобы чтобы чтобы чтобы чтобы чтобы чтобы чтобы чтобы чтобы чтобы чтобы чтобы чтобы чтобы чтобы чтобы чтобы чтобы чтобы чтобы чтобы чтобы чтобы чтобы чтобы чтобы чтобы чтобы чтобы чтобы чтобы чтобы чтобы чтобы чтобы чтобы чтобы чтобы чтобы чтобы чтобы чтобы чтобы чтобы чтобы чтобы чтобы чтобы чтобы чтобы чтобы чтобы чтобы чтобы чтобы чтобы чтобы чтобы чтобы чтобы чтобы чтобы чтобы чтобы чтобы чтобы чтобы чтобы чтобы чтобы чтобы чтобы чтобы чтобы чтобы чтобы чтобы чтобы чтобы чтобы чтобы чтобы чтобы чтобы чтобы чтобы чтобы чтобы чтобы чтобы чтобы чтобы чтобы чтобы чтобы чтобы чтобы чтобы чтобы чтобы чтобы чтобы чтобы чтобы чтобы чтобы чтобы чтобы чтобы чтобы чтобы чтобы чтобы чтобы чтобы чтобы чтобы чтобы чтобы чтобы чтобы чтобы чтобы чтобы чтобы чтобы чтобы чтобы чтобы чтобы чтобы чтобы чтобы чтобы чтобы чтобы чтобы чтобы чтобы чтобы чтобы чтобы чтобы чтобы чтобы чтобы чтобы чтобы чтобы чтобы чтобы чтобы чтобы чтобы чтобы чтобы чтобы чтобы чтобы чтобы чтобы чтобы чтобы чтобы чтобы чтобы чтобы чтобы чтобы чтобы чтобы чтобы чтобы чтобы чтобы чтобы чтобы чтобы чтобы чтобы чтобы чтобы чтобы чтобы чтобы чтобы чтобы чтобы чтобы чтобы чтобы чтобы чтобы чтобы чтобы чтобы чтобы чтобы чтобы чтобы чтобы чтобы чтобы чтобы чтобы чтобы чтобы чтобы чтобы чтобы чтобы чтобы чтобы чтобы чтобы чтобы чтобы чтобы чтобы чтобы чтобы чтобы чтобы чтобы чтобы чтобы чтобы чтобы чтобы чтобы чтобы чтобы чтобы чтобы чтобы чтобы чтобы чтобы чтобы чтобы чтобы чтобы чтобы чтобы чтобы чтобы чтобы чтобы чтобы чтобы чтобы чтобы чтобы чтобы чтобы чтобы чтобы чтобы чтобы чтобы чтобы чтобы чтобы чтобы чтобы чтобы чтобы чтобы чтобы чтобы чтобы чтобы чтобы чтобы чтобы чтобы чтобы чтобы чтобы чтобы чтобы чтобы чтобы чтобы чтобы чтобы чтобы чтобы чтобы чтобы чтобы чтобы чтобы чтобы чтобы чтобы чтобы чтобы чтобы чтобы чтобы чтобы чтобы чтобы чтобы чтобы чтобы чтобы чтобы чтобы чтобы чтобы чтобы чтобы чтобы чтобы чтобы чтобы чтобы чтобы чтобы чтобы чтобы чтобы чтобы чтобы чтобы чтобы чтобы чтобы чтобы чтобы чтобы чтобы чтобы чтобы чтобы чтобы чтобы чтобы чтобы чтобы чтобы чтобы чтобы чтобы чтобы чтобы чтобы чтобы чтобы чтобы чтобы чтобы\n",
            "\n",
            "Вопрос: что делать если у меня коронавирус?\n",
            "Ответ: не все может и не все может и не все может и не все может и не все может и не все может и не все может и не все может и не все может и не все может и не все может и не все может и не все может и не все может и не все может и не все может и не все может и не все может и не все может и не все может и не все может и не все может и не все может и не все может и не все может и не все может и не все может и не все может и не все может и не все может и не все может и не все может и не все может и не все может и не все может и не все может и не все может и не все может и не все может и не все может и не все может и не все может и не все может и не все может и не все может и не все может и не все может и не все может и не все может и не все может и не все может и не все может и не все может и не все может и не все может и не все может и не все может и не все может и не все может и не все может и не все может и не все может и не все может и не все может и не все может и не все может и не все может и не все может и не все может и не все может и не все может и не все может и не все может и не все может и не все может и не все может и не все может и не все может и не все может и не все может и не все может и не все может и не все может и не все может и не все может и не все может и не все может и не все может и не все может и не все может и не все может и не все может и не все может и не все может и не все может и не все может и не все может и не все может и не все может и не все может и не все может и не все может и не все может и не все может и не все может и не все может и не все может и не все может и не все может и не все может и не все может и не все может и не все может и не все может и не все может и не все может и не все может и не все может и не все может и не все может и не все может и не все может и не все может и не все может и не все может и не все может и не все может и не все может и\n",
            "\n",
            "Вопрос: у меня болит живот я умру?\n",
            "Ответ: не все может и не все может и не все может и не все может и не все может и не все может и не все может и не все может и не все может и не все может и не все может и не все может и не все может и не все может и не все может и не все может и не все может и не все может и не все может и не все может и не все может и не все может и не все может и не все может и не все может и не все может и не все может и не все может и не все может и не все может и не все может и не все может и не все может и не все может и не все может и не все может и не все может и не все может и не все может и не все может и не все может и не все может и не все может и не все может и не все может и не все может и не все может и не все может и не все может и не все может и не все может и не все может и не все может и не все может и не все может и не все может и не все может и не все может и не все может и не все может и не все может и не все может и не все может и не все может и не все может и не все может и не все может и не все может и не все может и не все может и не все может и не все может и не все может и не все может и не все может и не все может и не все может и не все может и не все может и не все может и не все может и не все может и не все может и не все может и не все может и не все может и не все может и не все может и не все может и не все может и не все может и не все может и не все может и не все может и не все может и не все может и не все может и не все может и не все может и не все может и не все может и не все может и не все может и не все может и не все может и не все может и не все может и не все может и не все может и не все может и не все может и не все может и не все может и не все может и не все может и не все может и не все может и не все может и не все может и не все может и не все может и не все может и не все может и не все может и не все может и не все может и не все может и не все может и\n",
            "\n",
            "Вопрос: откуда пришла саранча?\n",
            "Ответ: - суффи бельгии - суффи бельгии - суффи бельгии - суффи бельгии - суффи бельгии - суффи бельгии - суффи бельгии - суффи бельгии - суффи бельгии - суффи бельгии - суффи бельгии - суффи бельгии - суффи бельгии - суффи бельгии - суффи бельгии - суффи бельгии - суффи бельгии - суффи бельгии - суффи бельгии - суффи бельгии - суффи бельгии - суффи бельгии - суффи бельгии - суффи бельгии - суффи бельгии - суффи бельгии - суффи бельгии - суффи бельгии - суффи бельгии - суффи бельгии - суффи бельгии - суффи бельгии - суффи бельгии - суффи бельгии - суффи бельгии - суффи бельгии - суффи бельгии - суффи бельгии - суффи бельгии - суффи бельгии - суффи бельгии - суффи бельгии - суффи бельгии - суффи бельгии - суффи бельгии - суффи бельгии - суффи бельгии - суффи бельгии - суффи бельгии - суффи бельгии - суффи бельгии - суффи бельгии - суффи бельгии - суффи бельгии - суффи бельгии - суффи бельгии - суффи бельгии - суффи бельгии - суффи бельгии - суффи бельгии - суффи бельгии - суффи бельгии - суффи бельгии - суффи бельгии - суффи бельгии - суффи бельгии - суффи бельгии - суффи бельгии - суффи бельгии - суффи бельгии - суффи бельгии - суффи бельгии - суффи бельгии - суффи бельгии - суффи бельгии - суффи бельгии - суффи бельгии - суффи бельгии - суффи бельгии - суффи бельгии - суффи бельгии - суффи бельгии - суффи бельгии - суффи бельгии - суффи бельгии - суффи бельгии - суффи бельгии - суффи бельгии - суффи бельгии - суффи бельгии - суффи бельгии - суффи бельгии - суффи бельгии - суффи бельгии - суффи бельгии - суффи бельгии - суффи бельгии - суффи бельгии - суффи бельгии - суффи бельгии - суффи бельгии - суффи бельгии - суффи бельгии - суффи бельгии - суффи бельгии - суффи бельгии - суффи бельгии - суффи бельгии - суффи бельгии - суффи бельгии - суффи бельгии - суффи бельгии - суффи бельгии - суффи бельгии - суффи бельгии - суффи бельгии - суффи бельгии - суффи бельгии - суффи бельгии - суффи бельгии - суффи бельгии - суффи бельгии - суффи бельгии - суффи бельгии - суффи бельгии - суффи бельгии - суффи бельгии - суффи бельгии - суффи бельгии - суффи бельгии - суффи бельгии - суффи бельгии - суффи бельгии - суффи бельгии - суффи бельгии - суффи бельгии - суффи бельгии - суффи бельгии - суффи бельгии - суффи бельгии - суффи бельгии - суффи бельгии - суффи бельгии - суффи бельгии - суффи бельгии - суффи бельгии - суффи бельгии - суффи бельгии - суффи бельгии - суффи бельгии - суффи бельгии - суффи бельгии - суффи бельгии - суффи бельгии - суффи бельгии - суффи бельгии - суффи бельгии - суффи бельгии - суффи бельгии - суффи бельгии - суффи бельгии - суффи бельгии - суффи бельгии - суффи бельгии - суффи бельгии - суффи бельгии - суффи бельгии - суффи бельгии - суффи бельгии - суффи бельгии - суффи\n",
            "\n",
            "Вопрос: я понимаю что вопрос странный но где живут белки?\n",
            "Ответ: в блох. я тоже самое, что это не в блох. я тоже самое, что это не в блох. я тоже самое, что это не в блох. я тоже самое, что это не в блох. я тоже самое, что это не в блох. я тоже самое, что это не в блох. я тоже самое, что это не в блох. я тоже самое, что это не в блох. я тоже самое, что это не в блох. я тоже самое, что это не в блох. я тоже самое, что это не в блох. я тоже самое, что это не в блох. я тоже самое, что это не в блох. я тоже самое, что это не в блох. я тоже самое, что это не в блох. я тоже самое, что это не в блох. я тоже самое, что это не в блох. я тоже самое, что это не в блох. я тоже самое, что это не в блох. я тоже самое, что это не в блох. я тоже самое, что это не в блох. я тоже самое, что это не в блох. я тоже самое, что это не в блох. я тоже самое, что это не в блох. я тоже самое, что это не в блох. я тоже самое, что это не в блох. я тоже самое, что это не в блох. я тоже самое, что это не в блох. я тоже самое, что это не в блох. я тоже самое, что это не в блох. я тоже самое, что это не в блох. я тоже самое, что это не в блох. я тоже самое, что это не в блох. я тоже самое, что это не в блох. я тоже самое, что это не в блох. я тоже самое, что это не в блох. я тоже самое, что это не в блох. я тоже самое, что это не в блох. я тоже самое, что это не в блох. я тоже самое, что это не в блох. я тоже самое, что это не в блох. я тоже самое, что это не в блох. я тоже самое, что это не в блох. я тоже самое, что это не в блох. я тоже самое, что это не в блох. я тоже самое, что это не в блох. я тоже самое, что это не в блох. я тоже самое, что это не в блох. я тоже самое, что это не в блох. я тоже самое, что это не в блох. я тоже самое, что это не в блох. я тоже самое, что это не в блох. я тоже самое, что это не в блох. я тоже самое, что это не в блох. я тоже самое, что это не в блох. я тоже самое, что это не в блох. я тоже самое, что это не в блох. я тоже самое, что это не в блох. я тоже самое, что это не в блох. я тоже самое, что это не в блох. я тоже самое, что это не в блох. я тоже самое, что это не в блох. я тоже самое, что это не в блох. я тоже самое, что это не\n",
            "\n",
            "Вопрос: какие бывают коты?\n",
            "Ответ: юристы снеги юристы снеги юристы снеги юристы снеги юристы снеги юристы снеги юристы снеги юристы снеги юристы снеги юристы снеги юристы снеги юристы снеги юристы снеги юристы снеги юристы снеги юристы снеги юристы снеги юристы снеги юристы снеги юристы снеги юристы снеги юристы снеги юристы снеги юристы снеги юристы снеги юристы снеги юристы снеги юристы снеги юристы снеги юристы снеги юристы снеги юристы снеги юристы снеги юристы снеги юристы снеги юристы снеги юристы снеги юристы снеги юристы снеги юристы снеги юристы снеги юристы снеги юристы снеги юристы снеги юристы снеги юристы снеги юристы снеги юристы снеги юристы снеги юристы снеги юристы снеги юристы снеги юристы снеги юристы снеги юристы снеги юристы снеги юристы снеги юристы снеги юристы снеги юристы снеги юристы снеги юристы снеги юристы снеги юристы снеги юристы снеги юристы снеги юристы снеги юристы снеги юристы снеги юристы снеги юристы снеги юристы снеги юристы снеги юристы снеги юристы снеги юристы снеги юристы снеги юристы снеги юристы снеги юристы снеги юристы снеги юристы снеги юристы снеги юристы снеги юристы снеги юристы снеги юристы снеги юристы снеги юристы снеги юристы снеги юристы снеги юристы снеги юристы снеги юристы снеги юристы снеги юристы снеги юристы снеги юристы снеги юристы снеги юристы снеги юристы снеги юристы снеги юристы снеги юристы снеги юристы снеги юристы снеги юристы снеги юристы снеги юристы снеги юристы снеги юристы снеги юристы снеги юристы снеги юристы снеги юристы снеги юристы снеги юристы снеги юристы снеги юристы снеги юристы снеги юристы снеги юристы снеги юристы снеги юристы снеги юристы снеги юристы снеги юристы снеги юристы снеги юристы снеги юристы снеги юристы снеги юристы снеги юристы снеги юристы снеги юристы снеги юристы снеги юристы снеги юристы снеги юристы снеги юристы снеги юристы снеги юристы снеги юристы снеги юристы снеги юристы снеги юристы снеги юристы снеги юристы снеги юристы снеги юристы снеги юристы снеги юристы снеги юристы снеги юристы снеги юристы снеги юристы снеги юристы снеги юристы снеги юристы снеги юристы снеги юристы снеги юристы снеги юристы снеги юристы снеги юристы снеги юристы снеги юристы снеги юристы снеги юристы снеги юристы снеги юристы снеги юристы снеги юристы снеги юристы снеги юристы снеги юристы снеги юристы снеги юристы снеги юристы снеги юристы снеги юристы снеги юристы снеги юристы снеги юристы снеги юристы снеги юристы снеги юристы снеги юристы снеги юристы снеги юристы снеги юристы снеги юристы снеги юристы снеги юристы снеги юристы снеги юристы снеги юристы снеги юристы снеги юристы снеги юристы снеги юристы снеги юристы снеги юристы снеги юристы снеги юристы снеги юристы снеги юристы снеги юристы снеги юристы снеги юристы снеги юристы снеги юристы снеги юристы снеги юристы снеги юристы снеги юристы снеги юристы снеги юристы снеги юристы снеги юристы снеги юристы снеги юристы снеги юристы снеги юристы снеги юристы снеги юристы снеги юристы снеги юристы снеги юристы снеги юристы снеги юристы снеги юристы снеги юристы снеги юристы снеги юристы снеги юристы снеги юристы снеги юристы снеги юристы снеги юристы снеги юристы снеги юристы снеги юристы снеги юристы снеги юристы снеги юристы снеги юристы снеги юристы снеги юристы снеги юристы снеги юристы снеги юристы снеги юристы снеги юристы снеги юристы снеги юристы снеги\n",
            "\n",
            "Вопрос: стоит ли идти учиться на компьютерного лингвиста?\n",
            "Ответ: иди. иди. иди. иди. иди. иди. иди. иди. иди. иди. иди. иди. иди. иди. иди. иди. иди. иди. иди. иди. иди. иди. иди. иди. иди. иди. иди. иди. иди. иди. иди. иди. иди. иди. иди. иди. иди. иди. иди. иди. иди. иди. иди. иди. иди. иди. иди. иди. иди. иди. иди. иди. иди. иди. иди. иди. иди. иди. иди. иди. иди. иди. иди. иди. иди. иди. иди. иди. иди. иди. иди. иди. иди. иди. иди. иди. иди. иди. иди. иди. иди. иди. иди. иди. иди. иди. иди. иди. иди. иди. иди. иди. иди. иди. иди. иди. иди. иди. иди. иди. иди. иди. иди. иди. иди. иди. иди. иди. иди. иди. иди. иди. иди. иди. иди. иди. иди. иди. иди. иди. иди. иди. иди. иди. иди. иди. иди. иди. иди. иди. иди. иди. иди. иди. иди. иди. иди. иди. иди. иди. иди. иди. иди. иди. иди. иди. иди. иди. иди. иди. иди. иди. иди. иди. иди. иди. иди. иди. иди. иди. иди. иди. иди. иди. иди. иди. иди. иди. иди. иди. иди. иди. иди. иди. иди. иди. иди. иди. иди. иди. иди. иди. иди. иди. иди. иди. иди. иди. иди. иди. иди. иди. иди. иди. иди. иди. иди. иди. иди. иди. иди. иди. иди. иди. иди. иди. иди. иди. иди. иди. иди. иди. иди. иди. иди. иди. иди. иди. иди. иди. иди. иди. иди. иди. иди. иди. иди. иди. иди. иди. иди. иди. иди. иди. иди. иди. иди. иди. иди. иди. иди. иди. иди. иди. иди. иди. иди. иди. иди. иди. иди. иди. иди. иди. иди. иди. иди. иди. иди. иди. иди. иди. иди. иди. иди. иди. иди. иди. иди. иди. иди. иди. иди. иди. иди. иди. иди. иди. иди. иди. иди. иди. иди. иди. иди. иди. иди. иди. иди. иди. иди. иди. иди. иди. иди. иди. иди. иди. иди. иди. иди. иди. иди. иди. иди. иди. иди. иди. иди. иди. иди. иди. иди. иди. иди. иди. иди. иди. иди. иди. иди. иди. иди. иди. иди. иди. иди. иди. иди. иди. иди. иди. иди. иди. иди. иди. иди. иди. иди. иди. иди. иди. иди. иди. иди. иди. иди. иди. иди. иди. иди. иди. иди. иди. иди. иди. иди. иди. иди. иди. иди. иди. иди. иди. иди. иди. иди. иди. иди. иди. иди. иди. иди. иди. иди. иди. иди. иди. иди. иди. иди. иди. иди. иди. иди. иди. иди. иди. иди. иди. иди. иди. иди. иди. иди. иди. иди. иди. иди. иди. иди. иди. иди. иди. иди. иди. иди. иди. иди. иди. иди. иди. иди. иди. иди. иди. иди. иди. иди. иди. иди. иди. иди. иди. иди. иди. иди. иди. иди. иди. иди. иди. иди. иди. иди. иди. иди. иди. иди. иди. иди. иди. иди. иди. иди. иди. иди. иди. иди. иди. иди. иди. иди. иди. иди. иди. иди. иди. иди. иди. иди. иди. иди. иди. иди. иди. иди. иди. иди. иди. иди. иди. иди. иди. иди. иди. иди. иди. иди. иди. иди. иди. иди. иди. иди. иди. иди. иди. иди. иди. иди. иди. иди. иди. иди. иди. иди. иди. иди. иди. иди. иди. иди. иди. иди. иди. иди. иди. иди. иди. иди. иди.\n",
            "\n",
            "Вопрос: нормально ли ходить в школу?\n",
            "Ответ: вполне.\n",
            "\n",
            "Вопрос: почему меня не пускают без сменки?\n",
            "Ответ: ты любишь потому, что ты любишь потому, что ты любишь потому, что ты любишь потому, что ты любишь потому, что ты любишь потому, что ты любишь потому, что ты любишь потому, что ты любишь потому, что ты любишь потому, что ты любишь потому, что ты любишь потому, что ты любишь потому, что ты любишь потому, что ты любишь потому, что ты любишь потому, что ты любишь потому, что ты любишь потому, что ты любишь потому, что ты любишь потому, что ты любишь потому, что ты любишь потому, что ты любишь потому, что ты любишь потому, что ты любишь потому, что ты любишь потому, что ты любишь потому, что ты любишь потому, что ты любишь потому, что ты любишь потому, что ты любишь потому, что ты любишь потому, что ты любишь потому, что ты любишь потому, что ты любишь потому, что ты любишь потому, что ты любишь потому, что ты любишь потому, что ты любишь потому, что ты любишь потому, что ты любишь потому, что ты любишь потому, что ты любишь потому, что ты любишь потому, что ты любишь потому, что ты любишь потому, что ты любишь потому, что ты любишь потому, что ты любишь потому, что ты любишь потому, что ты любишь потому, что ты любишь потому, что ты любишь потому, что ты любишь потому, что ты любишь потому, что ты любишь потому, что ты любишь потому, что ты любишь потому, что ты любишь потому, что ты любишь потому, что ты любишь потому, что ты любишь потому, что ты любишь потому, что ты любишь потому, что ты любишь потому, что ты любишь потому, что ты любишь потому, что ты любишь потому, что ты любишь потому, что ты любишь потому, что ты любишь потому, что ты любишь потому, что ты любишь потому, что ты любишь потому, что ты любишь потому, что ты любишь потому, что ты любишь потому, что ты любишь потому, что ты любишь потому, что ты любишь потому, что ты любишь потому, что ты любишь потому, что ты любишь потому, что ты любишь потому, что ты любишь потому, что ты любишь потому, что ты любишь потому, что ты любишь потому, что ты любишь потому, что ты любишь потому, что ты любишь потому, что ты любишь потому, что ты любишь потому, что ты любишь потому, что ты любишь потому, что ты любишь потому, что ты любишь потому, что ты любишь потому, что ты любишь потому, что ты любишь потому, что ты любишь потому, что ты любишь потому, что ты любишь потому, что ты любишь потому, что ты любишь потому, что ты любишь потому, что ты любишь потому, что ты любишь потому, что ты любишь потому, что ты любишь потому, что ты любишь потому, что ты любишь потому, что ты любишь потому, что ты любишь потому, что ты любишь потому, что ты любишь потому, что ты любишь потому, что ты любишь потому, что ты любишь потому, что ты любишь потому, что ты любишь потому, что ты любишь потому, что ты любишь потому, что ты любишь потому, что ты любишь потому, что ты любишь потому, что ты любишь потому, что ты любишь потому, что\n",
            "\n",
            "Вопрос: кто такой ленин?\n",
            "Ответ: певец, бывший бывший бывший бывший бывший бывший бывший бывший бывший бывший бывший бывший бывший бывший бывший бывший бывший бывший бывший бывший бывший бывший бывший бывший бывший бывший бывший бывший бывший бывший бывший бывший бывший бывший бывший бывший бывший бывший бывший бывший бывший бывший бывший бывший бывший бывший бывший бывший бывший бывший бывший бывший бывший бывший бывший бывший бывший бывший бывший бывший бывший бывший бывший бывший бывший бывший бывший бывший бывший бывший бывший бывший бывший бывший бывший бывший бывший бывший бывший бывший бывший бывший бывший бывший бывший бывший бывший бывший бывший бывший бывший бывший бывший бывший бывший бывший бывший бывший бывший бывший бывший бывший бывший бывший бывший бывший бывший бывший бывший бывший бывший бывший бывший бывший бывший бывший бывший бывший бывший бывший бывший бывший бывший бывший бывший бывший бывший бывший бывший бывший бывший бывший бывший бывший бывший бывший бывший бывший бывший бывший бывший бывший бывший бывший бывший бывший бывший бывший бывший бывший бывший бывший бывший бывший бывший бывший бывший бывший бывший бывший бывший бывший бывший бывший бывший бывший бывший бывший бывший бывший бывший бывший бывший бывший бывший бывший бывший бывший бывший бывший бывший бывший бывший бывший бывший бывший бывший бывший бывший бывший бывший бывший бывший бывший бывший бывший бывший бывший бывший бывший бывший бывший бывший бывший бывший бывший бывший бывший бывший бывший бывший бывший бывший бывший бывший бывший бывший бывший бывший бывший бывший бывший бывший бывший бывший бывший бывший бывший бывший бывший бывший бывший бывший бывший бывший бывший бывший бывший бывший бывший бывший бывший бывший бывший бывший бывший бывший бывший бывший бывший бывший бывший бывший бывший бывший бывший бывший бывший бывший бывший бывший бывший бывший бывший бывший бывший бывший бывший бывший бывший бывший бывший бывший бывший бывший бывший бывший бывший бывший бывший бывший бывший бывший бывший бывший бывший бывший бывший бывший бывший бывший бывший бывший бывший бывший бывший бывший бывший бывший бывший бывший бывший бывший бывший бывший бывший бывший бывший бывший бывший бывший бывший бывший бывший бывший бывший бывший бывший бывший бывший бывший бывший бывший бывший бывший бывший бывший бывший бывший бывший бывший бывший бывший бывший бывший бывший бывший бывший бывший бывший бывший бывший бывший бывший бывший бывший бывший бывший бывший бывший бывший бывший бывший бывший бывший бывший бывший бывший бывший бывший бывший бывший бывший бывший бывший бывший бывший бывший бывший бывший бывший бывший бывший бывший бывший бывший бывший бывший бывший бывший бывший бывший бывший бывший бывший бывший бывший бывший бывший бывший бывший бывший бывший бывший бывший бывший бывший бывший бывший бывший бывший бывший бывший бывший бывший бывший бывший бывший бывший бывший бывший бывший бывший бывший бывший бывший бывший бывший бывший бывший бывший бывший бывший бывший бывший бывший бывший бывший бывший бывший бывший бывший бывший бывший бывший бывший бывший бывший бывший бывший бывший бывший бывший бывший бывший бывший бывший бывший бывший бывший бывший бывший бывший бывший бывший бывший бывший бывший бывший бывший бывший бывший бывший бывший бывший бывший бывший бывший бывший бывший бывший бывший бывший бывший бывший бывший бывший бывший бывший бывший бывший бывший бывший бывший бывший бывший бывший бывший бывший бывший бывший бывший бывший бывший бывший бывший бывший бывший бывший бывший бывший бывший бывший бывший бывший бывший бывший бывший бывший бывший бывший\n",
            "\n",
            "Вопрос: кто такой сталин?\n",
            "Ответ: - это слово dreams который в бессмертный это слово dreams который в бессмертный это слово dreams который в бессмертный это слово dreams который в бессмертный это слово dreams который в бессмертный это слово dreams который в бессмертный это слово dreams который в бессмертный это слово dreams который в бессмертный это слово dreams который в бессмертный это слово dreams который в бессмертный это слово dreams который в бессмертный это слово dreams который в бессмертный это слово dreams который в бессмертный это слово dreams который в бессмертный это слово dreams который в бессмертный это слово dreams который в бессмертный это слово dreams который в бессмертный это слово dreams который в бессмертный это слово dreams который в бессмертный это слово dreams который в бессмертный это слово dreams который в бессмертный это слово dreams который в бессмертный это слово dreams который в бессмертный это слово dreams который в бессмертный это слово dreams который в бессмертный это слово dreams который в бессмертный это слово dreams который в бессмертный это слово dreams который в бессмертный это слово dreams который в бессмертный это слово dreams который в бессмертный это слово dreams который в бессмертный это слово dreams который в бессмертный это слово dreams который в бессмертный это слово dreams который в бессмертный это слово dreams который в бессмертный это слово dreams который в бессмертный это слово dreams который в бессмертный это слово dreams который в бессмертный это слово dreams который в бессмертный это слово dreams который в бессмертный это слово dreams который в бессмертный это слово dreams который в бессмертный это слово dreams который в бессмертный это слово dreams который в бессмертный это слово dreams который в бессмертный это слово dreams который в бессмертный это слово dreams который в бессмертный это слово dreams который в бессмертный это слово dreams который в бессмертный это слово dreams который в бессмертный это слово dreams который в бессмертный это слово dreams который в бессмертный это слово dreams который в бессмертный это слово dreams который в бессмертный это слово dreams который в бессмертный это слово dreams который в бессмертный это слово dreams который в бессмертный это слово dreams который в бессмертный это слово dreams который в бессмертный это слово dreams который в бессмертный это слово dreams который в бессмертный это слово dreams который в бессмертный это слово dreams который в бессмертный это слово dreams который в бессмертный это слово dreams который в бессмертный это слово dreams который в бессмертный это слово dreams который в бессмертный это слово dreams который в бессмертный это слово dreams который в бессмертный это слово dreams который в бессмертный это слово dreams который в бессмертный это слово dreams который в бессмертный это слово dreams который в бессмертный это слово dreams который в бессмертный это слово dreams который в бессмертный это слово dreams который в бессмертный это слово dreams который в бессмертный это слово dreams который в бессмертный это слово dreams который в бессмертный это слово dreams который в бессмертный это слово dreams который в бессмертный это слово dreams который в бессмертный это слово dreams который в бессмертный это слово dreams который в бессмертный это слово dreams который в бессмертный это\n",
            "\n",
            "Вопрос: что лучше моржи или еноты?\n",
            "Ответ: боинг боинг боинг боинг боинг боинг боинг боинг боинг боинг боинг боинг боинг боинг боинг боинг боинг боинг боинг боинг боинг боинг боинг боинг боинг боинг боинг боинг боинг боинг боинг боинг боинг боинг боинг боинг боинг боинг боинг боинг боинг боинг боинг боинг боинг боинг боинг боинг боинг боинг боинг боинг боинг боинг боинг боинг боинг боинг боинг боинг боинг боинг боинг боинг боинг боинг боинг боинг боинг боинг боинг боинг боинг боинг боинг боинг боинг боинг боинг боинг боинг боинг боинг боинг боинг боинг боинг боинг боинг боинг боинг боинг боинг боинг боинг боинг боинг боинг боинг боинг боинг боинг боинг боинг боинг боинг боинг боинг боинг боинг боинг боинг боинг боинг боинг боинг боинг боинг боинг боинг боинг боинг боинг боинг боинг боинг боинг боинг боинг боинг боинг боинг боинг боинг боинг боинг боинг боинг боинг боинг боинг боинг боинг боинг боинг боинг боинг боинг боинг боинг боинг боинг боинг боинг боинг боинг боинг боинг боинг боинг боинг боинг боинг боинг боинг боинг боинг боинг боинг боинг боинг боинг боинг боинг боинг боинг боинг боинг боинг боинг боинг боинг боинг боинг боинг боинг боинг боинг боинг боинг боинг боинг боинг боинг боинг боинг боинг боинг боинг боинг боинг боинг боинг боинг боинг боинг боинг боинг боинг боинг боинг боинг боинг боинг боинг боинг боинг боинг боинг боинг боинг боинг боинг боинг боинг боинг боинг боинг боинг боинг боинг боинг боинг боинг боинг боинг боинг боинг боинг боинг боинг боинг боинг боинг боинг боинг боинг боинг боинг боинг боинг боинг боинг боинг боинг боинг боинг боинг боинг боинг боинг боинг боинг боинг боинг боинг боинг боинг боинг боинг боинг боинг боинг боинг боинг боинг боинг боинг боинг боинг боинг боинг боинг боинг боинг боинг боинг боинг боинг боинг боинг боинг боинг боинг боинг боинг боинг боинг боинг боинг боинг боинг боинг боинг боинг боинг боинг боинг боинг боинг боинг боинг боинг боинг боинг боинг боинг боинг боинг боинг боинг боинг боинг боинг боинг боинг боинг боинг боинг боинг боинг боинг боинг боинг боинг боинг боинг боинг боинг боинг боинг боинг боинг боинг боинг боинг боинг боинг боинг боинг боинг боинг боинг боинг боинг боинг боинг боинг боинг боинг боинг боинг боинг боинг боинг боинг боинг боинг боинг боинг боинг боинг боинг боинг боинг боинг боинг боинг боинг боинг боинг боинг боинг боинг боинг боинг боинг боинг боинг боинг боинг боинг боинг боинг боинг боинг боинг боинг боинг боинг боинг боинг боинг боинг боинг боинг боинг боинг боинг боинг боинг боинг боинг боинг боинг боинг боинг боинг боинг боинг боинг боинг боинг боинг боинг боинг боинг боинг боинг боинг боинг боинг боинг боинг боинг боинг боинг боинг боинг боинг боинг боинг боинг боинг боинг боинг боинг боинг боинг боинг боинг боинг боинг боинг боинг боинг боинг боинг боинг боинг боинг боинг боинг боинг боинг боинг боинг боинг боинг боинг боинг боинг боинг боинг боинг боинг боинг боинг боинг боинг боинг боинг боинг боинг боинг боинг боинг боинг боинг боинг боинг боинг боинг боинг боинг боинг боинг боинг боинг боинг боинг боинг боинг боинг боинг боинг боинг боинг боинг боинг боинг боинг\n",
            "\n",
            "Вопрос: кто автор горя от ума?\n",
            "Ответ: от просмотра отрывок не помню от просмотра отрывок не помню от просмотра отрывок не помню от просмотра отрывок не помню от просмотра отрывок не помню от просмотра отрывок не помню от просмотра отрывок не помню от просмотра отрывок не помню от просмотра отрывок не помню от просмотра отрывок не помню от просмотра отрывок не помню от просмотра отрывок не помню от просмотра отрывок не помню от просмотра отрывок не помню от просмотра отрывок не помню от просмотра отрывок не помню от просмотра отрывок не помню от просмотра отрывок не помню от просмотра отрывок не помню от просмотра отрывок не помню от просмотра отрывок не помню от просмотра отрывок не помню от просмотра отрывок не помню от просмотра отрывок не помню от просмотра отрывок не помню от просмотра отрывок не помню от просмотра отрывок не помню от просмотра отрывок не помню от просмотра отрывок не помню от просмотра отрывок не помню от просмотра отрывок не помню от просмотра отрывок не помню от просмотра отрывок не помню от просмотра отрывок не помню от просмотра отрывок не помню от просмотра отрывок не помню от просмотра отрывок не помню от просмотра отрывок не помню от просмотра отрывок не помню от просмотра отрывок не помню от просмотра отрывок не помню от просмотра отрывок не помню от просмотра отрывок не помню от просмотра отрывок не помню от просмотра отрывок не помню от просмотра отрывок не помню от просмотра отрывок не помню от просмотра отрывок не помню от просмотра отрывок не помню от просмотра отрывок не помню от просмотра отрывок не помню от просмотра отрывок не помню от просмотра отрывок не помню от просмотра отрывок не помню от просмотра отрывок не помню от просмотра отрывок не помню от просмотра отрывок не помню от просмотра отрывок не помню от просмотра отрывок не помню от просмотра отрывок не помню от просмотра отрывок не помню от просмотра отрывок не помню от просмотра отрывок не помню от просмотра отрывок не помню от просмотра отрывок не помню от просмотра отрывок не помню от просмотра отрывок не помню от просмотра отрывок не помню от просмотра отрывок не помню от просмотра отрывок не помню от просмотра отрывок не помню от просмотра отрывок не помню от просмотра отрывок не помню от просмотра отрывок не помню от просмотра отрывок не помню от просмотра отрывок не помню от просмотра отрывок не помню от просмотра отрывок не помню от просмотра отрывок не помню от просмотра отрывок не помню от просмотра отрывок не помню от просмотра отрывок не помню от просмотра отрывок не помню от просмотра отрывок не помню от просмотра отрывок не помню от просмотра отрывок не помню от просмотра отрывок не помню от просмотра отрывок не помню от просмотра отрывок не помню от просмотра отрывок не помню от просмотра отрывок не помню от просмотра отрывок не помню от просмотра отрывок не помню от просмотра отрывок не помню от просмотра отрывок не помню от просмотра отрывок не помню от просмотра отрывок не помню от просмотра отрывок не помню от просмотра отрывок не помню от просмотра отрывок не помню от просмотра отрывок не помню от просмотра отрывок не помню от просмотра\n",
            "\n",
            "Вопрос: как твои дела?\n",
            "Ответ: и слушаю передыся и слушаю передыся и слушаю передыся и слушаю передыся и слушаю передыся и слушаю передыся и слушаю передыся и слушаю передыся и слушаю передыся и слушаю передыся и слушаю передыся и слушаю передыся и слушаю передыся и слушаю передыся и слушаю передыся и слушаю передыся и слушаю передыся и слушаю передыся и слушаю передыся и слушаю передыся и слушаю передыся и слушаю передыся и слушаю передыся и слушаю передыся и слушаю передыся и слушаю передыся и слушаю передыся и слушаю передыся и слушаю передыся и слушаю передыся и слушаю передыся и слушаю передыся и слушаю передыся и слушаю передыся и слушаю передыся и слушаю передыся и слушаю передыся и слушаю передыся и слушаю передыся и слушаю передыся и слушаю передыся и слушаю передыся и слушаю передыся и слушаю передыся и слушаю передыся и слушаю передыся и слушаю передыся и слушаю передыся и слушаю передыся и слушаю передыся и слушаю передыся и слушаю передыся и слушаю передыся и слушаю передыся и слушаю передыся и слушаю передыся и слушаю передыся и слушаю передыся и слушаю передыся и слушаю передыся и слушаю передыся и слушаю передыся и слушаю передыся и слушаю передыся и слушаю передыся и слушаю передыся и слушаю передыся и слушаю передыся и слушаю передыся и слушаю передыся и слушаю передыся и слушаю передыся и слушаю передыся и слушаю передыся и слушаю передыся и слушаю передыся и слушаю передыся и слушаю передыся и слушаю передыся и слушаю передыся и слушаю передыся и слушаю передыся и слушаю передыся и слушаю передыся и слушаю передыся и слушаю передыся и слушаю передыся и слушаю передыся и слушаю передыся и слушаю передыся и слушаю передыся и слушаю передыся и слушаю передыся и слушаю передыся и слушаю передыся и слушаю передыся и слушаю передыся и слушаю передыся и слушаю передыся и слушаю передыся и слушаю передыся и слушаю передыся и слушаю передыся и слушаю передыся и слушаю передыся и слушаю передыся и слушаю передыся и слушаю передыся и слушаю передыся и слушаю передыся и слушаю передыся и слушаю передыся и слушаю передыся и слушаю передыся и слушаю передыся и слушаю передыся и слушаю передыся и слушаю передыся и слушаю передыся и слушаю передыся и слушаю передыся и слушаю передыся и слушаю передыся и слушаю передыся и слушаю передыся и слушаю передыся и слушаю передыся и слушаю передыся\n",
            "\n",
            "Вопрос: кто убил старуху-процентщицу?\n",
            "Ответ: я! но не я! но не я! но не я! но не я! но не я! но не я! но не я! но не я! но не я! но не я! но не я! но не я! но не я! но не я! но не я! но не я! но не я! но не я! но не я! но не я! но не я! но не я! но не я! но не я! но не я! но не я! но не я! но не я! но не я! но не я! но не я! но не я! но не я! но не я! но не я! но не я! но не я! но не я! но не я! но не я! но не я! но не я! но не я! но не я! но не я! но не я! но не я! но не я! но не я! но не я! но не я! но не я! но не я! но не я! но не я! но не я! но не я! но не я! но не я! но не я! но не я! но не я! но не я! но не я! но не я! но не я! но не я! но не я! но не я! но не я! но не я! но не я! но не я! но не я! но не я! но не я! но не я! но не я! но не я! но не я! но не я! но не я! но не я! но не я! но не я! но не я! но не я! но не я! но не я! но не я! но не я! но не я! но не я! но не я! но не я! но не я! но не я! но не я! но не я! но не я! но не я! но не я! но не я! но не я! но не я! но не я! но не я! но не я! но не я! но не я! но не я! но не я! но не я! но не я! но не я! но не я! но не я! но не я! но не я! но не я! но не я! но не я! но не я! но не я! но не я! но не я! но не я! но не я! но не я! но не я! но не я! но не я! но не я! но не я! но не я! но не я! но не я! но не я! но не я! но не я! но не я! но не я! но не я! но не я! но не я! но не я! но не я! но не я! но не я! но не я! но не я! но не я! но не я! но не я! но не я! но не я! но не я! но не я! но не я! но не я! но не я! но не я! но не я! но не я! но не я! но не я! но не я! но не я! но не я! но не я! но\n",
            "\n",
            "Вопрос: накидайте бредовых вопросов для приколюх с нейронкой\n",
            "Ответ: но не подойдет - это не подойдет - это не подойдет - это не подойдет - это не подойдет - это не подойдет - это не подойдет - это не подойдет - это не подойдет - это не подойдет - это не подойдет - это не подойдет - это не подойдет - это не подойдет - это не подойдет - это не подойдет - это не подойдет - это не подойдет - это не подойдет - это не подойдет - это не подойдет - это не подойдет - это не подойдет - это не подойдет - это не подойдет - это не подойдет - это не подойдет - это не подойдет - это не подойдет - это не подойдет - это не подойдет - это не подойдет - это не подойдет - это не подойдет - это не подойдет - это не подойдет - это не подойдет - это не подойдет - это не подойдет - это не подойдет - это не подойдет - это не подойдет - это не подойдет - это не подойдет - это не подойдет - это не подойдет - это не подойдет - это не подойдет - это не подойдет - это не подойдет - это не подойдет - это не подойдет - это не подойдет - это не подойдет - это не подойдет - это не подойдет - это не подойдет - это не подойдет - это не подойдет - это не подойдет - это не подойдет - это не подойдет - это не подойдет - это не подойдет - это не подойдет - это не подойдет - это не подойдет - это не подойдет - это не подойдет - это не подойдет - это не подойдет - это не подойдет - это не подойдет - это не подойдет - это не подойдет - это не подойдет - это не подойдет - это не подойдет - это не подойдет - это не подойдет - это не подойдет - это не подойдет - это не подойдет - это не подойдет - это не подойдет - это не подойдет - это не подойдет - это не подойдет - это не подойдет - это не подойдет - это не подойдет - это не подойдет - это не подойдет - это не подойдет - это не подойдет - это не подойдет - это не подойдет - это не подойдет - это не подойдет - это не подойдет - это не подойдет - это не подойдет - это не подойдет - это не подойдет - это не подойдет - это не подойдет - это не подойдет - это не подойдет - это не подойдет - это не подойдет - это не подойдет - это не подойдет - это не подойдет - это не подойдет - это не подойдет - это не подойдет - это не подойдет - это не подойдет - это не подойдет - это не подойдет - это не подойдет - это не подойдет - это не подойдет - это не подойдет - это не подойдет - это не подойдет - это не подойдет - это не подойдет -\n",
            "\n",
            "Вопрос: порекомендуйте какие овощи есть на третьи лунные сутки\n",
            "Ответ: с рисом с рисом с рисом с рисом с рисом с рисом с рисом с рисом с рисом с рисом с рисом с рисом с рисом с рисом с рисом с рисом с рисом с рисом с рисом с рисом с рисом с рисом с рисом с рисом с рисом с рисом с рисом с рисом с рисом с рисом с рисом с рисом с рисом с рисом с рисом с рисом с рисом с рисом с рисом с рисом с рисом с рисом с рисом с рисом с рисом с рисом с рисом с рисом с рисом с рисом с рисом с рисом с рисом с рисом с рисом с рисом с рисом с рисом с рисом с рисом с рисом с рисом с рисом с рисом с рисом с рисом с рисом с рисом с рисом с рисом с рисом с рисом с рисом с рисом с рисом с рисом с рисом с рисом с рисом с рисом с рисом с рисом с рисом с рисом с рисом с рисом с рисом с рисом с рисом с рисом с рисом с рисом с рисом с рисом с рисом с рисом с рисом с рисом с рисом с рисом с рисом с рисом с рисом с рисом с рисом с рисом с рисом с рисом с рисом с рисом с рисом с рисом с рисом с рисом с рисом с рисом с рисом с рисом с рисом с рисом с рисом с рисом с рисом с рисом с рисом с рисом с рисом с рисом с рисом с рисом с рисом с рисом с рисом с рисом с рисом с рисом с рисом с рисом с рисом с рисом с рисом с рисом с рисом с рисом с рисом с рисом с рисом с рисом с рисом с рисом с рисом с рисом с рисом с рисом с рисом с рисом с рисом с рисом с рисом с рисом с рисом с рисом с рисом с рисом с рисом с рисом с рисом с рисом с рисом с рисом с рисом с рисом с рисом с рисом с рисом с рисом с рисом с рисом с рисом с рисом с рисом с рисом с рисом с рисом с рисом с рисом с рисом с рисом с рисом с рисом с рисом с рисом с рисом с рисом с рисом с рисом с рисом с рисом с рисом с рисом с рисом с рисом с рисом с рисом с рисом с рисом с рисом с рисом с рисом с рисом с рисом с рисом с рисом с рисом с рисом с рисом с рисом с рисом с рисом с рисом с рисом с рисом с рисом с рисом с рисом с рисом с рисом с рисом с рисом с рисом с рисом с рисом с рисом с рисом с рисом с рисом с рисом с рисом с рисом с рисом с рисом с рисом с рисом с рисом с рисом с рисом с рисом с рисом с рисом с рисом с рисом с рисом с рисом с рисом с рисом с рисом\n",
            "\n",
            "Вопрос: как правильно говорить: левиоса или левиоса?\n",
            "Ответ: - гимназия - гимназия - гимназия - гимназия - гимназия - гимназия - гимназия - гимназия - гимназия - гимназия - гимназия - гимназия - гимназия - гимназия - гимназия - гимназия - гимназия - гимназия - гимназия - гимназия - гимназия - гимназия - гимназия - гимназия - гимназия - гимназия - гимназия - гимназия - гимназия - гимназия - гимназия - гимназия - гимназия - гимназия - гимназия - гимназия - гимназия - гимназия - гимназия - гимназия - гимназия - гимназия - гимназия - гимназия - гимназия - гимназия - гимназия - гимназия - гимназия - гимназия - гимназия - гимназия - гимназия - гимназия - гимназия - гимназия - гимназия - гимназия - гимназия - гимназия - гимназия - гимназия - гимназия - гимназия - гимназия - гимназия - гимназия - гимназия - гимназия - гимназия - гимназия - гимназия - гимназия - гимназия - гимназия - гимназия - гимназия - гимназия - гимназия - гимназия - гимназия - гимназия - гимназия - гимназия - гимназия - гимназия - гимназия - гимназия - гимназия - гимназия - гимназия - гимназия - гимназия - гимназия - гимназия - гимназия - гимназия - гимназия - гимназия - гимназия - гимназия - гимназия - гимназия - гимназия - гимназия - гимназия - гимназия - гимназия - гимназия - гимназия - гимназия - гимназия - гимназия - гимназия - гимназия - гимназия - гимназия - гимназия - гимназия - гимназия - гимназия - гимназия - гимназия - гимназия - гимназия - гимназия - гимназия - гимназия - гимназия - гимназия - гимназия - гимназия - гимназия - гимназия - гимназия - гимназия - гимназия - гимназия - гимназия - гимназия - гимназия - гимназия - гимназия - гимназия - гимназия - гимназия - гимназия - гимназия - гимназия - гимназия - гимназия - гимназия - гимназия - гимназия - гимназия - гимназия - гимназия - гимназия - гимназия - гимназия - гимназия - гимназия - гимназия - гимназия - гимназия - гимназия - гимназия - гимназия - гимназия - гимназия - гимназия - гимназия - гимназия - гимназия - гимназия - гимназия - гимназия - гимназия - гимназия - гимназия - гимназия - гимназия - гимназия - гимназия - гимназия - гимназия - гимназия - гимназия - гимназия - гимназия - гимназия - гимназия - гимназия - гимназия - гимназия - гимназия - гимназия - гимназия - гимназия - гимназия - гимназия - гимназия - гимназия - гимназия - гимназия - гимназия - гимназия - гимназия - гимназия - гимназия - гимназия - гимназия - гимназия - гимназия - гимназия - гимназия - гимназия - гимназия - гимназия - гимназия - гимназия - гимназия - гимназия - гимназия - гимназия - гимназия - гимназия - гимназия - гимназия - гимназия - гимназия - гимназия - гимназия - гимназия - гимназия - гимназия - гимназия - гимназия - гимназия - гимназия - гимназия - гимназия - гимназия - гимназия - гимназия - гимназия - гимназия - гимназия - гимназия - гимназия - гимназия - гимназия - гимназия - гимназия - гимназия - гимназия\n",
            "\n",
            "Вопрос: что вы думаете о короне?\n",
            "Ответ: выбри выбри выбри выбри выбри выбри выбри выбри выбри выбри выбри выбри выбри выбри выбри выбри выбри выбри выбри выбри выбри выбри выбри выбри выбри выбри выбри выбри выбри выбри выбри выбри выбри выбри выбри выбри выбри выбри выбри выбри выбри выбри выбри выбри выбри выбри выбри выбри выбри выбри выбри выбри выбри выбри выбри выбри выбри выбри выбри выбри выбри выбри выбри выбри выбри выбри выбри выбри выбри выбри выбри выбри выбри выбри выбри выбри выбри выбри выбри выбри выбри выбри выбри выбри выбри выбри выбри выбри выбри выбри выбри выбри выбри выбри выбри выбри выбри выбри выбри выбри выбри выбри выбри выбри выбри выбри выбри выбри выбри выбри выбри выбри выбри выбри выбри выбри выбри выбри выбри выбри выбри выбри выбри выбри выбри выбри выбри выбри выбри выбри выбри выбри выбри выбри выбри выбри выбри выбри выбри выбри выбри выбри выбри выбри выбри выбри выбри выбри выбри выбри выбри выбри выбри выбри выбри выбри выбри выбри выбри выбри выбри выбри выбри выбри выбри выбри выбри выбри выбри выбри выбри выбри выбри выбри выбри выбри выбри выбри выбри выбри выбри выбри выбри выбри выбри выбри выбри выбри выбри выбри выбри выбри выбри выбри выбри выбри выбри выбри выбри выбри выбри выбри выбри выбри выбри выбри выбри выбри выбри выбри выбри выбри выбри выбри выбри выбри выбри выбри выбри выбри выбри выбри выбри выбри выбри выбри выбри выбри выбри выбри выбри выбри выбри выбри выбри выбри выбри выбри выбри выбри выбри выбри выбри выбри выбри выбри выбри выбри выбри выбри выбри выбри выбри выбри выбри выбри выбри выбри выбри выбри выбри выбри выбри выбри выбри выбри выбри выбри выбри выбри выбри выбри выбри выбри выбри выбри выбри выбри выбри выбри выбри выбри выбри выбри выбри выбри выбри выбри выбри выбри выбри выбри выбри выбри выбри выбри выбри выбри выбри выбри выбри выбри выбри выбри выбри выбри выбри выбри выбри выбри выбри выбри выбри выбри выбри выбри выбри выбри выбри выбри выбри выбри выбри выбри выбри выбри выбри выбри выбри выбри выбри выбри выбри выбри выбри выбри выбри выбри выбри выбри выбри выбри выбри выбри выбри выбри выбри выбри выбри выбри выбри выбри выбри выбри выбри выбри выбри выбри выбри выбри выбри выбри выбри выбри выбри выбри выбри выбри выбри выбри выбри выбри выбри выбри выбри выбри выбри выбри выбри выбри выбри выбри выбри выбри выбри выбри выбри выбри выбри выбри выбри выбри выбри выбри выбри выбри выбри выбри выбри выбри выбри выбри выбри выбри выбри выбри выбри выбри выбри выбри выбри выбри выбри выбри выбри выбри выбри выбри выбри выбри выбри выбри выбри выбри выбри выбри выбри выбри выбри выбри выбри выбри выбри выбри выбри выбри выбри выбри выбри выбри выбри выбри выбри выбри выбри выбри выбри выбри выбри выбри выбри выбри выбри выбри выбри выбри выбри выбри выбри выбри выбри выбри выбри выбри выбри выбри выбри выбри выбри выбри выбри выбри выбри выбри выбри выбри выбри выбри выбри выбри выбри выбри выбри выбри выбри выбри выбри выбри выбри выбри выбри выбри выбри выбри выбри выбри выбри выбри выбри выбри выбри выбри выбри выбри выбри выбри выбри выбри выбри выбри выбри выбри\n",
            "\n",
            "Вопрос: что ты знаешь о сериалах?\n",
            "Ответ: фильм фильм фильм фильм фильм фильм фильм фильм фильм фильм фильм фильм фильм фильм фильм фильм фильм фильм фильм фильм фильм фильм фильм фильм фильм фильм фильм фильм фильм фильм фильм фильм фильм фильм фильм фильм фильм фильм фильм фильм фильм фильм фильм фильм фильм фильм фильм фильм фильм фильм фильм фильм фильм фильм фильм фильм фильм фильм фильм фильм фильм фильм фильм фильм фильм фильм фильм фильм фильм фильм фильм фильм фильм фильм фильм фильм фильм фильм фильм фильм фильм фильм фильм фильм фильм фильм фильм фильм фильм фильм фильм фильм фильм фильм фильм фильм фильм фильм фильм фильм фильм фильм фильм фильм фильм фильм фильм фильм фильм фильм фильм фильм фильм фильм фильм фильм фильм фильм фильм фильм фильм фильм фильм фильм фильм фильм фильм фильм фильм фильм фильм фильм фильм фильм фильм фильм фильм фильм фильм фильм фильм фильм фильм фильм фильм фильм фильм фильм фильм фильм фильм фильм фильм фильм фильм фильм фильм фильм фильм фильм фильм фильм фильм фильм фильм фильм фильм фильм фильм фильм фильм фильм фильм фильм фильм фильм фильм фильм фильм фильм фильм фильм фильм фильм фильм фильм фильм фильм фильм фильм фильм фильм фильм фильм фильм фильм фильм фильм фильм фильм фильм фильм фильм фильм фильм фильм фильм фильм фильм фильм фильм фильм фильм фильм фильм фильм фильм фильм фильм фильм фильм фильм фильм фильм фильм фильм фильм фильм фильм фильм фильм фильм фильм фильм фильм фильм фильм фильм фильм фильм фильм фильм фильм фильм фильм фильм фильм фильм фильм фильм фильм фильм фильм фильм фильм фильм фильм фильм фильм фильм фильм фильм фильм фильм фильм фильм фильм фильм фильм фильм фильм фильм фильм фильм фильм фильм фильм фильм фильм фильм фильм фильм фильм фильм фильм фильм фильм фильм фильм фильм фильм фильм фильм фильм фильм фильм фильм фильм фильм фильм фильм фильм фильм фильм фильм фильм фильм фильм фильм фильм фильм фильм фильм фильм фильм фильм фильм фильм фильм фильм фильм фильм фильм фильм фильм фильм фильм фильм фильм фильм фильм фильм фильм фильм фильм фильм фильм фильм фильм фильм фильм фильм фильм фильм фильм фильм фильм фильм фильм фильм фильм фильм фильм фильм фильм фильм фильм фильм фильм фильм фильм фильм фильм фильм фильм фильм фильм фильм фильм фильм фильм фильм фильм фильм фильм фильм фильм фильм фильм фильм фильм фильм фильм фильм фильм фильм фильм фильм фильм фильм фильм фильм фильм фильм фильм фильм фильм фильм фильм фильм фильм фильм фильм фильм фильм фильм фильм фильм фильм фильм фильм фильм фильм фильм фильм фильм фильм фильм фильм фильм фильм фильм фильм фильм фильм фильм фильм фильм фильм фильм фильм фильм фильм фильм фильм фильм фильм фильм фильм фильм фильм фильм фильм фильм фильм фильм фильм фильм фильм фильм фильм фильм фильм фильм фильм фильм фильм фильм фильм фильм фильм фильм фильм фильм фильм фильм фильм фильм фильм фильм фильм фильм фильм фильм фильм фильм фильм фильм фильм фильм фильм фильм фильм фильм фильм фильм фильм фильм фильм фильм фильм фильм фильм фильм фильм фильм фильм фильм фильм фильм фильм фильм фильм фильм фильм фильм фильм фильм фильм фильм фильм фильм\n",
            "\n",
            "Вопрос: зачем ты наступаешь на одни и те же грабли?\n",
            "Ответ: потому что бы не обращаю ночи) ) а вдруг я бы не обращаю ночи) ) а вдруг я бы не обращаю ночи) ) а вдруг я бы не обращаю ночи) ) а вдруг я бы не обращаю ночи) ) а вдруг я бы не обращаю ночи) ) а вдруг я бы не обращаю ночи) ) а вдруг я бы не обращаю ночи) ) а вдруг я бы не обращаю ночи) ) а вдруг я бы не обращаю ночи) ) а вдруг я бы не обращаю ночи) ) а вдруг я бы не обращаю ночи) ) а вдруг я бы не обращаю ночи) ) а вдруг я бы не обращаю ночи) ) а вдруг я бы не обращаю ночи) ) а вдруг я бы не обращаю ночи) ) а вдруг я бы не обращаю ночи) ) а вдруг я бы не обращаю ночи) ) а вдруг я бы не обращаю ночи) ) а вдруг я бы не обращаю ночи) ) а вдруг я бы не обращаю ночи) ) а вдруг я бы не обращаю ночи) ) а вдруг я бы не обращаю ночи) ) а вдруг я бы не обращаю ночи) ) а вдруг я бы не обращаю ночи) ) а вдруг я бы не обращаю ночи) ) а вдруг я бы не обращаю ночи) ) а вдруг я бы не обращаю ночи) ) а вдруг я бы не обращаю ночи) ) а вдруг я бы не обращаю ночи) ) а вдруг я бы не обращаю ночи) ) а вдруг я бы не обращаю ночи) ) а вдруг я бы не обращаю ночи) ) а вдруг я бы не обращаю ночи) ) а вдруг я бы не обращаю ночи) ) а вдруг я бы не обращаю ночи) ) а вдруг я бы не обращаю ночи) ) а вдруг я бы не обращаю ночи) ) а вдруг я бы не обращаю ночи) ) а вдруг я бы не обращаю ночи) ) а вдруг я бы не обращаю ночи) ) а вдруг я бы не обращаю ночи) ) а вдруг я бы не обращаю ночи) ) а вдруг я бы не обращаю ночи) ) а вдруг я бы не обращаю ночи) ) а вдруг я бы не обращаю ночи) ) а вдруг я бы не обращаю ночи) ) а вдруг я бы не обращаю ночи) ) а вдруг я бы не обращаю ночи) ) а вдруг я бы не обращаю ночи) ) а вдруг я бы не обращаю ночи) ) а вдруг я бы не обращаю ночи) ) а вдруг я бы не обращаю ночи) ) а вдруг я бы не обращаю ночи) ) а вдруг я бы не обращаю ночи) ) а вдруг я бы не обращаю ночи) ) а вдруг я бы не обращаю ночи) ) а вдруг я бы не обращаю ночи) ) а вдруг я бы не обращаю ночи) ) а вдруг я бы не обращаю ночи) ) а вдруг я бы не обращаю ночи) ) а вдруг я бы не обращаю ночи) ) а вдруг я бы не обращаю ночи) ) а вдруг я бы не обращаю ночи) ) а\n",
            "\n",
            "Вопрос: почему ты любишь песни Стинга?\n",
            "Ответ: -крыник-панк музыка, потому ролике песня. потому ролике песня. потому ролике песня. потому ролике песня. потому ролике песня. потому ролике песня. потому ролике песня. потому ролике песня. потому ролике песня. потому ролике песня. потому ролике песня. потому ролике песня. потому ролике песня. потому ролике песня. потому ролике песня. потому ролике песня. потому ролике песня. потому ролике песня. потому ролике песня. потому ролике песня. потому ролике песня. потому ролике песня. потому ролике песня. потому ролике песня. потому ролике песня. потому ролике песня. потому ролике песня. потому ролике песня. потому ролике песня. потому ролике песня. потому ролике песня. потому ролике песня. потому ролике песня. потому ролике песня. потому ролике песня. потому ролике песня. потому ролике песня. потому ролике песня. потому ролике песня. потому ролике песня. потому ролике песня. потому ролике песня. потому ролике песня. потому ролике песня. потому ролике песня. потому ролике песня. потому ролике песня. потому ролике песня. потому ролике песня. потому ролике песня. потому ролике песня. потому ролике песня. потому ролике песня. потому ролике песня. потому ролике песня. потому ролике песня. потому ролике песня. потому ролике песня. потому ролике песня. потому ролике песня. потому ролике песня. потому ролике песня. потому ролике песня. потому ролике песня. потому ролике песня. потому ролике песня. потому ролике песня. потому ролике песня. потому ролике песня. потому ролике песня. потому ролике песня. потому ролике песня. потому ролике песня. потому ролике песня. потому ролике песня. потому ролике песня. потому ролике песня. потому ролике песня. потому ролике песня. потому ролике песня. потому ролике песня. потому ролике песня. потому ролике песня. потому ролике песня. потому ролике песня. потому ролике песня. потому ролике песня. потому ролике песня. потому ролике песня. потому ролике песня. потому ролике песня. потому ролике песня. потому ролике песня. потому ролике песня. потому ролике песня. потому ролике песня. потому ролике песня. потому ролике песня. потому ролике песня. потому ролике песня. потому ролике песня. потому ролике песня. потому ролике песня. потому ролике песня. потому ролике песня. потому ролике песня. потому ролике песня. потому ролике песня. потому ролике песня. потому ролике песня. потому ролике песня. потому ролике песня. потому ролике песня. потому ролике песня. потому ролике песня. потому ролике песня. потому ролике песня. потому ролике песня. потому ролике песня. потому ролике песня. потому ролике песня. потому ролике песня. потому ролике песня. потому ролике песня. потому ролике песня. потому ролике песня. потому ролике песня. потому ролике песня. потому ролике песня. потому ролике песня. потому ролике песня. потому ролике песня. потому ролике песня. потому ролике песня. потому ролике песня. потому ролике песня. потому ролике песня. потому ролике песня. потому ролике песня. потому ролике песня. потому ролике песня. потому ролике песня. потому ролике песня. потому ролике песня. потому ролике песня. потому ролике песня. потому ролике песня. потому ролике песня. потому ролике песня. потому ролике песня. потому ролике песня. потому ролике песня. потому ролике песня. потому ролике песня. потому ролике песня. потому ролике песня. потому ролике песня. потому ролике песня. потому ролике песня. потому ролике песня. потому ролике песня. потому ролике песня. потому ролике песня. потому ролике песня. потому ролике песня. потому ролике песня. потому ролике песня. потому ролике песня. потому ролике песня. потому\n",
            "\n"
          ],
          "name": "stdout"
        }
      ]
    },
    {
      "cell_type": "code",
      "metadata": {
        "id": "OdE7IHuVZZHV",
        "colab": {
          "base_uri": "https://localhost:8080/"
        },
        "outputId": "49f1f72a-9426-49ac-b37d-9e8a07479536"
      },
      "source": [
        "while True:\n",
        "    your_question = input('Ваш вопрос: ')\n",
        "    if your_question in ['стоп', 'хватит']:\n",
        "        break\n",
        "    print('Ответ от модели: ', generate_answer(your_question))"
      ],
      "execution_count": 24,
      "outputs": [
        {
          "output_type": "stream",
          "text": [
            "Ваш вопрос:  что такое масленница?\n",
            "Ответ от модели:  учебников (м.носится учебников (м.носится учебников (м.носится учебников (м.носится учебников (м.носится учебников (м.носится учебников (м.носится учебников (м.носится учебников (м.носится учебников (м.носится учебников (м.носится учебников (м.носится учебников (м.носится учебников (м.носится учебников (м.носится учебников (м.носится учебников (м.носится учебников (м.носится учебников (м.носится учебников (м.носится учебников (м.носится учебников (м.носится учебников (м.носится учебников (м.носится учебников (м.носится учебников (м.носится учебников (м.носится учебников (м.носится учебников (м.носится учебников (м.носится учебников (м.носится учебников (м.носится учебников (м.носится учебников (м.носится учебников (м.носится учебников (м.носится учебников (м.носится учебников (м.носится учебников (м.носится учебников (м.носится учебников (м.носится учебников (м.носится учебников (м.носится учебников (м.носится учебников (м.носится учебников (м.носится учебников (м.носится учебников (м.носится учебников (м.носится учебников (м.носится учебников (м.носится учебников (м.носится учебников (м.носится учебников (м.носится учебников (м.носится учебников (м.носится учебников (м.носится учебников (м.носится учебников (м.носится учебников (м.носится учебников (м.носится учебников (м.носится учебников (м.носится учебников (м.носится учебников (м.носится учебников (м.носится учебников (м.носится учебников (м.носится учебников (м.носится учебников (м.носится учебников (м.носится учебников (м.носится учебников (м.носится учебников (м.носится учебников (м.носится учебников (м.носится учебников (м.носится учебников (м.носится учебников (м.носится учебников (м.носится учебников (м.носится учебников (м.носится учебников (м.носится учебников (м.носится учебников (м.носится учебников (м.носится учебников (м.носится учебников (м.носится учебников (м.носится учебников (м.носится учебников (м.носится учебников (м.носится учебников (м.носится учебников (м.носится учебников (м.носится учебников (м.носится учебников (м.носится учебников (м.носится учебников (м.носится учебников (м.носится учебников (м.носится учебников (м.носится учебников (м.носится учебников (м.носится учебников (м.носится учебников (м.носится учебников (м.носится учебников (м.носится учебников (м.носится учебников (м.носится учебников (м.носится учебников (м.носится учебников (м.носится учебников (м.носится учебников (м.носится учебников (м.носится учебников (м.носится учебников (м.носится учебников (м.носится учебников (м.носится учебников (м.носится учебников (м.носится учебников (м.носится учебников (м.носится учебников (м.носится учебников (м.носится учебников (м.носится учебников (м.носится учебников (м.носится учебников (м.носится учебников (м.носится учебников (м.носится учебников (м.носится учебников (м.носится учебников (м.носится учебников (м.носится учебников (м.носится учебников (м.носится учебников (м.носится учебников (м.носится учебников (м.носится учебников (м.носится учебников (м.носится учебников (м.носится учебников (м.носится учебников (м.носится учебников (м.носится учебников (м.носится учебников (м.носится учебников (м.носится учебников (м.носится учебников (м.носится учебников (м.носится учебников (м.носится учебников (м.носится учебников (м.носится учебников (м.носится учебников (м.носится учебников (м.носится учебников (м.носится учебников (м.носится учебников (м.носится учебников (м.носится учебников (м.носится учебников (м.носится учебников (м.носится учебников (м.носится учебников (м.носится учебников (м.носится учебников (м.носится учебников (м.\n",
            "Ваш вопрос: что можно хранить на балконе?\n",
            "Ответ от модели:  самогон, планшнная. самогон самогон, планшнная. самогон самогон, планшнная. самогон самогон, планшнная. самогон самогон, планшнная. самогон самогон, планшнная. самогон самогон, планшнная. самогон самогон, планшнная. самогон самогон, планшнная. самогон самогон, планшнная. самогон самогон, планшнная. самогон самогон, планшнная. самогон самогон, планшнная. самогон самогон, планшнная. самогон самогон, планшнная. самогон самогон, планшнная. самогон самогон, планшнная. самогон самогон, планшнная. самогон самогон, планшнная. самогон самогон, планшнная. самогон самогон, планшнная. самогон самогон, планшнная. самогон самогон, планшнная. самогон самогон, планшнная. самогон самогон, планшнная. самогон самогон, планшнная. самогон самогон, планшнная. самогон самогон, планшнная. самогон самогон, планшнная. самогон самогон, планшнная. самогон самогон, планшнная. самогон самогон, планшнная. самогон самогон, планшнная. самогон самогон, планшнная. самогон самогон, планшнная. самогон самогон, планшнная. самогон самогон, планшнная. самогон самогон, планшнная. самогон самогон, планшнная. самогон самогон, планшнная. самогон самогон, планшнная. самогон самогон, планшнная. самогон самогон, планшнная. самогон самогон, планшнная. самогон самогон, планшнная. самогон самогон, планшнная. самогон самогон, планшнная. самогон самогон, планшнная. самогон самогон, планшнная. самогон самогон, планшнная. самогон самогон, планшнная. самогон самогон, планшнная. самогон самогон, планшнная. самогон самогон, планшнная. самогон самогон, планшнная. самогон самогон, планшнная. самогон самогон, планшнная. самогон самогон, планшнная. самогон самогон, планшнная. самогон самогон, планшнная. самогон самогон, планшнная. самогон самогон, планшнная. самогон самогон, планшнная. самогон самогон, планшнная. самогон самогон, планшнная. самогон самогон, планшнная. самогон самогон, планшнная. самогон самогон, планшнная. самогон самогон, планшнная. самогон самогон, планшнная. самогон самогон, планшнная. самогон самогон, планшнная. самогон самогон, планшнная. самогон самогон, планшнная. самогон самогон, планшнная. самогон самогон, планшнная. самогон самогон, планшнная. самогон самогон, планшнная. самогон самогон, планшнная. самогон самогон, планшнная. самогон самогон, планшнная. самогон самогон, планшнная. самогон самогон, планшнная. самогон самогон, планшнная. самогон самогон, планшнная. самогон самогон, планшнная. самогон самогон, планшнная. самогон самогон, планшнная. самогон самогон, планшнная. самогон самогон, планшнная. самогон самогон, планшнная. самогон самогон, планшнная. самогон самогон, планшнная. самогон самогон, планшнная. самогон самогон, планшнная. самогон самогон, планшнная. самогон самогон, планшнная. самогон самогон, планшнная. самогон самогон, планшнная. самогон самогон, планшнная. самогон самогон, планшнная. самогон самогон, планшнная. самогон самогон, планшнная. самогон самогон, планшнная. самогон самогон, планшнная. самогон самогон, планшнная. самогон самогон, планшнная. самогон самогон, планшнная. самогон самогон, планшнная. самогон самогон, планшнная. самогон самогон, планшнная. самогон самогон, планшнная. самогон самогон, планшнная. самогон самогон, планшнная. самогон самогон, планшнная. самогон самогон, планшнная. самогон самогон, планшнная. самогон самогон, планшнная. самогон самогон, планшнная. самогон самогон, планшнная. самогон самогон, планшнная. самогон самогон, планшнная. самогон самогон, планшнная. самогон самогон, планшнная. самогон самогон, планшнная. самогон самогон, планшнная. самогон самогон, планшнная. самогон самогон, планшнная. самогон\n",
            "Ваш вопрос: что такое самогон?\n",
            "Ответ от модели:  греческого греческого греческого греческого греческого греческого греческого греческого греческого греческого греческого греческого греческого греческого греческого греческого греческого греческого греческого греческого греческого греческого греческого греческого греческого греческого греческого греческого греческого греческого греческого греческого греческого греческого греческого греческого греческого греческого греческого греческого греческого греческого греческого греческого греческого греческого греческого греческого греческого греческого греческого греческого греческого греческого греческого греческого греческого греческого греческого греческого греческого греческого греческого греческого греческого греческого греческого греческого греческого греческого греческого греческого греческого греческого греческого греческого греческого греческого греческого греческого греческого греческого греческого греческого греческого греческого греческого греческого греческого греческого греческого греческого греческого греческого греческого греческого греческого греческого греческого греческого греческого греческого греческого греческого греческого греческого греческого греческого греческого греческого греческого греческого греческого греческого греческого греческого греческого греческого греческого греческого греческого греческого греческого греческого греческого греческого греческого греческого греческого греческого греческого греческого греческого греческого греческого греческого греческого греческого греческого греческого греческого греческого греческого греческого греческого греческого греческого греческого греческого греческого греческого греческого греческого греческого греческого греческого греческого греческого греческого греческого греческого греческого греческого греческого греческого греческого греческого греческого греческого греческого греческого греческого греческого греческого греческого греческого греческого греческого греческого греческого греческого греческого греческого греческого греческого греческого греческого греческого греческого греческого греческого греческого греческого греческого греческого греческого греческого греческого греческого греческого греческого греческого греческого греческого греческого греческого греческого греческого греческого греческого греческого греческого греческого греческого греческого греческого греческого греческого греческого греческого греческого греческого греческого греческого греческого греческого греческого греческого греческого греческого греческого греческого греческого греческого греческого греческого греческого греческого греческого греческого греческого греческого греческого греческого греческого греческого греческого греческого греческого греческого греческого греческого греческого греческого греческого греческого греческого греческого греческого греческого греческого греческого греческого греческого греческого греческого греческого греческого греческого греческого греческого греческого греческого греческого греческого греческого греческого греческого греческого греческого греческого греческого греческого греческого греческого греческого греческого греческого греческого греческого греческого греческого греческого греческого греческого греческого греческого греческого греческого греческого греческого греческого греческого греческого греческого греческого греческого греческого греческого греческого греческого греческого греческого греческого греческого греческого греческого греческого греческого греческого греческого греческого греческого греческого греческого греческого греческого греческого греческого греческого греческого греческого греческого греческого греческого греческого греческого греческого греческого греческого греческого греческого греческого греческого греческого греческого греческого греческого греческого греческого греческого греческого греческого греческого греческого греческого греческого греческого греческого греческого греческого греческого греческого греческого греческого греческого греческого греческого греческого греческого греческого греческого греческого греческого греческого греческого греческого греческого греческого греческого греческого греческого греческого греческого греческого греческого греческого греческого греческого греческого греческого греческого греческого греческого греческого греческого греческого греческого греческого греческого греческого греческого греческого греческого греческого греческого греческого греческого греческого греческого греческого греческого греческого греческого греческого греческого греческого греческого греческого греческого греческого греческого греческого греческого греческого греческого греческого греческого греческого греческого греческого греческого греческого греческого греческого греческого греческого греческого греческого греческого греческого греческого греческого греческого греческого греческого греческого греческого греческого греческого греческого греческого греческого греческого греческого греческого греческого греческого греческого греческого греческого греческого греческого греческого греческого греческого греческого греческого греческого греческого греческого греческого греческого греческого греческого греческого греческого греческого греческого греческого греческого греческого греческого греческого греческого греческого греческого греческого греческого греческого греческого греческого греческого греческого греческого греческого греческого греческого греческого греческого греческого греческого греческого греческого греческого греческого греческого греческого греческого греческого греческого греческого\n",
            "Ваш вопрос: как лечить бессонницу?\n",
            "Ответ от модели:  цитра штангой, цитра штангой, цитра штангой, цитра штангой, цитра штангой, цитра штангой, цитра штангой, цитра штангой, цитра штангой, цитра штангой, цитра штангой, цитра штангой, цитра штангой, цитра штангой, цитра штангой, цитра штангой, цитра штангой, цитра штангой, цитра штангой, цитра штангой, цитра штангой, цитра штангой, цитра штангой, цитра штангой, цитра штангой, цитра штангой, цитра штангой, цитра штангой, цитра штангой, цитра штангой, цитра штангой, цитра штангой, цитра штангой, цитра штангой, цитра штангой, цитра штангой, цитра штангой, цитра штангой, цитра штангой, цитра штангой, цитра штангой, цитра штангой, цитра штангой, цитра штангой, цитра штангой, цитра штангой, цитра штангой, цитра штангой, цитра штангой, цитра штангой, цитра штангой, цитра штангой, цитра штангой, цитра штангой, цитра штангой, цитра штангой, цитра штангой, цитра штангой, цитра штангой, цитра штангой, цитра штангой, цитра штангой, цитра штангой, цитра штангой, цитра штангой, цитра штангой, цитра штангой, цитра штангой, цитра штангой, цитра штангой, цитра штангой, цитра штангой, цитра штангой, цитра штангой, цитра штангой, цитра штангой, цитра штангой, цитра штангой, цитра штангой, цитра штангой, цитра штангой, цитра штангой, цитра штангой, цитра штангой, цитра штангой, цитра штангой, цитра штангой, цитра штангой, цитра штангой, цитра штангой, цитра штангой, цитра штангой, цитра штангой, цитра штангой, цитра штангой, цитра штангой, цитра штангой, цитра штангой, цитра штангой, цитра штангой, цитра штангой, цитра штангой, цитра штангой, цитра штангой, цитра штангой, цитра штангой, цитра штангой, цитра штангой, цитра штангой, цитра штангой, цитра штангой, цитра штангой, цитра штангой, цитра штангой, цитра штангой, цитра штангой, цитра штангой, цитра штангой, цитра штангой, цитра штангой, цитра штангой, цитра штангой, цитра штангой, цитра штангой, цитра штангой, цитра штангой, цитра штангой, цитра штангой, цитра штангой, цитра штангой, цитра штангой, цитра штангой, цитра штангой, цитра штангой, цитра штангой, цитра штангой, цитра штангой, цитра штангой, цитра штангой, цитра штангой, цитра штангой, цитра штангой, цитра штангой, цитра штангой, цитра штангой, цитра штангой, цитра штангой, цитра штангой, цитра штангой, цитра штангой, цитра штангой, цитра штангой, цитра штангой, цитра штангой, цитра штангой, цитра штангой, цитра штангой, цитра штангой, цитра штангой, цитра штангой, цитра штангой, цитра штангой, цитра штангой, цитра штангой, цитра штангой, цитра штангой, цитра штангой, цитра штангой, цитра штангой, цитра штангой, цитра штангой, цитра штангой, цитра штангой, цитра штангой, цитра штангой, цитра штангой, цитра штангой, цитра штангой, цитра штангой, цитра штангой, цитра штангой, цитра штангой, цитра штангой, цитра штангой, цитра штангой, цитра штангой, цитра штангой, цитра штангой, цитра штангой, цитра штангой, цитра штангой, цитра штангой, цитра штангой, цитра штангой, цитра штангой, цитра штангой, цитра штангой, цитра штангой, цитра штангой, цитра штангой, цитра штангой, цитра штангой, цитра штангой, цитра штангой, цитра штангой, цитра штангой, цитра штангой, цитра штангой, цитра штангой, цитра штангой, цитра штангой, цитра штангой, цитра штангой, цитра штангой, цитра штангой, цитра штангой, цитра штангой, цитра штангой, цитра штангой, цитра штангой, цитра штангой, цитра штангой, цитра штангой, цитра штангой, цитра штангой, цитра штангой, цитра штангой, цитра штангой, цитра штангой, цитра штангой, цитра штангой, цитра штангой, цитра штангой, цитра штангой, цитра штангой, цитра штангой, цитра штангой, цитра штангой, цитра штангой, цитра штангой, цитра штангой, цитра штангой, цитра штангой, цитра штангой, цитра штангой, цитра штангой, цитра штангой, цитра штангой, цитра штангой, цитра штангой, цитра штангой, цитра штангой, цитра штангой, цитра штангой, цитра штангой, цитра штангой,\n",
            "Ваш вопрос: как выжить на карантине?\n",
            "Ответ от модели:  африке. а никак. у нас не знаю. а никак. у нас не знаю. а никак. у нас не знаю. а никак. у нас не знаю. а никак. у нас не знаю. а никак. у нас не знаю. а никак. у нас не знаю. а никак. у нас не знаю. а никак. у нас не знаю. а никак. у нас не знаю. а никак. у нас не знаю. а никак. у нас не знаю. а никак. у нас не знаю. а никак. у нас не знаю. а никак. у нас не знаю. а никак. у нас не знаю. а никак. у нас не знаю. а никак. у нас не знаю. а никак. у нас не знаю. а никак. у нас не знаю. а никак. у нас не знаю. а никак. у нас не знаю. а никак. у нас не знаю. а никак. у нас не знаю. а никак. у нас не знаю. а никак. у нас не знаю. а никак. у нас не знаю. а никак. у нас не знаю. а никак. у нас не знаю. а никак. у нас не знаю. а никак. у нас не знаю. а никак. у нас не знаю. а никак. у нас не знаю. а никак. у нас не знаю. а никак. у нас не знаю. а никак. у нас не знаю. а никак. у нас не знаю. а никак. у нас не знаю. а никак. у нас не знаю. а никак. у нас не знаю. а никак. у нас не знаю. а никак. у нас не знаю. а никак. у нас не знаю. а никак. у нас не знаю. а никак. у нас не знаю. а никак. у нас не знаю. а никак. у нас не знаю. а никак. у нас не знаю. а никак. у нас не знаю. а никак. у нас не знаю. а никак. у нас не знаю. а никак. у нас не знаю. а никак. у нас не знаю. а никак. у нас не знаю. а никак. у нас не знаю. а никак. у нас не знаю. а никак. у нас не знаю. а никак. у нас не знаю. а никак. у нас не знаю. а никак. у нас не знаю. а никак. у нас не знаю. а никак. у нас не знаю. а никак. у нас не знаю. а никак. у нас не знаю. а никак. у нас не знаю. а никак. у нас не знаю. а никак. у нас не знаю. а никак. у нас не знаю. а никак. у нас не знаю. а никак. у нас не знаю. а никак. у нас не знаю. а никак. у нас не знаю. а никак. у нас не знаю. а никак. у нас не знаю. а никак. у нас не знаю. а никак. у нас не знаю. а никак. у нас не знаю. а никак. у нас не знаю. а никак. у нас не знаю. а никак. у нас не знаю. а никак. у нас не знаю. а никак. у нас не знаю. а никак. у нас не знаю. а никак. у нас не знаю. а никак. у нас не знаю. а\n",
            "Ваш вопрос: почему любители собак не любят кошек?\n",
            "Ответ от модели:  кошкам они любят кошкам они любят кошкам они любят кошкам они любят кошкам они любят кошкам они любят кошкам они любят кошкам они любят кошкам они любят кошкам они любят кошкам они любят кошкам они любят кошкам они любят кошкам они любят кошкам они любят кошкам они любят кошкам они любят кошкам они любят кошкам они любят кошкам они любят кошкам они любят кошкам они любят кошкам они любят кошкам они любят кошкам они любят кошкам они любят кошкам они любят кошкам они любят кошкам они любят кошкам они любят кошкам они любят кошкам они любят кошкам они любят кошкам они любят кошкам они любят кошкам они любят кошкам они любят кошкам они любят кошкам они любят кошкам они любят кошкам они любят кошкам они любят кошкам они любят кошкам они любят кошкам они любят кошкам они любят кошкам они любят кошкам они любят кошкам они любят кошкам они любят кошкам они любят кошкам они любят кошкам они любят кошкам они любят кошкам они любят кошкам они любят кошкам они любят кошкам они любят кошкам они любят кошкам они любят кошкам они любят кошкам они любят кошкам они любят кошкам они любят кошкам они любят кошкам они любят кошкам они любят кошкам они любят кошкам они любят кошкам они любят кошкам они любят кошкам они любят кошкам они любят кошкам они любят кошкам они любят кошкам они любят кошкам они любят кошкам они любят кошкам они любят кошкам они любят кошкам они любят кошкам они любят кошкам они любят кошкам они любят кошкам они любят кошкам они любят кошкам они любят кошкам они любят кошкам они любят кошкам они любят кошкам они любят кошкам они любят кошкам они любят кошкам они любят кошкам они любят кошкам они любят кошкам они любят кошкам они любят кошкам они любят кошкам они любят кошкам они любят кошкам они любят кошкам они любят кошкам они любят кошкам они любят кошкам они любят кошкам они любят кошкам они любят кошкам они любят кошкам они любят кошкам они любят кошкам они любят кошкам они любят кошкам они любят кошкам они любят кошкам они любят кошкам они любят кошкам они любят кошкам они любят кошкам они любят кошкам они любят кошкам они любят кошкам они любят кошкам они любят кошкам они любят кошкам они любят кошкам они любят кошкам они любят кошкам они любят кошкам они любят кошкам они любят кошкам они любят кошкам они любят кошкам они любят кошкам они любят кошкам они любят кошкам они любят кошкам они любят кошкам они любят кошкам они любят кошкам они любят кошкам они любят кошкам они любят кошкам они любят кошкам они любят кошкам они любят кошкам они любят кошкам они любят кошкам они любят кошкам они любят кошкам они любят кошкам они любят кошкам они любят кошкам они любят кошкам они любят кошкам они любят кошкам они любят кошкам они любят кошкам они любят кошкам они любят кошкам они любят кошкам они любят кошкам они любят кошкам они любят кошкам они любят кошкам они любят кошкам они любят кошкам они любят кошкам они любят кошкам они любят кошкам они\n",
            "Ваш вопрос: как решить третий пример?\n",
            "Ответ от модели:  умносот - дословно умносот - дословно умносот - дословно умносот - дословно умносот - дословно умносот - дословно умносот - дословно умносот - дословно умносот - дословно умносот - дословно умносот - дословно умносот - дословно умносот - дословно умносот - дословно умносот - дословно умносот - дословно умносот - дословно умносот - дословно умносот - дословно умносот - дословно умносот - дословно умносот - дословно умносот - дословно умносот - дословно умносот - дословно умносот - дословно умносот - дословно умносот - дословно умносот - дословно умносот - дословно умносот - дословно умносот - дословно умносот - дословно умносот - дословно умносот - дословно умносот - дословно умносот - дословно умносот - дословно умносот - дословно умносот - дословно умносот - дословно умносот - дословно умносот - дословно умносот - дословно умносот - дословно умносот - дословно умносот - дословно умносот - дословно умносот - дословно умносот - дословно умносот - дословно умносот - дословно умносот - дословно умносот - дословно умносот - дословно умносот - дословно умносот - дословно умносот - дословно умносот - дословно умносот - дословно умносот - дословно умносот - дословно умносот - дословно умносот - дословно умносот - дословно умносот - дословно умносот - дословно умносот - дословно умносот - дословно умносот - дословно умносот - дословно умносот - дословно умносот - дословно умносот - дословно умносот - дословно умносот - дословно умносот - дословно умносот - дословно умносот - дословно умносот - дословно умносот - дословно умносот - дословно умносот - дословно умносот - дословно умносот - дословно умносот - дословно умносот - дословно умносот - дословно умносот - дословно умносот - дословно умносот - дословно умносот - дословно умносот - дословно умносот - дословно умносот - дословно умносот - дословно умносот - дословно умносот - дословно умносот - дословно умносот - дословно умносот - дословно умносот - дословно умносот - дословно умносот - дословно умносот - дословно умносот - дословно умносот - дословно умносот - дословно умносот - дословно умносот - дословно умносот - дословно умносот - дословно умносот - дословно умносот - дословно умносот - дословно умносот - дословно умносот - дословно умносот - дословно умносот - дословно умносот - дословно умносот - дословно умносот - дословно умносот - дословно умносот - дословно умносот - дословно умносот - дословно умносот - дословно умносот - дословно\n",
            "Ваш вопрос: стоп\n"
          ],
          "name": "stdout"
        }
      ]
    },
    {
      "cell_type": "code",
      "metadata": {
        "id": "z5DLLoI4ECLf"
      },
      "source": [
        "def show_losses_graph(losses, training=True, epoch=True):\n",
        "  plt.figure(figsize=(7, 7))\n",
        "  plt.plot(losses)\n",
        "  plt.grid()\n",
        "  if training:\n",
        "    plt.title('Training process')\n",
        "  else:\n",
        "    plt.title('Validation process')\n",
        "  if epoch:\n",
        "    plt.xlabel('Epochs')\n",
        "  else:\n",
        "    plt.xlabel('Iterations')\n",
        "  plt.ylabel('Loss function')"
      ],
      "execution_count": 24,
      "outputs": []
    },
    {
      "cell_type": "code",
      "metadata": {
        "colab": {
          "base_uri": "https://localhost:8080/",
          "height": 458
        },
        "id": "zeJLEe4txUNI",
        "outputId": "04325b9d-9ed5-4df5-9ed6-4a702ed565ab"
      },
      "source": [
        "show_losses_graph(losses, epoch=False)"
      ],
      "execution_count": 31,
      "outputs": [
        {
          "output_type": "display_data",
          "data": {
            "image/png": "[encoded data removed]",
            "text/plain": [
              "<Figure size 504x504 with 1 Axes>"
            ]
          },
          "metadata": {
            "tags": [],
            "needs_background": "light"
          }
        }
      ]
    },
    {
      "cell_type": "code",
      "metadata": {
        "colab": {
          "base_uri": "https://localhost:8080/"
        },
        "id": "QIcb19CCxadN",
        "outputId": "9b1741dd-37f5-4a85-c8fc-2d187557a9bc"
      },
      "source": [
        "model.load_state_dict(torch.load('/content/drive/MyDrive/dl_hw3/best_model_state_dict.pth'))"
      ],
      "execution_count": 32,
      "outputs": [
        {
          "output_type": "execute_result",
          "data": {
            "text/plain": [
              "<All keys matched successfully>"
            ]
          },
          "metadata": {
            "tags": []
          },
          "execution_count": 32
        }
      ]
    }
  ]
}